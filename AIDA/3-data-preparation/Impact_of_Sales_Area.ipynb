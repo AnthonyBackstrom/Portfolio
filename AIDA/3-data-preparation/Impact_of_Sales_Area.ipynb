{
 "cells": [
  {
   "cell_type": "markdown",
   "id": "6c953c9c-c97b-4bbd-8a94-35b07a63ab26",
   "metadata": {},
   "source": [
    "# Impact of Sales Area on Vehicle's Age, Type, and Price"
   ]
  },
  {
   "cell_type": "code",
   "execution_count": 1,
   "id": "2c37c4e9-4eb0-40b5-b0ac-9805b1cd7c79",
   "metadata": {},
   "outputs": [],
   "source": [
    "import numpy as np\n",
    "import pandas as pd \n",
    "import matplotlib.pyplot as plt\n",
    "import seaborn as sns"
   ]
  },
  {
   "cell_type": "code",
   "execution_count": 2,
   "id": "29604398-eb65-49b2-bbc4-3c14054823da",
   "metadata": {},
   "outputs": [],
   "source": [
    "pd.set_option('display.max_rows', 70)\n",
    "pd.set_option('display.max_columns', 200)"
   ]
  },
  {
   "cell_type": "markdown",
   "id": "4f945a80-31ec-40c1-83d6-5f85c1a448a6",
   "metadata": {},
   "source": [
    "## read in the data"
   ]
  },
  {
   "cell_type": "code",
   "execution_count": 3,
   "id": "b215b80d-6fab-425e-a5dc-86e6d9ccd4b5",
   "metadata": {},
   "outputs": [],
   "source": [
    "df=pd.read_csv('used_cars_data.csv', low_memory=False)\n"
   ]
  },
  {
   "cell_type": "markdown",
   "id": "c0bc9ce5-42a0-48da-a6b7-c2f3f13c3bc3",
   "metadata": {},
   "source": [
    "data types of the columns"
   ]
  },
  {
   "cell_type": "code",
   "execution_count": 4,
   "id": "d338ff95-4a4d-4fbc-8ce4-32eab56e23bd",
   "metadata": {},
   "outputs": [
    {
     "name": "stdout",
     "output_type": "stream",
     "text": [
      "<class 'pandas.core.frame.DataFrame'>\n",
      "RangeIndex: 3000040 entries, 0 to 3000039\n",
      "Data columns (total 66 columns):\n",
      " #   Column                   Dtype  \n",
      "---  ------                   -----  \n",
      " 0   vin                      object \n",
      " 1   back_legroom             object \n",
      " 2   bed                      object \n",
      " 3   bed_height               object \n",
      " 4   bed_length               object \n",
      " 5   body_type                object \n",
      " 6   cabin                    object \n",
      " 7   city                     object \n",
      " 8   city_fuel_economy        float64\n",
      " 9   combine_fuel_economy     float64\n",
      " 10  daysonmarket             int64  \n",
      " 11  dealer_zip               object \n",
      " 12  description              object \n",
      " 13  engine_cylinders         object \n",
      " 14  engine_displacement      float64\n",
      " 15  engine_type              object \n",
      " 16  exterior_color           object \n",
      " 17  fleet                    object \n",
      " 18  frame_damaged            object \n",
      " 19  franchise_dealer         bool   \n",
      " 20  franchise_make           object \n",
      " 21  front_legroom            object \n",
      " 22  fuel_tank_volume         object \n",
      " 23  fuel_type                object \n",
      " 24  has_accidents            object \n",
      " 25  height                   object \n",
      " 26  highway_fuel_economy     float64\n",
      " 27  horsepower               float64\n",
      " 28  interior_color           object \n",
      " 29  isCab                    object \n",
      " 30  is_certified             float64\n",
      " 31  is_cpo                   object \n",
      " 32  is_new                   bool   \n",
      " 33  is_oemcpo                object \n",
      " 34  latitude                 float64\n",
      " 35  length                   object \n",
      " 36  listed_date              object \n",
      " 37  listing_color            object \n",
      " 38  listing_id               int64  \n",
      " 39  longitude                float64\n",
      " 40  main_picture_url         object \n",
      " 41  major_options            object \n",
      " 42  make_name                object \n",
      " 43  maximum_seating          object \n",
      " 44  mileage                  float64\n",
      " 45  model_name               object \n",
      " 46  owner_count              float64\n",
      " 47  power                    object \n",
      " 48  price                    float64\n",
      " 49  salvage                  object \n",
      " 50  savings_amount           int64  \n",
      " 51  seller_rating            float64\n",
      " 52  sp_id                    float64\n",
      " 53  sp_name                  object \n",
      " 54  theft_title              object \n",
      " 55  torque                   object \n",
      " 56  transmission             object \n",
      " 57  transmission_display     object \n",
      " 58  trimId                   object \n",
      " 59  trim_name                object \n",
      " 60  vehicle_damage_category  float64\n",
      " 61  wheel_system             object \n",
      " 62  wheel_system_display     object \n",
      " 63  wheelbase                object \n",
      " 64  width                    object \n",
      " 65  year                     int64  \n",
      "dtypes: bool(2), float64(14), int64(4), object(46)\n",
      "memory usage: 1.4+ GB\n"
     ]
    }
   ],
   "source": [
    "df.info()"
   ]
  },
  {
   "cell_type": "markdown",
   "id": "64e7a1b3-64dc-4902-8704-dd5d40764b3c",
   "metadata": {},
   "source": [
    "## Data Cleaning & Data Wrangling"
   ]
  },
  {
   "cell_type": "code",
   "execution_count": 5,
   "id": "61a1e55c-c284-4366-82d4-716c388fbf90",
   "metadata": {},
   "outputs": [
    {
     "data": {
      "text/plain": [
       "vin                              0\n",
       "back_legroom                159269\n",
       "bed                        2980472\n",
       "bed_height                 2570942\n",
       "bed_length                 2570942\n",
       "body_type                    13543\n",
       "cabin                      2936507\n",
       "city                             0\n",
       "city_fuel_economy           491285\n",
       "combine_fuel_economy       3000040\n",
       "daysonmarket                     0\n",
       "dealer_zip                       0\n",
       "description                  77901\n",
       "engine_cylinders            100581\n",
       "engine_displacement         172386\n",
       "engine_type                 100581\n",
       "exterior_color                  26\n",
       "fleet                      1426595\n",
       "frame_damaged              1426595\n",
       "franchise_dealer                 0\n",
       "franchise_make              572635\n",
       "front_legroom               159269\n",
       "fuel_tank_volume            159269\n",
       "fuel_type                    82724\n",
       "has_accidents              1426595\n",
       "height                      159269\n",
       "highway_fuel_economy        491285\n",
       "horsepower                  172386\n",
       "interior_color                 165\n",
       "isCab                      1426595\n",
       "is_certified               3000040\n",
       "is_cpo                     2817142\n",
       "is_new                           0\n",
       "is_oemcpo                  2864678\n",
       "latitude                         0\n",
       "length                      159269\n",
       "listed_date                      0\n",
       "listing_color                    0\n",
       "listing_id                       0\n",
       "longitude                        0\n",
       "main_picture_url            369093\n",
       "major_options               200048\n",
       "make_name                        0\n",
       "maximum_seating             159269\n",
       "mileage                     144387\n",
       "model_name                       0\n",
       "owner_count                1517013\n",
       "power                       481426\n",
       "price                            0\n",
       "salvage                    1426595\n",
       "savings_amount                   0\n",
       "seller_rating                40872\n",
       "sp_id                           96\n",
       "sp_name                          0\n",
       "theft_title                1426595\n",
       "torque                      517793\n",
       "transmission                 64185\n",
       "transmission_display         64185\n",
       "trimId                      115827\n",
       "trim_name                   116294\n",
       "vehicle_damage_category    3000040\n",
       "wheel_system                146732\n",
       "wheel_system_display        146732\n",
       "wheelbase                   159269\n",
       "width                       159269\n",
       "year                             0\n",
       "dtype: int64"
      ]
     },
     "execution_count": 5,
     "metadata": {},
     "output_type": "execute_result"
    }
   ],
   "source": [
    "df.isna().sum()"
   ]
  },
  {
   "cell_type": "code",
   "execution_count": 6,
   "id": "8fb2d596-44c1-4d47-8970-0626ad3a3594",
   "metadata": {},
   "outputs": [
    {
     "data": {
      "text/plain": [
       "vin                        0.000000\n",
       "back_legroom               0.053089\n",
       "bed                        0.993477\n",
       "bed_height                 0.856969\n",
       "bed_length                 0.856969\n",
       "body_type                  0.004514\n",
       "cabin                      0.978823\n",
       "city                       0.000000\n",
       "city_fuel_economy          0.163759\n",
       "combine_fuel_economy       1.000000\n",
       "daysonmarket               0.000000\n",
       "dealer_zip                 0.000000\n",
       "description                0.025967\n",
       "engine_cylinders           0.033527\n",
       "engine_displacement        0.057461\n",
       "engine_type                0.033527\n",
       "exterior_color             0.000009\n",
       "fleet                      0.475525\n",
       "frame_damaged              0.475525\n",
       "franchise_dealer           0.000000\n",
       "franchise_make             0.190876\n",
       "front_legroom              0.053089\n",
       "fuel_tank_volume           0.053089\n",
       "fuel_type                  0.027574\n",
       "has_accidents              0.475525\n",
       "height                     0.053089\n",
       "highway_fuel_economy       0.163759\n",
       "horsepower                 0.057461\n",
       "interior_color             0.000055\n",
       "isCab                      0.475525\n",
       "is_certified               1.000000\n",
       "is_cpo                     0.939035\n",
       "is_new                     0.000000\n",
       "is_oemcpo                  0.954880\n",
       "latitude                   0.000000\n",
       "length                     0.053089\n",
       "listed_date                0.000000\n",
       "listing_color              0.000000\n",
       "listing_id                 0.000000\n",
       "longitude                  0.000000\n",
       "main_picture_url           0.123029\n",
       "major_options              0.066682\n",
       "make_name                  0.000000\n",
       "maximum_seating            0.053089\n",
       "mileage                    0.048128\n",
       "model_name                 0.000000\n",
       "owner_count                0.505664\n",
       "power                      0.160473\n",
       "price                      0.000000\n",
       "salvage                    0.475525\n",
       "savings_amount             0.000000\n",
       "seller_rating              0.013624\n",
       "sp_id                      0.000032\n",
       "sp_name                    0.000000\n",
       "theft_title                0.475525\n",
       "torque                     0.172595\n",
       "transmission               0.021395\n",
       "transmission_display       0.021395\n",
       "trimId                     0.038608\n",
       "trim_name                  0.038764\n",
       "vehicle_damage_category    1.000000\n",
       "wheel_system               0.048910\n",
       "wheel_system_display       0.048910\n",
       "wheelbase                  0.053089\n",
       "width                      0.053089\n",
       "year                       0.000000\n",
       "dtype: float64"
      ]
     },
     "execution_count": 6,
     "metadata": {},
     "output_type": "execute_result"
    }
   ],
   "source": [
    "df.isna().mean()"
   ]
  },
  {
   "cell_type": "code",
   "execution_count": 7,
   "id": "c7ad19ec-e406-4488-8e4c-4062e8e9ea3d",
   "metadata": {},
   "outputs": [
    {
     "data": {
      "text/plain": [
       "vin                        False\n",
       "back_legroom               False\n",
       "bed                         True\n",
       "bed_height                  True\n",
       "bed_length                  True\n",
       "body_type                  False\n",
       "cabin                       True\n",
       "city                       False\n",
       "city_fuel_economy          False\n",
       "combine_fuel_economy        True\n",
       "daysonmarket               False\n",
       "dealer_zip                 False\n",
       "description                False\n",
       "engine_cylinders           False\n",
       "engine_displacement        False\n",
       "engine_type                False\n",
       "exterior_color             False\n",
       "fleet                       True\n",
       "frame_damaged               True\n",
       "franchise_dealer           False\n",
       "franchise_make             False\n",
       "front_legroom              False\n",
       "fuel_tank_volume           False\n",
       "fuel_type                  False\n",
       "has_accidents               True\n",
       "height                     False\n",
       "highway_fuel_economy       False\n",
       "horsepower                 False\n",
       "interior_color             False\n",
       "isCab                       True\n",
       "is_certified                True\n",
       "is_cpo                      True\n",
       "is_new                     False\n",
       "is_oemcpo                   True\n",
       "latitude                   False\n",
       "length                     False\n",
       "listed_date                False\n",
       "listing_color              False\n",
       "listing_id                 False\n",
       "longitude                  False\n",
       "main_picture_url           False\n",
       "major_options              False\n",
       "make_name                  False\n",
       "maximum_seating            False\n",
       "mileage                    False\n",
       "model_name                 False\n",
       "owner_count                 True\n",
       "power                      False\n",
       "price                      False\n",
       "salvage                     True\n",
       "savings_amount             False\n",
       "seller_rating              False\n",
       "sp_id                      False\n",
       "sp_name                    False\n",
       "theft_title                 True\n",
       "torque                     False\n",
       "transmission               False\n",
       "transmission_display       False\n",
       "trimId                     False\n",
       "trim_name                  False\n",
       "vehicle_damage_category     True\n",
       "wheel_system               False\n",
       "wheel_system_display       False\n",
       "wheelbase                  False\n",
       "width                      False\n",
       "year                       False\n",
       "dtype: bool"
      ]
     },
     "execution_count": 7,
     "metadata": {},
     "output_type": "execute_result"
    }
   ],
   "source": [
    "df.isna().mean()>0.25"
   ]
  },
  {
   "cell_type": "markdown",
   "id": "f48459fe-8256-42c7-825c-eab32c3b01f9",
   "metadata": {},
   "source": [
    "summary statistics of the data"
   ]
  },
  {
   "cell_type": "code",
   "execution_count": 8,
   "id": "2eed423a-a97e-4558-b918-8292f0623472",
   "metadata": {},
   "outputs": [
    {
     "data": {
      "text/html": [
       "<div>\n",
       "<style scoped>\n",
       "    .dataframe tbody tr th:only-of-type {\n",
       "        vertical-align: middle;\n",
       "    }\n",
       "\n",
       "    .dataframe tbody tr th {\n",
       "        vertical-align: top;\n",
       "    }\n",
       "\n",
       "    .dataframe thead th {\n",
       "        text-align: right;\n",
       "    }\n",
       "</style>\n",
       "<table border=\"1\" class=\"dataframe\">\n",
       "  <thead>\n",
       "    <tr style=\"text-align: right;\">\n",
       "      <th></th>\n",
       "      <th>city_fuel_economy</th>\n",
       "      <th>combine_fuel_economy</th>\n",
       "      <th>daysonmarket</th>\n",
       "      <th>engine_displacement</th>\n",
       "      <th>highway_fuel_economy</th>\n",
       "      <th>horsepower</th>\n",
       "      <th>is_certified</th>\n",
       "      <th>latitude</th>\n",
       "      <th>listing_id</th>\n",
       "      <th>longitude</th>\n",
       "      <th>mileage</th>\n",
       "      <th>owner_count</th>\n",
       "      <th>price</th>\n",
       "      <th>savings_amount</th>\n",
       "      <th>seller_rating</th>\n",
       "      <th>sp_id</th>\n",
       "      <th>vehicle_damage_category</th>\n",
       "      <th>year</th>\n",
       "    </tr>\n",
       "  </thead>\n",
       "  <tbody>\n",
       "    <tr>\n",
       "      <th>count</th>\n",
       "      <td>2.508755e+06</td>\n",
       "      <td>0.0</td>\n",
       "      <td>3.000040e+06</td>\n",
       "      <td>2.827654e+06</td>\n",
       "      <td>2.508755e+06</td>\n",
       "      <td>2.827654e+06</td>\n",
       "      <td>0.0</td>\n",
       "      <td>3.000040e+06</td>\n",
       "      <td>3.000040e+06</td>\n",
       "      <td>3.000040e+06</td>\n",
       "      <td>2.855653e+06</td>\n",
       "      <td>1.483027e+06</td>\n",
       "      <td>3.000040e+06</td>\n",
       "      <td>3.000040e+06</td>\n",
       "      <td>2.959168e+06</td>\n",
       "      <td>2.999944e+06</td>\n",
       "      <td>0.0</td>\n",
       "      <td>3.000040e+06</td>\n",
       "    </tr>\n",
       "    <tr>\n",
       "      <th>mean</th>\n",
       "      <td>2.269325e+01</td>\n",
       "      <td>NaN</td>\n",
       "      <td>7.605973e+01</td>\n",
       "      <td>2.968488e+03</td>\n",
       "      <td>2.947337e+01</td>\n",
       "      <td>2.479957e+02</td>\n",
       "      <td>NaN</td>\n",
       "      <td>3.698414e+01</td>\n",
       "      <td>2.754987e+08</td>\n",
       "      <td>-9.064224e+01</td>\n",
       "      <td>3.114690e+04</td>\n",
       "      <td>1.532644e+00</td>\n",
       "      <td>2.993337e+04</td>\n",
       "      <td>5.509768e+02</td>\n",
       "      <td>4.270413e+00</td>\n",
       "      <td>2.335224e+05</td>\n",
       "      <td>NaN</td>\n",
       "      <td>2.017728e+03</td>\n",
       "    </tr>\n",
       "    <tr>\n",
       "      <th>std</th>\n",
       "      <td>8.807024e+00</td>\n",
       "      <td>NaN</td>\n",
       "      <td>1.088839e+02</td>\n",
       "      <td>1.348905e+03</td>\n",
       "      <td>7.769252e+00</td>\n",
       "      <td>9.046639e+01</td>\n",
       "      <td>NaN</td>\n",
       "      <td>4.996819e+00</td>\n",
       "      <td>8.894123e+06</td>\n",
       "      <td>1.390589e+01</td>\n",
       "      <td>7.458675e+04</td>\n",
       "      <td>9.202928e-01</td>\n",
       "      <td>1.956617e+04</td>\n",
       "      <td>1.079448e+03</td>\n",
       "      <td>5.133017e-01</td>\n",
       "      <td>1.323221e+05</td>\n",
       "      <td>NaN</td>\n",
       "      <td>4.178701e+00</td>\n",
       "    </tr>\n",
       "    <tr>\n",
       "      <th>min</th>\n",
       "      <td>7.000000e+00</td>\n",
       "      <td>NaN</td>\n",
       "      <td>0.000000e+00</td>\n",
       "      <td>7.000000e+02</td>\n",
       "      <td>1.000000e+01</td>\n",
       "      <td>5.500000e+01</td>\n",
       "      <td>NaN</td>\n",
       "      <td>1.834670e+01</td>\n",
       "      <td>1.994620e+07</td>\n",
       "      <td>-1.579280e+02</td>\n",
       "      <td>0.000000e+00</td>\n",
       "      <td>1.000000e+00</td>\n",
       "      <td>1.650000e+02</td>\n",
       "      <td>0.000000e+00</td>\n",
       "      <td>1.000000e+00</td>\n",
       "      <td>4.159300e+04</td>\n",
       "      <td>NaN</td>\n",
       "      <td>1.915000e+03</td>\n",
       "    </tr>\n",
       "    <tr>\n",
       "      <th>25%</th>\n",
       "      <td>1.800000e+01</td>\n",
       "      <td>NaN</td>\n",
       "      <td>1.400000e+01</td>\n",
       "      <td>2.000000e+03</td>\n",
       "      <td>2.500000e+01</td>\n",
       "      <td>1.750000e+02</td>\n",
       "      <td>NaN</td>\n",
       "      <td>3.350920e+01</td>\n",
       "      <td>2.745794e+08</td>\n",
       "      <td>-9.708820e+01</td>\n",
       "      <td>6.000000e+00</td>\n",
       "      <td>1.000000e+00</td>\n",
       "      <td>1.845100e+04</td>\n",
       "      <td>0.000000e+00</td>\n",
       "      <td>4.000000e+00</td>\n",
       "      <td>6.337500e+04</td>\n",
       "      <td>NaN</td>\n",
       "      <td>2.017000e+03</td>\n",
       "    </tr>\n",
       "    <tr>\n",
       "      <th>50%</th>\n",
       "      <td>2.100000e+01</td>\n",
       "      <td>NaN</td>\n",
       "      <td>3.500000e+01</td>\n",
       "      <td>2.500000e+03</td>\n",
       "      <td>2.900000e+01</td>\n",
       "      <td>2.440000e+02</td>\n",
       "      <td>NaN</td>\n",
       "      <td>3.784710e+01</td>\n",
       "      <td>2.785453e+08</td>\n",
       "      <td>-8.724950e+01</td>\n",
       "      <td>8.267000e+03</td>\n",
       "      <td>1.000000e+00</td>\n",
       "      <td>2.647700e+04</td>\n",
       "      <td>0.000000e+00</td>\n",
       "      <td>4.341463e+00</td>\n",
       "      <td>2.816270e+05</td>\n",
       "      <td>NaN</td>\n",
       "      <td>2.020000e+03</td>\n",
       "    </tr>\n",
       "    <tr>\n",
       "      <th>75%</th>\n",
       "      <td>2.600000e+01</td>\n",
       "      <td>NaN</td>\n",
       "      <td>8.200000e+01</td>\n",
       "      <td>3.600000e+03</td>\n",
       "      <td>3.300000e+01</td>\n",
       "      <td>3.000000e+02</td>\n",
       "      <td>NaN</td>\n",
       "      <td>4.100620e+01</td>\n",
       "      <td>2.804553e+08</td>\n",
       "      <td>-8.045490e+01</td>\n",
       "      <td>4.366200e+04</td>\n",
       "      <td>2.000000e+00</td>\n",
       "      <td>3.822000e+04</td>\n",
       "      <td>7.850000e+02</td>\n",
       "      <td>4.605263e+00</td>\n",
       "      <td>3.366140e+05</td>\n",
       "      <td>NaN</td>\n",
       "      <td>2.020000e+03</td>\n",
       "    </tr>\n",
       "    <tr>\n",
       "      <th>max</th>\n",
       "      <td>1.270000e+02</td>\n",
       "      <td>NaN</td>\n",
       "      <td>3.599000e+03</td>\n",
       "      <td>8.400000e+03</td>\n",
       "      <td>1.270000e+02</td>\n",
       "      <td>1.001000e+03</td>\n",
       "      <td>NaN</td>\n",
       "      <td>6.120310e+01</td>\n",
       "      <td>2.820222e+08</td>\n",
       "      <td>-6.607850e+01</td>\n",
       "      <td>9.999999e+07</td>\n",
       "      <td>1.900000e+01</td>\n",
       "      <td>3.299995e+06</td>\n",
       "      <td>1.474140e+05</td>\n",
       "      <td>5.000000e+00</td>\n",
       "      <td>4.409510e+05</td>\n",
       "      <td>NaN</td>\n",
       "      <td>2.021000e+03</td>\n",
       "    </tr>\n",
       "  </tbody>\n",
       "</table>\n",
       "</div>"
      ],
      "text/plain": [
       "       city_fuel_economy  combine_fuel_economy  daysonmarket  \\\n",
       "count       2.508755e+06                   0.0  3.000040e+06   \n",
       "mean        2.269325e+01                   NaN  7.605973e+01   \n",
       "std         8.807024e+00                   NaN  1.088839e+02   \n",
       "min         7.000000e+00                   NaN  0.000000e+00   \n",
       "25%         1.800000e+01                   NaN  1.400000e+01   \n",
       "50%         2.100000e+01                   NaN  3.500000e+01   \n",
       "75%         2.600000e+01                   NaN  8.200000e+01   \n",
       "max         1.270000e+02                   NaN  3.599000e+03   \n",
       "\n",
       "       engine_displacement  highway_fuel_economy    horsepower  is_certified  \\\n",
       "count         2.827654e+06          2.508755e+06  2.827654e+06           0.0   \n",
       "mean          2.968488e+03          2.947337e+01  2.479957e+02           NaN   \n",
       "std           1.348905e+03          7.769252e+00  9.046639e+01           NaN   \n",
       "min           7.000000e+02          1.000000e+01  5.500000e+01           NaN   \n",
       "25%           2.000000e+03          2.500000e+01  1.750000e+02           NaN   \n",
       "50%           2.500000e+03          2.900000e+01  2.440000e+02           NaN   \n",
       "75%           3.600000e+03          3.300000e+01  3.000000e+02           NaN   \n",
       "max           8.400000e+03          1.270000e+02  1.001000e+03           NaN   \n",
       "\n",
       "           latitude    listing_id     longitude       mileage   owner_count  \\\n",
       "count  3.000040e+06  3.000040e+06  3.000040e+06  2.855653e+06  1.483027e+06   \n",
       "mean   3.698414e+01  2.754987e+08 -9.064224e+01  3.114690e+04  1.532644e+00   \n",
       "std    4.996819e+00  8.894123e+06  1.390589e+01  7.458675e+04  9.202928e-01   \n",
       "min    1.834670e+01  1.994620e+07 -1.579280e+02  0.000000e+00  1.000000e+00   \n",
       "25%    3.350920e+01  2.745794e+08 -9.708820e+01  6.000000e+00  1.000000e+00   \n",
       "50%    3.784710e+01  2.785453e+08 -8.724950e+01  8.267000e+03  1.000000e+00   \n",
       "75%    4.100620e+01  2.804553e+08 -8.045490e+01  4.366200e+04  2.000000e+00   \n",
       "max    6.120310e+01  2.820222e+08 -6.607850e+01  9.999999e+07  1.900000e+01   \n",
       "\n",
       "              price  savings_amount  seller_rating         sp_id  \\\n",
       "count  3.000040e+06    3.000040e+06   2.959168e+06  2.999944e+06   \n",
       "mean   2.993337e+04    5.509768e+02   4.270413e+00  2.335224e+05   \n",
       "std    1.956617e+04    1.079448e+03   5.133017e-01  1.323221e+05   \n",
       "min    1.650000e+02    0.000000e+00   1.000000e+00  4.159300e+04   \n",
       "25%    1.845100e+04    0.000000e+00   4.000000e+00  6.337500e+04   \n",
       "50%    2.647700e+04    0.000000e+00   4.341463e+00  2.816270e+05   \n",
       "75%    3.822000e+04    7.850000e+02   4.605263e+00  3.366140e+05   \n",
       "max    3.299995e+06    1.474140e+05   5.000000e+00  4.409510e+05   \n",
       "\n",
       "       vehicle_damage_category          year  \n",
       "count                      0.0  3.000040e+06  \n",
       "mean                       NaN  2.017728e+03  \n",
       "std                        NaN  4.178701e+00  \n",
       "min                        NaN  1.915000e+03  \n",
       "25%                        NaN  2.017000e+03  \n",
       "50%                        NaN  2.020000e+03  \n",
       "75%                        NaN  2.020000e+03  \n",
       "max                        NaN  2.021000e+03  "
      ]
     },
     "execution_count": 8,
     "metadata": {},
     "output_type": "execute_result"
    }
   ],
   "source": [
    "df.describe()"
   ]
  },
  {
   "cell_type": "code",
   "execution_count": null,
   "id": "ee3b63c9-5cac-45e4-8a36-1af3fd3a4ea0",
   "metadata": {},
   "outputs": [],
   "source": []
  },
  {
   "cell_type": "markdown",
   "id": "05072a96-a3f2-44be-abd4-4f1717a96633",
   "metadata": {},
   "source": [
    "## remove columns with many null values"
   ]
  },
  {
   "cell_type": "code",
   "execution_count": 9,
   "id": "bea050d4-7483-4148-ad83-a1996da2a06c",
   "metadata": {},
   "outputs": [],
   "source": [
    "null_columns = df.columns[df.isna().mean()>0.25]\n",
    "df = df.drop(null_columns, axis=1)"
   ]
  },
  {
   "cell_type": "code",
   "execution_count": 10,
   "id": "76aa826b-7a0f-4d4a-b2f9-a28fae8a996f",
   "metadata": {},
   "outputs": [
    {
     "data": {
      "text/html": [
       "<div>\n",
       "<style scoped>\n",
       "    .dataframe tbody tr th:only-of-type {\n",
       "        vertical-align: middle;\n",
       "    }\n",
       "\n",
       "    .dataframe tbody tr th {\n",
       "        vertical-align: top;\n",
       "    }\n",
       "\n",
       "    .dataframe thead th {\n",
       "        text-align: right;\n",
       "    }\n",
       "</style>\n",
       "<table border=\"1\" class=\"dataframe\">\n",
       "  <thead>\n",
       "    <tr style=\"text-align: right;\">\n",
       "      <th></th>\n",
       "      <th>body_type</th>\n",
       "      <th>city</th>\n",
       "      <th>dealer_zip</th>\n",
       "      <th>fuel_type</th>\n",
       "      <th>horsepower</th>\n",
       "      <th>is_new</th>\n",
       "      <th>latitude</th>\n",
       "      <th>longitude</th>\n",
       "      <th>make_name</th>\n",
       "      <th>maximum_seating</th>\n",
       "      <th>model_name</th>\n",
       "      <th>price</th>\n",
       "      <th>transmission</th>\n",
       "      <th>wheel_system</th>\n",
       "      <th>year</th>\n",
       "    </tr>\n",
       "  </thead>\n",
       "  <tbody>\n",
       "    <tr>\n",
       "      <th>0</th>\n",
       "      <td>SUV / Crossover</td>\n",
       "      <td>Bayamon</td>\n",
       "      <td>00960</td>\n",
       "      <td>Gasoline</td>\n",
       "      <td>177.0</td>\n",
       "      <td>True</td>\n",
       "      <td>18.3988</td>\n",
       "      <td>-66.1582</td>\n",
       "      <td>Jeep</td>\n",
       "      <td>5 seats</td>\n",
       "      <td>Renegade</td>\n",
       "      <td>23141.0</td>\n",
       "      <td>A</td>\n",
       "      <td>FWD</td>\n",
       "      <td>2019</td>\n",
       "    </tr>\n",
       "    <tr>\n",
       "      <th>1</th>\n",
       "      <td>SUV / Crossover</td>\n",
       "      <td>San Juan</td>\n",
       "      <td>00922</td>\n",
       "      <td>Gasoline</td>\n",
       "      <td>246.0</td>\n",
       "      <td>True</td>\n",
       "      <td>18.4439</td>\n",
       "      <td>-66.0785</td>\n",
       "      <td>Land Rover</td>\n",
       "      <td>7 seats</td>\n",
       "      <td>Discovery Sport</td>\n",
       "      <td>46500.0</td>\n",
       "      <td>A</td>\n",
       "      <td>AWD</td>\n",
       "      <td>2020</td>\n",
       "    </tr>\n",
       "    <tr>\n",
       "      <th>2</th>\n",
       "      <td>Sedan</td>\n",
       "      <td>Guaynabo</td>\n",
       "      <td>00969</td>\n",
       "      <td>Gasoline</td>\n",
       "      <td>305.0</td>\n",
       "      <td>False</td>\n",
       "      <td>18.3467</td>\n",
       "      <td>-66.1098</td>\n",
       "      <td>Subaru</td>\n",
       "      <td>5 seats</td>\n",
       "      <td>WRX STI</td>\n",
       "      <td>46995.0</td>\n",
       "      <td>M</td>\n",
       "      <td>AWD</td>\n",
       "      <td>2016</td>\n",
       "    </tr>\n",
       "    <tr>\n",
       "      <th>3</th>\n",
       "      <td>SUV / Crossover</td>\n",
       "      <td>San Juan</td>\n",
       "      <td>00922</td>\n",
       "      <td>Gasoline</td>\n",
       "      <td>340.0</td>\n",
       "      <td>True</td>\n",
       "      <td>18.4439</td>\n",
       "      <td>-66.0785</td>\n",
       "      <td>Land Rover</td>\n",
       "      <td>7 seats</td>\n",
       "      <td>Discovery</td>\n",
       "      <td>67430.0</td>\n",
       "      <td>A</td>\n",
       "      <td>AWD</td>\n",
       "      <td>2020</td>\n",
       "    </tr>\n",
       "    <tr>\n",
       "      <th>4</th>\n",
       "      <td>SUV / Crossover</td>\n",
       "      <td>San Juan</td>\n",
       "      <td>00922</td>\n",
       "      <td>Gasoline</td>\n",
       "      <td>246.0</td>\n",
       "      <td>True</td>\n",
       "      <td>18.4439</td>\n",
       "      <td>-66.0785</td>\n",
       "      <td>Land Rover</td>\n",
       "      <td>7 seats</td>\n",
       "      <td>Discovery Sport</td>\n",
       "      <td>48880.0</td>\n",
       "      <td>A</td>\n",
       "      <td>AWD</td>\n",
       "      <td>2020</td>\n",
       "    </tr>\n",
       "    <tr>\n",
       "      <th>...</th>\n",
       "      <td>...</td>\n",
       "      <td>...</td>\n",
       "      <td>...</td>\n",
       "      <td>...</td>\n",
       "      <td>...</td>\n",
       "      <td>...</td>\n",
       "      <td>...</td>\n",
       "      <td>...</td>\n",
       "      <td>...</td>\n",
       "      <td>...</td>\n",
       "      <td>...</td>\n",
       "      <td>...</td>\n",
       "      <td>...</td>\n",
       "      <td>...</td>\n",
       "      <td>...</td>\n",
       "    </tr>\n",
       "    <tr>\n",
       "      <th>3000035</th>\n",
       "      <td>SUV / Crossover</td>\n",
       "      <td>Fairfield</td>\n",
       "      <td>94533</td>\n",
       "      <td>Gasoline</td>\n",
       "      <td>170.0</td>\n",
       "      <td>False</td>\n",
       "      <td>38.2418</td>\n",
       "      <td>-122.0830</td>\n",
       "      <td>Chevrolet</td>\n",
       "      <td>5 seats</td>\n",
       "      <td>Equinox</td>\n",
       "      <td>17998.0</td>\n",
       "      <td>A</td>\n",
       "      <td>FWD</td>\n",
       "      <td>2018</td>\n",
       "    </tr>\n",
       "    <tr>\n",
       "      <th>3000036</th>\n",
       "      <td>SUV / Crossover</td>\n",
       "      <td>Vallejo</td>\n",
       "      <td>94591</td>\n",
       "      <td>Gasoline</td>\n",
       "      <td>310.0</td>\n",
       "      <td>True</td>\n",
       "      <td>38.1102</td>\n",
       "      <td>-122.2030</td>\n",
       "      <td>Chevrolet</td>\n",
       "      <td>8 seats</td>\n",
       "      <td>Traverse</td>\n",
       "      <td>36490.0</td>\n",
       "      <td>A</td>\n",
       "      <td>FWD</td>\n",
       "      <td>2020</td>\n",
       "    </tr>\n",
       "    <tr>\n",
       "      <th>3000037</th>\n",
       "      <td>Sedan</td>\n",
       "      <td>Napa</td>\n",
       "      <td>94559</td>\n",
       "      <td>NaN</td>\n",
       "      <td>240.0</td>\n",
       "      <td>False</td>\n",
       "      <td>38.2873</td>\n",
       "      <td>-122.2750</td>\n",
       "      <td>Ford</td>\n",
       "      <td>5 seats</td>\n",
       "      <td>Fusion</td>\n",
       "      <td>12990.0</td>\n",
       "      <td>A</td>\n",
       "      <td>FWD</td>\n",
       "      <td>2016</td>\n",
       "    </tr>\n",
       "    <tr>\n",
       "      <th>3000038</th>\n",
       "      <td>Sedan</td>\n",
       "      <td>Fairfield</td>\n",
       "      <td>94533</td>\n",
       "      <td>Diesel</td>\n",
       "      <td>180.0</td>\n",
       "      <td>False</td>\n",
       "      <td>38.2418</td>\n",
       "      <td>-122.0830</td>\n",
       "      <td>Jaguar</td>\n",
       "      <td>5 seats</td>\n",
       "      <td>XE</td>\n",
       "      <td>26998.0</td>\n",
       "      <td>A</td>\n",
       "      <td>AWD</td>\n",
       "      <td>2017</td>\n",
       "    </tr>\n",
       "    <tr>\n",
       "      <th>3000039</th>\n",
       "      <td>SUV / Crossover</td>\n",
       "      <td>Napa</td>\n",
       "      <td>94559</td>\n",
       "      <td>Gasoline</td>\n",
       "      <td>170.0</td>\n",
       "      <td>False</td>\n",
       "      <td>38.2927</td>\n",
       "      <td>-122.2780</td>\n",
       "      <td>Nissan</td>\n",
       "      <td>7 seats</td>\n",
       "      <td>Rogue</td>\n",
       "      <td>19900.0</td>\n",
       "      <td>A</td>\n",
       "      <td>FWD</td>\n",
       "      <td>2017</td>\n",
       "    </tr>\n",
       "  </tbody>\n",
       "</table>\n",
       "<p>3000040 rows × 15 columns</p>\n",
       "</div>"
      ],
      "text/plain": [
       "               body_type       city dealer_zip fuel_type  horsepower  is_new  \\\n",
       "0        SUV / Crossover    Bayamon      00960  Gasoline       177.0    True   \n",
       "1        SUV / Crossover   San Juan      00922  Gasoline       246.0    True   \n",
       "2                  Sedan   Guaynabo      00969  Gasoline       305.0   False   \n",
       "3        SUV / Crossover   San Juan      00922  Gasoline       340.0    True   \n",
       "4        SUV / Crossover   San Juan      00922  Gasoline       246.0    True   \n",
       "...                  ...        ...        ...       ...         ...     ...   \n",
       "3000035  SUV / Crossover  Fairfield      94533  Gasoline       170.0   False   \n",
       "3000036  SUV / Crossover    Vallejo      94591  Gasoline       310.0    True   \n",
       "3000037            Sedan       Napa      94559       NaN       240.0   False   \n",
       "3000038            Sedan  Fairfield      94533    Diesel       180.0   False   \n",
       "3000039  SUV / Crossover       Napa      94559  Gasoline       170.0   False   \n",
       "\n",
       "         latitude  longitude   make_name maximum_seating       model_name  \\\n",
       "0         18.3988   -66.1582        Jeep         5 seats         Renegade   \n",
       "1         18.4439   -66.0785  Land Rover         7 seats  Discovery Sport   \n",
       "2         18.3467   -66.1098      Subaru         5 seats          WRX STI   \n",
       "3         18.4439   -66.0785  Land Rover         7 seats        Discovery   \n",
       "4         18.4439   -66.0785  Land Rover         7 seats  Discovery Sport   \n",
       "...           ...        ...         ...             ...              ...   \n",
       "3000035   38.2418  -122.0830   Chevrolet         5 seats          Equinox   \n",
       "3000036   38.1102  -122.2030   Chevrolet         8 seats         Traverse   \n",
       "3000037   38.2873  -122.2750        Ford         5 seats           Fusion   \n",
       "3000038   38.2418  -122.0830      Jaguar         5 seats               XE   \n",
       "3000039   38.2927  -122.2780      Nissan         7 seats            Rogue   \n",
       "\n",
       "           price transmission wheel_system  year  \n",
       "0        23141.0            A          FWD  2019  \n",
       "1        46500.0            A          AWD  2020  \n",
       "2        46995.0            M          AWD  2016  \n",
       "3        67430.0            A          AWD  2020  \n",
       "4        48880.0            A          AWD  2020  \n",
       "...          ...          ...          ...   ...  \n",
       "3000035  17998.0            A          FWD  2018  \n",
       "3000036  36490.0            A          FWD  2020  \n",
       "3000037  12990.0            A          FWD  2016  \n",
       "3000038  26998.0            A          AWD  2017  \n",
       "3000039  19900.0            A          FWD  2017  \n",
       "\n",
       "[3000040 rows x 15 columns]"
      ]
     },
     "execution_count": 10,
     "metadata": {},
     "output_type": "execute_result"
    }
   ],
   "source": [
    "unneeded_columns = ['vin', 'city_fuel_economy', 'daysonmarket','highway_fuel_economy', 'mileage', 'seller_rating','back_legroom', 'description', 'engine_cylinders', 'engine_displacement', 'engine_type', 'exterior_color', 'franchise_dealer', 'franchise_make', 'front_legroom', 'fuel_tank_volume', 'height', 'interior_color', 'length', 'listed_date', 'listing_color', 'listing_id', 'main_picture_url', 'major_options', 'power', 'savings_amount', 'sp_id', 'sp_name', 'torque', 'transmission_display', 'trimId', 'trim_name', 'wheel_system_display', 'wheelbase', 'width']\n",
    "df = df.drop(unneeded_columns, axis=1)\n",
    "df"
   ]
  },
  {
   "cell_type": "code",
   "execution_count": 11,
   "id": "abfeb661-094d-462d-9aae-7fd58a66c7af",
   "metadata": {},
   "outputs": [
    {
     "data": {
      "text/plain": [
       "1.6956592462956905"
      ]
     },
     "execution_count": 11,
     "metadata": {},
     "output_type": "execute_result"
    }
   ],
   "source": [
    "memory = df.memory_usage(deep=True).sum()/ (1024 ** 3)\n",
    "memory"
   ]
  },
  {
   "cell_type": "code",
   "execution_count": 12,
   "id": "ad0bbaf5-5694-4876-b9f1-9ba3bc15bcb9",
   "metadata": {},
   "outputs": [
    {
     "data": {
      "text/plain": [
       "{'body_type': 10,\n",
       " 'city': 4687,\n",
       " 'dealer_zip': 8237,\n",
       " 'fuel_type': 9,\n",
       " 'make_name': 100,\n",
       " 'maximum_seating': 13,\n",
       " 'model_name': 1429,\n",
       " 'transmission': 5,\n",
       " 'wheel_system': 6}"
      ]
     },
     "execution_count": 12,
     "metadata": {},
     "output_type": "execute_result"
    }
   ],
   "source": [
    "{column: len(df[column].unique()) for column in df.columns if df.dtypes[column] == 'object'}"
   ]
  },
  {
   "cell_type": "code",
   "execution_count": 13,
   "id": "c41ffb4b-e108-4bb4-8a64-f634a7370bc8",
   "metadata": {},
   "outputs": [],
   "source": [
    "big_unique = ['model_name']\n",
    "df = df.drop(big_unique, axis=1)"
   ]
  },
  {
   "cell_type": "code",
   "execution_count": 14,
   "id": "bff52b72-e122-46b8-93ef-4ba94c60715d",
   "metadata": {},
   "outputs": [
    {
     "data": {
      "text/plain": [
       "body_type           13543\n",
       "city                    0\n",
       "dealer_zip              0\n",
       "fuel_type           82724\n",
       "horsepower         172386\n",
       "is_new                  0\n",
       "latitude                0\n",
       "longitude               0\n",
       "make_name               0\n",
       "maximum_seating    159269\n",
       "price                   0\n",
       "transmission        64185\n",
       "wheel_system       146732\n",
       "year                    0\n",
       "dtype: int64"
      ]
     },
     "execution_count": 14,
     "metadata": {},
     "output_type": "execute_result"
    }
   ],
   "source": [
    "df.isna().sum()"
   ]
  },
  {
   "cell_type": "code",
   "execution_count": 16,
   "id": "cbbb3158-a93d-41cb-8def-7a8ec9a03a4d",
   "metadata": {},
   "outputs": [
    {
     "data": {
      "text/html": [
       "<div>\n",
       "<style scoped>\n",
       "    .dataframe tbody tr th:only-of-type {\n",
       "        vertical-align: middle;\n",
       "    }\n",
       "\n",
       "    .dataframe tbody tr th {\n",
       "        vertical-align: top;\n",
       "    }\n",
       "\n",
       "    .dataframe thead th {\n",
       "        text-align: right;\n",
       "    }\n",
       "</style>\n",
       "<table border=\"1\" class=\"dataframe\">\n",
       "  <thead>\n",
       "    <tr style=\"text-align: right;\">\n",
       "      <th></th>\n",
       "      <th>body_type</th>\n",
       "      <th>city</th>\n",
       "      <th>dealer_zip</th>\n",
       "      <th>fuel_type</th>\n",
       "      <th>horsepower</th>\n",
       "      <th>is_new</th>\n",
       "      <th>latitude</th>\n",
       "      <th>longitude</th>\n",
       "      <th>make_name</th>\n",
       "      <th>maximum_seating</th>\n",
       "      <th>price</th>\n",
       "      <th>transmission</th>\n",
       "      <th>wheel_system</th>\n",
       "      <th>year</th>\n",
       "    </tr>\n",
       "  </thead>\n",
       "  <tbody>\n",
       "    <tr>\n",
       "      <th>0</th>\n",
       "      <td>SUV / Crossover</td>\n",
       "      <td>Bayamon</td>\n",
       "      <td>00960</td>\n",
       "      <td>Gasoline</td>\n",
       "      <td>177.0</td>\n",
       "      <td>True</td>\n",
       "      <td>18.3988</td>\n",
       "      <td>-66.1582</td>\n",
       "      <td>Jeep</td>\n",
       "      <td>5 seats</td>\n",
       "      <td>23141.0</td>\n",
       "      <td>A</td>\n",
       "      <td>FWD</td>\n",
       "      <td>2019</td>\n",
       "    </tr>\n",
       "    <tr>\n",
       "      <th>1</th>\n",
       "      <td>SUV / Crossover</td>\n",
       "      <td>San Juan</td>\n",
       "      <td>00922</td>\n",
       "      <td>Gasoline</td>\n",
       "      <td>246.0</td>\n",
       "      <td>True</td>\n",
       "      <td>18.4439</td>\n",
       "      <td>-66.0785</td>\n",
       "      <td>Land Rover</td>\n",
       "      <td>7 seats</td>\n",
       "      <td>46500.0</td>\n",
       "      <td>A</td>\n",
       "      <td>AWD</td>\n",
       "      <td>2020</td>\n",
       "    </tr>\n",
       "    <tr>\n",
       "      <th>2</th>\n",
       "      <td>Sedan</td>\n",
       "      <td>Guaynabo</td>\n",
       "      <td>00969</td>\n",
       "      <td>Gasoline</td>\n",
       "      <td>305.0</td>\n",
       "      <td>False</td>\n",
       "      <td>18.3467</td>\n",
       "      <td>-66.1098</td>\n",
       "      <td>Subaru</td>\n",
       "      <td>5 seats</td>\n",
       "      <td>46995.0</td>\n",
       "      <td>M</td>\n",
       "      <td>AWD</td>\n",
       "      <td>2016</td>\n",
       "    </tr>\n",
       "    <tr>\n",
       "      <th>3</th>\n",
       "      <td>SUV / Crossover</td>\n",
       "      <td>San Juan</td>\n",
       "      <td>00922</td>\n",
       "      <td>Gasoline</td>\n",
       "      <td>340.0</td>\n",
       "      <td>True</td>\n",
       "      <td>18.4439</td>\n",
       "      <td>-66.0785</td>\n",
       "      <td>Land Rover</td>\n",
       "      <td>7 seats</td>\n",
       "      <td>67430.0</td>\n",
       "      <td>A</td>\n",
       "      <td>AWD</td>\n",
       "      <td>2020</td>\n",
       "    </tr>\n",
       "    <tr>\n",
       "      <th>4</th>\n",
       "      <td>SUV / Crossover</td>\n",
       "      <td>San Juan</td>\n",
       "      <td>00922</td>\n",
       "      <td>Gasoline</td>\n",
       "      <td>246.0</td>\n",
       "      <td>True</td>\n",
       "      <td>18.4439</td>\n",
       "      <td>-66.0785</td>\n",
       "      <td>Land Rover</td>\n",
       "      <td>7 seats</td>\n",
       "      <td>48880.0</td>\n",
       "      <td>A</td>\n",
       "      <td>AWD</td>\n",
       "      <td>2020</td>\n",
       "    </tr>\n",
       "    <tr>\n",
       "      <th>...</th>\n",
       "      <td>...</td>\n",
       "      <td>...</td>\n",
       "      <td>...</td>\n",
       "      <td>...</td>\n",
       "      <td>...</td>\n",
       "      <td>...</td>\n",
       "      <td>...</td>\n",
       "      <td>...</td>\n",
       "      <td>...</td>\n",
       "      <td>...</td>\n",
       "      <td>...</td>\n",
       "      <td>...</td>\n",
       "      <td>...</td>\n",
       "      <td>...</td>\n",
       "    </tr>\n",
       "    <tr>\n",
       "      <th>3000035</th>\n",
       "      <td>SUV / Crossover</td>\n",
       "      <td>Fairfield</td>\n",
       "      <td>94533</td>\n",
       "      <td>Gasoline</td>\n",
       "      <td>170.0</td>\n",
       "      <td>False</td>\n",
       "      <td>38.2418</td>\n",
       "      <td>-122.0830</td>\n",
       "      <td>Chevrolet</td>\n",
       "      <td>5 seats</td>\n",
       "      <td>17998.0</td>\n",
       "      <td>A</td>\n",
       "      <td>FWD</td>\n",
       "      <td>2018</td>\n",
       "    </tr>\n",
       "    <tr>\n",
       "      <th>3000036</th>\n",
       "      <td>SUV / Crossover</td>\n",
       "      <td>Vallejo</td>\n",
       "      <td>94591</td>\n",
       "      <td>Gasoline</td>\n",
       "      <td>310.0</td>\n",
       "      <td>True</td>\n",
       "      <td>38.1102</td>\n",
       "      <td>-122.2030</td>\n",
       "      <td>Chevrolet</td>\n",
       "      <td>8 seats</td>\n",
       "      <td>36490.0</td>\n",
       "      <td>A</td>\n",
       "      <td>FWD</td>\n",
       "      <td>2020</td>\n",
       "    </tr>\n",
       "    <tr>\n",
       "      <th>3000037</th>\n",
       "      <td>Sedan</td>\n",
       "      <td>Napa</td>\n",
       "      <td>94559</td>\n",
       "      <td>NaN</td>\n",
       "      <td>240.0</td>\n",
       "      <td>False</td>\n",
       "      <td>38.2873</td>\n",
       "      <td>-122.2750</td>\n",
       "      <td>Ford</td>\n",
       "      <td>5 seats</td>\n",
       "      <td>12990.0</td>\n",
       "      <td>A</td>\n",
       "      <td>FWD</td>\n",
       "      <td>2016</td>\n",
       "    </tr>\n",
       "    <tr>\n",
       "      <th>3000038</th>\n",
       "      <td>Sedan</td>\n",
       "      <td>Fairfield</td>\n",
       "      <td>94533</td>\n",
       "      <td>Diesel</td>\n",
       "      <td>180.0</td>\n",
       "      <td>False</td>\n",
       "      <td>38.2418</td>\n",
       "      <td>-122.0830</td>\n",
       "      <td>Jaguar</td>\n",
       "      <td>5 seats</td>\n",
       "      <td>26998.0</td>\n",
       "      <td>A</td>\n",
       "      <td>AWD</td>\n",
       "      <td>2017</td>\n",
       "    </tr>\n",
       "    <tr>\n",
       "      <th>3000039</th>\n",
       "      <td>SUV / Crossover</td>\n",
       "      <td>Napa</td>\n",
       "      <td>94559</td>\n",
       "      <td>Gasoline</td>\n",
       "      <td>170.0</td>\n",
       "      <td>False</td>\n",
       "      <td>38.2927</td>\n",
       "      <td>-122.2780</td>\n",
       "      <td>Nissan</td>\n",
       "      <td>7 seats</td>\n",
       "      <td>19900.0</td>\n",
       "      <td>A</td>\n",
       "      <td>FWD</td>\n",
       "      <td>2017</td>\n",
       "    </tr>\n",
       "  </tbody>\n",
       "</table>\n",
       "<p>3000040 rows × 14 columns</p>\n",
       "</div>"
      ],
      "text/plain": [
       "               body_type       city dealer_zip fuel_type  horsepower  is_new  \\\n",
       "0        SUV / Crossover    Bayamon      00960  Gasoline       177.0    True   \n",
       "1        SUV / Crossover   San Juan      00922  Gasoline       246.0    True   \n",
       "2                  Sedan   Guaynabo      00969  Gasoline       305.0   False   \n",
       "3        SUV / Crossover   San Juan      00922  Gasoline       340.0    True   \n",
       "4        SUV / Crossover   San Juan      00922  Gasoline       246.0    True   \n",
       "...                  ...        ...        ...       ...         ...     ...   \n",
       "3000035  SUV / Crossover  Fairfield      94533  Gasoline       170.0   False   \n",
       "3000036  SUV / Crossover    Vallejo      94591  Gasoline       310.0    True   \n",
       "3000037            Sedan       Napa      94559       NaN       240.0   False   \n",
       "3000038            Sedan  Fairfield      94533    Diesel       180.0   False   \n",
       "3000039  SUV / Crossover       Napa      94559  Gasoline       170.0   False   \n",
       "\n",
       "         latitude  longitude   make_name maximum_seating    price  \\\n",
       "0         18.3988   -66.1582        Jeep         5 seats  23141.0   \n",
       "1         18.4439   -66.0785  Land Rover         7 seats  46500.0   \n",
       "2         18.3467   -66.1098      Subaru         5 seats  46995.0   \n",
       "3         18.4439   -66.0785  Land Rover         7 seats  67430.0   \n",
       "4         18.4439   -66.0785  Land Rover         7 seats  48880.0   \n",
       "...           ...        ...         ...             ...      ...   \n",
       "3000035   38.2418  -122.0830   Chevrolet         5 seats  17998.0   \n",
       "3000036   38.1102  -122.2030   Chevrolet         8 seats  36490.0   \n",
       "3000037   38.2873  -122.2750        Ford         5 seats  12990.0   \n",
       "3000038   38.2418  -122.0830      Jaguar         5 seats  26998.0   \n",
       "3000039   38.2927  -122.2780      Nissan         7 seats  19900.0   \n",
       "\n",
       "        transmission wheel_system  year  \n",
       "0                  A          FWD  2019  \n",
       "1                  A          AWD  2020  \n",
       "2                  M          AWD  2016  \n",
       "3                  A          AWD  2020  \n",
       "4                  A          AWD  2020  \n",
       "...              ...          ...   ...  \n",
       "3000035            A          FWD  2018  \n",
       "3000036            A          FWD  2020  \n",
       "3000037            A          FWD  2016  \n",
       "3000038            A          AWD  2017  \n",
       "3000039            A          FWD  2017  \n",
       "\n",
       "[3000040 rows x 14 columns]"
      ]
     },
     "execution_count": 16,
     "metadata": {},
     "output_type": "execute_result"
    }
   ],
   "source": [
    "df"
   ]
  },
  {
   "cell_type": "markdown",
   "id": "c20d37ef-5238-4ad1-87be-432761e7d2d6",
   "metadata": {},
   "source": [
    " ## body_type"
   ]
  },
  {
   "cell_type": "code",
   "execution_count": 43,
   "id": "1866aa99-3d51-4992-834d-7ba834972299",
   "metadata": {},
   "outputs": [
    {
     "name": "stdout",
     "output_type": "stream",
     "text": [
      "The amount of null values in the body_type column are 0.45%.\n"
     ]
    }
   ],
   "source": [
    "percentage = df['body_type'].isna().sum()/df.shape[0]*100\n",
    "\n",
    "print(f\"The amount of null values in the body_type column are {percentage.round(2)}%.\")"
   ]
  },
  {
   "cell_type": "code",
   "execution_count": 44,
   "id": "c8b8cd20-b762-4bf1-9119-ced511ecfdb4",
   "metadata": {},
   "outputs": [
    {
     "data": {
      "text/plain": [
       "array(['SUV / Crossover', 'Sedan', 'Coupe', 'Hatchback', 'Pickup Truck',\n",
       "       'Wagon', 'Minivan', 'Van', 'Convertible', nan], dtype=object)"
      ]
     },
     "execution_count": 44,
     "metadata": {},
     "output_type": "execute_result"
    }
   ],
   "source": [
    "df['body_type'].unique()"
   ]
  },
  {
   "cell_type": "code",
   "execution_count": 45,
   "id": "a9bd0e72-8b5c-4e26-bd51-d608f661dc9d",
   "metadata": {},
   "outputs": [
    {
     "data": {
      "text/plain": [
       "SUV / Crossover    47.212770\n",
       "Sedan              24.734204\n",
       "Pickup Truck       15.819622\n",
       "Hatchback           2.945761\n",
       "Minivan             2.660031\n",
       "Coupe               2.386868\n",
       "Van                 1.572179\n",
       "Wagon               1.350149\n",
       "Convertible         0.866988\n",
       "Name: body_type, dtype: float64"
      ]
     },
     "execution_count": 45,
     "metadata": {},
     "output_type": "execute_result"
    }
   ],
   "source": [
    "df['body_type'].value_counts()/df['body_type'].shape*100"
   ]
  },
  {
   "cell_type": "code",
   "execution_count": 46,
   "id": "f6348f28-800c-4af4-93c4-650c1f5b11bc",
   "metadata": {},
   "outputs": [],
   "source": [
    "df['body_type'].replace(np.nan, 'SUV / Crossover', inplace=True)"
   ]
  },
  {
   "cell_type": "code",
   "execution_count": 47,
   "id": "b295eec3-bb69-443e-97c8-33bd24fe44a7",
   "metadata": {},
   "outputs": [
    {
     "name": "stdout",
     "output_type": "stream",
     "text": [
      "The amount of null values in the body_type column are 0.0%.\n"
     ]
    }
   ],
   "source": [
    "result = df['body_type'].isna().sum()/df.shape[0]*100\n",
    "\n",
    "print(f\"The amount of null values in the body_type column are {result.round(2)}%.\")"
   ]
  },
  {
   "cell_type": "code",
   "execution_count": 48,
   "id": "90c048bc-6a47-42e7-a8bb-f3822fa6843f",
   "metadata": {},
   "outputs": [
    {
     "data": {
      "image/png": "[encoded data removed]",
      "text/plain": [
       "<Figure size 720x432 with 1 Axes>"
      ]
     },
     "metadata": {
      "needs_background": "light"
     },
     "output_type": "display_data"
    }
   ],
   "source": [
    "plt.figure(figsize=(10,6))\n",
    "plt.bar(df['body_type'].value_counts().index, df['body_type'].value_counts(),\n",
    "        color=['green','red','blue','orange','yellow','purple'], alpha=0.8, width=0.9, edgecolor='black')\n",
    "plt.title('Body Type Distribution')\n",
    "plt.xlabel('Body Type')\n",
    "plt.ylabel('Frequency')\n",
    "plt.show()"
   ]
  },
  {
   "cell_type": "markdown",
   "id": "46cab9bf-a79d-48eb-b351-32e5b83c32f3",
   "metadata": {},
   "source": [
    "## fuel_type"
   ]
  },
  {
   "cell_type": "code",
   "execution_count": 17,
   "id": "f2c6b239-315a-497a-94e0-8d8e34510a26",
   "metadata": {},
   "outputs": [
    {
     "name": "stdout",
     "output_type": "stream",
     "text": [
      "The amount of null values in the fuel_type column are 2.76%.\n"
     ]
    }
   ],
   "source": [
    "# checking how many null values are in the column\n",
    "percent = df['fuel_type'].isna().sum()/df.shape[0]*100\n",
    "\n",
    "print(f\"The amount of null values in the fuel_type column are {percent.round(2)}%.\")"
   ]
  },
  {
   "cell_type": "code",
   "execution_count": 19,
   "id": "2d120e4f-fce6-4561-b208-c0ca57f5e248",
   "metadata": {},
   "outputs": [
    {
     "data": {
      "text/plain": [
       "array(['Gasoline', 'Diesel', nan, 'Biodiesel', 'Flex Fuel Vehicle',\n",
       "       'Electric', 'Hybrid', 'Compressed Natural Gas', 'Propane'],\n",
       "      dtype=object)"
      ]
     },
     "execution_count": 19,
     "metadata": {},
     "output_type": "execute_result"
    }
   ],
   "source": [
    "df['fuel_type'].unique()"
   ]
  },
  {
   "cell_type": "code",
   "execution_count": 18,
   "id": "2eba9942-73b7-4b94-aae6-c80259493574",
   "metadata": {},
   "outputs": [
    {
     "data": {
      "text/plain": [
       "Gasoline                  86.613378\n",
       "Flex Fuel Vehicle          5.199697\n",
       "Hybrid                     2.533700\n",
       "Diesel                     1.481714\n",
       "Biodiesel                  0.861822\n",
       "Electric                   0.547193\n",
       "Compressed Natural Gas     0.004867\n",
       "Propane                    0.000200\n",
       "Name: fuel_type, dtype: float64"
      ]
     },
     "execution_count": 18,
     "metadata": {},
     "output_type": "execute_result"
    }
   ],
   "source": [
    "# checking the value counts of the column.\n",
    "df['fuel_type'].value_counts()/df.shape[0]*100"
   ]
  },
  {
   "cell_type": "code",
   "execution_count": 21,
   "id": "e4bffcab-c53c-4dea-8694-4ef5997942a8",
   "metadata": {},
   "outputs": [],
   "source": [
    "df['fuel_type'].replace(np.nan, 'Gasoline', inplace=True)"
   ]
  },
  {
   "cell_type": "code",
   "execution_count": 22,
   "id": "7844c863-1772-478c-8e69-0401114458cd",
   "metadata": {},
   "outputs": [
    {
     "name": "stdout",
     "output_type": "stream",
     "text": [
      "The amount of null values in the body_type column are 0.0%.\n"
     ]
    }
   ],
   "source": [
    "result = df['fuel_type'].isna().sum()/df.shape[0]*100\n",
    "\n",
    "print(f\"The amount of null values in the body_type column are {result.round(2)}%.\")"
   ]
  },
  {
   "cell_type": "markdown",
   "id": "4a10b487-df2e-4ebc-8722-45a24e00918d",
   "metadata": {},
   "source": [
    "## horsepower"
   ]
  },
  {
   "cell_type": "code",
   "execution_count": null,
   "id": "937d9a06-fb9d-4d86-8a9f-35470dc99712",
   "metadata": {},
   "outputs": [],
   "source": [
    "percentage = df['horsepower'].isna().sum()/df.shape[0]*100\n",
    "\n",
    "print(f\"The amount of null values in the horsepower column are {percentage.round(2)}%.\")"
   ]
  },
  {
   "cell_type": "code",
   "execution_count": null,
   "id": "dfc82e58-acfc-420b-83eb-a5a0129a1c7a",
   "metadata": {},
   "outputs": [],
   "source": [
    "df['horsepower'].value_counts()/df.shape[0]*100"
   ]
  },
  {
   "cell_type": "code",
   "execution_count": null,
   "id": "9240f03b-fa9d-438e-826a-a7607c036580",
   "metadata": {},
   "outputs": [],
   "source": [
    "df['horsepower'].replace(np.nan, df['horsepower'].mean(), inplace=True)"
   ]
  },
  {
   "cell_type": "code",
   "execution_count": null,
   "id": "369a8535-618d-4f69-8d75-94017851214f",
   "metadata": {},
   "outputs": [],
   "source": [
    "percentage = df['horsepower'].isna().sum()/df.shape[0]*100\n",
    "\n",
    "print(f\"The amount of null values in the horsepower column are {percentage.round(2)}%.\")"
   ]
  },
  {
   "cell_type": "markdown",
   "id": "a325d329-4be2-4129-a161-22613a1b6539",
   "metadata": {},
   "source": [
    "## make_name"
   ]
  },
  {
   "cell_type": "code",
   "execution_count": 23,
   "id": "4b969e48-9d6c-4c7f-a695-99e2292304be",
   "metadata": {},
   "outputs": [
    {
     "name": "stdout",
     "output_type": "stream",
     "text": [
      "The amount of null values in the horsepower column are 0.0%.\n"
     ]
    }
   ],
   "source": [
    "percentage = df['make_name'].isna().sum()/df.shape[0]*100\n",
    "\n",
    "print(f\"The amount of null values in the horsepower column are {percentage.round(2)}%.\")"
   ]
  },
  {
   "cell_type": "code",
   "execution_count": 25,
   "id": "1cbcaa46-cde1-4cf3-bc49-e8a9c7cc3f49",
   "metadata": {},
   "outputs": [
    {
     "data": {
      "text/plain": [
       "array(['Jeep', 'Land Rover', 'Subaru', 'Mazda', 'Alfa Romeo', 'BMW',\n",
       "       'Hyundai', 'Chevrolet', 'Lexus', 'Cadillac', 'Chrysler', 'Dodge',\n",
       "       'Mercedes-Benz', 'Nissan', 'Honda', 'Kia', 'Ford', 'Lincoln',\n",
       "       'Audi', 'Jaguar', 'Volkswagen', 'RAM', 'Porsche', 'Toyota',\n",
       "       'INFINITI', 'GMC', 'Acura', 'Maserati', 'FIAT', 'Volvo',\n",
       "       'Mitsubishi', 'Buick', 'Mercury', 'Scion', 'Saab', 'MINI',\n",
       "       'Ferrari', 'Genesis', 'Saturn', 'Bentley', 'Suzuki', 'Tesla',\n",
       "       'Fisker', 'Pontiac', 'Lamborghini', 'smart', 'Hummer',\n",
       "       'Rolls-Royce', 'Lotus', 'Spyker', 'McLaren', 'Aston Martin',\n",
       "       'Kaiser', 'Oldsmobile', 'Maybach', 'Freightliner', 'Karma',\n",
       "       'Isuzu', 'Plymouth', 'Shelby', 'Triumph', 'MG', 'Pagani', 'Datsun',\n",
       "       'Studebaker', 'AM General', 'Austin-Healey', 'AMC', 'Hudson',\n",
       "       'Willys', 'Pininfarina', 'Sunbeam', 'Geo', 'Opel', 'SRT', 'Edsel',\n",
       "       'VPG', 'Eagle', 'Bugatti', 'Daewoo', 'Hillman', 'Austin', 'Morris',\n",
       "       'Packard', 'Humber', 'DeTomaso', 'International Harvester',\n",
       "       'Ariel', 'DeSoto', 'Allard', 'Bricklin', 'DeLorean', 'Nash',\n",
       "       'Clenet', 'Mobility Ventures', 'Franklin', 'Jensen', 'Saleen',\n",
       "       'Koenigsegg', 'Rover'], dtype=object)"
      ]
     },
     "execution_count": 25,
     "metadata": {},
     "output_type": "execute_result"
    }
   ],
   "source": [
    "df['make_name'].unique()"
   ]
  },
  {
   "cell_type": "code",
   "execution_count": 26,
   "id": "bc1506ba-589d-4600-b4b7-0ea3055d30b7",
   "metadata": {},
   "outputs": [
    {
     "data": {
      "text/plain": [
       "100"
      ]
     },
     "execution_count": 26,
     "metadata": {},
     "output_type": "execute_result"
    }
   ],
   "source": [
    "df['make_name'].nunique()"
   ]
  },
  {
   "cell_type": "markdown",
   "id": "2728838c-a64c-4535-bfcf-be64e83249c8",
   "metadata": {},
   "source": [
    "in order to cut the number of unique values in the make_name column, we will list the top 20 most common values and replace the rest with the value 'Other'."
   ]
  },
  {
   "cell_type": "code",
   "execution_count": 29,
   "id": "79ebdede-5207-459d-9ed5-f996621ff46a",
   "metadata": {},
   "outputs": [],
   "source": [
    "# checking the value counts of the column.\n",
    "top_20 = df['make_name'].value_counts()/df.shape[0]*100"
   ]
  },
  {
   "cell_type": "code",
   "execution_count": 30,
   "id": "af3e9c63-55ba-4b05-8181-c3c53cd4869a",
   "metadata": {},
   "outputs": [],
   "source": [
    "# creating a list of the top 20 makes\n",
    "top_20 = top_20[:20].index\n",
    " \n",
    "# creating a function to return the top 20 makes\n",
    "def top_20_make(make):\n",
    "    if make in top_20:\n",
    "        return make\n",
    "    else:\n",
    "        return 'Other'\n",
    "    "
   ]
  },
  {
   "cell_type": "code",
   "execution_count": 32,
   "id": "f074867d-8bd7-43f5-98ba-a621064b92b9",
   "metadata": {},
   "outputs": [
    {
     "data": {
      "text/plain": [
       "Ford             476336\n",
       "Chevrolet        376892\n",
       "Other            247839\n",
       "Toyota           239128\n",
       "Nissan           217896\n",
       "Honda            214459\n",
       "Jeep             168434\n",
       "Hyundai          136097\n",
       "Kia              112330\n",
       "RAM              102545\n",
       "GMC               99293\n",
       "Dodge             91376\n",
       "Volkswagen        76092\n",
       "Subaru            69729\n",
       "Mercedes-Benz     66649\n",
       "Buick             64786\n",
       "BMW               62196\n",
       "Mazda             53754\n",
       "Cadillac          47166\n",
       "Lexus             40646\n",
       "Chrysler          36397\n",
       "Name: make_name, dtype: int64"
      ]
     },
     "execution_count": 32,
     "metadata": {},
     "output_type": "execute_result"
    }
   ],
   "source": [
    "# applying the function to the column\n",
    "df['make_name'] = df['make_name'].apply(top_20_make)\n",
    " \n",
    "# checking the result\n",
    "df['make_name'].value_counts()"
   ]
  },
  {
   "cell_type": "code",
   "execution_count": 51,
   "id": "119f7ab5-e003-4129-b341-53e0dfb0adf2",
   "metadata": {},
   "outputs": [
    {
     "data": {
      "image/png": "[encoded data removed]",
      "text/plain": [
       "<Figure size 720x432 with 1 Axes>"
      ]
     },
     "metadata": {
      "needs_background": "light"
     },
     "output_type": "display_data"
    }
   ],
   "source": [
    "plt.figure(figsize=(10,6))\n",
    "plt.bar(df['make_name'].value_counts().index, df['make_name'].value_counts(),\n",
    "        color=['green','red','blue','orange','yellow','purple'], alpha=0.8, width=0.9, edgecolor='black')\n",
    "plt.xticks(rotation=90)\n",
    "plt.title('Топ 20 Brands')\n",
    "plt.xlabel('Brand')\n",
    "plt.ylabel('Frequency')\n",
    "plt.show()"
   ]
  },
  {
   "cell_type": "code",
   "execution_count": null,
   "id": "702b74c8-9c79-43cc-88f7-45ff290c2cda",
   "metadata": {},
   "outputs": [],
   "source": []
  },
  {
   "cell_type": "markdown",
   "id": "4be3b332-3b64-4a1c-8b4b-44a4a0cde12c",
   "metadata": {},
   "source": [
    "## maximum_seating"
   ]
  },
  {
   "cell_type": "code",
   "execution_count": 33,
   "id": "8896ed3b-7cc8-4f9a-b9d8-a486691bcee5",
   "metadata": {},
   "outputs": [
    {
     "name": "stdout",
     "output_type": "stream",
     "text": [
      "The amount of null values in the maximum_seating column are 5.31%.\n"
     ]
    }
   ],
   "source": [
    "# checking how many null values are in the column\n",
    "percentage = df['maximum_seating'].isna().sum()/df.shape[0]*100\n",
    "\n",
    "print(f\"The amount of null values in the maximum_seating column are {percentage.round(2)}%.\")"
   ]
  },
  {
   "cell_type": "code",
   "execution_count": 34,
   "id": "73d64be8-8e56-4072-ade0-93b104317e82",
   "metadata": {},
   "outputs": [
    {
     "data": {
      "text/plain": [
       "5 seats     62.511067\n",
       "7 seats     10.177531\n",
       "6 seats     10.049366\n",
       "8 seats      6.678578\n",
       "4 seats      2.705764\n",
       "2 seats      1.170151\n",
       "3 seats      0.989187\n",
       "15 seats     0.196864\n",
       "9 seats      0.121132\n",
       "12 seats     0.056766\n",
       "10 seats     0.018000\n",
       "--           0.016700\n",
       "Name: maximum_seating, dtype: float64"
      ]
     },
     "execution_count": 34,
     "metadata": {},
     "output_type": "execute_result"
    }
   ],
   "source": [
    "df['maximum_seating'].value_counts()/df.shape[0]*100"
   ]
  },
  {
   "cell_type": "code",
   "execution_count": 35,
   "id": "4854df56-9d51-401c-8de7-25084902cc03",
   "metadata": {},
   "outputs": [
    {
     "data": {
      "text/plain": [
       "array(['5 seats', '7 seats', '2 seats', '4 seats', '8 seats', nan,\n",
       "       '6 seats', '9 seats', '3 seats', '--', '15 seats', '12 seats',\n",
       "       '10 seats'], dtype=object)"
      ]
     },
     "execution_count": 35,
     "metadata": {},
     "output_type": "execute_result"
    }
   ],
   "source": [
    "df['maximum_seating'].unique()"
   ]
  },
  {
   "cell_type": "markdown",
   "id": "3d8bef1e-483a-4d93-8343-19b296b16039",
   "metadata": {},
   "source": [
    "The standard modern car has a maximum seating capacity of 5 people. So we can replace the null values with the value '5 seats'. But before we can do that, we will need to clean the column further."
   ]
  },
  {
   "cell_type": "code",
   "execution_count": 36,
   "id": "9ae13658-8e3c-4971-828c-445855095ca9",
   "metadata": {},
   "outputs": [
    {
     "name": "stdout",
     "output_type": "stream",
     "text": [
      "The amount of null values in the maximum_seating column are 0.0%.\n"
     ]
    }
   ],
   "source": [
    "# replacing the \"--\" with np.nan\n",
    "df['maximum_seating'].replace(\"--\", np.nan , inplace=True)\n",
    "\n",
    "# filling the null values with a new value called the most frequent value.\n",
    "df['maximum_seating'].fillna(\"5 seats\", inplace=True)\n",
    "\n",
    "# checking the result\n",
    "result = df['maximum_seating'].isna().sum()/df.shape[0]*100\n",
    "\n",
    "print(f\"The amount of null values in the maximum_seating column are {result.round(2)}%.\")"
   ]
  },
  {
   "cell_type": "code",
   "execution_count": 37,
   "id": "05d2a19c-7b8b-417d-9eea-c7ceb0c3efff",
   "metadata": {},
   "outputs": [
    {
     "data": {
      "text/plain": [
       "5     2035127\n",
       "7      305330\n",
       "6      301485\n",
       "8      200360\n",
       "4       81174\n",
       "2       35105\n",
       "3       29676\n",
       "15       5906\n",
       "9        3634\n",
       "12       1703\n",
       "10        540\n",
       "Name: maximum_seating, dtype: int64"
      ]
     },
     "execution_count": 37,
     "metadata": {},
     "output_type": "execute_result"
    }
   ],
   "source": [
    "# removing the \" seats\" from the column\n",
    "df['maximum_seating'] = df['maximum_seating'].str.replace(\" seats\", \"\")\n",
    "\n",
    "# converting the column to a int\n",
    "df['maximum_seating'] = pd.to_numeric(df['maximum_seating'], downcast='integer')\n",
    "\n",
    "# checking the result\n",
    "df['maximum_seating'].value_counts()"
   ]
  },
  {
   "cell_type": "markdown",
   "id": "9b6b222b-26ae-4945-bca7-d19dd2e012da",
   "metadata": {},
   "source": [
    "## transmission"
   ]
  },
  {
   "cell_type": "code",
   "execution_count": 38,
   "id": "18eb87c3-567b-4726-8e87-4e15155c6895",
   "metadata": {},
   "outputs": [
    {
     "name": "stdout",
     "output_type": "stream",
     "text": [
      "The amount of null values in the transmission column are 2.14%.\n"
     ]
    }
   ],
   "source": [
    "percentage = df['transmission'].isna().sum()/df.shape[0]*100\n",
    "\n",
    "print(f\"The amount of null values in the transmission column are {percentage.round(2)}%.\")"
   ]
  },
  {
   "cell_type": "code",
   "execution_count": 39,
   "id": "5ffc7f44-b009-4ff1-aca5-2f9090ecd669",
   "metadata": {},
   "outputs": [
    {
     "data": {
      "text/plain": [
       "array(['A', 'M', 'CVT', nan, 'Dual Clutch'], dtype=object)"
      ]
     },
     "execution_count": 39,
     "metadata": {},
     "output_type": "execute_result"
    }
   ],
   "source": [
    "df['transmission'].unique()"
   ]
  },
  {
   "cell_type": "code",
   "execution_count": 40,
   "id": "6a368460-2e51-4917-be24-4bf5d622606c",
   "metadata": {},
   "outputs": [
    {
     "data": {
      "text/plain": [
       "A              2418345\n",
       "CVT             458016\n",
       "M                48425\n",
       "Dual Clutch      11069\n",
       "Name: transmission, dtype: int64"
      ]
     },
     "execution_count": 40,
     "metadata": {},
     "output_type": "execute_result"
    }
   ],
   "source": [
    "df['transmission'].value_counts()"
   ]
  },
  {
   "cell_type": "code",
   "execution_count": 41,
   "id": "293acaa6-ce7e-416d-8de1-90cd8583c605",
   "metadata": {},
   "outputs": [],
   "source": [
    "df['transmission'].replace(np.nan, 'A', inplace=True)"
   ]
  },
  {
   "cell_type": "code",
   "execution_count": 42,
   "id": "5bba1e1a-d1e2-4119-b2fb-f485073b3590",
   "metadata": {},
   "outputs": [
    {
     "name": "stdout",
     "output_type": "stream",
     "text": [
      "The amount of null values in the transmission column are 0.0%.\n"
     ]
    }
   ],
   "source": [
    "result = df['transmission'].isna().sum()/df.shape[0]*100\n",
    "\n",
    "print(f\"The amount of null values in the transmission column are {result.round(2)}%.\")"
   ]
  },
  {
   "cell_type": "markdown",
   "id": "0abc3821-8b4f-4805-979c-e15955587e52",
   "metadata": {},
   "source": [
    "## wheel_system"
   ]
  },
  {
   "cell_type": "code",
   "execution_count": 52,
   "id": "7c2233ba-83f9-4967-a7f1-7fda69812940",
   "metadata": {},
   "outputs": [
    {
     "name": "stdout",
     "output_type": "stream",
     "text": [
      "The amount of null values in the wheel_system column are 4.89%.\n"
     ]
    }
   ],
   "source": [
    "percentage = df['wheel_system'].isna().sum()/df.shape[0]*100\n",
    "\n",
    "print(f\"The amount of null values in the wheel_system column are {percentage.round(2)}%.\")"
   ]
  },
  {
   "cell_type": "code",
   "execution_count": 53,
   "id": "d11348c6-13cc-4ff1-a01c-ee1c0bed858c",
   "metadata": {},
   "outputs": [
    {
     "data": {
      "text/plain": [
       "array(['FWD', 'AWD', 'RWD', '4WD', nan, '4X2'], dtype=object)"
      ]
     },
     "execution_count": 53,
     "metadata": {},
     "output_type": "execute_result"
    }
   ],
   "source": [
    "df['wheel_system'].unique()"
   ]
  },
  {
   "cell_type": "code",
   "execution_count": 54,
   "id": "770689f1-9cdc-4c79-8e00-76ed077de26f",
   "metadata": {},
   "outputs": [
    {
     "data": {
      "text/plain": [
       "FWD    42.045006\n",
       "AWD    23.190724\n",
       "4WD    19.483874\n",
       "RWD     6.358482\n",
       "4X2     4.030913\n",
       "Name: wheel_system, dtype: float64"
      ]
     },
     "execution_count": 54,
     "metadata": {},
     "output_type": "execute_result"
    }
   ],
   "source": [
    "df['wheel_system'].value_counts()/df.shape[0]*100"
   ]
  },
  {
   "cell_type": "code",
   "execution_count": 55,
   "id": "04c5d2c5-5758-44a1-902d-30d00a385db5",
   "metadata": {},
   "outputs": [],
   "source": [
    "df['wheel_system'].replace(np.nan, 'FWD', inplace=True)"
   ]
  },
  {
   "cell_type": "code",
   "execution_count": 56,
   "id": "4b9ceeb8-7b16-4939-bc20-4c249b53b54d",
   "metadata": {},
   "outputs": [
    {
     "name": "stdout",
     "output_type": "stream",
     "text": [
      "The amount of null values in the wheel_system column are 0.0%.\n"
     ]
    }
   ],
   "source": [
    "result = df['wheel_system'].isna().sum()/df.shape[0]*100\n",
    "\n",
    "print(f\"The amount of null values in the wheel_system column are {result.round(2)}%.\")"
   ]
  },
  {
   "cell_type": "code",
   "execution_count": 66,
   "id": "39b3ff01-d5a7-426d-9748-1f45fa92ce34",
   "metadata": {},
   "outputs": [
    {
     "data": {
      "text/html": [
       "<div>\n",
       "<style scoped>\n",
       "    .dataframe tbody tr th:only-of-type {\n",
       "        vertical-align: middle;\n",
       "    }\n",
       "\n",
       "    .dataframe tbody tr th {\n",
       "        vertical-align: top;\n",
       "    }\n",
       "\n",
       "    .dataframe thead th {\n",
       "        text-align: right;\n",
       "    }\n",
       "</style>\n",
       "<table border=\"1\" class=\"dataframe\">\n",
       "  <thead>\n",
       "    <tr style=\"text-align: right;\">\n",
       "      <th></th>\n",
       "      <th>body_type</th>\n",
       "      <th>city</th>\n",
       "      <th>dealer_zip</th>\n",
       "      <th>fuel_type</th>\n",
       "      <th>horsepower</th>\n",
       "      <th>is_new</th>\n",
       "      <th>latitude</th>\n",
       "      <th>longitude</th>\n",
       "      <th>make_name</th>\n",
       "      <th>maximum_seating</th>\n",
       "      <th>price</th>\n",
       "      <th>transmission</th>\n",
       "      <th>wheel_system</th>\n",
       "      <th>year</th>\n",
       "    </tr>\n",
       "  </thead>\n",
       "  <tbody>\n",
       "    <tr>\n",
       "      <th>0</th>\n",
       "      <td>SUV / Crossover</td>\n",
       "      <td>Bayamon</td>\n",
       "      <td>00960</td>\n",
       "      <td>Gasoline</td>\n",
       "      <td>177.0</td>\n",
       "      <td>True</td>\n",
       "      <td>18.3988</td>\n",
       "      <td>-66.1582</td>\n",
       "      <td>Jeep</td>\n",
       "      <td>5</td>\n",
       "      <td>23141.0</td>\n",
       "      <td>A</td>\n",
       "      <td>FWD</td>\n",
       "      <td>2019</td>\n",
       "    </tr>\n",
       "    <tr>\n",
       "      <th>1</th>\n",
       "      <td>SUV / Crossover</td>\n",
       "      <td>San Juan</td>\n",
       "      <td>00922</td>\n",
       "      <td>Gasoline</td>\n",
       "      <td>246.0</td>\n",
       "      <td>True</td>\n",
       "      <td>18.4439</td>\n",
       "      <td>-66.0785</td>\n",
       "      <td>Other</td>\n",
       "      <td>7</td>\n",
       "      <td>46500.0</td>\n",
       "      <td>A</td>\n",
       "      <td>AWD</td>\n",
       "      <td>2020</td>\n",
       "    </tr>\n",
       "    <tr>\n",
       "      <th>2</th>\n",
       "      <td>Sedan</td>\n",
       "      <td>Guaynabo</td>\n",
       "      <td>00969</td>\n",
       "      <td>Gasoline</td>\n",
       "      <td>305.0</td>\n",
       "      <td>False</td>\n",
       "      <td>18.3467</td>\n",
       "      <td>-66.1098</td>\n",
       "      <td>Subaru</td>\n",
       "      <td>5</td>\n",
       "      <td>46995.0</td>\n",
       "      <td>M</td>\n",
       "      <td>AWD</td>\n",
       "      <td>2016</td>\n",
       "    </tr>\n",
       "    <tr>\n",
       "      <th>3</th>\n",
       "      <td>SUV / Crossover</td>\n",
       "      <td>San Juan</td>\n",
       "      <td>00922</td>\n",
       "      <td>Gasoline</td>\n",
       "      <td>340.0</td>\n",
       "      <td>True</td>\n",
       "      <td>18.4439</td>\n",
       "      <td>-66.0785</td>\n",
       "      <td>Other</td>\n",
       "      <td>7</td>\n",
       "      <td>67430.0</td>\n",
       "      <td>A</td>\n",
       "      <td>AWD</td>\n",
       "      <td>2020</td>\n",
       "    </tr>\n",
       "    <tr>\n",
       "      <th>4</th>\n",
       "      <td>SUV / Crossover</td>\n",
       "      <td>San Juan</td>\n",
       "      <td>00922</td>\n",
       "      <td>Gasoline</td>\n",
       "      <td>246.0</td>\n",
       "      <td>True</td>\n",
       "      <td>18.4439</td>\n",
       "      <td>-66.0785</td>\n",
       "      <td>Other</td>\n",
       "      <td>7</td>\n",
       "      <td>48880.0</td>\n",
       "      <td>A</td>\n",
       "      <td>AWD</td>\n",
       "      <td>2020</td>\n",
       "    </tr>\n",
       "    <tr>\n",
       "      <th>...</th>\n",
       "      <td>...</td>\n",
       "      <td>...</td>\n",
       "      <td>...</td>\n",
       "      <td>...</td>\n",
       "      <td>...</td>\n",
       "      <td>...</td>\n",
       "      <td>...</td>\n",
       "      <td>...</td>\n",
       "      <td>...</td>\n",
       "      <td>...</td>\n",
       "      <td>...</td>\n",
       "      <td>...</td>\n",
       "      <td>...</td>\n",
       "      <td>...</td>\n",
       "    </tr>\n",
       "    <tr>\n",
       "      <th>3000035</th>\n",
       "      <td>SUV / Crossover</td>\n",
       "      <td>Fairfield</td>\n",
       "      <td>94533</td>\n",
       "      <td>Gasoline</td>\n",
       "      <td>170.0</td>\n",
       "      <td>False</td>\n",
       "      <td>38.2418</td>\n",
       "      <td>-122.0830</td>\n",
       "      <td>Chevrolet</td>\n",
       "      <td>5</td>\n",
       "      <td>17998.0</td>\n",
       "      <td>A</td>\n",
       "      <td>FWD</td>\n",
       "      <td>2018</td>\n",
       "    </tr>\n",
       "    <tr>\n",
       "      <th>3000036</th>\n",
       "      <td>SUV / Crossover</td>\n",
       "      <td>Vallejo</td>\n",
       "      <td>94591</td>\n",
       "      <td>Gasoline</td>\n",
       "      <td>310.0</td>\n",
       "      <td>True</td>\n",
       "      <td>38.1102</td>\n",
       "      <td>-122.2030</td>\n",
       "      <td>Chevrolet</td>\n",
       "      <td>8</td>\n",
       "      <td>36490.0</td>\n",
       "      <td>A</td>\n",
       "      <td>FWD</td>\n",
       "      <td>2020</td>\n",
       "    </tr>\n",
       "    <tr>\n",
       "      <th>3000037</th>\n",
       "      <td>Sedan</td>\n",
       "      <td>Napa</td>\n",
       "      <td>94559</td>\n",
       "      <td>Gasoline</td>\n",
       "      <td>240.0</td>\n",
       "      <td>False</td>\n",
       "      <td>38.2873</td>\n",
       "      <td>-122.2750</td>\n",
       "      <td>Ford</td>\n",
       "      <td>5</td>\n",
       "      <td>12990.0</td>\n",
       "      <td>A</td>\n",
       "      <td>FWD</td>\n",
       "      <td>2016</td>\n",
       "    </tr>\n",
       "    <tr>\n",
       "      <th>3000038</th>\n",
       "      <td>Sedan</td>\n",
       "      <td>Fairfield</td>\n",
       "      <td>94533</td>\n",
       "      <td>Diesel</td>\n",
       "      <td>180.0</td>\n",
       "      <td>False</td>\n",
       "      <td>38.2418</td>\n",
       "      <td>-122.0830</td>\n",
       "      <td>Other</td>\n",
       "      <td>5</td>\n",
       "      <td>26998.0</td>\n",
       "      <td>A</td>\n",
       "      <td>AWD</td>\n",
       "      <td>2017</td>\n",
       "    </tr>\n",
       "    <tr>\n",
       "      <th>3000039</th>\n",
       "      <td>SUV / Crossover</td>\n",
       "      <td>Napa</td>\n",
       "      <td>94559</td>\n",
       "      <td>Gasoline</td>\n",
       "      <td>170.0</td>\n",
       "      <td>False</td>\n",
       "      <td>38.2927</td>\n",
       "      <td>-122.2780</td>\n",
       "      <td>Nissan</td>\n",
       "      <td>7</td>\n",
       "      <td>19900.0</td>\n",
       "      <td>A</td>\n",
       "      <td>FWD</td>\n",
       "      <td>2017</td>\n",
       "    </tr>\n",
       "  </tbody>\n",
       "</table>\n",
       "<p>3000040 rows × 14 columns</p>\n",
       "</div>"
      ],
      "text/plain": [
       "               body_type       city dealer_zip fuel_type  horsepower  is_new  \\\n",
       "0        SUV / Crossover    Bayamon      00960  Gasoline       177.0    True   \n",
       "1        SUV / Crossover   San Juan      00922  Gasoline       246.0    True   \n",
       "2                  Sedan   Guaynabo      00969  Gasoline       305.0   False   \n",
       "3        SUV / Crossover   San Juan      00922  Gasoline       340.0    True   \n",
       "4        SUV / Crossover   San Juan      00922  Gasoline       246.0    True   \n",
       "...                  ...        ...        ...       ...         ...     ...   \n",
       "3000035  SUV / Crossover  Fairfield      94533  Gasoline       170.0   False   \n",
       "3000036  SUV / Crossover    Vallejo      94591  Gasoline       310.0    True   \n",
       "3000037            Sedan       Napa      94559  Gasoline       240.0   False   \n",
       "3000038            Sedan  Fairfield      94533    Diesel       180.0   False   \n",
       "3000039  SUV / Crossover       Napa      94559  Gasoline       170.0   False   \n",
       "\n",
       "         latitude  longitude  make_name  maximum_seating    price  \\\n",
       "0         18.3988   -66.1582       Jeep                5  23141.0   \n",
       "1         18.4439   -66.0785      Other                7  46500.0   \n",
       "2         18.3467   -66.1098     Subaru                5  46995.0   \n",
       "3         18.4439   -66.0785      Other                7  67430.0   \n",
       "4         18.4439   -66.0785      Other                7  48880.0   \n",
       "...           ...        ...        ...              ...      ...   \n",
       "3000035   38.2418  -122.0830  Chevrolet                5  17998.0   \n",
       "3000036   38.1102  -122.2030  Chevrolet                8  36490.0   \n",
       "3000037   38.2873  -122.2750       Ford                5  12990.0   \n",
       "3000038   38.2418  -122.0830      Other                5  26998.0   \n",
       "3000039   38.2927  -122.2780     Nissan                7  19900.0   \n",
       "\n",
       "        transmission wheel_system  year  \n",
       "0                  A          FWD  2019  \n",
       "1                  A          AWD  2020  \n",
       "2                  M          AWD  2016  \n",
       "3                  A          AWD  2020  \n",
       "4                  A          AWD  2020  \n",
       "...              ...          ...   ...  \n",
       "3000035            A          FWD  2018  \n",
       "3000036            A          FWD  2020  \n",
       "3000037            A          FWD  2016  \n",
       "3000038            A          AWD  2017  \n",
       "3000039            A          FWD  2017  \n",
       "\n",
       "[3000040 rows x 14 columns]"
      ]
     },
     "execution_count": 66,
     "metadata": {},
     "output_type": "execute_result"
    }
   ],
   "source": [
    "df"
   ]
  },
  {
   "cell_type": "markdown",
   "id": "9e253eab-4913-4955-b283-6445713fd37d",
   "metadata": {},
   "source": [
    "## city"
   ]
  },
  {
   "cell_type": "markdown",
   "id": "d18c35ac-2432-411f-b11c-5a6683a315ee",
   "metadata": {},
   "source": [
    "We drop this column because we already have the dealer_zip column. The dealer_zip column is more useful because it is a numeric column and we can use it to find the state where the vehicle is located."
   ]
  },
  {
   "cell_type": "code",
   "execution_count": 69,
   "id": "ac776467-ed58-49b2-ad8a-5ca9648aef47",
   "metadata": {},
   "outputs": [
    {
     "data": {
      "text/html": [
       "<div>\n",
       "<style scoped>\n",
       "    .dataframe tbody tr th:only-of-type {\n",
       "        vertical-align: middle;\n",
       "    }\n",
       "\n",
       "    .dataframe tbody tr th {\n",
       "        vertical-align: top;\n",
       "    }\n",
       "\n",
       "    .dataframe thead th {\n",
       "        text-align: right;\n",
       "    }\n",
       "</style>\n",
       "<table border=\"1\" class=\"dataframe\">\n",
       "  <thead>\n",
       "    <tr style=\"text-align: right;\">\n",
       "      <th></th>\n",
       "      <th>body_type</th>\n",
       "      <th>dealer_zip</th>\n",
       "      <th>fuel_type</th>\n",
       "      <th>horsepower</th>\n",
       "      <th>is_new</th>\n",
       "      <th>latitude</th>\n",
       "      <th>longitude</th>\n",
       "      <th>make_name</th>\n",
       "      <th>maximum_seating</th>\n",
       "      <th>price</th>\n",
       "      <th>transmission</th>\n",
       "      <th>wheel_system</th>\n",
       "      <th>year</th>\n",
       "    </tr>\n",
       "  </thead>\n",
       "  <tbody>\n",
       "    <tr>\n",
       "      <th>0</th>\n",
       "      <td>SUV / Crossover</td>\n",
       "      <td>00960</td>\n",
       "      <td>Gasoline</td>\n",
       "      <td>177.0</td>\n",
       "      <td>True</td>\n",
       "      <td>18.3988</td>\n",
       "      <td>-66.1582</td>\n",
       "      <td>Jeep</td>\n",
       "      <td>5</td>\n",
       "      <td>23141.0</td>\n",
       "      <td>A</td>\n",
       "      <td>FWD</td>\n",
       "      <td>2019</td>\n",
       "    </tr>\n",
       "    <tr>\n",
       "      <th>1</th>\n",
       "      <td>SUV / Crossover</td>\n",
       "      <td>00922</td>\n",
       "      <td>Gasoline</td>\n",
       "      <td>246.0</td>\n",
       "      <td>True</td>\n",
       "      <td>18.4439</td>\n",
       "      <td>-66.0785</td>\n",
       "      <td>Other</td>\n",
       "      <td>7</td>\n",
       "      <td>46500.0</td>\n",
       "      <td>A</td>\n",
       "      <td>AWD</td>\n",
       "      <td>2020</td>\n",
       "    </tr>\n",
       "    <tr>\n",
       "      <th>2</th>\n",
       "      <td>Sedan</td>\n",
       "      <td>00969</td>\n",
       "      <td>Gasoline</td>\n",
       "      <td>305.0</td>\n",
       "      <td>False</td>\n",
       "      <td>18.3467</td>\n",
       "      <td>-66.1098</td>\n",
       "      <td>Subaru</td>\n",
       "      <td>5</td>\n",
       "      <td>46995.0</td>\n",
       "      <td>M</td>\n",
       "      <td>AWD</td>\n",
       "      <td>2016</td>\n",
       "    </tr>\n",
       "    <tr>\n",
       "      <th>3</th>\n",
       "      <td>SUV / Crossover</td>\n",
       "      <td>00922</td>\n",
       "      <td>Gasoline</td>\n",
       "      <td>340.0</td>\n",
       "      <td>True</td>\n",
       "      <td>18.4439</td>\n",
       "      <td>-66.0785</td>\n",
       "      <td>Other</td>\n",
       "      <td>7</td>\n",
       "      <td>67430.0</td>\n",
       "      <td>A</td>\n",
       "      <td>AWD</td>\n",
       "      <td>2020</td>\n",
       "    </tr>\n",
       "    <tr>\n",
       "      <th>4</th>\n",
       "      <td>SUV / Crossover</td>\n",
       "      <td>00922</td>\n",
       "      <td>Gasoline</td>\n",
       "      <td>246.0</td>\n",
       "      <td>True</td>\n",
       "      <td>18.4439</td>\n",
       "      <td>-66.0785</td>\n",
       "      <td>Other</td>\n",
       "      <td>7</td>\n",
       "      <td>48880.0</td>\n",
       "      <td>A</td>\n",
       "      <td>AWD</td>\n",
       "      <td>2020</td>\n",
       "    </tr>\n",
       "    <tr>\n",
       "      <th>...</th>\n",
       "      <td>...</td>\n",
       "      <td>...</td>\n",
       "      <td>...</td>\n",
       "      <td>...</td>\n",
       "      <td>...</td>\n",
       "      <td>...</td>\n",
       "      <td>...</td>\n",
       "      <td>...</td>\n",
       "      <td>...</td>\n",
       "      <td>...</td>\n",
       "      <td>...</td>\n",
       "      <td>...</td>\n",
       "      <td>...</td>\n",
       "    </tr>\n",
       "    <tr>\n",
       "      <th>3000035</th>\n",
       "      <td>SUV / Crossover</td>\n",
       "      <td>94533</td>\n",
       "      <td>Gasoline</td>\n",
       "      <td>170.0</td>\n",
       "      <td>False</td>\n",
       "      <td>38.2418</td>\n",
       "      <td>-122.0830</td>\n",
       "      <td>Chevrolet</td>\n",
       "      <td>5</td>\n",
       "      <td>17998.0</td>\n",
       "      <td>A</td>\n",
       "      <td>FWD</td>\n",
       "      <td>2018</td>\n",
       "    </tr>\n",
       "    <tr>\n",
       "      <th>3000036</th>\n",
       "      <td>SUV / Crossover</td>\n",
       "      <td>94591</td>\n",
       "      <td>Gasoline</td>\n",
       "      <td>310.0</td>\n",
       "      <td>True</td>\n",
       "      <td>38.1102</td>\n",
       "      <td>-122.2030</td>\n",
       "      <td>Chevrolet</td>\n",
       "      <td>8</td>\n",
       "      <td>36490.0</td>\n",
       "      <td>A</td>\n",
       "      <td>FWD</td>\n",
       "      <td>2020</td>\n",
       "    </tr>\n",
       "    <tr>\n",
       "      <th>3000037</th>\n",
       "      <td>Sedan</td>\n",
       "      <td>94559</td>\n",
       "      <td>Gasoline</td>\n",
       "      <td>240.0</td>\n",
       "      <td>False</td>\n",
       "      <td>38.2873</td>\n",
       "      <td>-122.2750</td>\n",
       "      <td>Ford</td>\n",
       "      <td>5</td>\n",
       "      <td>12990.0</td>\n",
       "      <td>A</td>\n",
       "      <td>FWD</td>\n",
       "      <td>2016</td>\n",
       "    </tr>\n",
       "    <tr>\n",
       "      <th>3000038</th>\n",
       "      <td>Sedan</td>\n",
       "      <td>94533</td>\n",
       "      <td>Diesel</td>\n",
       "      <td>180.0</td>\n",
       "      <td>False</td>\n",
       "      <td>38.2418</td>\n",
       "      <td>-122.0830</td>\n",
       "      <td>Other</td>\n",
       "      <td>5</td>\n",
       "      <td>26998.0</td>\n",
       "      <td>A</td>\n",
       "      <td>AWD</td>\n",
       "      <td>2017</td>\n",
       "    </tr>\n",
       "    <tr>\n",
       "      <th>3000039</th>\n",
       "      <td>SUV / Crossover</td>\n",
       "      <td>94559</td>\n",
       "      <td>Gasoline</td>\n",
       "      <td>170.0</td>\n",
       "      <td>False</td>\n",
       "      <td>38.2927</td>\n",
       "      <td>-122.2780</td>\n",
       "      <td>Nissan</td>\n",
       "      <td>7</td>\n",
       "      <td>19900.0</td>\n",
       "      <td>A</td>\n",
       "      <td>FWD</td>\n",
       "      <td>2017</td>\n",
       "    </tr>\n",
       "  </tbody>\n",
       "</table>\n",
       "<p>3000040 rows × 13 columns</p>\n",
       "</div>"
      ],
      "text/plain": [
       "               body_type dealer_zip fuel_type  horsepower  is_new  latitude  \\\n",
       "0        SUV / Crossover      00960  Gasoline       177.0    True   18.3988   \n",
       "1        SUV / Crossover      00922  Gasoline       246.0    True   18.4439   \n",
       "2                  Sedan      00969  Gasoline       305.0   False   18.3467   \n",
       "3        SUV / Crossover      00922  Gasoline       340.0    True   18.4439   \n",
       "4        SUV / Crossover      00922  Gasoline       246.0    True   18.4439   \n",
       "...                  ...        ...       ...         ...     ...       ...   \n",
       "3000035  SUV / Crossover      94533  Gasoline       170.0   False   38.2418   \n",
       "3000036  SUV / Crossover      94591  Gasoline       310.0    True   38.1102   \n",
       "3000037            Sedan      94559  Gasoline       240.0   False   38.2873   \n",
       "3000038            Sedan      94533    Diesel       180.0   False   38.2418   \n",
       "3000039  SUV / Crossover      94559  Gasoline       170.0   False   38.2927   \n",
       "\n",
       "         longitude  make_name  maximum_seating    price transmission  \\\n",
       "0         -66.1582       Jeep                5  23141.0            A   \n",
       "1         -66.0785      Other                7  46500.0            A   \n",
       "2         -66.1098     Subaru                5  46995.0            M   \n",
       "3         -66.0785      Other                7  67430.0            A   \n",
       "4         -66.0785      Other                7  48880.0            A   \n",
       "...            ...        ...              ...      ...          ...   \n",
       "3000035  -122.0830  Chevrolet                5  17998.0            A   \n",
       "3000036  -122.2030  Chevrolet                8  36490.0            A   \n",
       "3000037  -122.2750       Ford                5  12990.0            A   \n",
       "3000038  -122.0830      Other                5  26998.0            A   \n",
       "3000039  -122.2780     Nissan                7  19900.0            A   \n",
       "\n",
       "        wheel_system  year  \n",
       "0                FWD  2019  \n",
       "1                AWD  2020  \n",
       "2                AWD  2016  \n",
       "3                AWD  2020  \n",
       "4                AWD  2020  \n",
       "...              ...   ...  \n",
       "3000035          FWD  2018  \n",
       "3000036          FWD  2020  \n",
       "3000037          FWD  2016  \n",
       "3000038          AWD  2017  \n",
       "3000039          FWD  2017  \n",
       "\n",
       "[3000040 rows x 13 columns]"
      ]
     },
     "execution_count": 69,
     "metadata": {},
     "output_type": "execute_result"
    }
   ],
   "source": [
    "df1 = df.copy()\n",
    "df1.drop(['city'], axis=1, inplace=True)\n",
    "df1"
   ]
  },
  {
   "cell_type": "code",
   "execution_count": 70,
   "id": "44258cc9-94a4-47b5-8a0b-c7ae68bf733c",
   "metadata": {},
   "outputs": [
    {
     "data": {
      "text/html": [
       "<div>\n",
       "<style scoped>\n",
       "    .dataframe tbody tr th:only-of-type {\n",
       "        vertical-align: middle;\n",
       "    }\n",
       "\n",
       "    .dataframe tbody tr th {\n",
       "        vertical-align: top;\n",
       "    }\n",
       "\n",
       "    .dataframe thead th {\n",
       "        text-align: right;\n",
       "    }\n",
       "</style>\n",
       "<table border=\"1\" class=\"dataframe\">\n",
       "  <thead>\n",
       "    <tr style=\"text-align: right;\">\n",
       "      <th></th>\n",
       "      <th>body_type</th>\n",
       "      <th>dealer_zip</th>\n",
       "      <th>fuel_type</th>\n",
       "      <th>horsepower</th>\n",
       "      <th>is_new</th>\n",
       "      <th>latitude</th>\n",
       "      <th>longitude</th>\n",
       "      <th>make_name</th>\n",
       "      <th>maximum_seating</th>\n",
       "      <th>price</th>\n",
       "      <th>transmission</th>\n",
       "      <th>wheel_system</th>\n",
       "      <th>year</th>\n",
       "    </tr>\n",
       "  </thead>\n",
       "  <tbody>\n",
       "    <tr>\n",
       "      <th>0</th>\n",
       "      <td>SUV / Crossover</td>\n",
       "      <td>00960</td>\n",
       "      <td>Gasoline</td>\n",
       "      <td>177.0</td>\n",
       "      <td>True</td>\n",
       "      <td>18.3988</td>\n",
       "      <td>-66.1582</td>\n",
       "      <td>Jeep</td>\n",
       "      <td>5</td>\n",
       "      <td>23141.0</td>\n",
       "      <td>A</td>\n",
       "      <td>FWD</td>\n",
       "      <td>2019</td>\n",
       "    </tr>\n",
       "    <tr>\n",
       "      <th>1</th>\n",
       "      <td>SUV / Crossover</td>\n",
       "      <td>00922</td>\n",
       "      <td>Gasoline</td>\n",
       "      <td>246.0</td>\n",
       "      <td>True</td>\n",
       "      <td>18.4439</td>\n",
       "      <td>-66.0785</td>\n",
       "      <td>Other</td>\n",
       "      <td>7</td>\n",
       "      <td>46500.0</td>\n",
       "      <td>A</td>\n",
       "      <td>AWD</td>\n",
       "      <td>2020</td>\n",
       "    </tr>\n",
       "    <tr>\n",
       "      <th>2</th>\n",
       "      <td>Sedan</td>\n",
       "      <td>00969</td>\n",
       "      <td>Gasoline</td>\n",
       "      <td>305.0</td>\n",
       "      <td>False</td>\n",
       "      <td>18.3467</td>\n",
       "      <td>-66.1098</td>\n",
       "      <td>Subaru</td>\n",
       "      <td>5</td>\n",
       "      <td>46995.0</td>\n",
       "      <td>M</td>\n",
       "      <td>AWD</td>\n",
       "      <td>2016</td>\n",
       "    </tr>\n",
       "    <tr>\n",
       "      <th>3</th>\n",
       "      <td>SUV / Crossover</td>\n",
       "      <td>00922</td>\n",
       "      <td>Gasoline</td>\n",
       "      <td>340.0</td>\n",
       "      <td>True</td>\n",
       "      <td>18.4439</td>\n",
       "      <td>-66.0785</td>\n",
       "      <td>Other</td>\n",
       "      <td>7</td>\n",
       "      <td>67430.0</td>\n",
       "      <td>A</td>\n",
       "      <td>AWD</td>\n",
       "      <td>2020</td>\n",
       "    </tr>\n",
       "    <tr>\n",
       "      <th>4</th>\n",
       "      <td>SUV / Crossover</td>\n",
       "      <td>00922</td>\n",
       "      <td>Gasoline</td>\n",
       "      <td>246.0</td>\n",
       "      <td>True</td>\n",
       "      <td>18.4439</td>\n",
       "      <td>-66.0785</td>\n",
       "      <td>Other</td>\n",
       "      <td>7</td>\n",
       "      <td>48880.0</td>\n",
       "      <td>A</td>\n",
       "      <td>AWD</td>\n",
       "      <td>2020</td>\n",
       "    </tr>\n",
       "    <tr>\n",
       "      <th>...</th>\n",
       "      <td>...</td>\n",
       "      <td>...</td>\n",
       "      <td>...</td>\n",
       "      <td>...</td>\n",
       "      <td>...</td>\n",
       "      <td>...</td>\n",
       "      <td>...</td>\n",
       "      <td>...</td>\n",
       "      <td>...</td>\n",
       "      <td>...</td>\n",
       "      <td>...</td>\n",
       "      <td>...</td>\n",
       "      <td>...</td>\n",
       "    </tr>\n",
       "    <tr>\n",
       "      <th>3000035</th>\n",
       "      <td>SUV / Crossover</td>\n",
       "      <td>94533</td>\n",
       "      <td>Gasoline</td>\n",
       "      <td>170.0</td>\n",
       "      <td>False</td>\n",
       "      <td>38.2418</td>\n",
       "      <td>-122.0830</td>\n",
       "      <td>Chevrolet</td>\n",
       "      <td>5</td>\n",
       "      <td>17998.0</td>\n",
       "      <td>A</td>\n",
       "      <td>FWD</td>\n",
       "      <td>2018</td>\n",
       "    </tr>\n",
       "    <tr>\n",
       "      <th>3000036</th>\n",
       "      <td>SUV / Crossover</td>\n",
       "      <td>94591</td>\n",
       "      <td>Gasoline</td>\n",
       "      <td>310.0</td>\n",
       "      <td>True</td>\n",
       "      <td>38.1102</td>\n",
       "      <td>-122.2030</td>\n",
       "      <td>Chevrolet</td>\n",
       "      <td>8</td>\n",
       "      <td>36490.0</td>\n",
       "      <td>A</td>\n",
       "      <td>FWD</td>\n",
       "      <td>2020</td>\n",
       "    </tr>\n",
       "    <tr>\n",
       "      <th>3000037</th>\n",
       "      <td>Sedan</td>\n",
       "      <td>94559</td>\n",
       "      <td>Gasoline</td>\n",
       "      <td>240.0</td>\n",
       "      <td>False</td>\n",
       "      <td>38.2873</td>\n",
       "      <td>-122.2750</td>\n",
       "      <td>Ford</td>\n",
       "      <td>5</td>\n",
       "      <td>12990.0</td>\n",
       "      <td>A</td>\n",
       "      <td>FWD</td>\n",
       "      <td>2016</td>\n",
       "    </tr>\n",
       "    <tr>\n",
       "      <th>3000038</th>\n",
       "      <td>Sedan</td>\n",
       "      <td>94533</td>\n",
       "      <td>Diesel</td>\n",
       "      <td>180.0</td>\n",
       "      <td>False</td>\n",
       "      <td>38.2418</td>\n",
       "      <td>-122.0830</td>\n",
       "      <td>Other</td>\n",
       "      <td>5</td>\n",
       "      <td>26998.0</td>\n",
       "      <td>A</td>\n",
       "      <td>AWD</td>\n",
       "      <td>2017</td>\n",
       "    </tr>\n",
       "    <tr>\n",
       "      <th>3000039</th>\n",
       "      <td>SUV / Crossover</td>\n",
       "      <td>94559</td>\n",
       "      <td>Gasoline</td>\n",
       "      <td>170.0</td>\n",
       "      <td>False</td>\n",
       "      <td>38.2927</td>\n",
       "      <td>-122.2780</td>\n",
       "      <td>Nissan</td>\n",
       "      <td>7</td>\n",
       "      <td>19900.0</td>\n",
       "      <td>A</td>\n",
       "      <td>FWD</td>\n",
       "      <td>2017</td>\n",
       "    </tr>\n",
       "  </tbody>\n",
       "</table>\n",
       "<p>3000040 rows × 13 columns</p>\n",
       "</div>"
      ],
      "text/plain": [
       "               body_type dealer_zip fuel_type  horsepower  is_new  latitude  \\\n",
       "0        SUV / Crossover      00960  Gasoline       177.0    True   18.3988   \n",
       "1        SUV / Crossover      00922  Gasoline       246.0    True   18.4439   \n",
       "2                  Sedan      00969  Gasoline       305.0   False   18.3467   \n",
       "3        SUV / Crossover      00922  Gasoline       340.0    True   18.4439   \n",
       "4        SUV / Crossover      00922  Gasoline       246.0    True   18.4439   \n",
       "...                  ...        ...       ...         ...     ...       ...   \n",
       "3000035  SUV / Crossover      94533  Gasoline       170.0   False   38.2418   \n",
       "3000036  SUV / Crossover      94591  Gasoline       310.0    True   38.1102   \n",
       "3000037            Sedan      94559  Gasoline       240.0   False   38.2873   \n",
       "3000038            Sedan      94533    Diesel       180.0   False   38.2418   \n",
       "3000039  SUV / Crossover      94559  Gasoline       170.0   False   38.2927   \n",
       "\n",
       "         longitude  make_name  maximum_seating    price transmission  \\\n",
       "0         -66.1582       Jeep                5  23141.0            A   \n",
       "1         -66.0785      Other                7  46500.0            A   \n",
       "2         -66.1098     Subaru                5  46995.0            M   \n",
       "3         -66.0785      Other                7  67430.0            A   \n",
       "4         -66.0785      Other                7  48880.0            A   \n",
       "...            ...        ...              ...      ...          ...   \n",
       "3000035  -122.0830  Chevrolet                5  17998.0            A   \n",
       "3000036  -122.2030  Chevrolet                8  36490.0            A   \n",
       "3000037  -122.2750       Ford                5  12990.0            A   \n",
       "3000038  -122.0830      Other                5  26998.0            A   \n",
       "3000039  -122.2780     Nissan                7  19900.0            A   \n",
       "\n",
       "        wheel_system  year  \n",
       "0                FWD  2019  \n",
       "1                AWD  2020  \n",
       "2                AWD  2016  \n",
       "3                AWD  2020  \n",
       "4                AWD  2020  \n",
       "...              ...   ...  \n",
       "3000035          FWD  2018  \n",
       "3000036          FWD  2020  \n",
       "3000037          FWD  2016  \n",
       "3000038          AWD  2017  \n",
       "3000039          FWD  2017  \n",
       "\n",
       "[3000040 rows x 13 columns]"
      ]
     },
     "execution_count": 70,
     "metadata": {},
     "output_type": "execute_result"
    }
   ],
   "source": [
    "df1.to_csv('one.csv', index=False)\n",
    "df1"
   ]
  },
  {
   "cell_type": "markdown",
   "id": "6869b6d6-9edc-4557-85bb-c3406f8899cc",
   "metadata": {
    "tags": []
   },
   "source": [
    "## dealer_zip\n",
    "The dealer zip is the zip code of the dealer. A better way to represent this column is to extract the state from the zip code. This will allow us to use the state column in our model. We will drop the dealer_zip column and keep the state column instead."
   ]
  },
  {
   "cell_type": "code",
   "execution_count": 73,
   "id": "d100a496-703e-4633-91e3-237ddc69391a",
   "metadata": {},
   "outputs": [
    {
     "name": "stdout",
     "output_type": "stream",
     "text": [
      "<class 'pandas.core.series.Series'>\n",
      "RangeIndex: 3000040 entries, 0 to 3000039\n",
      "Series name: dealer_zip\n",
      "Non-Null Count    Dtype \n",
      "--------------    ----- \n",
      "3000040 non-null  object\n",
      "dtypes: object(1)\n",
      "memory usage: 22.9+ MB\n"
     ]
    }
   ],
   "source": [
    "df1['dealer_zip'].info()"
   ]
  },
  {
   "cell_type": "code",
   "execution_count": 74,
   "id": "c4546354-7352-496b-bf48-da85276a57cb",
   "metadata": {},
   "outputs": [],
   "source": [
    "import zipcodes\n",
    "from pprint import pprint\n",
    "\n",
    "# creating a function to return the state of the zip code\n",
    "def get_state(zip_code):\n",
    "    try:\n",
    "        return zipcodes.matching(zip_code)[0]['state']\n",
    "    except:\n",
    "        return np.nan"
   ]
  },
  {
   "cell_type": "code",
   "execution_count": 75,
   "id": "e1994863-2d1e-4790-a456-b4f552a35a9f",
   "metadata": {},
   "outputs": [
    {
     "data": {
      "text/plain": [
       "TX    322158\n",
       "CA    285411\n",
       "FL    237476\n",
       "OH    133199\n",
       "IL    132370\n",
       "PA    110746\n",
       "NC    107181\n",
       "NY    102127\n",
       "GA     98434\n",
       "MI     95519\n",
       "VA     82375\n",
       "AZ     80494\n",
       "NJ     80268\n",
       "IN     74693\n",
       "MO     73019\n",
       "TN     67907\n",
       "MN     66703\n",
       "MA     65934\n",
       "WI     64389\n",
       "CO     62838\n",
       "MD     57759\n",
       "OK     45316\n",
       "AL     45255\n",
       "SC     45059\n",
       "LA     42301\n",
       "KY     40012\n",
       "IA     34751\n",
       "CT     33071\n",
       "UT     32567\n",
       "NV     29046\n",
       "KS     26809\n",
       "AR     25311\n",
       "NE     24435\n",
       "NH     22335\n",
       "MS     20882\n",
       "ID     18110\n",
       "NM     17882\n",
       "WV     13759\n",
       "ME     11379\n",
       "SD     10522\n",
       "MT     10347\n",
       "ND     10177\n",
       "RI      9050\n",
       "WA      8744\n",
       "DE      8708\n",
       "VT      7833\n",
       "WY      3912\n",
       "OR      1332\n",
       "PR       104\n",
       "HI        26\n",
       "AK         5\n",
       "Name: dealer_state, dtype: int64"
      ]
     },
     "execution_count": 75,
     "metadata": {},
     "output_type": "execute_result"
    }
   ],
   "source": [
    "# applying the function to the column\n",
    "df1['dealer_state'] = df1['dealer_zip'].apply(get_state)\n",
    " \n",
    "# checking the result\n",
    "df1['dealer_state'].value_counts()"
   ]
  },
  {
   "cell_type": "code",
   "execution_count": null,
   "id": "171150b8-442c-43ad-a4d4-e56c4bee7ae7",
   "metadata": {},
   "outputs": [],
   "source": []
  },
  {
   "cell_type": "markdown",
   "id": "020a78a3-a69d-48ec-83f7-fb28207b591d",
   "metadata": {},
   "source": [
    "## group the states into regions "
   ]
  },
  {
   "cell_type": "code",
   "execution_count": 77,
   "id": "b79f118d-e75d-4759-bffb-8b2370b3083d",
   "metadata": {},
   "outputs": [
    {
     "data": {
      "text/plain": [
       "South        1259997\n",
       "Midwest       746586\n",
       "West          550714\n",
       "Northeast     442743\n",
       "Name: dealer_region, dtype: int64"
      ]
     },
     "execution_count": 77,
     "metadata": {},
     "output_type": "execute_result"
    }
   ],
   "source": [
    "# grouping the states by region\n",
    "region_dict = {'CA': 'West', 'TX': 'South', 'FL': 'South', 'NY': 'Northeast',\n",
    "               'PA': 'Northeast', 'IL': 'Midwest', 'OH': 'Midwest', 'GA': 'South', 'NC': 'South', \n",
    "               'MI': 'Midwest', 'NJ': 'Northeast', 'VA': 'South', 'WA': 'West', 'AZ': 'West',\n",
    "               'MA': 'Northeast', 'TN': 'South', 'IN': 'Midwest', 'MO': 'Midwest', 'MD': 'South', \n",
    "               'CO': 'West', 'MN': 'Midwest', 'SC': 'South', 'AL': 'South', 'LA': 'South', 'WI': 'Midwest',\n",
    "               'OR': 'West', 'KY': 'South', 'OK': 'South', 'CT': 'Northeast', 'IA': 'Midwest', 'NV': 'West',\n",
    "               'UT': 'West', 'AR': 'South', 'MS': 'South', 'KS': 'Midwest', 'NM': 'West', 'NE': 'Midwest',\n",
    "               'NH': 'Northeast', 'ID': 'West', 'ME': 'Northeast', 'RI': 'Northeast', 'WV': 'South', 'MT': 'West',\n",
    "               'DE': 'South', 'AK': 'West', 'DC': 'South', 'ND': 'Midwest', 'SD': 'Midwest', 'VT': 'Northeast',\n",
    "               'WY': 'West', 'HI': 'West', 'PR': 'South', 'GU': 'West', 'VI': 'South', 'MP': 'West', 'AS': 'South',\n",
    "               'FM': 'West', 'MH': 'West', 'PW': 'West', 'AA': 'South', 'AE': 'South', 'AP': 'South'}\n",
    "\n",
    "# mapping the dictionary to the column\n",
    "df1['dealer_region'] = df1['dealer_state'].map(region_dict) \n",
    " \n",
    "# checking the result\n",
    "df1['dealer_region'].value_counts()"
   ]
  },
  {
   "cell_type": "code",
   "execution_count": null,
   "id": "20b79502-00e8-4242-b276-5e26170e329e",
   "metadata": {},
   "outputs": [],
   "source": []
  },
  {
   "cell_type": "markdown",
   "id": "b852e35a-c146-4536-ada1-7baf47f7fdfd",
   "metadata": {},
   "source": [
    "## drop dealer_state, latitude, longitude and dealer_zip columns"
   ]
  },
  {
   "cell_type": "code",
   "execution_count": 79,
   "id": "08660d65-5034-4a47-8203-cd73ba5e208c",
   "metadata": {},
   "outputs": [],
   "source": [
    "# dropping the columns\n",
    "df1.drop(['dealer_zip', 'dealer_state', 'latitude', 'longitude'], axis=1, inplace=True)"
   ]
  },
  {
   "cell_type": "code",
   "execution_count": 81,
   "id": "e1e5acc5-706b-4da3-9ee6-dca8544ce272",
   "metadata": {},
   "outputs": [
    {
     "data": {
      "text/html": [
       "<div>\n",
       "<style scoped>\n",
       "    .dataframe tbody tr th:only-of-type {\n",
       "        vertical-align: middle;\n",
       "    }\n",
       "\n",
       "    .dataframe tbody tr th {\n",
       "        vertical-align: top;\n",
       "    }\n",
       "\n",
       "    .dataframe thead th {\n",
       "        text-align: right;\n",
       "    }\n",
       "</style>\n",
       "<table border=\"1\" class=\"dataframe\">\n",
       "  <thead>\n",
       "    <tr style=\"text-align: right;\">\n",
       "      <th></th>\n",
       "      <th>body_type</th>\n",
       "      <th>fuel_type</th>\n",
       "      <th>horsepower</th>\n",
       "      <th>is_new</th>\n",
       "      <th>make_name</th>\n",
       "      <th>maximum_seating</th>\n",
       "      <th>price</th>\n",
       "      <th>transmission</th>\n",
       "      <th>wheel_system</th>\n",
       "      <th>year</th>\n",
       "      <th>dealer_region</th>\n",
       "    </tr>\n",
       "  </thead>\n",
       "  <tbody>\n",
       "    <tr>\n",
       "      <th>0</th>\n",
       "      <td>SUV / Crossover</td>\n",
       "      <td>Gasoline</td>\n",
       "      <td>177.0</td>\n",
       "      <td>True</td>\n",
       "      <td>Jeep</td>\n",
       "      <td>5</td>\n",
       "      <td>23141.0</td>\n",
       "      <td>A</td>\n",
       "      <td>FWD</td>\n",
       "      <td>2019</td>\n",
       "      <td>South</td>\n",
       "    </tr>\n",
       "    <tr>\n",
       "      <th>1</th>\n",
       "      <td>SUV / Crossover</td>\n",
       "      <td>Gasoline</td>\n",
       "      <td>246.0</td>\n",
       "      <td>True</td>\n",
       "      <td>Other</td>\n",
       "      <td>7</td>\n",
       "      <td>46500.0</td>\n",
       "      <td>A</td>\n",
       "      <td>AWD</td>\n",
       "      <td>2020</td>\n",
       "      <td>South</td>\n",
       "    </tr>\n",
       "    <tr>\n",
       "      <th>2</th>\n",
       "      <td>Sedan</td>\n",
       "      <td>Gasoline</td>\n",
       "      <td>305.0</td>\n",
       "      <td>False</td>\n",
       "      <td>Subaru</td>\n",
       "      <td>5</td>\n",
       "      <td>46995.0</td>\n",
       "      <td>M</td>\n",
       "      <td>AWD</td>\n",
       "      <td>2016</td>\n",
       "      <td>South</td>\n",
       "    </tr>\n",
       "    <tr>\n",
       "      <th>3</th>\n",
       "      <td>SUV / Crossover</td>\n",
       "      <td>Gasoline</td>\n",
       "      <td>340.0</td>\n",
       "      <td>True</td>\n",
       "      <td>Other</td>\n",
       "      <td>7</td>\n",
       "      <td>67430.0</td>\n",
       "      <td>A</td>\n",
       "      <td>AWD</td>\n",
       "      <td>2020</td>\n",
       "      <td>South</td>\n",
       "    </tr>\n",
       "    <tr>\n",
       "      <th>4</th>\n",
       "      <td>SUV / Crossover</td>\n",
       "      <td>Gasoline</td>\n",
       "      <td>246.0</td>\n",
       "      <td>True</td>\n",
       "      <td>Other</td>\n",
       "      <td>7</td>\n",
       "      <td>48880.0</td>\n",
       "      <td>A</td>\n",
       "      <td>AWD</td>\n",
       "      <td>2020</td>\n",
       "      <td>South</td>\n",
       "    </tr>\n",
       "    <tr>\n",
       "      <th>...</th>\n",
       "      <td>...</td>\n",
       "      <td>...</td>\n",
       "      <td>...</td>\n",
       "      <td>...</td>\n",
       "      <td>...</td>\n",
       "      <td>...</td>\n",
       "      <td>...</td>\n",
       "      <td>...</td>\n",
       "      <td>...</td>\n",
       "      <td>...</td>\n",
       "      <td>...</td>\n",
       "    </tr>\n",
       "    <tr>\n",
       "      <th>3000035</th>\n",
       "      <td>SUV / Crossover</td>\n",
       "      <td>Gasoline</td>\n",
       "      <td>170.0</td>\n",
       "      <td>False</td>\n",
       "      <td>Chevrolet</td>\n",
       "      <td>5</td>\n",
       "      <td>17998.0</td>\n",
       "      <td>A</td>\n",
       "      <td>FWD</td>\n",
       "      <td>2018</td>\n",
       "      <td>West</td>\n",
       "    </tr>\n",
       "    <tr>\n",
       "      <th>3000036</th>\n",
       "      <td>SUV / Crossover</td>\n",
       "      <td>Gasoline</td>\n",
       "      <td>310.0</td>\n",
       "      <td>True</td>\n",
       "      <td>Chevrolet</td>\n",
       "      <td>8</td>\n",
       "      <td>36490.0</td>\n",
       "      <td>A</td>\n",
       "      <td>FWD</td>\n",
       "      <td>2020</td>\n",
       "      <td>West</td>\n",
       "    </tr>\n",
       "    <tr>\n",
       "      <th>3000037</th>\n",
       "      <td>Sedan</td>\n",
       "      <td>Gasoline</td>\n",
       "      <td>240.0</td>\n",
       "      <td>False</td>\n",
       "      <td>Ford</td>\n",
       "      <td>5</td>\n",
       "      <td>12990.0</td>\n",
       "      <td>A</td>\n",
       "      <td>FWD</td>\n",
       "      <td>2016</td>\n",
       "      <td>West</td>\n",
       "    </tr>\n",
       "    <tr>\n",
       "      <th>3000038</th>\n",
       "      <td>Sedan</td>\n",
       "      <td>Diesel</td>\n",
       "      <td>180.0</td>\n",
       "      <td>False</td>\n",
       "      <td>Other</td>\n",
       "      <td>5</td>\n",
       "      <td>26998.0</td>\n",
       "      <td>A</td>\n",
       "      <td>AWD</td>\n",
       "      <td>2017</td>\n",
       "      <td>West</td>\n",
       "    </tr>\n",
       "    <tr>\n",
       "      <th>3000039</th>\n",
       "      <td>SUV / Crossover</td>\n",
       "      <td>Gasoline</td>\n",
       "      <td>170.0</td>\n",
       "      <td>False</td>\n",
       "      <td>Nissan</td>\n",
       "      <td>7</td>\n",
       "      <td>19900.0</td>\n",
       "      <td>A</td>\n",
       "      <td>FWD</td>\n",
       "      <td>2017</td>\n",
       "      <td>West</td>\n",
       "    </tr>\n",
       "  </tbody>\n",
       "</table>\n",
       "<p>3000040 rows × 11 columns</p>\n",
       "</div>"
      ],
      "text/plain": [
       "               body_type fuel_type  horsepower  is_new  make_name  \\\n",
       "0        SUV / Crossover  Gasoline       177.0    True       Jeep   \n",
       "1        SUV / Crossover  Gasoline       246.0    True      Other   \n",
       "2                  Sedan  Gasoline       305.0   False     Subaru   \n",
       "3        SUV / Crossover  Gasoline       340.0    True      Other   \n",
       "4        SUV / Crossover  Gasoline       246.0    True      Other   \n",
       "...                  ...       ...         ...     ...        ...   \n",
       "3000035  SUV / Crossover  Gasoline       170.0   False  Chevrolet   \n",
       "3000036  SUV / Crossover  Gasoline       310.0    True  Chevrolet   \n",
       "3000037            Sedan  Gasoline       240.0   False       Ford   \n",
       "3000038            Sedan    Diesel       180.0   False      Other   \n",
       "3000039  SUV / Crossover  Gasoline       170.0   False     Nissan   \n",
       "\n",
       "         maximum_seating    price transmission wheel_system  year  \\\n",
       "0                      5  23141.0            A          FWD  2019   \n",
       "1                      7  46500.0            A          AWD  2020   \n",
       "2                      5  46995.0            M          AWD  2016   \n",
       "3                      7  67430.0            A          AWD  2020   \n",
       "4                      7  48880.0            A          AWD  2020   \n",
       "...                  ...      ...          ...          ...   ...   \n",
       "3000035                5  17998.0            A          FWD  2018   \n",
       "3000036                8  36490.0            A          FWD  2020   \n",
       "3000037                5  12990.0            A          FWD  2016   \n",
       "3000038                5  26998.0            A          AWD  2017   \n",
       "3000039                7  19900.0            A          FWD  2017   \n",
       "\n",
       "        dealer_region  \n",
       "0               South  \n",
       "1               South  \n",
       "2               South  \n",
       "3               South  \n",
       "4               South  \n",
       "...               ...  \n",
       "3000035          West  \n",
       "3000036          West  \n",
       "3000037          West  \n",
       "3000038          West  \n",
       "3000039          West  \n",
       "\n",
       "[3000040 rows x 11 columns]"
      ]
     },
     "execution_count": 81,
     "metadata": {},
     "output_type": "execute_result"
    }
   ],
   "source": [
    "df1"
   ]
  },
  {
   "cell_type": "code",
   "execution_count": 83,
   "id": "e2996cc8-bc34-46ab-b68e-908a6bdf3477",
   "metadata": {},
   "outputs": [],
   "source": [
    "df1.to_csv('two.csv', index=False)"
   ]
  },
  {
   "cell_type": "markdown",
   "id": "11862b14-8abc-4111-9c0d-df69dc1c4fc8",
   "metadata": {},
   "source": [
    "## is new column "
   ]
  },
  {
   "cell_type": "code",
   "execution_count": 82,
   "id": "4b91a6e3-f8ae-4be4-8bc3-ba23a303daad",
   "metadata": {},
   "outputs": [
    {
     "data": {
      "text/plain": [
       "False    1529003\n",
       "True     1471037\n",
       "Name: is_new, dtype: int64"
      ]
     },
     "execution_count": 82,
     "metadata": {},
     "output_type": "execute_result"
    }
   ],
   "source": [
    "df1['is_new'].value_counts()"
   ]
  },
  {
   "cell_type": "code",
   "execution_count": 89,
   "id": "0353a0cb-fc47-4eca-82b3-5b2139e78c51",
   "metadata": {},
   "outputs": [],
   "source": [
    "# change the values to 0 and 1\n",
    "df1['is_new'] = df1['is_new'].replace({True: 1, False: 0})"
   ]
  },
  {
   "cell_type": "code",
   "execution_count": null,
   "id": "18f9f211-adc5-4e67-9c74-19650edc9164",
   "metadata": {},
   "outputs": [],
   "source": []
  },
  {
   "cell_type": "markdown",
   "id": "3b1b5e50-7533-4e61-99d9-2d9e171dabd0",
   "metadata": {},
   "source": [
    "## price"
   ]
  },
  {
   "cell_type": "code",
   "execution_count": 92,
   "id": "57e755b7-aedf-4fbf-8b66-4a70a3b95419",
   "metadata": {},
   "outputs": [
    {
     "data": {
      "text/plain": [
       "count    3.000040e+06\n",
       "mean     2.993337e+04\n",
       "std      1.956617e+04\n",
       "min      1.650000e+02\n",
       "25%      1.845100e+04\n",
       "50%      2.647700e+04\n",
       "75%      3.822000e+04\n",
       "max      3.299995e+06\n",
       "Name: price, dtype: float64"
      ]
     },
     "execution_count": 92,
     "metadata": {},
     "output_type": "execute_result"
    }
   ],
   "source": [
    "df1['price'].describe()"
   ]
  },
  {
   "cell_type": "code",
   "execution_count": null,
   "id": "308d0063-ea17-4a43-9696-89b9d4d8d730",
   "metadata": {},
   "outputs": [],
   "source": []
  },
  {
   "cell_type": "code",
   "execution_count": 94,
   "id": "a856bbc5-c574-46c1-a64d-f563bd973394",
   "metadata": {},
   "outputs": [
    {
     "data": {
      "image/png": "[encoded data removed]",
      "text/plain": [
       "<Figure size 720x432 with 1 Axes>"
      ]
     },
     "metadata": {
      "needs_background": "light"
     },
     "output_type": "display_data"
    }
   ],
   "source": [
    "# plotting a histogram of the column\n",
    "plt.figure(figsize=(10, 6))\n",
    "sns.histplot(df1['price'], kde=True)  \n",
    "plt.title('Price')\n",
    "plt.xlabel('Price')\n",
    "plt.ylabel('Frequency')\n",
    "plt.ticklabel_format(style='plain', axis='x')\n",
    "plt.show()"
   ]
  },
  {
   "cell_type": "markdown",
   "id": "d48b07d5-6044-4140-a876-422389d59c5e",
   "metadata": {},
   "source": [
    "The graph shows that our target variable is right skewed. This means that the majority of the values are clustered on the left side of the graph. This is not ideal for our model because it will be biased towards the lower values. We will need to transform the target variable to make it more normal."
   ]
  },
  {
   "cell_type": "code",
   "execution_count": 96,
   "id": "a7ac962f-5aaa-44f5-a83b-a4550342db0a",
   "metadata": {},
   "outputs": [
    {
     "data": {
      "text/plain": [
       "body_type         9\n",
       "fuel_type         8\n",
       "make_name        21\n",
       "transmission      4\n",
       "wheel_system      5\n",
       "dealer_region     4\n",
       "dtype: int64"
      ]
     },
     "execution_count": 96,
     "metadata": {},
     "output_type": "execute_result"
    }
   ],
   "source": [
    "# checking how many categorical columns are in the dataframe\n",
    "df1.select_dtypes(include='object').nunique()"
   ]
  },
  {
   "cell_type": "code",
   "execution_count": 98,
   "id": "0c25d72e-052e-45e2-b477-448e38d3e19f",
   "metadata": {},
   "outputs": [
    {
     "data": {
      "image/png": "[encoded data removed]",
      "text/plain": [
       "<Figure size 432x288 with 1 Axes>"
      ]
     },
     "metadata": {
      "needs_background": "light"
     },
     "output_type": "display_data"
    },
    {
     "data": {
      "image/png": "[encoded data removed]",
      "text/plain": [
       "<Figure size 432x288 with 1 Axes>"
      ]
     },
     "metadata": {
      "needs_background": "light"
     },
     "output_type": "display_data"
    },
    {
     "data": {
      "image/png": "[encoded data removed]",
      "text/plain": [
       "<Figure size 432x288 with 1 Axes>"
      ]
     },
     "metadata": {
      "needs_background": "light"
     },
     "output_type": "display_data"
    },
    {
     "data": {
      "image/png": "[encoded data removed]",
      "text/plain": [
       "<Figure size 432x288 with 1 Axes>"
      ]
     },
     "metadata": {
      "needs_background": "light"
     },
     "output_type": "display_data"
    },
    {
     "data": {
      "image/png": "[encoded data removed]",
      "text/plain": [
       "<Figure size 432x288 with 1 Axes>"
      ]
     },
     "metadata": {
      "needs_background": "light"
     },
     "output_type": "display_data"
    },
    {
     "data": {
      "image/png": "[encoded data removed]",
      "text/plain": [
       "<Figure size 432x288 with 1 Axes>"
      ]
     },
     "metadata": {
      "needs_background": "light"
     },
     "output_type": "display_data"
    }
   ],
   "source": [
    "# Pull out the categorical variables\n",
    "categorical_df = df1.select_dtypes('object')\n",
    "\n",
    "# Iterate column by column\n",
    "for column in categorical_df:\n",
    "    \n",
    "    # Do Something\n",
    "    categorical_df[column].value_counts().sort_values().plot(kind='barh')\n",
    "    plt.title(column)\n",
    "    plt.show()"
   ]
  },
  {
   "cell_type": "markdown",
   "id": "4f6fdd93-9e21-46ee-8113-fc5afae1a89c",
   "metadata": {},
   "source": [
    "Observations:\n",
    "\n",
    "1. The top 3 body types are SUV / Crossover, Sedan, and Pickup Truck.\n",
    "2. The most common type of fuel is gasoline.\n",
    "3. The most common brands of cars are Ford and Chevrolet.\n",
    "4. Most common transmission types are Automatic and CVT.\n",
    "5. Most common wheel systems are FWD and AWD.\n",
    "6. Most vehicles are located in the South region."
   ]
  },
  {
   "cell_type": "code",
   "execution_count": 99,
   "id": "0e191d3e-5e0b-4dd7-8a14-940b0d36a5d7",
   "metadata": {},
   "outputs": [
    {
     "data": {
      "text/plain": [
       "horsepower           455\n",
       "is_new                 2\n",
       "maximum_seating       11\n",
       "price              88861\n",
       "year                  98\n",
       "dtype: int64"
      ]
     },
     "execution_count": 99,
     "metadata": {},
     "output_type": "execute_result"
    }
   ],
   "source": [
    "# checking how many numerical columns are in the dataframe\n",
    "df1.select_dtypes(exclude='object').nunique()"
   ]
  },
  {
   "cell_type": "code",
   "execution_count": 106,
   "id": "f5bc116e-b1ae-4608-8dd5-2847e276318e",
   "metadata": {},
   "outputs": [
    {
     "data": {
      "image/png": "[encoded data removed]",
      "text/plain": [
       "<Figure size 432x288 with 1 Axes>"
      ]
     },
     "metadata": {
      "needs_background": "light"
     },
     "output_type": "display_data"
    },
    {
     "data": {
      "image/png": "[encoded data removed]",
      "text/plain": [
       "<Figure size 432x288 with 1 Axes>"
      ]
     },
     "metadata": {
      "needs_background": "light"
     },
     "output_type": "display_data"
    },
    {
     "data": {
      "image/png": "[encoded data removed]",
      "text/plain": [
       "<Figure size 432x288 with 1 Axes>"
      ]
     },
     "metadata": {
      "needs_background": "light"
     },
     "output_type": "display_data"
    },
    {
     "data": {
      "image/png": "[encoded data removed]",
      "text/plain": [
       "<Figure size 432x288 with 1 Axes>"
      ]
     },
     "metadata": {
      "needs_background": "light"
     },
     "output_type": "display_data"
    },
    {
     "data": {
      "image/png": "[encoded data removed]",
      "text/plain": [
       "<Figure size 432x288 with 1 Axes>"
      ]
     },
     "metadata": {
      "needs_background": "light"
     },
     "output_type": "display_data"
    }
   ],
   "source": [
    "# Pull out the categorical variables\n",
    "numerical_df = df1.select_dtypes(['float', 'int64', 'int8'])\n",
    "\n",
    "# Iterate column by column\n",
    "for column in numerical_df:\n",
    "    \n",
    "    # Do Something\n",
    "    numerical_df[column].hist()\n",
    "    plt.title(column)\n",
    "    plt.show()"
   ]
  },
  {
   "cell_type": "markdown",
   "id": "5d1fdb0f-a8fd-4e5e-8409-92f2e8d73982",
   "metadata": {},
   "source": [
    "Observations:\n",
    "\n",
    "1. The average speed is 248 horsepower.\n",
    "2. New and used cars were sold approximately equally.\n",
    "3. The average vehicle has 5 seats.\n",
    "4. The average price of a vehicle is $29933.\n",
    "5. The average vehicle is 2017, in this dataset."
   ]
  },
  {
   "cell_type": "markdown",
   "id": "77133e55-086d-40c4-9a64-09a4b5053424",
   "metadata": {},
   "source": [
    "## Saving the Cleaned Dataset"
   ]
  },
  {
   "cell_type": "code",
   "execution_count": 108,
   "id": "1d72829b-89ee-49ee-8a53-830a6c053d2a",
   "metadata": {},
   "outputs": [],
   "source": [
    "# saving the dataset\n",
    "df1.to_csv('cleaned_df.csv', index=False)"
   ]
  }
 ],
 "metadata": {
  "kernelspec": {
   "display_name": "Python 3 (ipykernel)",
   "language": "python",
   "name": "python3"
  },
  "language_info": {
   "codemirror_mode": {
    "name": "ipython",
    "version": 3
   },
   "file_extension": ".py",
   "mimetype": "text/x-python",
   "name": "python",
   "nbconvert_exporter": "python",
   "pygments_lexer": "ipython3",
   "version": "3.9.12"
  }
 },
 "nbformat": 4,
 "nbformat_minor": 5
}
