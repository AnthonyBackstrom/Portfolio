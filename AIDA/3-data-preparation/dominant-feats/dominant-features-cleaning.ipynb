{
 "cells": [
  {
   "cell_type": "markdown",
   "id": "72dc1213-d270-4fa4-b93a-922503450fd1",
   "metadata": {},
   "source": [
    "# Identifying Dominant Features for Sales Preprocessing"
   ]
  },
  {
   "cell_type": "markdown",
   "id": "f12eb4cd-8162-47bc-96db-636911118bc2",
   "metadata": {
    "tags": []
   },
   "source": [
    "## Data Preprocessing"
   ]
  },
  {
   "cell_type": "code",
   "execution_count": 1,
   "id": "4a7d673e-700d-467a-ab1d-c3ee06cf7386",
   "metadata": {
    "tags": []
   },
   "outputs": [],
   "source": [
    "import pandas as pd\n",
    "\n",
    "#read data in chunks of 1 million rows at a time\n",
    "chunk = pd.read_csv('../archive/used_cars_data.csv', chunksize=1000000, low_memory=False)\n",
    "df = pd.concat(chunk)"
   ]
  },
  {
   "cell_type": "code",
   "execution_count": 2,
   "id": "dbb53453-06d6-4ef1-9f0c-ac0841cfafee",
   "metadata": {
    "tags": []
   },
   "outputs": [],
   "source": [
    "# Drop columns that are not used\n",
    "df.drop(['combine_fuel_economy', 'is_certified', 'vehicle_damage_category', 'is_cpo', 'is_oemcpo'], axis=1, inplace=True)\n",
    "df.drop(['listing_id', 'listing_color', 'listed_date', 'city', 'latitude', 'longitude', 'dealer_zip', 'franchise_dealer', 'franchise_make', 'seller_rating', 'sp_id', 'sp_name', 'wheel_system_display', 'trimId', 'trim_name'], axis=1, inplace=True)"
   ]
  },
  {
   "cell_type": "code",
   "execution_count": 3,
   "id": "417443d0-7b67-4467-8571-66b95a0393ac",
   "metadata": {
    "tags": []
   },
   "outputs": [
    {
     "data": {
      "text/html": [
       "<div>\n",
       "<style scoped>\n",
       "    .dataframe tbody tr th:only-of-type {\n",
       "        vertical-align: middle;\n",
       "    }\n",
       "\n",
       "    .dataframe tbody tr th {\n",
       "        vertical-align: top;\n",
       "    }\n",
       "\n",
       "    .dataframe thead th {\n",
       "        text-align: right;\n",
       "    }\n",
       "</style>\n",
       "<table border=\"1\" class=\"dataframe\">\n",
       "  <thead>\n",
       "    <tr style=\"text-align: right;\">\n",
       "      <th></th>\n",
       "      <th>vin</th>\n",
       "      <th>back_legroom</th>\n",
       "      <th>bed</th>\n",
       "      <th>bed_height</th>\n",
       "      <th>bed_length</th>\n",
       "      <th>body_type</th>\n",
       "      <th>cabin</th>\n",
       "      <th>city_fuel_economy</th>\n",
       "      <th>daysonmarket</th>\n",
       "      <th>engine_cylinders</th>\n",
       "      <th>...</th>\n",
       "      <th>theft_title</th>\n",
       "      <th>torque</th>\n",
       "      <th>transmission</th>\n",
       "      <th>transmission_display</th>\n",
       "      <th>wheel_system</th>\n",
       "      <th>wheelbase</th>\n",
       "      <th>width</th>\n",
       "      <th>year</th>\n",
       "      <th>has_picture</th>\n",
       "      <th>has_description</th>\n",
       "    </tr>\n",
       "  </thead>\n",
       "  <tbody>\n",
       "    <tr>\n",
       "      <th>0</th>\n",
       "      <td>ZACNJABB5KPJ92081</td>\n",
       "      <td>35.1 in</td>\n",
       "      <td>NaN</td>\n",
       "      <td>NaN</td>\n",
       "      <td>NaN</td>\n",
       "      <td>SUV / Crossover</td>\n",
       "      <td>NaN</td>\n",
       "      <td>NaN</td>\n",
       "      <td>522</td>\n",
       "      <td>I4</td>\n",
       "      <td>...</td>\n",
       "      <td>NaN</td>\n",
       "      <td>200 lb-ft @ 1,750 RPM</td>\n",
       "      <td>A</td>\n",
       "      <td>9-Speed Automatic Overdrive</td>\n",
       "      <td>FWD</td>\n",
       "      <td>101.2 in</td>\n",
       "      <td>79.6 in</td>\n",
       "      <td>2019</td>\n",
       "      <td>True</td>\n",
       "      <td>True</td>\n",
       "    </tr>\n",
       "    <tr>\n",
       "      <th>1</th>\n",
       "      <td>SALCJ2FX1LH858117</td>\n",
       "      <td>38.1 in</td>\n",
       "      <td>NaN</td>\n",
       "      <td>NaN</td>\n",
       "      <td>NaN</td>\n",
       "      <td>SUV / Crossover</td>\n",
       "      <td>NaN</td>\n",
       "      <td>NaN</td>\n",
       "      <td>207</td>\n",
       "      <td>I4</td>\n",
       "      <td>...</td>\n",
       "      <td>NaN</td>\n",
       "      <td>269 lb-ft @ 1,400 RPM</td>\n",
       "      <td>A</td>\n",
       "      <td>9-Speed Automatic Overdrive</td>\n",
       "      <td>AWD</td>\n",
       "      <td>107.9 in</td>\n",
       "      <td>85.6 in</td>\n",
       "      <td>2020</td>\n",
       "      <td>True</td>\n",
       "      <td>True</td>\n",
       "    </tr>\n",
       "    <tr>\n",
       "      <th>2</th>\n",
       "      <td>JF1VA2M67G9829723</td>\n",
       "      <td>35.4 in</td>\n",
       "      <td>NaN</td>\n",
       "      <td>NaN</td>\n",
       "      <td>NaN</td>\n",
       "      <td>Sedan</td>\n",
       "      <td>NaN</td>\n",
       "      <td>17.0</td>\n",
       "      <td>1233</td>\n",
       "      <td>H4</td>\n",
       "      <td>...</td>\n",
       "      <td>False</td>\n",
       "      <td>290 lb-ft @ 4,000 RPM</td>\n",
       "      <td>M</td>\n",
       "      <td>6-Speed Manual</td>\n",
       "      <td>AWD</td>\n",
       "      <td>104.3 in</td>\n",
       "      <td>78.9 in</td>\n",
       "      <td>2016</td>\n",
       "      <td>False</td>\n",
       "      <td>False</td>\n",
       "    </tr>\n",
       "    <tr>\n",
       "      <th>3</th>\n",
       "      <td>SALRR2RV0L2433391</td>\n",
       "      <td>37.6 in</td>\n",
       "      <td>NaN</td>\n",
       "      <td>NaN</td>\n",
       "      <td>NaN</td>\n",
       "      <td>SUV / Crossover</td>\n",
       "      <td>NaN</td>\n",
       "      <td>NaN</td>\n",
       "      <td>196</td>\n",
       "      <td>V6</td>\n",
       "      <td>...</td>\n",
       "      <td>NaN</td>\n",
       "      <td>332 lb-ft @ 3,500 RPM</td>\n",
       "      <td>A</td>\n",
       "      <td>8-Speed Automatic Overdrive</td>\n",
       "      <td>AWD</td>\n",
       "      <td>115 in</td>\n",
       "      <td>87.4 in</td>\n",
       "      <td>2020</td>\n",
       "      <td>True</td>\n",
       "      <td>True</td>\n",
       "    </tr>\n",
       "    <tr>\n",
       "      <th>4</th>\n",
       "      <td>SALCJ2FXXLH862327</td>\n",
       "      <td>38.1 in</td>\n",
       "      <td>NaN</td>\n",
       "      <td>NaN</td>\n",
       "      <td>NaN</td>\n",
       "      <td>SUV / Crossover</td>\n",
       "      <td>NaN</td>\n",
       "      <td>NaN</td>\n",
       "      <td>137</td>\n",
       "      <td>I4</td>\n",
       "      <td>...</td>\n",
       "      <td>NaN</td>\n",
       "      <td>269 lb-ft @ 1,400 RPM</td>\n",
       "      <td>A</td>\n",
       "      <td>9-Speed Automatic Overdrive</td>\n",
       "      <td>AWD</td>\n",
       "      <td>107.9 in</td>\n",
       "      <td>85.6 in</td>\n",
       "      <td>2020</td>\n",
       "      <td>True</td>\n",
       "      <td>True</td>\n",
       "    </tr>\n",
       "  </tbody>\n",
       "</table>\n",
       "<p>5 rows × 46 columns</p>\n",
       "</div>"
      ],
      "text/plain": [
       "                 vin back_legroom  bed bed_height bed_length        body_type  \\\n",
       "0  ZACNJABB5KPJ92081      35.1 in  NaN        NaN        NaN  SUV / Crossover   \n",
       "1  SALCJ2FX1LH858117      38.1 in  NaN        NaN        NaN  SUV / Crossover   \n",
       "2  JF1VA2M67G9829723      35.4 in  NaN        NaN        NaN            Sedan   \n",
       "3  SALRR2RV0L2433391      37.6 in  NaN        NaN        NaN  SUV / Crossover   \n",
       "4  SALCJ2FXXLH862327      38.1 in  NaN        NaN        NaN  SUV / Crossover   \n",
       "\n",
       "  cabin  city_fuel_economy  daysonmarket engine_cylinders  ...  theft_title  \\\n",
       "0   NaN                NaN           522               I4  ...          NaN   \n",
       "1   NaN                NaN           207               I4  ...          NaN   \n",
       "2   NaN               17.0          1233               H4  ...        False   \n",
       "3   NaN                NaN           196               V6  ...          NaN   \n",
       "4   NaN                NaN           137               I4  ...          NaN   \n",
       "\n",
       "                  torque transmission         transmission_display  \\\n",
       "0  200 lb-ft @ 1,750 RPM            A  9-Speed Automatic Overdrive   \n",
       "1  269 lb-ft @ 1,400 RPM            A  9-Speed Automatic Overdrive   \n",
       "2  290 lb-ft @ 4,000 RPM            M               6-Speed Manual   \n",
       "3  332 lb-ft @ 3,500 RPM            A  8-Speed Automatic Overdrive   \n",
       "4  269 lb-ft @ 1,400 RPM            A  9-Speed Automatic Overdrive   \n",
       "\n",
       "  wheel_system wheelbase    width  year has_picture has_description  \n",
       "0          FWD  101.2 in  79.6 in  2019        True            True  \n",
       "1          AWD  107.9 in  85.6 in  2020        True            True  \n",
       "2          AWD  104.3 in  78.9 in  2016       False           False  \n",
       "3          AWD    115 in  87.4 in  2020        True            True  \n",
       "4          AWD  107.9 in  85.6 in  2020        True            True  \n",
       "\n",
       "[5 rows x 46 columns]"
      ]
     },
     "execution_count": 3,
     "metadata": {},
     "output_type": "execute_result"
    }
   ],
   "source": [
    "import numpy as np\n",
    "\n",
    "# Create a new boolean column 'has_picture' based on 'main_picture_url'\n",
    "df['has_picture'] = pd.notna(df['main_picture_url'])\n",
    "df.drop(['main_picture_url'], axis=1, inplace=True)\n",
    "\n",
    "# Create a new boolean column 'has_description' based on 'description'\n",
    "df['has_description'] = pd.notna(df['description'])\n",
    "df.drop(['description'], axis=1, inplace=True)\n",
    "\n",
    "df.head()"
   ]
  },
  {
   "cell_type": "code",
   "execution_count": 4,
   "id": "999ec34b-80ba-4897-86b3-1debe2608441",
   "metadata": {
    "tags": []
   },
   "outputs": [
    {
     "name": "stdout",
     "output_type": "stream",
     "text": [
      "Duplicate rows count: 40\n",
      "The percentage of duplicate rows is 0.0013333155557925895%\n"
     ]
    },
    {
     "data": {
      "text/html": [
       "<div>\n",
       "<style scoped>\n",
       "    .dataframe tbody tr th:only-of-type {\n",
       "        vertical-align: middle;\n",
       "    }\n",
       "\n",
       "    .dataframe tbody tr th {\n",
       "        vertical-align: top;\n",
       "    }\n",
       "\n",
       "    .dataframe thead th {\n",
       "        text-align: right;\n",
       "    }\n",
       "</style>\n",
       "<table border=\"1\" class=\"dataframe\">\n",
       "  <thead>\n",
       "    <tr style=\"text-align: right;\">\n",
       "      <th></th>\n",
       "      <th>vin</th>\n",
       "      <th>back_legroom</th>\n",
       "      <th>bed</th>\n",
       "      <th>bed_height</th>\n",
       "      <th>bed_length</th>\n",
       "      <th>body_type</th>\n",
       "      <th>cabin</th>\n",
       "      <th>city_fuel_economy</th>\n",
       "      <th>daysonmarket</th>\n",
       "      <th>engine_cylinders</th>\n",
       "      <th>...</th>\n",
       "      <th>theft_title</th>\n",
       "      <th>torque</th>\n",
       "      <th>transmission</th>\n",
       "      <th>transmission_display</th>\n",
       "      <th>wheel_system</th>\n",
       "      <th>wheelbase</th>\n",
       "      <th>width</th>\n",
       "      <th>year</th>\n",
       "      <th>has_picture</th>\n",
       "      <th>has_description</th>\n",
       "    </tr>\n",
       "  </thead>\n",
       "  <tbody>\n",
       "    <tr>\n",
       "      <th>2000032</th>\n",
       "      <td>1C3CCCBG4FN686074</td>\n",
       "      <td>37.6 in</td>\n",
       "      <td>NaN</td>\n",
       "      <td>NaN</td>\n",
       "      <td>NaN</td>\n",
       "      <td>Sedan</td>\n",
       "      <td>NaN</td>\n",
       "      <td>19.0</td>\n",
       "      <td>530</td>\n",
       "      <td>V6</td>\n",
       "      <td>...</td>\n",
       "      <td>False</td>\n",
       "      <td>262 lb-ft @ 4,250 RPM</td>\n",
       "      <td>A</td>\n",
       "      <td>Automatic</td>\n",
       "      <td>FWD</td>\n",
       "      <td>108.9 in</td>\n",
       "      <td>73.6 in</td>\n",
       "      <td>2015</td>\n",
       "      <td>True</td>\n",
       "      <td>True</td>\n",
       "    </tr>\n",
       "    <tr>\n",
       "      <th>2000052</th>\n",
       "      <td>1C3CCCBG4FN686074</td>\n",
       "      <td>37.6 in</td>\n",
       "      <td>NaN</td>\n",
       "      <td>NaN</td>\n",
       "      <td>NaN</td>\n",
       "      <td>Sedan</td>\n",
       "      <td>NaN</td>\n",
       "      <td>19.0</td>\n",
       "      <td>530</td>\n",
       "      <td>V6</td>\n",
       "      <td>...</td>\n",
       "      <td>False</td>\n",
       "      <td>262 lb-ft @ 4,250 RPM</td>\n",
       "      <td>A</td>\n",
       "      <td>Automatic</td>\n",
       "      <td>FWD</td>\n",
       "      <td>108.9 in</td>\n",
       "      <td>73.6 in</td>\n",
       "      <td>2015</td>\n",
       "      <td>True</td>\n",
       "      <td>True</td>\n",
       "    </tr>\n",
       "    <tr>\n",
       "      <th>2000043</th>\n",
       "      <td>1C6RR7FT5ES405345</td>\n",
       "      <td>34.7 in</td>\n",
       "      <td>NaN</td>\n",
       "      <td>--</td>\n",
       "      <td>76.3 in</td>\n",
       "      <td>Pickup Truck</td>\n",
       "      <td>NaN</td>\n",
       "      <td>NaN</td>\n",
       "      <td>49</td>\n",
       "      <td>V8</td>\n",
       "      <td>...</td>\n",
       "      <td>False</td>\n",
       "      <td>407 lb-ft @ 3,950 RPM</td>\n",
       "      <td>NaN</td>\n",
       "      <td>NaN</td>\n",
       "      <td>4WD</td>\n",
       "      <td>140.5 in</td>\n",
       "      <td>79.4 in</td>\n",
       "      <td>2014</td>\n",
       "      <td>True</td>\n",
       "      <td>True</td>\n",
       "    </tr>\n",
       "    <tr>\n",
       "      <th>2000023</th>\n",
       "      <td>1C6RR7FT5ES405345</td>\n",
       "      <td>34.7 in</td>\n",
       "      <td>NaN</td>\n",
       "      <td>--</td>\n",
       "      <td>76.3 in</td>\n",
       "      <td>Pickup Truck</td>\n",
       "      <td>NaN</td>\n",
       "      <td>NaN</td>\n",
       "      <td>49</td>\n",
       "      <td>V8</td>\n",
       "      <td>...</td>\n",
       "      <td>False</td>\n",
       "      <td>407 lb-ft @ 3,950 RPM</td>\n",
       "      <td>NaN</td>\n",
       "      <td>NaN</td>\n",
       "      <td>4WD</td>\n",
       "      <td>140.5 in</td>\n",
       "      <td>79.4 in</td>\n",
       "      <td>2014</td>\n",
       "      <td>True</td>\n",
       "      <td>True</td>\n",
       "    </tr>\n",
       "    <tr>\n",
       "      <th>1000038</th>\n",
       "      <td>1FA6P8TH0J5179933</td>\n",
       "      <td>29 in</td>\n",
       "      <td>NaN</td>\n",
       "      <td>NaN</td>\n",
       "      <td>NaN</td>\n",
       "      <td>Coupe</td>\n",
       "      <td>NaN</td>\n",
       "      <td>21.0</td>\n",
       "      <td>7</td>\n",
       "      <td>I4</td>\n",
       "      <td>...</td>\n",
       "      <td>False</td>\n",
       "      <td>350 lb-ft @ 3,000 RPM</td>\n",
       "      <td>A</td>\n",
       "      <td>Automatic</td>\n",
       "      <td>RWD</td>\n",
       "      <td>107.1 in</td>\n",
       "      <td>81.9 in</td>\n",
       "      <td>2018</td>\n",
       "      <td>True</td>\n",
       "      <td>True</td>\n",
       "    </tr>\n",
       "    <tr>\n",
       "      <th>1000018</th>\n",
       "      <td>1FA6P8TH0J5179933</td>\n",
       "      <td>29 in</td>\n",
       "      <td>NaN</td>\n",
       "      <td>NaN</td>\n",
       "      <td>NaN</td>\n",
       "      <td>Coupe</td>\n",
       "      <td>NaN</td>\n",
       "      <td>21.0</td>\n",
       "      <td>7</td>\n",
       "      <td>I4</td>\n",
       "      <td>...</td>\n",
       "      <td>False</td>\n",
       "      <td>350 lb-ft @ 3,000 RPM</td>\n",
       "      <td>A</td>\n",
       "      <td>Automatic</td>\n",
       "      <td>RWD</td>\n",
       "      <td>107.1 in</td>\n",
       "      <td>81.9 in</td>\n",
       "      <td>2018</td>\n",
       "      <td>True</td>\n",
       "      <td>True</td>\n",
       "    </tr>\n",
       "    <tr>\n",
       "      <th>2000029</th>\n",
       "      <td>1FADP3F29FL349680</td>\n",
       "      <td>33.2 in</td>\n",
       "      <td>NaN</td>\n",
       "      <td>NaN</td>\n",
       "      <td>NaN</td>\n",
       "      <td>Sedan</td>\n",
       "      <td>NaN</td>\n",
       "      <td>27.0</td>\n",
       "      <td>118</td>\n",
       "      <td>I4 Flex Fuel Vehicle</td>\n",
       "      <td>...</td>\n",
       "      <td>False</td>\n",
       "      <td>148 lb-ft @ 5,000 RPM</td>\n",
       "      <td>A</td>\n",
       "      <td>Automatic</td>\n",
       "      <td>FWD</td>\n",
       "      <td>104.3 in</td>\n",
       "      <td>71.8 in</td>\n",
       "      <td>2015</td>\n",
       "      <td>True</td>\n",
       "      <td>True</td>\n",
       "    </tr>\n",
       "  </tbody>\n",
       "</table>\n",
       "<p>7 rows × 46 columns</p>\n",
       "</div>"
      ],
      "text/plain": [
       "                       vin back_legroom  bed bed_height bed_length  \\\n",
       "2000032  1C3CCCBG4FN686074      37.6 in  NaN        NaN        NaN   \n",
       "2000052  1C3CCCBG4FN686074      37.6 in  NaN        NaN        NaN   \n",
       "2000043  1C6RR7FT5ES405345      34.7 in  NaN         --    76.3 in   \n",
       "2000023  1C6RR7FT5ES405345      34.7 in  NaN         --    76.3 in   \n",
       "1000038  1FA6P8TH0J5179933        29 in  NaN        NaN        NaN   \n",
       "1000018  1FA6P8TH0J5179933        29 in  NaN        NaN        NaN   \n",
       "2000029  1FADP3F29FL349680      33.2 in  NaN        NaN        NaN   \n",
       "\n",
       "            body_type cabin  city_fuel_economy  daysonmarket  \\\n",
       "2000032         Sedan   NaN               19.0           530   \n",
       "2000052         Sedan   NaN               19.0           530   \n",
       "2000043  Pickup Truck   NaN                NaN            49   \n",
       "2000023  Pickup Truck   NaN                NaN            49   \n",
       "1000038         Coupe   NaN               21.0             7   \n",
       "1000018         Coupe   NaN               21.0             7   \n",
       "2000029         Sedan   NaN               27.0           118   \n",
       "\n",
       "             engine_cylinders  ...  theft_title                 torque  \\\n",
       "2000032                    V6  ...        False  262 lb-ft @ 4,250 RPM   \n",
       "2000052                    V6  ...        False  262 lb-ft @ 4,250 RPM   \n",
       "2000043                    V8  ...        False  407 lb-ft @ 3,950 RPM   \n",
       "2000023                    V8  ...        False  407 lb-ft @ 3,950 RPM   \n",
       "1000038                    I4  ...        False  350 lb-ft @ 3,000 RPM   \n",
       "1000018                    I4  ...        False  350 lb-ft @ 3,000 RPM   \n",
       "2000029  I4 Flex Fuel Vehicle  ...        False  148 lb-ft @ 5,000 RPM   \n",
       "\n",
       "        transmission transmission_display wheel_system wheelbase    width  \\\n",
       "2000032            A            Automatic          FWD  108.9 in  73.6 in   \n",
       "2000052            A            Automatic          FWD  108.9 in  73.6 in   \n",
       "2000043          NaN                  NaN          4WD  140.5 in  79.4 in   \n",
       "2000023          NaN                  NaN          4WD  140.5 in  79.4 in   \n",
       "1000038            A            Automatic          RWD  107.1 in  81.9 in   \n",
       "1000018            A            Automatic          RWD  107.1 in  81.9 in   \n",
       "2000029            A            Automatic          FWD  104.3 in  71.8 in   \n",
       "\n",
       "         year has_picture has_description  \n",
       "2000032  2015        True            True  \n",
       "2000052  2015        True            True  \n",
       "2000043  2014        True            True  \n",
       "2000023  2014        True            True  \n",
       "1000038  2018        True            True  \n",
       "1000018  2018        True            True  \n",
       "2000029  2015        True            True  \n",
       "\n",
       "[7 rows x 46 columns]"
      ]
     },
     "execution_count": 4,
     "metadata": {},
     "output_type": "execute_result"
    }
   ],
   "source": [
    "# Remove duplicates\n",
    "\n",
    "# Sum of duplicate rows\n",
    "duplicate_rows = df.duplicated().sum()\n",
    "\n",
    "print(f\"Duplicate rows count: {duplicate_rows}\")\n",
    "\n",
    "# Get the percentage of duplicate rows\n",
    "percentage = duplicate_rows/df.shape[0]*100\n",
    "print(f\"The percentage of duplicate rows is {percentage}%\")\n",
    "\n",
    "# setting the duplicated vins\n",
    "duplicate_vins = df.duplicated(keep=False)\n",
    "\n",
    "# calling the duplicated vins in a dataframe\n",
    "df.loc[duplicate_vins, :].sort_values(by=['vin']).head(7)"
   ]
  },
  {
   "cell_type": "code",
   "execution_count": 5,
   "id": "6ed5450e-59c6-4384-9419-74db62726578",
   "metadata": {
    "tags": []
   },
   "outputs": [
    {
     "name": "stdout",
     "output_type": "stream",
     "text": [
      "The number of duplicate rows are 0.\n"
     ]
    }
   ],
   "source": [
    "# Drop the dublicate vins\n",
    "df = df.drop_duplicates().copy()\n",
    "\n",
    "# checking for duplicate rows in the new dataframe\n",
    "dup = df.duplicated().sum()\n",
    "\n",
    "# Drop vin, because it is not used anymore\n",
    "df.drop(['vin'], axis=1, inplace=True)\n",
    "\n",
    "print(f\"The number of duplicate rows are {dup}.\")"
   ]
  },
  {
   "cell_type": "code",
   "execution_count": 6,
   "id": "9a29dd02-10a9-4640-8833-5a03d0b45393",
   "metadata": {
    "tags": []
   },
   "outputs": [
    {
     "data": {
      "text/html": [
       "<div>\n",
       "<style scoped>\n",
       "    .dataframe tbody tr th:only-of-type {\n",
       "        vertical-align: middle;\n",
       "    }\n",
       "\n",
       "    .dataframe tbody tr th {\n",
       "        vertical-align: top;\n",
       "    }\n",
       "\n",
       "    .dataframe thead th {\n",
       "        text-align: right;\n",
       "    }\n",
       "</style>\n",
       "<table border=\"1\" class=\"dataframe\">\n",
       "  <thead>\n",
       "    <tr style=\"text-align: right;\">\n",
       "      <th></th>\n",
       "      <th>0</th>\n",
       "    </tr>\n",
       "  </thead>\n",
       "  <tbody>\n",
       "    <tr>\n",
       "      <th>back_legroom</th>\n",
       "      <td>5.308867</td>\n",
       "    </tr>\n",
       "    <tr>\n",
       "      <th>bed</th>\n",
       "      <td>99.347733</td>\n",
       "    </tr>\n",
       "    <tr>\n",
       "      <th>bed_height</th>\n",
       "      <td>85.696967</td>\n",
       "    </tr>\n",
       "    <tr>\n",
       "      <th>bed_length</th>\n",
       "      <td>85.696967</td>\n",
       "    </tr>\n",
       "    <tr>\n",
       "      <th>body_type</th>\n",
       "      <td>0.451400</td>\n",
       "    </tr>\n",
       "    <tr>\n",
       "      <th>cabin</th>\n",
       "      <td>97.882267</td>\n",
       "    </tr>\n",
       "    <tr>\n",
       "      <th>city_fuel_economy</th>\n",
       "      <td>16.375933</td>\n",
       "    </tr>\n",
       "    <tr>\n",
       "      <th>engine_cylinders</th>\n",
       "      <td>3.352667</td>\n",
       "    </tr>\n",
       "    <tr>\n",
       "      <th>engine_displacement</th>\n",
       "      <td>5.746100</td>\n",
       "    </tr>\n",
       "    <tr>\n",
       "      <th>engine_type</th>\n",
       "      <td>3.352667</td>\n",
       "    </tr>\n",
       "    <tr>\n",
       "      <th>exterior_color</th>\n",
       "      <td>0.000867</td>\n",
       "    </tr>\n",
       "    <tr>\n",
       "      <th>fleet</th>\n",
       "      <td>47.552633</td>\n",
       "    </tr>\n",
       "    <tr>\n",
       "      <th>frame_damaged</th>\n",
       "      <td>47.552633</td>\n",
       "    </tr>\n",
       "    <tr>\n",
       "      <th>front_legroom</th>\n",
       "      <td>5.308867</td>\n",
       "    </tr>\n",
       "    <tr>\n",
       "      <th>fuel_tank_volume</th>\n",
       "      <td>5.308867</td>\n",
       "    </tr>\n",
       "    <tr>\n",
       "      <th>fuel_type</th>\n",
       "      <td>2.757467</td>\n",
       "    </tr>\n",
       "    <tr>\n",
       "      <th>has_accidents</th>\n",
       "      <td>47.552633</td>\n",
       "    </tr>\n",
       "    <tr>\n",
       "      <th>height</th>\n",
       "      <td>5.308867</td>\n",
       "    </tr>\n",
       "    <tr>\n",
       "      <th>highway_fuel_economy</th>\n",
       "      <td>16.375933</td>\n",
       "    </tr>\n",
       "    <tr>\n",
       "      <th>horsepower</th>\n",
       "      <td>5.746100</td>\n",
       "    </tr>\n",
       "    <tr>\n",
       "      <th>interior_color</th>\n",
       "      <td>0.005500</td>\n",
       "    </tr>\n",
       "    <tr>\n",
       "      <th>isCab</th>\n",
       "      <td>47.552633</td>\n",
       "    </tr>\n",
       "    <tr>\n",
       "      <th>length</th>\n",
       "      <td>5.308867</td>\n",
       "    </tr>\n",
       "    <tr>\n",
       "      <th>major_options</th>\n",
       "      <td>6.668200</td>\n",
       "    </tr>\n",
       "    <tr>\n",
       "      <th>maximum_seating</th>\n",
       "      <td>5.308867</td>\n",
       "    </tr>\n",
       "    <tr>\n",
       "      <th>mileage</th>\n",
       "      <td>4.812900</td>\n",
       "    </tr>\n",
       "    <tr>\n",
       "      <th>owner_count</th>\n",
       "      <td>50.566533</td>\n",
       "    </tr>\n",
       "    <tr>\n",
       "      <th>power</th>\n",
       "      <td>16.047400</td>\n",
       "    </tr>\n",
       "    <tr>\n",
       "      <th>salvage</th>\n",
       "      <td>47.552633</td>\n",
       "    </tr>\n",
       "    <tr>\n",
       "      <th>theft_title</th>\n",
       "      <td>47.552633</td>\n",
       "    </tr>\n",
       "    <tr>\n",
       "      <th>torque</th>\n",
       "      <td>17.259600</td>\n",
       "    </tr>\n",
       "    <tr>\n",
       "      <th>transmission</th>\n",
       "      <td>2.139467</td>\n",
       "    </tr>\n",
       "    <tr>\n",
       "      <th>transmission_display</th>\n",
       "      <td>2.139467</td>\n",
       "    </tr>\n",
       "    <tr>\n",
       "      <th>wheel_system</th>\n",
       "      <td>4.891000</td>\n",
       "    </tr>\n",
       "    <tr>\n",
       "      <th>wheelbase</th>\n",
       "      <td>5.308867</td>\n",
       "    </tr>\n",
       "    <tr>\n",
       "      <th>width</th>\n",
       "      <td>5.308867</td>\n",
       "    </tr>\n",
       "  </tbody>\n",
       "</table>\n",
       "</div>"
      ],
      "text/plain": [
       "                              0\n",
       "back_legroom           5.308867\n",
       "bed                   99.347733\n",
       "bed_height            85.696967\n",
       "bed_length            85.696967\n",
       "body_type              0.451400\n",
       "cabin                 97.882267\n",
       "city_fuel_economy     16.375933\n",
       "engine_cylinders       3.352667\n",
       "engine_displacement    5.746100\n",
       "engine_type            3.352667\n",
       "exterior_color         0.000867\n",
       "fleet                 47.552633\n",
       "frame_damaged         47.552633\n",
       "front_legroom          5.308867\n",
       "fuel_tank_volume       5.308867\n",
       "fuel_type              2.757467\n",
       "has_accidents         47.552633\n",
       "height                 5.308867\n",
       "highway_fuel_economy  16.375933\n",
       "horsepower             5.746100\n",
       "interior_color         0.005500\n",
       "isCab                 47.552633\n",
       "length                 5.308867\n",
       "major_options          6.668200\n",
       "maximum_seating        5.308867\n",
       "mileage                4.812900\n",
       "owner_count           50.566533\n",
       "power                 16.047400\n",
       "salvage               47.552633\n",
       "theft_title           47.552633\n",
       "torque                17.259600\n",
       "transmission           2.139467\n",
       "transmission_display   2.139467\n",
       "wheel_system           4.891000\n",
       "wheelbase              5.308867\n",
       "width                  5.308867"
      ]
     },
     "execution_count": 6,
     "metadata": {},
     "output_type": "execute_result"
    }
   ],
   "source": [
    "# checking how many null values are in the dataframe that are over 0%\n",
    "percentage = df.isna().sum()/df.shape[0]*100\n",
    "\n",
    "pd.DataFrame(percentage[percentage > 0])"
   ]
  },
  {
   "cell_type": "markdown",
   "id": "07efaaa1-4097-471b-8a96-dcbdf0822508",
   "metadata": {},
   "source": [
    "We can see that bed, bed_height, bed_length and cabin categories contains an exceptionally large amount of null values. We can state that these categories can be dropped."
   ]
  },
  {
   "cell_type": "code",
   "execution_count": 7,
   "id": "c23942b0-5beb-4017-977d-5662f86ec2f2",
   "metadata": {
    "tags": []
   },
   "outputs": [
    {
     "data": {
      "text/html": [
       "<div>\n",
       "<style scoped>\n",
       "    .dataframe tbody tr th:only-of-type {\n",
       "        vertical-align: middle;\n",
       "    }\n",
       "\n",
       "    .dataframe tbody tr th {\n",
       "        vertical-align: top;\n",
       "    }\n",
       "\n",
       "    .dataframe thead th {\n",
       "        text-align: right;\n",
       "    }\n",
       "</style>\n",
       "<table border=\"1\" class=\"dataframe\">\n",
       "  <thead>\n",
       "    <tr style=\"text-align: right;\">\n",
       "      <th></th>\n",
       "      <th>back_legroom</th>\n",
       "      <th>body_type</th>\n",
       "      <th>city_fuel_economy</th>\n",
       "      <th>daysonmarket</th>\n",
       "      <th>engine_cylinders</th>\n",
       "      <th>engine_displacement</th>\n",
       "      <th>engine_type</th>\n",
       "      <th>exterior_color</th>\n",
       "      <th>fleet</th>\n",
       "      <th>frame_damaged</th>\n",
       "      <th>...</th>\n",
       "      <th>theft_title</th>\n",
       "      <th>torque</th>\n",
       "      <th>transmission</th>\n",
       "      <th>transmission_display</th>\n",
       "      <th>wheel_system</th>\n",
       "      <th>wheelbase</th>\n",
       "      <th>width</th>\n",
       "      <th>year</th>\n",
       "      <th>has_picture</th>\n",
       "      <th>has_description</th>\n",
       "    </tr>\n",
       "  </thead>\n",
       "  <tbody>\n",
       "    <tr>\n",
       "      <th>0</th>\n",
       "      <td>35.1 in</td>\n",
       "      <td>SUV / Crossover</td>\n",
       "      <td>NaN</td>\n",
       "      <td>522</td>\n",
       "      <td>I4</td>\n",
       "      <td>1300.0</td>\n",
       "      <td>I4</td>\n",
       "      <td>Solar Yellow</td>\n",
       "      <td>NaN</td>\n",
       "      <td>NaN</td>\n",
       "      <td>...</td>\n",
       "      <td>NaN</td>\n",
       "      <td>200 lb-ft @ 1,750 RPM</td>\n",
       "      <td>A</td>\n",
       "      <td>9-Speed Automatic Overdrive</td>\n",
       "      <td>FWD</td>\n",
       "      <td>101.2 in</td>\n",
       "      <td>79.6 in</td>\n",
       "      <td>2019</td>\n",
       "      <td>True</td>\n",
       "      <td>True</td>\n",
       "    </tr>\n",
       "    <tr>\n",
       "      <th>1</th>\n",
       "      <td>38.1 in</td>\n",
       "      <td>SUV / Crossover</td>\n",
       "      <td>NaN</td>\n",
       "      <td>207</td>\n",
       "      <td>I4</td>\n",
       "      <td>2000.0</td>\n",
       "      <td>I4</td>\n",
       "      <td>Narvik Black</td>\n",
       "      <td>NaN</td>\n",
       "      <td>NaN</td>\n",
       "      <td>...</td>\n",
       "      <td>NaN</td>\n",
       "      <td>269 lb-ft @ 1,400 RPM</td>\n",
       "      <td>A</td>\n",
       "      <td>9-Speed Automatic Overdrive</td>\n",
       "      <td>AWD</td>\n",
       "      <td>107.9 in</td>\n",
       "      <td>85.6 in</td>\n",
       "      <td>2020</td>\n",
       "      <td>True</td>\n",
       "      <td>True</td>\n",
       "    </tr>\n",
       "    <tr>\n",
       "      <th>2</th>\n",
       "      <td>35.4 in</td>\n",
       "      <td>Sedan</td>\n",
       "      <td>17.0</td>\n",
       "      <td>1233</td>\n",
       "      <td>H4</td>\n",
       "      <td>2500.0</td>\n",
       "      <td>H4</td>\n",
       "      <td>None</td>\n",
       "      <td>False</td>\n",
       "      <td>False</td>\n",
       "      <td>...</td>\n",
       "      <td>False</td>\n",
       "      <td>290 lb-ft @ 4,000 RPM</td>\n",
       "      <td>M</td>\n",
       "      <td>6-Speed Manual</td>\n",
       "      <td>AWD</td>\n",
       "      <td>104.3 in</td>\n",
       "      <td>78.9 in</td>\n",
       "      <td>2016</td>\n",
       "      <td>False</td>\n",
       "      <td>False</td>\n",
       "    </tr>\n",
       "    <tr>\n",
       "      <th>3</th>\n",
       "      <td>37.6 in</td>\n",
       "      <td>SUV / Crossover</td>\n",
       "      <td>NaN</td>\n",
       "      <td>196</td>\n",
       "      <td>V6</td>\n",
       "      <td>3000.0</td>\n",
       "      <td>V6</td>\n",
       "      <td>Eiger Gray</td>\n",
       "      <td>NaN</td>\n",
       "      <td>NaN</td>\n",
       "      <td>...</td>\n",
       "      <td>NaN</td>\n",
       "      <td>332 lb-ft @ 3,500 RPM</td>\n",
       "      <td>A</td>\n",
       "      <td>8-Speed Automatic Overdrive</td>\n",
       "      <td>AWD</td>\n",
       "      <td>115 in</td>\n",
       "      <td>87.4 in</td>\n",
       "      <td>2020</td>\n",
       "      <td>True</td>\n",
       "      <td>True</td>\n",
       "    </tr>\n",
       "    <tr>\n",
       "      <th>4</th>\n",
       "      <td>38.1 in</td>\n",
       "      <td>SUV / Crossover</td>\n",
       "      <td>NaN</td>\n",
       "      <td>137</td>\n",
       "      <td>I4</td>\n",
       "      <td>2000.0</td>\n",
       "      <td>I4</td>\n",
       "      <td>Narvik Black</td>\n",
       "      <td>NaN</td>\n",
       "      <td>NaN</td>\n",
       "      <td>...</td>\n",
       "      <td>NaN</td>\n",
       "      <td>269 lb-ft @ 1,400 RPM</td>\n",
       "      <td>A</td>\n",
       "      <td>9-Speed Automatic Overdrive</td>\n",
       "      <td>AWD</td>\n",
       "      <td>107.9 in</td>\n",
       "      <td>85.6 in</td>\n",
       "      <td>2020</td>\n",
       "      <td>True</td>\n",
       "      <td>True</td>\n",
       "    </tr>\n",
       "  </tbody>\n",
       "</table>\n",
       "<p>5 rows × 41 columns</p>\n",
       "</div>"
      ],
      "text/plain": [
       "  back_legroom        body_type  city_fuel_economy  daysonmarket  \\\n",
       "0      35.1 in  SUV / Crossover                NaN           522   \n",
       "1      38.1 in  SUV / Crossover                NaN           207   \n",
       "2      35.4 in            Sedan               17.0          1233   \n",
       "3      37.6 in  SUV / Crossover                NaN           196   \n",
       "4      38.1 in  SUV / Crossover                NaN           137   \n",
       "\n",
       "  engine_cylinders  engine_displacement engine_type exterior_color  fleet  \\\n",
       "0               I4               1300.0          I4   Solar Yellow    NaN   \n",
       "1               I4               2000.0          I4   Narvik Black    NaN   \n",
       "2               H4               2500.0          H4           None  False   \n",
       "3               V6               3000.0          V6     Eiger Gray    NaN   \n",
       "4               I4               2000.0          I4   Narvik Black    NaN   \n",
       "\n",
       "  frame_damaged  ... theft_title                 torque transmission  \\\n",
       "0           NaN  ...         NaN  200 lb-ft @ 1,750 RPM            A   \n",
       "1           NaN  ...         NaN  269 lb-ft @ 1,400 RPM            A   \n",
       "2         False  ...       False  290 lb-ft @ 4,000 RPM            M   \n",
       "3           NaN  ...         NaN  332 lb-ft @ 3,500 RPM            A   \n",
       "4           NaN  ...         NaN  269 lb-ft @ 1,400 RPM            A   \n",
       "\n",
       "          transmission_display wheel_system  wheelbase    width  year  \\\n",
       "0  9-Speed Automatic Overdrive          FWD   101.2 in  79.6 in  2019   \n",
       "1  9-Speed Automatic Overdrive          AWD   107.9 in  85.6 in  2020   \n",
       "2               6-Speed Manual          AWD   104.3 in  78.9 in  2016   \n",
       "3  8-Speed Automatic Overdrive          AWD     115 in  87.4 in  2020   \n",
       "4  9-Speed Automatic Overdrive          AWD   107.9 in  85.6 in  2020   \n",
       "\n",
       "  has_picture  has_description  \n",
       "0        True             True  \n",
       "1        True             True  \n",
       "2       False            False  \n",
       "3        True             True  \n",
       "4        True             True  \n",
       "\n",
       "[5 rows x 41 columns]"
      ]
     },
     "execution_count": 7,
     "metadata": {},
     "output_type": "execute_result"
    }
   ],
   "source": [
    "df.drop(['bed', 'bed_height', 'bed_length', 'cabin'], axis=1, inplace=True)\n",
    "df.head()"
   ]
  },
  {
   "cell_type": "markdown",
   "id": "0b30a457-3cd4-44d9-995f-f38d0fab59eb",
   "metadata": {
    "tags": []
   },
   "source": [
    "## Categorial Exploration\n",
    "\n",
    "Now that the dataframe has been cleaned up a bit, we can start to explore the categories in more detail.\n",
    "\n",
    "Efforts are being made to convert each remaining category containing numerical information into a numerical one. The categories are examined whether null values should be deleted or filled with mean, median or mode values. Some categories are dropped if they contain the same information as other categories. Some categories are also combined."
   ]
  },
  {
   "cell_type": "markdown",
   "id": "0ce745ae-af25-4382-9549-b60f51ba31b2",
   "metadata": {
    "jp-MarkdownHeadingCollapsed": true,
    "tags": []
   },
   "source": [
    "### back_legroom\n",
    "\n",
    "The amount of null values in the back_legroom column are 5.31%\n",
    "\n",
    "Tasks:\n",
    "- Change the back legroom category values to numeric.\n",
    "- Change the '--' values to Nan.\n",
    "- Change the data type to float.\n",
    "\n",
    "We will fill the nan values with the following logic:\n",
    "\n",
    "- If the car has 2 or three seats, 'back_legroom' = 0, because there are no back seats with legroom.\n",
    "- Also set to 0 for all Pickup Truck type cars.\n",
    "- Other values are filled with the median value of the whole category, on the assumption that the value is simply not reported for some reason."
   ]
  },
  {
   "cell_type": "code",
   "execution_count": 8,
   "id": "c77a63a1-0218-4bde-a68f-e5a8f30b6adc",
   "metadata": {
    "tags": []
   },
   "outputs": [
    {
     "name": "stdout",
     "output_type": "stream",
     "text": [
      "The amount of null values is 5.31%.\n"
     ]
    },
    {
     "data": {
      "text/plain": [
       "array(['35.1 in', '38.1 in', '35.4 in', '37.6 in', '37.1 in', '33.8 in',\n",
       "       '--', '35 in', '39.6 in', '35.7 in', '27.3 in', '38.4 in',\n",
       "       '36.8 in', '38.6 in', '39.4 in', nan, '34.1 in', '39.5 in',\n",
       "       '36.2 in', '39.9 in', '37 in', '37.2 in', '38.3 in', '27.1 in',\n",
       "       '40.1 in', '34.6 in', '35.3 in', '37.4 in', '38 in', '39.7 in',\n",
       "       '35.6 in', '42.6 in', '33.7 in', '39 in', '38.2 in', '33 in',\n",
       "       '37.9 in', '29.9 in', '37.8 in', '36.1 in', '34.2 in', '37.3 in',\n",
       "       '40.3 in', '35.8 in', '39.3 in', '38.7 in', '39.1 in', '43.6 in',\n",
       "       '41.7 in', '36.3 in', '45.2 in', '30.6 in', '43.4 in', '36.6 in',\n",
       "       '33.1 in', '35.5 in', '39.8 in', '35.2 in', '40.9 in', '38.5 in',\n",
       "       '36.5 in', '35.9 in', '44.3 in', '34.3 in', '33.4 in', '32.2 in',\n",
       "       '33.3 in', '34.8 in', '30.8 in', '31.4 in', '37.7 in', '31.7 in',\n",
       "       '36.4 in', '32.6 in', '40.4 in', '34.7 in', '40 in', '41.9 in',\n",
       "       '30.5 in', '30.3 in', '33.5 in', '33.9 in', '29.2 in', '38.8 in',\n",
       "       '28.2 in', '0 in', '43 in', '42.3 in', '38.9 in', '40.6 in',\n",
       "       '31.2 in', '41.1 in', '27.2 in', '33.2 in', '40.2 in', '36.9 in',\n",
       "       '34 in', '43.3 in', '41.4 in', '34.4 in', '29.8 in', '29 in',\n",
       "       '34.5 in', '28.5 in', '28.6 in', '41.6 in', '31.3 in', '37.5 in',\n",
       "       '31.9 in', '42.4 in', '32 in', '32.4 in', '40.8 in', '44.4 in',\n",
       "       '30.1 in', '36 in', '41 in', '32.8 in', '39.2 in', '42.9 in',\n",
       "       '42 in', '31.1 in', '31.6 in', '41.8 in', '32.9 in', '41.3 in',\n",
       "       '41.5 in', '31.5 in', '32.7 in', '28.9 in', '32.3 in', '36.7 in',\n",
       "       '33.6 in', '20.2 in', '43.5 in', '40.7 in', '42.1 in', '31.8 in',\n",
       "       '34.9 in', '47.5 in', '32.1 in', '25.4 in', '24.6 in', '42.8 in',\n",
       "       '29.3 in', '41.2 in', '30.4 in', '29.5 in', '44.1 in', '23.1 in',\n",
       "       '43.1 in', '30.9 in', '30.2 in', '40.5 in', '13 in', '31 in',\n",
       "       '24.8 in', '32.5 in', '26.8 in', '42.2 in', '43.7 in', '49 in',\n",
       "       '47.4 in', '30 in', '27 in', '30.7 in', '26.4 in', '28.1 in',\n",
       "       '46.8 in', '23.7 in', '43.2 in', '28.7 in', '44.5 in', '27.5 in',\n",
       "       '28 in', '28.8 in', '24 in', '43.9 in', '14 in', '27.4 in',\n",
       "       '25.8 in', '29.4 in', '45.9 in', '27.6 in', '28.4 in', '27.8 in',\n",
       "       '3.5 in', '23 in', '29.6 in', '24.9 in', '45.4 in', '44.2 in',\n",
       "       '25.9 in', '22.7 in', '28.3 in', '45.3 in', '22.1 in', '46.9 in',\n",
       "       '59.8 in', '17.1 in', '26.6 in', '23.4 in', '25 in', '23.8 in',\n",
       "       '27.7 in', '42.5 in', '18.9 in', '26.7 in', '26.5 in', '27.9 in',\n",
       "       '47.1 in', '47 in', '25.2 in', '45.1 in', '23.5 in', '26 in',\n",
       "       '25.7 in', '24.7 in', '53.1 in', '52.8 in'], dtype=object)"
      ]
     },
     "execution_count": 8,
     "metadata": {},
     "output_type": "execute_result"
    }
   ],
   "source": [
    "# Amount of null values as a percentage\n",
    "percentage = df['back_legroom'].isna().sum()/df.shape[0]*100\n",
    "print(f\"The amount of null values is {percentage.round(2)}%.\")\n",
    "\n",
    "# Unique values of the column\n",
    "df['back_legroom'].unique()"
   ]
  },
  {
   "cell_type": "code",
   "execution_count": 9,
   "id": "db8ec5c9-64be-4c3a-972f-00c52f90957d",
   "metadata": {
    "tags": []
   },
   "outputs": [
    {
     "data": {
      "text/plain": [
       "0          35.099998\n",
       "1          38.099998\n",
       "2          35.400002\n",
       "3          37.599998\n",
       "4          38.099998\n",
       "             ...    \n",
       "3000035    39.700001\n",
       "3000036    38.400002\n",
       "3000037    38.299999\n",
       "3000038    35.000000\n",
       "3000039    37.900002\n",
       "Name: back_legroom, Length: 3000000, dtype: float32"
      ]
     },
     "execution_count": 9,
     "metadata": {},
     "output_type": "execute_result"
    }
   ],
   "source": [
    "df['back_legroom'] = df['back_legroom'].str.split(' ').str[0]\n",
    "df['back_legroom'] = pd.to_numeric(df['back_legroom'], downcast='float', errors='coerce')\n",
    "\n",
    "df['back_legroom']"
   ]
  },
  {
   "cell_type": "code",
   "execution_count": 10,
   "id": "46ad8d73-cbaf-4161-9417-c0c0363fdde6",
   "metadata": {
    "tags": []
   },
   "outputs": [
    {
     "data": {
      "text/html": [
       "<div>\n",
       "<style scoped>\n",
       "    .dataframe tbody tr th:only-of-type {\n",
       "        vertical-align: middle;\n",
       "    }\n",
       "\n",
       "    .dataframe tbody tr th {\n",
       "        vertical-align: top;\n",
       "    }\n",
       "\n",
       "    .dataframe thead th {\n",
       "        text-align: right;\n",
       "    }\n",
       "</style>\n",
       "<table border=\"1\" class=\"dataframe\">\n",
       "  <thead>\n",
       "    <tr style=\"text-align: right;\">\n",
       "      <th></th>\n",
       "      <th>body_type</th>\n",
       "      <th>maximum_seating</th>\n",
       "      <th>count</th>\n",
       "    </tr>\n",
       "  </thead>\n",
       "  <tbody>\n",
       "    <tr>\n",
       "      <th>16</th>\n",
       "      <td>Pickup Truck</td>\n",
       "      <td>3 seats</td>\n",
       "      <td>19410</td>\n",
       "    </tr>\n",
       "    <tr>\n",
       "      <th>35</th>\n",
       "      <td>Van</td>\n",
       "      <td>2 seats</td>\n",
       "      <td>18186</td>\n",
       "    </tr>\n",
       "    <tr>\n",
       "      <th>1</th>\n",
       "      <td>Convertible</td>\n",
       "      <td>2 seats</td>\n",
       "      <td>9357</td>\n",
       "    </tr>\n",
       "    <tr>\n",
       "      <th>23</th>\n",
       "      <td>SUV / Crossover</td>\n",
       "      <td>5 seats</td>\n",
       "      <td>8480</td>\n",
       "    </tr>\n",
       "    <tr>\n",
       "      <th>36</th>\n",
       "      <td>Van</td>\n",
       "      <td>3 seats</td>\n",
       "      <td>8338</td>\n",
       "    </tr>\n",
       "    <tr>\n",
       "      <th>5</th>\n",
       "      <td>Coupe</td>\n",
       "      <td>2 seats</td>\n",
       "      <td>6828</td>\n",
       "    </tr>\n",
       "    <tr>\n",
       "      <th>38</th>\n",
       "      <td>Van</td>\n",
       "      <td>5 seats</td>\n",
       "      <td>4173</td>\n",
       "    </tr>\n",
       "    <tr>\n",
       "      <th>7</th>\n",
       "      <td>Coupe</td>\n",
       "      <td>4 seats</td>\n",
       "      <td>1949</td>\n",
       "    </tr>\n",
       "    <tr>\n",
       "      <th>2</th>\n",
       "      <td>Convertible</td>\n",
       "      <td>4 seats</td>\n",
       "      <td>1631</td>\n",
       "    </tr>\n",
       "    <tr>\n",
       "      <th>30</th>\n",
       "      <td>Sedan</td>\n",
       "      <td>5 seats</td>\n",
       "      <td>1556</td>\n",
       "    </tr>\n",
       "    <tr>\n",
       "      <th>29</th>\n",
       "      <td>Sedan</td>\n",
       "      <td>4 seats</td>\n",
       "      <td>1000</td>\n",
       "    </tr>\n",
       "    <tr>\n",
       "      <th>9</th>\n",
       "      <td>Hatchback</td>\n",
       "      <td>2 seats</td>\n",
       "      <td>494</td>\n",
       "    </tr>\n",
       "    <tr>\n",
       "      <th>8</th>\n",
       "      <td>Coupe</td>\n",
       "      <td>5 seats</td>\n",
       "      <td>406</td>\n",
       "    </tr>\n",
       "    <tr>\n",
       "      <th>34</th>\n",
       "      <td>Van</td>\n",
       "      <td>15 seats</td>\n",
       "      <td>296</td>\n",
       "    </tr>\n",
       "    <tr>\n",
       "      <th>33</th>\n",
       "      <td>Van</td>\n",
       "      <td>12 seats</td>\n",
       "      <td>224</td>\n",
       "    </tr>\n",
       "    <tr>\n",
       "      <th>20</th>\n",
       "      <td>SUV / Crossover</td>\n",
       "      <td>--</td>\n",
       "      <td>208</td>\n",
       "    </tr>\n",
       "    <tr>\n",
       "      <th>27</th>\n",
       "      <td>Sedan</td>\n",
       "      <td>--</td>\n",
       "      <td>175</td>\n",
       "    </tr>\n",
       "    <tr>\n",
       "      <th>15</th>\n",
       "      <td>Pickup Truck</td>\n",
       "      <td>2 seats</td>\n",
       "      <td>130</td>\n",
       "    </tr>\n",
       "    <tr>\n",
       "      <th>18</th>\n",
       "      <td>Pickup Truck</td>\n",
       "      <td>5 seats</td>\n",
       "      <td>91</td>\n",
       "    </tr>\n",
       "    <tr>\n",
       "      <th>17</th>\n",
       "      <td>Pickup Truck</td>\n",
       "      <td>4 seats</td>\n",
       "      <td>89</td>\n",
       "    </tr>\n",
       "    <tr>\n",
       "      <th>14</th>\n",
       "      <td>Pickup Truck</td>\n",
       "      <td>--</td>\n",
       "      <td>70</td>\n",
       "    </tr>\n",
       "    <tr>\n",
       "      <th>19</th>\n",
       "      <td>Pickup Truck</td>\n",
       "      <td>6 seats</td>\n",
       "      <td>60</td>\n",
       "    </tr>\n",
       "    <tr>\n",
       "      <th>10</th>\n",
       "      <td>Hatchback</td>\n",
       "      <td>4 seats</td>\n",
       "      <td>56</td>\n",
       "    </tr>\n",
       "    <tr>\n",
       "      <th>41</th>\n",
       "      <td>Van</td>\n",
       "      <td>8 seats</td>\n",
       "      <td>40</td>\n",
       "    </tr>\n",
       "    <tr>\n",
       "      <th>43</th>\n",
       "      <td>Wagon</td>\n",
       "      <td>2 seats</td>\n",
       "      <td>30</td>\n",
       "    </tr>\n",
       "    <tr>\n",
       "      <th>11</th>\n",
       "      <td>Hatchback</td>\n",
       "      <td>5 seats</td>\n",
       "      <td>26</td>\n",
       "    </tr>\n",
       "    <tr>\n",
       "      <th>13</th>\n",
       "      <td>Minivan</td>\n",
       "      <td>2 seats</td>\n",
       "      <td>23</td>\n",
       "    </tr>\n",
       "    <tr>\n",
       "      <th>22</th>\n",
       "      <td>SUV / Crossover</td>\n",
       "      <td>4 seats</td>\n",
       "      <td>21</td>\n",
       "    </tr>\n",
       "    <tr>\n",
       "      <th>44</th>\n",
       "      <td>Wagon</td>\n",
       "      <td>5 seats</td>\n",
       "      <td>19</td>\n",
       "    </tr>\n",
       "    <tr>\n",
       "      <th>24</th>\n",
       "      <td>SUV / Crossover</td>\n",
       "      <td>6 seats</td>\n",
       "      <td>16</td>\n",
       "    </tr>\n",
       "    <tr>\n",
       "      <th>12</th>\n",
       "      <td>Minivan</td>\n",
       "      <td>--</td>\n",
       "      <td>15</td>\n",
       "    </tr>\n",
       "    <tr>\n",
       "      <th>39</th>\n",
       "      <td>Van</td>\n",
       "      <td>6 seats</td>\n",
       "      <td>11</td>\n",
       "    </tr>\n",
       "    <tr>\n",
       "      <th>32</th>\n",
       "      <td>Van</td>\n",
       "      <td>10 seats</td>\n",
       "      <td>8</td>\n",
       "    </tr>\n",
       "    <tr>\n",
       "      <th>42</th>\n",
       "      <td>Wagon</td>\n",
       "      <td>--</td>\n",
       "      <td>8</td>\n",
       "    </tr>\n",
       "    <tr>\n",
       "      <th>26</th>\n",
       "      <td>SUV / Crossover</td>\n",
       "      <td>9 seats</td>\n",
       "      <td>7</td>\n",
       "    </tr>\n",
       "    <tr>\n",
       "      <th>4</th>\n",
       "      <td>Coupe</td>\n",
       "      <td>--</td>\n",
       "      <td>7</td>\n",
       "    </tr>\n",
       "    <tr>\n",
       "      <th>40</th>\n",
       "      <td>Van</td>\n",
       "      <td>7 seats</td>\n",
       "      <td>5</td>\n",
       "    </tr>\n",
       "    <tr>\n",
       "      <th>6</th>\n",
       "      <td>Coupe</td>\n",
       "      <td>3 seats</td>\n",
       "      <td>3</td>\n",
       "    </tr>\n",
       "    <tr>\n",
       "      <th>25</th>\n",
       "      <td>SUV / Crossover</td>\n",
       "      <td>7 seats</td>\n",
       "      <td>2</td>\n",
       "    </tr>\n",
       "    <tr>\n",
       "      <th>21</th>\n",
       "      <td>SUV / Crossover</td>\n",
       "      <td>2 seats</td>\n",
       "      <td>2</td>\n",
       "    </tr>\n",
       "    <tr>\n",
       "      <th>3</th>\n",
       "      <td>Convertible</td>\n",
       "      <td>5 seats</td>\n",
       "      <td>2</td>\n",
       "    </tr>\n",
       "    <tr>\n",
       "      <th>0</th>\n",
       "      <td>Convertible</td>\n",
       "      <td>--</td>\n",
       "      <td>2</td>\n",
       "    </tr>\n",
       "    <tr>\n",
       "      <th>28</th>\n",
       "      <td>Sedan</td>\n",
       "      <td>3 seats</td>\n",
       "      <td>1</td>\n",
       "    </tr>\n",
       "    <tr>\n",
       "      <th>31</th>\n",
       "      <td>Van</td>\n",
       "      <td>--</td>\n",
       "      <td>1</td>\n",
       "    </tr>\n",
       "    <tr>\n",
       "      <th>37</th>\n",
       "      <td>Van</td>\n",
       "      <td>4 seats</td>\n",
       "      <td>1</td>\n",
       "    </tr>\n",
       "  </tbody>\n",
       "</table>\n",
       "</div>"
      ],
      "text/plain": [
       "          body_type maximum_seating  count\n",
       "16     Pickup Truck         3 seats  19410\n",
       "35              Van         2 seats  18186\n",
       "1       Convertible         2 seats   9357\n",
       "23  SUV / Crossover         5 seats   8480\n",
       "36              Van         3 seats   8338\n",
       "5             Coupe         2 seats   6828\n",
       "38              Van         5 seats   4173\n",
       "7             Coupe         4 seats   1949\n",
       "2       Convertible         4 seats   1631\n",
       "30            Sedan         5 seats   1556\n",
       "29            Sedan         4 seats   1000\n",
       "9         Hatchback         2 seats    494\n",
       "8             Coupe         5 seats    406\n",
       "34              Van        15 seats    296\n",
       "33              Van        12 seats    224\n",
       "20  SUV / Crossover              --    208\n",
       "27            Sedan              --    175\n",
       "15     Pickup Truck         2 seats    130\n",
       "18     Pickup Truck         5 seats     91\n",
       "17     Pickup Truck         4 seats     89\n",
       "14     Pickup Truck              --     70\n",
       "19     Pickup Truck         6 seats     60\n",
       "10        Hatchback         4 seats     56\n",
       "41              Van         8 seats     40\n",
       "43            Wagon         2 seats     30\n",
       "11        Hatchback         5 seats     26\n",
       "13          Minivan         2 seats     23\n",
       "22  SUV / Crossover         4 seats     21\n",
       "44            Wagon         5 seats     19\n",
       "24  SUV / Crossover         6 seats     16\n",
       "12          Minivan              --     15\n",
       "39              Van         6 seats     11\n",
       "32              Van        10 seats      8\n",
       "42            Wagon              --      8\n",
       "26  SUV / Crossover         9 seats      7\n",
       "4             Coupe              --      7\n",
       "40              Van         7 seats      5\n",
       "6             Coupe         3 seats      3\n",
       "25  SUV / Crossover         7 seats      2\n",
       "21  SUV / Crossover         2 seats      2\n",
       "3       Convertible         5 seats      2\n",
       "0       Convertible              --      2\n",
       "28            Sedan         3 seats      1\n",
       "31              Van              --      1\n",
       "37              Van         4 seats      1"
      ]
     },
     "execution_count": 10,
     "metadata": {},
     "output_type": "execute_result"
    }
   ],
   "source": [
    "nan_df = df[df['back_legroom'].isna()]\n",
    "\n",
    "result = nan_df.groupby(['body_type', 'maximum_seating']).size().reset_index(name='count').sort_values(by=['count'], ascending=False)\n",
    "result"
   ]
  },
  {
   "cell_type": "code",
   "execution_count": 11,
   "id": "ea845736-f03e-4b94-894b-a922203643ad",
   "metadata": {
    "tags": []
   },
   "outputs": [
    {
     "name": "stdout",
     "output_type": "stream",
     "text": [
      "The amount of null values in the back_legroom column is 0.0%.\n"
     ]
    }
   ],
   "source": [
    "# Replace NaN values in 'back_legroom' based on the specified logic\n",
    "df['back_legroom'] = df.apply(lambda row: 0 if row['maximum_seating'] in ['2 seats', '3 seats'] or row['body_type'] == 'Pickup Truck' else row['back_legroom'], axis=1)\n",
    "\n",
    "# Fill NaN values in 'back_legroom' with mean\n",
    "df['back_legroom'].fillna(df['back_legroom'].mean(), inplace=True)\n",
    "\n",
    "# Verify the changes\n",
    "percentage = df['back_legroom'].isna().sum()/df.shape[0]*100\n",
    "print(f\"The amount of null values in the back_legroom column is {percentage.round(2)}%.\")"
   ]
  },
  {
   "cell_type": "markdown",
   "id": "1a71b7d8-d06c-4ca0-b187-c908f34dd9d3",
   "metadata": {
    "tags": []
   },
   "source": [
    "### front_legroom\n",
    "\n",
    "The amount of null values in the front_legroom column are 5.31%."
   ]
  },
  {
   "cell_type": "code",
   "execution_count": 12,
   "id": "4c170021-7fd8-470a-b123-6f27b583e430",
   "metadata": {
    "tags": []
   },
   "outputs": [
    {
     "data": {
      "text/plain": [
       "array(['41.2 in', '39.1 in', '43.3 in', '39 in', '40.2 in', '42.3 in',\n",
       "       '40 in', '42.7 in', '42 in', '41.7 in', '41 in', '42.2 in',\n",
       "       '45.4 in', '41.3 in', '40.3 in', '40.6 in', nan, '42.6 in',\n",
       "       '40.4 in', '42.4 in', '39.5 in', '40.9 in', '41.8 in', '45.3 in',\n",
       "       '42.5 in', '44.1 in', '--', '45.5 in', '42.9 in', '43.9 in',\n",
       "       '41.5 in', '41.1 in', '43 in', '40.8 in', '45 in', '40.1 in',\n",
       "       '44.5 in', '38.9 in', '45.8 in', '67 in', '41.4 in', '40.7 in',\n",
       "       '40.5 in', '42.8 in', '44.8 in', '43.6 in', '41.9 in', '43.7 in',\n",
       "       '43.8 in', '42.1 in', '52.5 in', '43.1 in', '39.9 in', '41.6 in',\n",
       "       '45.7 in', '43.5 in', '44.4 in', '44.3 in', '43.2 in', '38.8 in',\n",
       "       '46.1 in', '39.8 in', '44.6 in', '44.2 in', '45.1 in', '37.7 in',\n",
       "       '46.4 in', '35.8 in', '39.6 in', '46.9 in', '39.4 in', '44.7 in',\n",
       "       '46.3 in', '43.4 in', '38.7 in', '39.3 in', '44 in', '36.6 in',\n",
       "       '38 in', '39.2 in', '53.6 in', '38.6 in', '46 in', '46.5 in',\n",
       "       '0 in', '45.9 in', '33.5 in', '38.5 in', '37.8 in', '38.1 in',\n",
       "       '33 in', '29 in', '37.9 in', '54.4 in', '38.4 in', '37 in',\n",
       "       '49.2 in', '47.3 in', '38.2 in', '38.3 in', '36 in', '61.4 in'],\n",
       "      dtype=object)"
      ]
     },
     "execution_count": 12,
     "metadata": {},
     "output_type": "execute_result"
    }
   ],
   "source": [
    "# checking the unique values in the column\n",
    "df['front_legroom'].unique()"
   ]
  },
  {
   "cell_type": "code",
   "execution_count": 13,
   "id": "593d60fb-f5b5-4e87-8c40-e154ba8a4aac",
   "metadata": {
    "tags": []
   },
   "outputs": [
    {
     "name": "stdout",
     "output_type": "stream",
     "text": [
      "42.202694\n"
     ]
    }
   ],
   "source": [
    "df['front_legroom'] = df['front_legroom'].str.split(' ').str[0]\n",
    "df['front_legroom'] = pd.to_numeric(df['front_legroom'], downcast='float', errors='coerce')\n",
    "\n",
    "print(df['front_legroom'].mean())"
   ]
  },
  {
   "cell_type": "code",
   "execution_count": 14,
   "id": "09f67a51-1e27-4e6b-a268-220366eb2d19",
   "metadata": {
    "tags": []
   },
   "outputs": [
    {
     "data": {
      "image/png": "[encoded data removed]",
      "text/plain": [
       "<Figure size 800x500 with 1 Axes>"
      ]
     },
     "metadata": {},
     "output_type": "display_data"
    }
   ],
   "source": [
    "import matplotlib.pyplot as plt\n",
    "\n",
    "# plotting the distribution of the column\n",
    "plt.figure(figsize=(8,5))\n",
    "plt.hist(df['front_legroom'], bins=10)\n",
    "plt.title(\"Front Legroom\")\n",
    "# Add the mode\n",
    "plt.axvline(df['front_legroom'].mode()[0], color='r', linestyle='dashed', linewidth=2, label='Mode')\n",
    "# Add the median\n",
    "plt.axvline(df['front_legroom'].median(), color='goldenrod', label='median')\n",
    "# Add the mean\n",
    "plt.axvline(df['front_legroom'].mean(), color='darkgreen', label='mean')\n",
    "plt.legend()\n",
    "plt.xlabel('Front Legroom')\n",
    "plt.ylabel('Frequency')\n",
    "plt.show()"
   ]
  },
  {
   "cell_type": "markdown",
   "id": "0b136aad-869b-4f2e-9649-1aa94dca271b",
   "metadata": {},
   "source": [
    "The graph shows that front_legroom is usually between 40-45, so we can fill in the missing values with the mean."
   ]
  },
  {
   "cell_type": "code",
   "execution_count": 15,
   "id": "fcb9f880-3736-4d3e-90d4-02bc86f112b7",
   "metadata": {
    "tags": []
   },
   "outputs": [
    {
     "name": "stdout",
     "output_type": "stream",
     "text": [
      "The amount of null values in the front_legroom column are 0.0%.\n"
     ]
    }
   ],
   "source": [
    "# filling the null values with the mean of the column\n",
    "df['front_legroom'].fillna(df['front_legroom'].mean(), inplace=True)\n",
    "\n",
    "# checking the result\n",
    "result = df['front_legroom'].isna().sum()/df.shape[0]*100\n",
    "\n",
    "print(f\"The amount of null values in the front_legroom column are {result.round(2)}%.\")"
   ]
  },
  {
   "cell_type": "markdown",
   "id": "a5b4ee43-f333-4380-870c-d7160e3b6227",
   "metadata": {
    "jp-MarkdownHeadingCollapsed": true,
    "tags": []
   },
   "source": [
    "### body_type\n",
    "\n",
    "The amount of null values in the body_type column are 0.45%"
   ]
  },
  {
   "cell_type": "code",
   "execution_count": 16,
   "id": "2aa6b893-9922-44a2-84b4-8683483510a9",
   "metadata": {
    "tags": []
   },
   "outputs": [
    {
     "data": {
      "text/html": [
       "<div>\n",
       "<style scoped>\n",
       "    .dataframe tbody tr th:only-of-type {\n",
       "        vertical-align: middle;\n",
       "    }\n",
       "\n",
       "    .dataframe tbody tr th {\n",
       "        vertical-align: top;\n",
       "    }\n",
       "\n",
       "    .dataframe thead th {\n",
       "        text-align: right;\n",
       "    }\n",
       "</style>\n",
       "<table border=\"1\" class=\"dataframe\">\n",
       "  <thead>\n",
       "    <tr style=\"text-align: right;\">\n",
       "      <th></th>\n",
       "      <th>body_type</th>\n",
       "      <th>make_name</th>\n",
       "      <th>model_name</th>\n",
       "    </tr>\n",
       "  </thead>\n",
       "  <tbody>\n",
       "    <tr>\n",
       "      <th>533112</th>\n",
       "      <td>NaN</td>\n",
       "      <td>Kia</td>\n",
       "      <td>K5</td>\n",
       "    </tr>\n",
       "    <tr>\n",
       "      <th>369374</th>\n",
       "      <td>NaN</td>\n",
       "      <td>Kia</td>\n",
       "      <td>K5</td>\n",
       "    </tr>\n",
       "    <tr>\n",
       "      <th>1990577</th>\n",
       "      <td>NaN</td>\n",
       "      <td>Subaru</td>\n",
       "      <td>Ascent</td>\n",
       "    </tr>\n",
       "    <tr>\n",
       "      <th>2377756</th>\n",
       "      <td>NaN</td>\n",
       "      <td>Hyundai</td>\n",
       "      <td>Palisade</td>\n",
       "    </tr>\n",
       "    <tr>\n",
       "      <th>545910</th>\n",
       "      <td>NaN</td>\n",
       "      <td>Mazda</td>\n",
       "      <td>CX-30</td>\n",
       "    </tr>\n",
       "    <tr>\n",
       "      <th>2301334</th>\n",
       "      <td>NaN</td>\n",
       "      <td>Kia</td>\n",
       "      <td>K5</td>\n",
       "    </tr>\n",
       "    <tr>\n",
       "      <th>118317</th>\n",
       "      <td>NaN</td>\n",
       "      <td>Kia</td>\n",
       "      <td>K5</td>\n",
       "    </tr>\n",
       "    <tr>\n",
       "      <th>2707164</th>\n",
       "      <td>NaN</td>\n",
       "      <td>Mazda</td>\n",
       "      <td>CX-30</td>\n",
       "    </tr>\n",
       "    <tr>\n",
       "      <th>2812293</th>\n",
       "      <td>NaN</td>\n",
       "      <td>Alfa Romeo</td>\n",
       "      <td>Stelvio</td>\n",
       "    </tr>\n",
       "    <tr>\n",
       "      <th>798257</th>\n",
       "      <td>NaN</td>\n",
       "      <td>Kia</td>\n",
       "      <td>K5</td>\n",
       "    </tr>\n",
       "  </tbody>\n",
       "</table>\n",
       "</div>"
      ],
      "text/plain": [
       "        body_type   make_name model_name\n",
       "533112        NaN         Kia         K5\n",
       "369374        NaN         Kia         K5\n",
       "1990577       NaN      Subaru     Ascent\n",
       "2377756       NaN     Hyundai   Palisade\n",
       "545910        NaN       Mazda      CX-30\n",
       "2301334       NaN         Kia         K5\n",
       "118317        NaN         Kia         K5\n",
       "2707164       NaN       Mazda      CX-30\n",
       "2812293       NaN  Alfa Romeo    Stelvio\n",
       "798257        NaN         Kia         K5"
      ]
     },
     "execution_count": 16,
     "metadata": {},
     "output_type": "execute_result"
    }
   ],
   "source": [
    "#checking the rows of the null values in the body_type column\n",
    "df_bd = df[['body_type', 'make_name', 'model_name']][df['body_type'].isna()]\n",
    "df_bd.sample(10)"
   ]
  },
  {
   "cell_type": "code",
   "execution_count": 17,
   "id": "6f600b9c-29d4-441f-b065-4e925fe59cd4",
   "metadata": {
    "tags": []
   },
   "outputs": [
    {
     "data": {
      "text/plain": [
       "SUV / Crossover    47.212867\n",
       "Sedan              24.734200\n",
       "Pickup Truck       15.819567\n",
       "Hatchback           2.945767\n",
       "Minivan             2.660067\n",
       "Coupe               2.386833\n",
       "Van                 1.572200\n",
       "Wagon               1.350100\n",
       "Convertible         0.867000\n",
       "Name: body_type, dtype: float64"
      ]
     },
     "execution_count": 17,
     "metadata": {},
     "output_type": "execute_result"
    }
   ],
   "source": [
    "# checking the body_type column for the most common body type\n",
    "df['body_type'].value_counts()/df['body_type'].shape*100"
   ]
  },
  {
   "cell_type": "markdown",
   "id": "90db8848-504d-4bfe-b41b-787b0959f66d",
   "metadata": {},
   "source": [
    "Based on this sample and the most common body types, we can conclude that the nan values of 'body_type' are mostly SUV / Crossover types. In this case, the missing values are filled in with the most common car type."
   ]
  },
  {
   "cell_type": "code",
   "execution_count": 18,
   "id": "fd4d9170-9a26-4f04-99ff-38325da86f1f",
   "metadata": {
    "tags": []
   },
   "outputs": [
    {
     "name": "stdout",
     "output_type": "stream",
     "text": [
      "The amount of null values in the body_type column are 0.0%\n"
     ]
    }
   ],
   "source": [
    "df['body_type'].replace(np.nan, 'SUV / Crossover', inplace=True)\n",
    "\n",
    "# checking for nulls\n",
    "result = df['body_type'].isna().sum()/df.shape[0]*100\n",
    "\n",
    "print(f\"The amount of null values in the body_type column are {result.round(2)}%\")"
   ]
  },
  {
   "cell_type": "markdown",
   "id": "b70632b4-2ae8-4e97-bc7f-a9b6fa080db5",
   "metadata": {
    "jp-MarkdownHeadingCollapsed": true,
    "tags": []
   },
   "source": [
    "### engine_cylinders\n",
    "\n",
    "The amount of null values in the engine_cylinders column are 3.35%."
   ]
  },
  {
   "cell_type": "code",
   "execution_count": 19,
   "id": "740eb2fb-a88e-4965-9daa-a5e435e624d5",
   "metadata": {
    "tags": []
   },
   "outputs": [
    {
     "data": {
      "text/html": [
       "<div>\n",
       "<style scoped>\n",
       "    .dataframe tbody tr th:only-of-type {\n",
       "        vertical-align: middle;\n",
       "    }\n",
       "\n",
       "    .dataframe tbody tr th {\n",
       "        vertical-align: top;\n",
       "    }\n",
       "\n",
       "    .dataframe thead th {\n",
       "        text-align: right;\n",
       "    }\n",
       "</style>\n",
       "<table border=\"1\" class=\"dataframe\">\n",
       "  <thead>\n",
       "    <tr style=\"text-align: right;\">\n",
       "      <th></th>\n",
       "      <th>engine_cylinders</th>\n",
       "    </tr>\n",
       "  </thead>\n",
       "  <tbody>\n",
       "    <tr>\n",
       "      <th>I4</th>\n",
       "      <td>47.275767</td>\n",
       "    </tr>\n",
       "    <tr>\n",
       "      <th>V6</th>\n",
       "      <td>24.568400</td>\n",
       "    </tr>\n",
       "    <tr>\n",
       "      <th>V8</th>\n",
       "      <td>9.331233</td>\n",
       "    </tr>\n",
       "    <tr>\n",
       "      <th>V8 Flex Fuel Vehicle</th>\n",
       "      <td>2.612400</td>\n",
       "    </tr>\n",
       "    <tr>\n",
       "      <th>I4 Hybrid</th>\n",
       "      <td>2.423700</td>\n",
       "    </tr>\n",
       "  </tbody>\n",
       "</table>\n",
       "</div>"
      ],
      "text/plain": [
       "                      engine_cylinders\n",
       "I4                           47.275767\n",
       "V6                           24.568400\n",
       "V8                            9.331233\n",
       "V8 Flex Fuel Vehicle          2.612400\n",
       "I4 Hybrid                     2.423700"
      ]
     },
     "execution_count": 19,
     "metadata": {},
     "output_type": "execute_result"
    }
   ],
   "source": [
    "# checking the value counts of the column.\n",
    "pd.DataFrame(df['engine_cylinders'].value_counts()/df.shape[0]*100).head()"
   ]
  },
  {
   "cell_type": "markdown",
   "id": "3ed9fb4a-1526-4620-bec0-fd60f655cc5a",
   "metadata": {},
   "source": [
    "This category seems to have information from columnns fuel_type and engine_type, so we can make a decision to drop this column."
   ]
  },
  {
   "cell_type": "code",
   "execution_count": 20,
   "id": "b5051cb4-d016-43da-9fac-86250774e79e",
   "metadata": {
    "tags": []
   },
   "outputs": [],
   "source": [
    "df = df.drop(['engine_cylinders'], axis=1)"
   ]
  },
  {
   "cell_type": "markdown",
   "id": "aeb1ca37-2ca6-41e7-a49f-42231ea4f572",
   "metadata": {
    "jp-MarkdownHeadingCollapsed": true,
    "tags": []
   },
   "source": [
    "### engine_displacement\n",
    "\n",
    "This measurement pertains to the engine's capacity, indicating the total volume within the engine. Several variables influence engine displacement, such as the cylinder count, cylinder size, and piston stroke. However, as this information is more effectively conveyed in the horsepower column, we can omit this particular column."
   ]
  },
  {
   "cell_type": "code",
   "execution_count": 21,
   "id": "a1e0b7d4-2aee-4a74-8a10-03083e0eb129",
   "metadata": {
    "tags": []
   },
   "outputs": [
    {
     "data": {
      "text/html": [
       "<div>\n",
       "<style scoped>\n",
       "    .dataframe tbody tr th:only-of-type {\n",
       "        vertical-align: middle;\n",
       "    }\n",
       "\n",
       "    .dataframe tbody tr th {\n",
       "        vertical-align: top;\n",
       "    }\n",
       "\n",
       "    .dataframe thead th {\n",
       "        text-align: right;\n",
       "    }\n",
       "</style>\n",
       "<table border=\"1\" class=\"dataframe\">\n",
       "  <thead>\n",
       "    <tr style=\"text-align: right;\">\n",
       "      <th></th>\n",
       "      <th>back_legroom</th>\n",
       "      <th>body_type</th>\n",
       "      <th>city_fuel_economy</th>\n",
       "      <th>daysonmarket</th>\n",
       "      <th>engine_type</th>\n",
       "      <th>exterior_color</th>\n",
       "      <th>fleet</th>\n",
       "      <th>frame_damaged</th>\n",
       "      <th>front_legroom</th>\n",
       "      <th>fuel_tank_volume</th>\n",
       "      <th>...</th>\n",
       "      <th>theft_title</th>\n",
       "      <th>torque</th>\n",
       "      <th>transmission</th>\n",
       "      <th>transmission_display</th>\n",
       "      <th>wheel_system</th>\n",
       "      <th>wheelbase</th>\n",
       "      <th>width</th>\n",
       "      <th>year</th>\n",
       "      <th>has_picture</th>\n",
       "      <th>has_description</th>\n",
       "    </tr>\n",
       "  </thead>\n",
       "  <tbody>\n",
       "    <tr>\n",
       "      <th>0</th>\n",
       "      <td>35.099998</td>\n",
       "      <td>SUV / Crossover</td>\n",
       "      <td>NaN</td>\n",
       "      <td>522</td>\n",
       "      <td>I4</td>\n",
       "      <td>Solar Yellow</td>\n",
       "      <td>NaN</td>\n",
       "      <td>NaN</td>\n",
       "      <td>41.200001</td>\n",
       "      <td>12.7 gal</td>\n",
       "      <td>...</td>\n",
       "      <td>NaN</td>\n",
       "      <td>200 lb-ft @ 1,750 RPM</td>\n",
       "      <td>A</td>\n",
       "      <td>9-Speed Automatic Overdrive</td>\n",
       "      <td>FWD</td>\n",
       "      <td>101.2 in</td>\n",
       "      <td>79.6 in</td>\n",
       "      <td>2019</td>\n",
       "      <td>True</td>\n",
       "      <td>True</td>\n",
       "    </tr>\n",
       "    <tr>\n",
       "      <th>1</th>\n",
       "      <td>38.099998</td>\n",
       "      <td>SUV / Crossover</td>\n",
       "      <td>NaN</td>\n",
       "      <td>207</td>\n",
       "      <td>I4</td>\n",
       "      <td>Narvik Black</td>\n",
       "      <td>NaN</td>\n",
       "      <td>NaN</td>\n",
       "      <td>39.099998</td>\n",
       "      <td>17.7 gal</td>\n",
       "      <td>...</td>\n",
       "      <td>NaN</td>\n",
       "      <td>269 lb-ft @ 1,400 RPM</td>\n",
       "      <td>A</td>\n",
       "      <td>9-Speed Automatic Overdrive</td>\n",
       "      <td>AWD</td>\n",
       "      <td>107.9 in</td>\n",
       "      <td>85.6 in</td>\n",
       "      <td>2020</td>\n",
       "      <td>True</td>\n",
       "      <td>True</td>\n",
       "    </tr>\n",
       "    <tr>\n",
       "      <th>2</th>\n",
       "      <td>35.400002</td>\n",
       "      <td>Sedan</td>\n",
       "      <td>17.0</td>\n",
       "      <td>1233</td>\n",
       "      <td>H4</td>\n",
       "      <td>None</td>\n",
       "      <td>False</td>\n",
       "      <td>False</td>\n",
       "      <td>43.299999</td>\n",
       "      <td>15.9 gal</td>\n",
       "      <td>...</td>\n",
       "      <td>False</td>\n",
       "      <td>290 lb-ft @ 4,000 RPM</td>\n",
       "      <td>M</td>\n",
       "      <td>6-Speed Manual</td>\n",
       "      <td>AWD</td>\n",
       "      <td>104.3 in</td>\n",
       "      <td>78.9 in</td>\n",
       "      <td>2016</td>\n",
       "      <td>False</td>\n",
       "      <td>False</td>\n",
       "    </tr>\n",
       "    <tr>\n",
       "      <th>3</th>\n",
       "      <td>37.599998</td>\n",
       "      <td>SUV / Crossover</td>\n",
       "      <td>NaN</td>\n",
       "      <td>196</td>\n",
       "      <td>V6</td>\n",
       "      <td>Eiger Gray</td>\n",
       "      <td>NaN</td>\n",
       "      <td>NaN</td>\n",
       "      <td>39.000000</td>\n",
       "      <td>23.5 gal</td>\n",
       "      <td>...</td>\n",
       "      <td>NaN</td>\n",
       "      <td>332 lb-ft @ 3,500 RPM</td>\n",
       "      <td>A</td>\n",
       "      <td>8-Speed Automatic Overdrive</td>\n",
       "      <td>AWD</td>\n",
       "      <td>115 in</td>\n",
       "      <td>87.4 in</td>\n",
       "      <td>2020</td>\n",
       "      <td>True</td>\n",
       "      <td>True</td>\n",
       "    </tr>\n",
       "    <tr>\n",
       "      <th>4</th>\n",
       "      <td>38.099998</td>\n",
       "      <td>SUV / Crossover</td>\n",
       "      <td>NaN</td>\n",
       "      <td>137</td>\n",
       "      <td>I4</td>\n",
       "      <td>Narvik Black</td>\n",
       "      <td>NaN</td>\n",
       "      <td>NaN</td>\n",
       "      <td>39.099998</td>\n",
       "      <td>17.7 gal</td>\n",
       "      <td>...</td>\n",
       "      <td>NaN</td>\n",
       "      <td>269 lb-ft @ 1,400 RPM</td>\n",
       "      <td>A</td>\n",
       "      <td>9-Speed Automatic Overdrive</td>\n",
       "      <td>AWD</td>\n",
       "      <td>107.9 in</td>\n",
       "      <td>85.6 in</td>\n",
       "      <td>2020</td>\n",
       "      <td>True</td>\n",
       "      <td>True</td>\n",
       "    </tr>\n",
       "  </tbody>\n",
       "</table>\n",
       "<p>5 rows × 39 columns</p>\n",
       "</div>"
      ],
      "text/plain": [
       "   back_legroom        body_type  city_fuel_economy  daysonmarket engine_type  \\\n",
       "0     35.099998  SUV / Crossover                NaN           522          I4   \n",
       "1     38.099998  SUV / Crossover                NaN           207          I4   \n",
       "2     35.400002            Sedan               17.0          1233          H4   \n",
       "3     37.599998  SUV / Crossover                NaN           196          V6   \n",
       "4     38.099998  SUV / Crossover                NaN           137          I4   \n",
       "\n",
       "  exterior_color  fleet frame_damaged  front_legroom fuel_tank_volume  ...  \\\n",
       "0   Solar Yellow    NaN           NaN      41.200001         12.7 gal  ...   \n",
       "1   Narvik Black    NaN           NaN      39.099998         17.7 gal  ...   \n",
       "2           None  False         False      43.299999         15.9 gal  ...   \n",
       "3     Eiger Gray    NaN           NaN      39.000000         23.5 gal  ...   \n",
       "4   Narvik Black    NaN           NaN      39.099998         17.7 gal  ...   \n",
       "\n",
       "  theft_title                 torque transmission  \\\n",
       "0         NaN  200 lb-ft @ 1,750 RPM            A   \n",
       "1         NaN  269 lb-ft @ 1,400 RPM            A   \n",
       "2       False  290 lb-ft @ 4,000 RPM            M   \n",
       "3         NaN  332 lb-ft @ 3,500 RPM            A   \n",
       "4         NaN  269 lb-ft @ 1,400 RPM            A   \n",
       "\n",
       "          transmission_display  wheel_system wheelbase    width  year  \\\n",
       "0  9-Speed Automatic Overdrive           FWD  101.2 in  79.6 in  2019   \n",
       "1  9-Speed Automatic Overdrive           AWD  107.9 in  85.6 in  2020   \n",
       "2               6-Speed Manual           AWD  104.3 in  78.9 in  2016   \n",
       "3  8-Speed Automatic Overdrive           AWD    115 in  87.4 in  2020   \n",
       "4  9-Speed Automatic Overdrive           AWD  107.9 in  85.6 in  2020   \n",
       "\n",
       "  has_picture has_description  \n",
       "0        True            True  \n",
       "1        True            True  \n",
       "2       False           False  \n",
       "3        True            True  \n",
       "4        True            True  \n",
       "\n",
       "[5 rows x 39 columns]"
      ]
     },
     "execution_count": 21,
     "metadata": {},
     "output_type": "execute_result"
    }
   ],
   "source": [
    "df = df.drop(['engine_displacement'], axis=1)\n",
    "df.head()"
   ]
  },
  {
   "cell_type": "markdown",
   "id": "568467ce-ae24-4985-9ba0-43e054245900",
   "metadata": {
    "jp-MarkdownHeadingCollapsed": true,
    "tags": []
   },
   "source": [
    "### fuel_type & fuel_tank_volume\n",
    "\n",
    "The amount of null values in the fuel_type column are 2.76%.\n",
    "\n",
    "The amount of null values in the fuel_tank_volume column are 5.31 %."
   ]
  },
  {
   "cell_type": "code",
   "execution_count": 22,
   "id": "1ba16ffe-5b6f-4af2-a993-2b102d470c18",
   "metadata": {
    "tags": []
   },
   "outputs": [
    {
     "data": {
      "text/plain": [
       "Gasoline                  86.613367\n",
       "Flex Fuel Vehicle          5.199700\n",
       "Hybrid                     2.533700\n",
       "Diesel                     1.481733\n",
       "Biodiesel                  0.861800\n",
       "Electric                   0.547167\n",
       "Compressed Natural Gas     0.004867\n",
       "Propane                    0.000200\n",
       "Name: fuel_type, dtype: float64"
      ]
     },
     "execution_count": 22,
     "metadata": {},
     "output_type": "execute_result"
    }
   ],
   "source": [
    "# checking the value counts of the column.\n",
    "df['fuel_type'].value_counts()/df.shape[0]*100"
   ]
  },
  {
   "cell_type": "code",
   "execution_count": 23,
   "id": "10c3778f-7e6a-49ca-8570-f8d57f5d8f7c",
   "metadata": {
    "tags": []
   },
   "outputs": [
    {
     "data": {
      "text/html": [
       "<div>\n",
       "<style scoped>\n",
       "    .dataframe tbody tr th:only-of-type {\n",
       "        vertical-align: middle;\n",
       "    }\n",
       "\n",
       "    .dataframe tbody tr th {\n",
       "        vertical-align: top;\n",
       "    }\n",
       "\n",
       "    .dataframe thead th {\n",
       "        text-align: right;\n",
       "    }\n",
       "</style>\n",
       "<table border=\"1\" class=\"dataframe\">\n",
       "  <thead>\n",
       "    <tr style=\"text-align: right;\">\n",
       "      <th></th>\n",
       "      <th>fuel_type</th>\n",
       "      <th>fuel_tank_volume</th>\n",
       "      <th>engine_type</th>\n",
       "      <th>make_name</th>\n",
       "      <th>model_name</th>\n",
       "    </tr>\n",
       "  </thead>\n",
       "  <tbody>\n",
       "    <tr>\n",
       "      <th>42</th>\n",
       "      <td>NaN</td>\n",
       "      <td>12.7 gal</td>\n",
       "      <td>NaN</td>\n",
       "      <td>Jeep</td>\n",
       "      <td>Renegade</td>\n",
       "    </tr>\n",
       "    <tr>\n",
       "      <th>50</th>\n",
       "      <td>NaN</td>\n",
       "      <td>NaN</td>\n",
       "      <td>NaN</td>\n",
       "      <td>Subaru</td>\n",
       "      <td>Impreza</td>\n",
       "    </tr>\n",
       "    <tr>\n",
       "      <th>61</th>\n",
       "      <td>NaN</td>\n",
       "      <td>16.9 gal</td>\n",
       "      <td>NaN</td>\n",
       "      <td>Chrysler</td>\n",
       "      <td>200</td>\n",
       "    </tr>\n",
       "    <tr>\n",
       "      <th>112</th>\n",
       "      <td>NaN</td>\n",
       "      <td>24.6 gal</td>\n",
       "      <td>NaN</td>\n",
       "      <td>Jeep</td>\n",
       "      <td>Grand Cherokee</td>\n",
       "    </tr>\n",
       "    <tr>\n",
       "      <th>217</th>\n",
       "      <td>NaN</td>\n",
       "      <td>26 gal</td>\n",
       "      <td>NaN</td>\n",
       "      <td>RAM</td>\n",
       "      <td>1500</td>\n",
       "    </tr>\n",
       "    <tr>\n",
       "      <th>...</th>\n",
       "      <td>...</td>\n",
       "      <td>...</td>\n",
       "      <td>...</td>\n",
       "      <td>...</td>\n",
       "      <td>...</td>\n",
       "    </tr>\n",
       "    <tr>\n",
       "      <th>2999491</th>\n",
       "      <td>NaN</td>\n",
       "      <td>48 gal</td>\n",
       "      <td>NaN</td>\n",
       "      <td>Ford</td>\n",
       "      <td>F-350 Super Duty</td>\n",
       "    </tr>\n",
       "    <tr>\n",
       "      <th>2999523</th>\n",
       "      <td>NaN</td>\n",
       "      <td>34 gal</td>\n",
       "      <td>NaN</td>\n",
       "      <td>Ford</td>\n",
       "      <td>F-250 Super Duty</td>\n",
       "    </tr>\n",
       "    <tr>\n",
       "      <th>2999603</th>\n",
       "      <td>NaN</td>\n",
       "      <td>48 gal</td>\n",
       "      <td>NaN</td>\n",
       "      <td>Ford</td>\n",
       "      <td>F-250 Super Duty</td>\n",
       "    </tr>\n",
       "    <tr>\n",
       "      <th>2999787</th>\n",
       "      <td>NaN</td>\n",
       "      <td>13.2 gal</td>\n",
       "      <td>NaN</td>\n",
       "      <td>Nissan</td>\n",
       "      <td>Sentra</td>\n",
       "    </tr>\n",
       "    <tr>\n",
       "      <th>3000037</th>\n",
       "      <td>NaN</td>\n",
       "      <td>16.5 gal</td>\n",
       "      <td>NaN</td>\n",
       "      <td>Ford</td>\n",
       "      <td>Fusion</td>\n",
       "    </tr>\n",
       "  </tbody>\n",
       "</table>\n",
       "<p>82724 rows × 5 columns</p>\n",
       "</div>"
      ],
      "text/plain": [
       "        fuel_type fuel_tank_volume engine_type make_name        model_name\n",
       "42            NaN         12.7 gal         NaN      Jeep          Renegade\n",
       "50            NaN              NaN         NaN    Subaru           Impreza\n",
       "61            NaN         16.9 gal         NaN  Chrysler               200\n",
       "112           NaN         24.6 gal         NaN      Jeep    Grand Cherokee\n",
       "217           NaN           26 gal         NaN       RAM              1500\n",
       "...           ...              ...         ...       ...               ...\n",
       "2999491       NaN           48 gal         NaN      Ford  F-350 Super Duty\n",
       "2999523       NaN           34 gal         NaN      Ford  F-250 Super Duty\n",
       "2999603       NaN           48 gal         NaN      Ford  F-250 Super Duty\n",
       "2999787       NaN         13.2 gal         NaN    Nissan            Sentra\n",
       "3000037       NaN         16.5 gal         NaN      Ford            Fusion\n",
       "\n",
       "[82724 rows x 5 columns]"
      ]
     },
     "execution_count": 23,
     "metadata": {},
     "output_type": "execute_result"
    }
   ],
   "source": [
    "# Let's look little closer the rows\n",
    "df[df['fuel_type'].isna()][['fuel_type','fuel_tank_volume','engine_type','make_name','model_name']]"
   ]
  },
  {
   "cell_type": "markdown",
   "id": "6a079cd3-085d-49bc-956a-a0f509510ffc",
   "metadata": {},
   "source": [
    "After a little googling, it seems that most of the 'fuel_type' is Gasoline, so the missing values are fixed with that."
   ]
  },
  {
   "cell_type": "code",
   "execution_count": 24,
   "id": "aa9c8166-7b0a-4a54-90d1-1493941bf033",
   "metadata": {
    "tags": []
   },
   "outputs": [
    {
     "name": "stdout",
     "output_type": "stream",
     "text": [
      "The amount of null values in the fuel_type column are 0.0%.\n"
     ]
    }
   ],
   "source": [
    "# filling the null values with \"Gasoline\".\n",
    "df['fuel_type'].fillna(\"Gasoline\", inplace=True)\n",
    "\n",
    "# checking the result\n",
    "percentage = df['fuel_type'].isna().sum()/df.shape[0]*100\n",
    "\n",
    "print(f\"The amount of null values in the fuel_type column are {percentage.round(2)}%.\")"
   ]
  },
  {
   "cell_type": "code",
   "execution_count": 25,
   "id": "e2f96d50-0ed6-4c98-88b5-d3ed636571e5",
   "metadata": {
    "tags": []
   },
   "outputs": [
    {
     "data": {
      "text/html": [
       "<div>\n",
       "<style scoped>\n",
       "    .dataframe tbody tr th:only-of-type {\n",
       "        vertical-align: middle;\n",
       "    }\n",
       "\n",
       "    .dataframe tbody tr th {\n",
       "        vertical-align: top;\n",
       "    }\n",
       "\n",
       "    .dataframe thead th {\n",
       "        text-align: right;\n",
       "    }\n",
       "</style>\n",
       "<table border=\"1\" class=\"dataframe\">\n",
       "  <thead>\n",
       "    <tr style=\"text-align: right;\">\n",
       "      <th></th>\n",
       "      <th>fuel_tank_volume</th>\n",
       "      <th>fuel_type</th>\n",
       "    </tr>\n",
       "  </thead>\n",
       "  <tbody>\n",
       "    <tr>\n",
       "      <th>50</th>\n",
       "      <td>NaN</td>\n",
       "      <td>Gasoline</td>\n",
       "    </tr>\n",
       "    <tr>\n",
       "      <th>162</th>\n",
       "      <td>NaN</td>\n",
       "      <td>Gasoline</td>\n",
       "    </tr>\n",
       "    <tr>\n",
       "      <th>263</th>\n",
       "      <td>NaN</td>\n",
       "      <td>Gasoline</td>\n",
       "    </tr>\n",
       "    <tr>\n",
       "      <th>274</th>\n",
       "      <td>NaN</td>\n",
       "      <td>Electric</td>\n",
       "    </tr>\n",
       "    <tr>\n",
       "      <th>303</th>\n",
       "      <td>NaN</td>\n",
       "      <td>Gasoline</td>\n",
       "    </tr>\n",
       "    <tr>\n",
       "      <th>...</th>\n",
       "      <td>...</td>\n",
       "      <td>...</td>\n",
       "    </tr>\n",
       "    <tr>\n",
       "      <th>2999949</th>\n",
       "      <td>NaN</td>\n",
       "      <td>Electric</td>\n",
       "    </tr>\n",
       "    <tr>\n",
       "      <th>2999974</th>\n",
       "      <td>NaN</td>\n",
       "      <td>Gasoline</td>\n",
       "    </tr>\n",
       "    <tr>\n",
       "      <th>2999975</th>\n",
       "      <td>NaN</td>\n",
       "      <td>Gasoline</td>\n",
       "    </tr>\n",
       "    <tr>\n",
       "      <th>2999992</th>\n",
       "      <td>NaN</td>\n",
       "      <td>Gasoline</td>\n",
       "    </tr>\n",
       "    <tr>\n",
       "      <th>3000006</th>\n",
       "      <td>NaN</td>\n",
       "      <td>Hybrid</td>\n",
       "    </tr>\n",
       "  </tbody>\n",
       "</table>\n",
       "<p>159266 rows × 2 columns</p>\n",
       "</div>"
      ],
      "text/plain": [
       "        fuel_tank_volume fuel_type\n",
       "50                   NaN  Gasoline\n",
       "162                  NaN  Gasoline\n",
       "263                  NaN  Gasoline\n",
       "274                  NaN  Electric\n",
       "303                  NaN  Gasoline\n",
       "...                  ...       ...\n",
       "2999949              NaN  Electric\n",
       "2999974              NaN  Gasoline\n",
       "2999975              NaN  Gasoline\n",
       "2999992              NaN  Gasoline\n",
       "3000006              NaN    Hybrid\n",
       "\n",
       "[159266 rows x 2 columns]"
      ]
     },
     "execution_count": 25,
     "metadata": {},
     "output_type": "execute_result"
    }
   ],
   "source": [
    "# checking the null values rows in the fuel_tank_volume column\n",
    "df[df['fuel_tank_volume'].isna()][['fuel_tank_volume','fuel_type']]"
   ]
  },
  {
   "cell_type": "code",
   "execution_count": 26,
   "id": "7dffe2d4-1dd7-4e46-806e-51190164c5e0",
   "metadata": {
    "tags": []
   },
   "outputs": [
    {
     "data": {
      "text/plain": [
       "array(['12.7 gal', '17.7 gal', '15.9 gal', '23.5 gal', '16.6 gal',\n",
       "       '13.2 gal', '10.5 gal', '15.8 gal', '22.5 gal', '14.8 gal',\n",
       "       '14 gal', '17.4 gal', '19.4 gal', '22 gal', '24.6 gal', '13.5 gal',\n",
       "       nan, '16.9 gal', '18.8 gal', '27.6 gal', '21.5 gal', '15.6 gal',\n",
       "       '18.5 gal', '26 gal', '12.4 gal', '19.2 gal', '18.6 gal',\n",
       "       '14.9 gal', '23.2 gal', '24 gal', '16.4 gal', '13.7 gal', '19 gal',\n",
       "       '14.5 gal', '31 gal', '24.1 gal', '18.1 gal', '18 gal', '21.7 gal',\n",
       "       '23.8 gal', '15.3 gal', '34 gal', '21 gal', '19.5 gal', '16 gal',\n",
       "       '28 gal', '26.4 gal', '27.7 gal', '36 gal', '35 gal', '20 gal',\n",
       "       '21.6 gal', '15.1 gal', '21.1 gal', '12.8 gal', '11 gal',\n",
       "       '22.2 gal', '16.1 gal', '17.2 gal', '19.8 gal', '20.5 gal',\n",
       "       '17 gal', '9.3 gal', '25.1 gal', '25.4 gal', '25 gal', '13 gal',\n",
       "       '11.1 gal', '21.9 gal', '23 gal', '11.9 gal', '14.2 gal',\n",
       "       '14.3 gal', '16.5 gal', '11.4 gal', '17.8 gal', '17.1 gal', '--',\n",
       "       '9.2 gal', '17.5 gal', '16.8 gal', '12.1 gal', '15.5 gal',\n",
       "       '11.3 gal', '10.6 gal', '13.6 gal', '15 gal', '32 gal', '15.7 gal',\n",
       "       '23.3 gal', '20.6 gal', '22.4 gal', '16.3 gal', '27 gal',\n",
       "       '16.2 gal', '15.4 gal', '20.1 gal', '10.8 gal', '20.3 gal',\n",
       "       '38 gal', '28.3 gal', '23.7 gal', '30 gal', '14.4 gal', '24.5 gal',\n",
       "       '27.8 gal', '12.2 gal', '19.3 gal', '33.5 gal', '9 gal',\n",
       "       '17.9 gal', '19.1 gal', '14.7 gal', '9.5 gal', '48 gal',\n",
       "       '23.6 gal', '12 gal', '18.4 gal', '11.8 gal', '11.6 gal',\n",
       "       '20.4 gal', '8.7 gal', '33 gal', '30.5 gal', '22.8 gal',\n",
       "       '21.8 gal', '40 gal', '8.9 gal', '13.1 gal', '1.9 gal', '17.3 gal',\n",
       "       '44 gal', '29 gal', '22.7 gal', '7 gal', '2.3 gal', '2.4 gal',\n",
       "       '27.3 gal', '21.4 gal', '18.2 gal', '7.7 gal', '15.2 gal',\n",
       "       '10 gal', '8.5 gal', '37 gal', '14.6 gal', '31.5 gal', '39 gal',\n",
       "       '52 gal', '17.6 gal', '25.6 gal', '23.9 gal', '24.3 gal',\n",
       "       '12.6 gal', '18.3 gal', '63.5 gal', '29.1 gal', '37.5 gal',\n",
       "       '20.2 gal', '10.3 gal', '50 gal', '28.5 gal', '16.7 gal',\n",
       "       '26.5 gal', '18.7 gal', '21.2 gal', '22.3 gal', '12.3 gal',\n",
       "       '42 gal', '63 gal', '64 gal', '7.8 gal', '40.7 gal', '22.6 gal',\n",
       "       '8 gal', '51 gal', '11.5 gal', '25.5 gal', '25.3 gal', '23.1 gal',\n",
       "       '13.3 gal', '25.2 gal', '26.3 gal'], dtype=object)"
      ]
     },
     "execution_count": 26,
     "metadata": {},
     "output_type": "execute_result"
    }
   ],
   "source": [
    "# Investigating fuel_tank_volume category\n",
    "df['fuel_tank_volume'].unique()"
   ]
  },
  {
   "cell_type": "code",
   "execution_count": 27,
   "id": "be49d7f4-6046-4950-b98a-da3aefdeb7f3",
   "metadata": {
    "tags": []
   },
   "outputs": [],
   "source": [
    "df['fuel_tank_volume'] = df['fuel_tank_volume'].str.split(' ').str[0]\n",
    "df['fuel_tank_volume'] = pd.to_numeric(df['fuel_tank_volume'], downcast='float', errors='coerce')"
   ]
  },
  {
   "cell_type": "code",
   "execution_count": 28,
   "id": "d1322d6d-2012-48fa-84e2-514c4b311a2b",
   "metadata": {
    "tags": []
   },
   "outputs": [
    {
     "name": "stdout",
     "output_type": "stream",
     "text": [
      "The amount of null values in the fuel_tank_volume column are 0.0%.\n"
     ]
    }
   ],
   "source": [
    "# filling the null values with the mean based on the fuel_tank_volume column.\n",
    "df['fuel_tank_volume'].fillna(df.groupby('fuel_type')['fuel_tank_volume'].transform('mean'), inplace=True)\n",
    "\n",
    "# checking the result\n",
    "percentage = df['fuel_tank_volume'].isna().sum()/df.shape[0]*100\n",
    "\n",
    "print(f\"The amount of null values in the fuel_tank_volume column are {percentage.round(2)}%.\")"
   ]
  },
  {
   "cell_type": "markdown",
   "id": "fcda4b5f-b0e3-49db-a349-ee953a74deba",
   "metadata": {
    "jp-MarkdownHeadingCollapsed": true,
    "tags": []
   },
   "source": [
    "### engine_type\n",
    "\n",
    "The amount of null values in the engine_type column are 3.35%."
   ]
  },
  {
   "cell_type": "code",
   "execution_count": 29,
   "id": "a5bf5202-6d94-41aa-900b-abc40ecf9ded",
   "metadata": {
    "tags": []
   },
   "outputs": [
    {
     "data": {
      "text/plain": [
       "I4                           47.275767\n",
       "V6                           24.568400\n",
       "V8                            9.331233\n",
       "V8 Flex Fuel Vehicle          2.612400\n",
       "I4 Hybrid                     2.423700\n",
       "V6 Flex Fuel Vehicle          2.277867\n",
       "H4                            2.195333\n",
       "I3                            1.810033\n",
       "I6                            0.944067\n",
       "I6 Diesel                     0.781267\n",
       "V8 Biodiesel                  0.738233\n",
       "I4 Flex Fuel Vehicle          0.306200\n",
       "I4 Diesel                     0.240333\n",
       "V6 Diesel                     0.221900\n",
       "V8 Diesel                     0.208867\n",
       "I5                            0.176700\n",
       "H6                            0.156200\n",
       "V6 Biodiesel                  0.120367\n",
       "V6 Hybrid                     0.101933\n",
       "V12                           0.043867\n",
       "V10                           0.043033\n",
       "I2                            0.029900\n",
       "W12                           0.016133\n",
       "V8 Hybrid                     0.004233\n",
       "W12 Flex Fuel Vehicle         0.003233\n",
       "I5 Biodiesel                  0.003200\n",
       "V8 Compressed Natural Gas     0.003167\n",
       "H4 Hybrid                     0.003133\n",
       "R2                            0.002167\n",
       "I5 Diesel                     0.001633\n",
       "I4 Compressed Natural Gas     0.001600\n",
       "I6 Hybrid                     0.000533\n",
       "V8 Propane                    0.000200\n",
       "W8                            0.000100\n",
       "I3 Hybrid                     0.000100\n",
       "V6 Compressed Natural Gas     0.000100\n",
       "V10 Diesel                    0.000067\n",
       "W16                           0.000067\n",
       "V12 Hybrid                    0.000067\n",
       "Name: engine_type, dtype: float64"
      ]
     },
     "execution_count": 29,
     "metadata": {},
     "output_type": "execute_result"
    }
   ],
   "source": [
    "# checking the value counts of the column.\n",
    "df['engine_type'].value_counts()/df.shape[0]*100"
   ]
  },
  {
   "cell_type": "markdown",
   "id": "893b8621-bafd-4484-820f-ec8db09e02fa",
   "metadata": {},
   "source": [
    "We will remove fuel_type from the values of this column, because fuel_type is also described in another category."
   ]
  },
  {
   "cell_type": "code",
   "execution_count": 30,
   "id": "10fd364c-2ce4-4865-8bac-18f46bc3a961",
   "metadata": {
    "tags": []
   },
   "outputs": [
    {
     "data": {
      "text/plain": [
       "array(['I4', 'H4', 'V6', 'I6', nan, 'V8', 'I3', 'I5', 'R2', 'W12', 'V10',\n",
       "       'V12', 'H6', 'I2', 'W8', 'W16'], dtype=object)"
      ]
     },
     "execution_count": 30,
     "metadata": {},
     "output_type": "execute_result"
    }
   ],
   "source": [
    "df['engine_type'] = df['engine_type'].str.split(' ').str[0]\n",
    "df['engine_type'].unique()"
   ]
  },
  {
   "cell_type": "code",
   "execution_count": 31,
   "id": "e7a75c93-45a0-4c0b-bcef-6e42b23fbfd6",
   "metadata": {
    "tags": []
   },
   "outputs": [
    {
     "data": {
      "text/html": [
       "<div>\n",
       "<style scoped>\n",
       "    .dataframe tbody tr th:only-of-type {\n",
       "        vertical-align: middle;\n",
       "    }\n",
       "\n",
       "    .dataframe tbody tr th {\n",
       "        vertical-align: top;\n",
       "    }\n",
       "\n",
       "    .dataframe thead th {\n",
       "        text-align: right;\n",
       "    }\n",
       "</style>\n",
       "<table border=\"1\" class=\"dataframe\">\n",
       "  <thead>\n",
       "    <tr style=\"text-align: right;\">\n",
       "      <th></th>\n",
       "      <th>make_name</th>\n",
       "      <th>model_name</th>\n",
       "      <th>engine_type</th>\n",
       "      <th>fuel_type</th>\n",
       "    </tr>\n",
       "  </thead>\n",
       "  <tbody>\n",
       "    <tr>\n",
       "      <th>42</th>\n",
       "      <td>Jeep</td>\n",
       "      <td>Renegade</td>\n",
       "      <td>NaN</td>\n",
       "      <td>Gasoline</td>\n",
       "    </tr>\n",
       "    <tr>\n",
       "      <th>50</th>\n",
       "      <td>Subaru</td>\n",
       "      <td>Impreza</td>\n",
       "      <td>NaN</td>\n",
       "      <td>Gasoline</td>\n",
       "    </tr>\n",
       "    <tr>\n",
       "      <th>61</th>\n",
       "      <td>Chrysler</td>\n",
       "      <td>200</td>\n",
       "      <td>NaN</td>\n",
       "      <td>Gasoline</td>\n",
       "    </tr>\n",
       "    <tr>\n",
       "      <th>112</th>\n",
       "      <td>Jeep</td>\n",
       "      <td>Grand Cherokee</td>\n",
       "      <td>NaN</td>\n",
       "      <td>Gasoline</td>\n",
       "    </tr>\n",
       "    <tr>\n",
       "      <th>217</th>\n",
       "      <td>RAM</td>\n",
       "      <td>1500</td>\n",
       "      <td>NaN</td>\n",
       "      <td>Gasoline</td>\n",
       "    </tr>\n",
       "    <tr>\n",
       "      <th>...</th>\n",
       "      <td>...</td>\n",
       "      <td>...</td>\n",
       "      <td>...</td>\n",
       "      <td>...</td>\n",
       "    </tr>\n",
       "    <tr>\n",
       "      <th>2999874</th>\n",
       "      <td>Chevrolet</td>\n",
       "      <td>Bolt EV</td>\n",
       "      <td>NaN</td>\n",
       "      <td>Electric</td>\n",
       "    </tr>\n",
       "    <tr>\n",
       "      <th>2999882</th>\n",
       "      <td>Chevrolet</td>\n",
       "      <td>Bolt EV</td>\n",
       "      <td>NaN</td>\n",
       "      <td>Electric</td>\n",
       "    </tr>\n",
       "    <tr>\n",
       "      <th>2999919</th>\n",
       "      <td>Nissan</td>\n",
       "      <td>LEAF</td>\n",
       "      <td>NaN</td>\n",
       "      <td>Electric</td>\n",
       "    </tr>\n",
       "    <tr>\n",
       "      <th>2999949</th>\n",
       "      <td>Nissan</td>\n",
       "      <td>LEAF</td>\n",
       "      <td>NaN</td>\n",
       "      <td>Electric</td>\n",
       "    </tr>\n",
       "    <tr>\n",
       "      <th>3000037</th>\n",
       "      <td>Ford</td>\n",
       "      <td>Fusion</td>\n",
       "      <td>NaN</td>\n",
       "      <td>Gasoline</td>\n",
       "    </tr>\n",
       "  </tbody>\n",
       "</table>\n",
       "<p>100580 rows × 4 columns</p>\n",
       "</div>"
      ],
      "text/plain": [
       "         make_name      model_name engine_type fuel_type\n",
       "42            Jeep        Renegade         NaN  Gasoline\n",
       "50          Subaru         Impreza         NaN  Gasoline\n",
       "61        Chrysler             200         NaN  Gasoline\n",
       "112           Jeep  Grand Cherokee         NaN  Gasoline\n",
       "217            RAM            1500         NaN  Gasoline\n",
       "...            ...             ...         ...       ...\n",
       "2999874  Chevrolet         Bolt EV         NaN  Electric\n",
       "2999882  Chevrolet         Bolt EV         NaN  Electric\n",
       "2999919     Nissan            LEAF         NaN  Electric\n",
       "2999949     Nissan            LEAF         NaN  Electric\n",
       "3000037       Ford          Fusion         NaN  Gasoline\n",
       "\n",
       "[100580 rows x 4 columns]"
      ]
     },
     "execution_count": 31,
     "metadata": {},
     "output_type": "execute_result"
    }
   ],
   "source": [
    "# looking at the null rows\n",
    "df.loc[df['engine_type'].isna(),['make_name','model_name','engine_type', 'fuel_type']]"
   ]
  },
  {
   "cell_type": "markdown",
   "id": "99afd48e-a176-45f0-b9a8-f77dd05c41aa",
   "metadata": {},
   "source": [
    "There seems to be a lot of empty values here when the car's fuel_type is electric."
   ]
  },
  {
   "cell_type": "code",
   "execution_count": 32,
   "id": "3fd29373-3493-4aca-ac8b-98682db4a816",
   "metadata": {
    "tags": []
   },
   "outputs": [
    {
     "data": {
      "text/html": [
       "<div>\n",
       "<style scoped>\n",
       "    .dataframe tbody tr th:only-of-type {\n",
       "        vertical-align: middle;\n",
       "    }\n",
       "\n",
       "    .dataframe tbody tr th {\n",
       "        vertical-align: top;\n",
       "    }\n",
       "\n",
       "    .dataframe thead th {\n",
       "        text-align: right;\n",
       "    }\n",
       "</style>\n",
       "<table border=\"1\" class=\"dataframe\">\n",
       "  <thead>\n",
       "    <tr style=\"text-align: right;\">\n",
       "      <th></th>\n",
       "      <th>make_name</th>\n",
       "      <th>model_name</th>\n",
       "      <th>engine_type</th>\n",
       "      <th>fuel_type</th>\n",
       "    </tr>\n",
       "  </thead>\n",
       "  <tbody>\n",
       "    <tr>\n",
       "      <th>274</th>\n",
       "      <td>Kia</td>\n",
       "      <td>Soul EV</td>\n",
       "      <td>NaN</td>\n",
       "      <td>Electric</td>\n",
       "    </tr>\n",
       "    <tr>\n",
       "      <th>1182</th>\n",
       "      <td>Kia</td>\n",
       "      <td>Niro EV</td>\n",
       "      <td>NaN</td>\n",
       "      <td>Electric</td>\n",
       "    </tr>\n",
       "    <tr>\n",
       "      <th>1721</th>\n",
       "      <td>Chevrolet</td>\n",
       "      <td>Bolt EV</td>\n",
       "      <td>NaN</td>\n",
       "      <td>Electric</td>\n",
       "    </tr>\n",
       "    <tr>\n",
       "      <th>1729</th>\n",
       "      <td>Chevrolet</td>\n",
       "      <td>Bolt EV</td>\n",
       "      <td>NaN</td>\n",
       "      <td>Electric</td>\n",
       "    </tr>\n",
       "    <tr>\n",
       "      <th>2351</th>\n",
       "      <td>Hyundai</td>\n",
       "      <td>Ioniq Electric</td>\n",
       "      <td>NaN</td>\n",
       "      <td>Electric</td>\n",
       "    </tr>\n",
       "    <tr>\n",
       "      <th>...</th>\n",
       "      <td>...</td>\n",
       "      <td>...</td>\n",
       "      <td>...</td>\n",
       "      <td>...</td>\n",
       "    </tr>\n",
       "    <tr>\n",
       "      <th>2999820</th>\n",
       "      <td>Chevrolet</td>\n",
       "      <td>Bolt EV</td>\n",
       "      <td>NaN</td>\n",
       "      <td>Electric</td>\n",
       "    </tr>\n",
       "    <tr>\n",
       "      <th>2999874</th>\n",
       "      <td>Chevrolet</td>\n",
       "      <td>Bolt EV</td>\n",
       "      <td>NaN</td>\n",
       "      <td>Electric</td>\n",
       "    </tr>\n",
       "    <tr>\n",
       "      <th>2999882</th>\n",
       "      <td>Chevrolet</td>\n",
       "      <td>Bolt EV</td>\n",
       "      <td>NaN</td>\n",
       "      <td>Electric</td>\n",
       "    </tr>\n",
       "    <tr>\n",
       "      <th>2999919</th>\n",
       "      <td>Nissan</td>\n",
       "      <td>LEAF</td>\n",
       "      <td>NaN</td>\n",
       "      <td>Electric</td>\n",
       "    </tr>\n",
       "    <tr>\n",
       "      <th>2999949</th>\n",
       "      <td>Nissan</td>\n",
       "      <td>LEAF</td>\n",
       "      <td>NaN</td>\n",
       "      <td>Electric</td>\n",
       "    </tr>\n",
       "  </tbody>\n",
       "</table>\n",
       "<p>16415 rows × 4 columns</p>\n",
       "</div>"
      ],
      "text/plain": [
       "         make_name      model_name engine_type fuel_type\n",
       "274            Kia         Soul EV         NaN  Electric\n",
       "1182           Kia         Niro EV         NaN  Electric\n",
       "1721     Chevrolet         Bolt EV         NaN  Electric\n",
       "1729     Chevrolet         Bolt EV         NaN  Electric\n",
       "2351       Hyundai  Ioniq Electric         NaN  Electric\n",
       "...            ...             ...         ...       ...\n",
       "2999820  Chevrolet         Bolt EV         NaN  Electric\n",
       "2999874  Chevrolet         Bolt EV         NaN  Electric\n",
       "2999882  Chevrolet         Bolt EV         NaN  Electric\n",
       "2999919     Nissan            LEAF         NaN  Electric\n",
       "2999949     Nissan            LEAF         NaN  Electric\n",
       "\n",
       "[16415 rows x 4 columns]"
      ]
     },
     "execution_count": 32,
     "metadata": {},
     "output_type": "execute_result"
    }
   ],
   "source": [
    "df.loc[(df['engine_type'].isna()) & (df['fuel_type'] == \"Electric\"),['make_name','model_name','engine_type', 'fuel_type']]"
   ]
  },
  {
   "cell_type": "code",
   "execution_count": 33,
   "id": "4156ab34-7266-46eb-981b-303350416735",
   "metadata": {
    "tags": []
   },
   "outputs": [],
   "source": [
    "# filling the null values with the fuel_type \"Electric\" with the \"Electric Motor\" value.\n",
    "df.loc[(df['engine_type'].isna()) & (df['fuel_type'] == \"Electric\"), 'engine_type'] = \"Electric Motor\"\n",
    "\n",
    "# filling the null values with the fuel_type \"Gasoline\" with the \"Gasoline engine\" value.\n",
    "df.loc[(df['engine_type'].isna()) & (df['fuel_type'] == \"Gasoline\"), 'engine_type'] = \"I4\""
   ]
  },
  {
   "cell_type": "code",
   "execution_count": 34,
   "id": "219cdb9e-2841-4093-bf9d-69f5d5b653f2",
   "metadata": {
    "tags": []
   },
   "outputs": [
    {
     "name": "stdout",
     "output_type": "stream",
     "text": [
      "The amount of null values in the engine_type column are 0.027666666666666666%.\n"
     ]
    }
   ],
   "source": [
    "# checking for nulls\n",
    "result = df['engine_type'].isna().sum()/df.shape[0]*100\n",
    " \n",
    "print(f\"The amount of null values in the engine_type column are {result}%.\")"
   ]
  },
  {
   "cell_type": "code",
   "execution_count": 35,
   "id": "0b8a6f4a-cee5-437c-a658-f9b475efd29e",
   "metadata": {},
   "outputs": [
    {
     "data": {
      "text/html": [
       "<div>\n",
       "<style scoped>\n",
       "    .dataframe tbody tr th:only-of-type {\n",
       "        vertical-align: middle;\n",
       "    }\n",
       "\n",
       "    .dataframe tbody tr th {\n",
       "        vertical-align: top;\n",
       "    }\n",
       "\n",
       "    .dataframe thead th {\n",
       "        text-align: right;\n",
       "    }\n",
       "</style>\n",
       "<table border=\"1\" class=\"dataframe\">\n",
       "  <thead>\n",
       "    <tr style=\"text-align: right;\">\n",
       "      <th></th>\n",
       "      <th>engine_type</th>\n",
       "      <th>fuel_type</th>\n",
       "    </tr>\n",
       "  </thead>\n",
       "  <tbody>\n",
       "    <tr>\n",
       "      <th>7186</th>\n",
       "      <td>NaN</td>\n",
       "      <td>Diesel</td>\n",
       "    </tr>\n",
       "    <tr>\n",
       "      <th>7264</th>\n",
       "      <td>NaN</td>\n",
       "      <td>Diesel</td>\n",
       "    </tr>\n",
       "    <tr>\n",
       "      <th>8259</th>\n",
       "      <td>NaN</td>\n",
       "      <td>Diesel</td>\n",
       "    </tr>\n",
       "    <tr>\n",
       "      <th>10489</th>\n",
       "      <td>NaN</td>\n",
       "      <td>Diesel</td>\n",
       "    </tr>\n",
       "    <tr>\n",
       "      <th>10503</th>\n",
       "      <td>NaN</td>\n",
       "      <td>Diesel</td>\n",
       "    </tr>\n",
       "    <tr>\n",
       "      <th>...</th>\n",
       "      <td>...</td>\n",
       "      <td>...</td>\n",
       "    </tr>\n",
       "    <tr>\n",
       "      <th>2976914</th>\n",
       "      <td>NaN</td>\n",
       "      <td>Diesel</td>\n",
       "    </tr>\n",
       "    <tr>\n",
       "      <th>2977375</th>\n",
       "      <td>NaN</td>\n",
       "      <td>Diesel</td>\n",
       "    </tr>\n",
       "    <tr>\n",
       "      <th>2977385</th>\n",
       "      <td>NaN</td>\n",
       "      <td>Diesel</td>\n",
       "    </tr>\n",
       "    <tr>\n",
       "      <th>2977393</th>\n",
       "      <td>NaN</td>\n",
       "      <td>Diesel</td>\n",
       "    </tr>\n",
       "    <tr>\n",
       "      <th>2977412</th>\n",
       "      <td>NaN</td>\n",
       "      <td>Diesel</td>\n",
       "    </tr>\n",
       "  </tbody>\n",
       "</table>\n",
       "<p>830 rows × 2 columns</p>\n",
       "</div>"
      ],
      "text/plain": [
       "        engine_type fuel_type\n",
       "7186            NaN    Diesel\n",
       "7264            NaN    Diesel\n",
       "8259            NaN    Diesel\n",
       "10489           NaN    Diesel\n",
       "10503           NaN    Diesel\n",
       "...             ...       ...\n",
       "2976914         NaN    Diesel\n",
       "2977375         NaN    Diesel\n",
       "2977385         NaN    Diesel\n",
       "2977393         NaN    Diesel\n",
       "2977412         NaN    Diesel\n",
       "\n",
       "[830 rows x 2 columns]"
      ]
     },
     "execution_count": 35,
     "metadata": {},
     "output_type": "execute_result"
    }
   ],
   "source": [
    "# checking the null values rows in the engine_type column\n",
    "df[df['engine_type'].isna()][['engine_type','fuel_type']]"
   ]
  },
  {
   "cell_type": "code",
   "execution_count": 36,
   "id": "ef7b56b8-a3c6-4428-be2f-f39abbad83f3",
   "metadata": {
    "tags": []
   },
   "outputs": [
    {
     "name": "stdout",
     "output_type": "stream",
     "text": [
      "The amount of null values in the engine_type column are 0.0%.\n"
     ]
    }
   ],
   "source": [
    "# filling the null values with the fuel_type \"Diesel\" with the \"Diesel\" value.\n",
    "df.loc[(df['engine_type'].isna()) & (df['fuel_type'] == \"Diesel\"), 'engine_type'] = \"Diesel engine\"\n",
    "\n",
    "result = df['engine_type'].isna().sum()/df.shape[0]*100\n",
    "print(f\"The amount of null values in the engine_type column are {result}%.\")"
   ]
  },
  {
   "cell_type": "markdown",
   "id": "614bfb19-4389-4c34-b3a1-960dc9a49a7f",
   "metadata": {
    "jp-MarkdownHeadingCollapsed": true,
    "tags": []
   },
   "source": [
    "### exterior_color & interior color\n",
    "\n",
    "The amount of null values in the exterior_color column are 0.00%.\n",
    "The amount of null values in the interior_color column are 0.01%."
   ]
  },
  {
   "cell_type": "code",
   "execution_count": 37,
   "id": "d3e11529-ec4f-426f-92ed-699fa2b6d89d",
   "metadata": {
    "tags": []
   },
   "outputs": [
    {
     "data": {
      "text/plain": [
       "Black                                  5.415367\n",
       "White                                  4.218600\n",
       "Summit White                           3.214333\n",
       "Silver                                 2.630233\n",
       "Gray                                   2.585400\n",
       "                                         ...   \n",
       "Blue Dusk Clearcoat Metallic           0.000033\n",
       "Dark Performancesian Green Metallic    0.000033\n",
       "BRILLANT                               0.000033\n",
       "WHITE MET                              0.000033\n",
       "Cosmic                                 0.000033\n",
       "Name: exterior_color, Length: 28665, dtype: float64"
      ]
     },
     "execution_count": 37,
     "metadata": {},
     "output_type": "execute_result"
    }
   ],
   "source": [
    "# checking the value counts of the column.\n",
    "df['exterior_color'].value_counts()/df.shape[0]*100"
   ]
  },
  {
   "cell_type": "code",
   "execution_count": 38,
   "id": "f1a79db8-455c-46e8-aa1f-f7b7ca348dd0",
   "metadata": {
    "tags": []
   },
   "outputs": [
    {
     "data": {
      "text/plain": [
       "Black                                                         29.046233\n",
       "None                                                          12.793800\n",
       "Gray                                                           6.530133\n",
       "Jet Black                                                      6.206367\n",
       "Black (Ebony)                                                  4.761300\n",
       "                                                                ...    \n",
       "Brown (Cappuccino w/Heated Lincoln Soft Touch Front Seats)     0.000033\n",
       "Circuit Red Nuluxe[nuluxe] With Dark Gray Streamli             0.000033\n",
       "Nut Brown/ Black Leather                                       0.000033\n",
       "Black/Orange w/Fabric Seat Trim (FD)                           0.000033\n",
       "Brown (Espresso/Iv/Tan/Esp/Iv/Iv)                              0.000033\n",
       "Name: interior_color, Length: 45726, dtype: float64"
      ]
     },
     "execution_count": 38,
     "metadata": {},
     "output_type": "execute_result"
    }
   ],
   "source": [
    "# checking the value counts of the column.\n",
    "df['interior_color'].value_counts()/df.shape[0]*100"
   ]
  },
  {
   "cell_type": "markdown",
   "id": "babd051b-e2ec-49d4-9ea7-7c3e724fd5ed",
   "metadata": {},
   "source": [
    "From the output, you can see that the names of the colors vary greatly. First we change the null values to black ant then colors that are for example Blue Dusk Clearcoat Metallic to Blue etc."
   ]
  },
  {
   "cell_type": "code",
   "execution_count": 39,
   "id": "4bce7b27-13e4-42b0-9553-b843245105ba",
   "metadata": {
    "tags": []
   },
   "outputs": [
    {
     "data": {
      "text/plain": [
       "                     24.610267\n",
       "White                21.116700\n",
       "Black                17.963933\n",
       "Silver               11.440933\n",
       "Blue                  7.799500\n",
       "                       ...    \n",
       "Red, White, Gold      0.000033\n",
       "Orange, Silver        0.000033\n",
       "Brown, Blue           0.000033\n",
       "Yellow, Gray          0.000033\n",
       "White, Blue, Gold     0.000033\n",
       "Name: exterior_color, Length: 82, dtype: float64"
      ]
     },
     "execution_count": 39,
     "metadata": {},
     "output_type": "execute_result"
    }
   ],
   "source": [
    "# replacing null values with Black.\n",
    "df['exterior_color'].fillna(\"Black\", inplace=True)\n",
    "\n",
    "# making a list of the top exterior colors\n",
    "colors = ['White', 'Black', 'Gray', 'Silver',\n",
    "          'Red', 'Blue', 'Brown', 'Green', 'Beige',\n",
    "          'Orange', 'Gold', 'Yellow', 'Purple']\n",
    "\n",
    "# extracting the top exterior colors from the exterior_color column\n",
    "df['exterior_color'] = df['exterior_color'].str.findall('|'.join(colors)).apply(set).str.join(', ')\n",
    "\n",
    "df['exterior_color'].value_counts()/df.shape[0]*100"
   ]
  },
  {
   "cell_type": "code",
   "execution_count": 40,
   "id": "14837883-24a5-4d9b-b2ae-25b24cb4ea86",
   "metadata": {
    "tags": []
   },
   "outputs": [
    {
     "data": {
      "text/plain": [
       "Other Color     24.610267\n",
       "White           21.116700\n",
       "Black           17.963933\n",
       "Silver          11.440933\n",
       "Blue             7.799500\n",
       "Red              7.444633\n",
       "Gray             7.227333\n",
       "Green            0.683167\n",
       "Mixed Colors     0.407467\n",
       "Brown            0.368400\n",
       "Orange           0.351200\n",
       "Gold             0.289700\n",
       "Beige            0.149300\n",
       "Yellow           0.147467\n",
       "Name: exterior_color, dtype: float64"
      ]
     },
     "execution_count": 40,
     "metadata": {},
     "output_type": "execute_result"
    }
   ],
   "source": [
    "# replacing null values with 'Other Color'.\n",
    "df['exterior_color'].replace(\"\", \"Other Color\", inplace=True)\n",
    "\n",
    "# masking rows with more than one color\n",
    "mask = df['exterior_color'].map(df['exterior_color'].value_counts()) < 4424\n",
    "\n",
    "# labeling the rows with more than one color as 'Mixed Colors'\n",
    "df['exterior_color'] =  df['exterior_color'].mask(mask, 'Mixed Colors')\n",
    "\n",
    "# checking the new unique values in the exterior_color_new column\n",
    "df['exterior_color'].value_counts()/df.shape[0]*100"
   ]
  },
  {
   "cell_type": "code",
   "execution_count": 41,
   "id": "684b5559-85dd-42c0-8dba-374bc0d29000",
   "metadata": {
    "tags": []
   },
   "outputs": [
    {
     "data": {
      "text/plain": [
       "Black                 1572862\n",
       "                       643421\n",
       "Gray                   374038\n",
       "White                   91438\n",
       "Brown                   74539\n",
       "                       ...   \n",
       "Brown, Red                  1\n",
       "Silver, Blue, Gray          1\n",
       "Silver, Green               1\n",
       "White, Gold                 1\n",
       "Purple, Green               1\n",
       "Name: interior_color, Length: 84, dtype: int64"
      ]
     },
     "execution_count": 41,
     "metadata": {},
     "output_type": "execute_result"
    }
   ],
   "source": [
    "# filling the null values with the most frequent value\n",
    "df['interior_color'].fillna(\"Black\", inplace=True)\n",
    "\n",
    "# Adding a new column based on the list of primary colors.\n",
    "colors = ['White', 'Black', 'Gray', 'Silver', \n",
    "          'Red', 'Blue', 'Brown', 'Green', \n",
    "          'Beige', 'Orange', 'Gold', 'Yellow', 'Purple']\n",
    "\n",
    "df['interior_color'] = df['interior_color'].str.findall('|'.join(colors)).apply(set).str.join(', ')\n",
    "\n",
    "# checking the result\n",
    "df['interior_color'].value_counts()"
   ]
  },
  {
   "cell_type": "code",
   "execution_count": 42,
   "id": "87d7ede8-a535-4d7c-ab21-120d878a3f01",
   "metadata": {
    "tags": []
   },
   "outputs": [
    {
     "data": {
      "text/plain": [
       "Black                  52.428733\n",
       "Other Color            21.447367\n",
       "Gray                   12.467933\n",
       "Mixed Colors            5.073133\n",
       "White                   3.047933\n",
       "Brown                   2.484633\n",
       "Red                     1.125200\n",
       "Silver                  0.804500\n",
       "Blue                    0.759600\n",
       "Brown, Beige, Black     0.360967\n",
       "Name: interior_color, dtype: float64"
      ]
     },
     "execution_count": 42,
     "metadata": {},
     "output_type": "execute_result"
    }
   ],
   "source": [
    "# replacing null values with 'Other Color'.\n",
    "df['interior_color'].replace(\"\", \"Other Color\", inplace=True)\n",
    "\n",
    "# masking rows with more than one color\n",
    "mask = df['interior_color'].map(df['interior_color'].value_counts()) < 4424\n",
    "\n",
    "# labeling the rows with more than one color as 'Mixed Colors'\n",
    "df['interior_color'] =  df['interior_color'].mask(mask, 'Mixed Colors')\n",
    "\n",
    "df['interior_color'].replace([\"Brown, Beige\",\"Gray, Black\",\"Red, Black\", \"Brown, Black, Beige\", \"Brown, Black\"],\"Mixed Colors\", inplace=True)\n",
    "df['interior_color'].replace([\"Beige, Brown\",\"Black, Red\",\"Beige, Brown, Black\", \"Black, Gray\"],\"Mixed Colors\", inplace=True)\n",
    "\n",
    "df['interior_color'].value_counts()/df.shape[0]*100"
   ]
  },
  {
   "cell_type": "markdown",
   "id": "6a770086-b642-44ca-9fb0-7222f3abefb8",
   "metadata": {
    "jp-MarkdownHeadingCollapsed": true,
    "tags": []
   },
   "source": [
    "### fleet\n",
    "\n",
    "The amount of null values in the fleet column are 47.55%.\n",
    "\n",
    "By examining the dataframe, it can be noticed that the 'frame_damaged', 'has_accidents', 'isCab', 'salvage', 'theft_title' columns have exactly the same null percentage as the fleet."
   ]
  },
  {
   "cell_type": "code",
   "execution_count": 43,
   "id": "368eeb35-0ae3-4fd9-ae4d-77fbdb45d195",
   "metadata": {
    "tags": []
   },
   "outputs": [
    {
     "data": {
      "text/html": [
       "<div>\n",
       "<style scoped>\n",
       "    .dataframe tbody tr th:only-of-type {\n",
       "        vertical-align: middle;\n",
       "    }\n",
       "\n",
       "    .dataframe tbody tr th {\n",
       "        vertical-align: top;\n",
       "    }\n",
       "\n",
       "    .dataframe thead th {\n",
       "        text-align: right;\n",
       "    }\n",
       "</style>\n",
       "<table border=\"1\" class=\"dataframe\">\n",
       "  <thead>\n",
       "    <tr style=\"text-align: right;\">\n",
       "      <th></th>\n",
       "      <th>0</th>\n",
       "    </tr>\n",
       "  </thead>\n",
       "  <tbody>\n",
       "    <tr>\n",
       "      <th>fleet</th>\n",
       "      <td>47.552633</td>\n",
       "    </tr>\n",
       "    <tr>\n",
       "      <th>frame_damaged</th>\n",
       "      <td>47.552633</td>\n",
       "    </tr>\n",
       "    <tr>\n",
       "      <th>has_accidents</th>\n",
       "      <td>47.552633</td>\n",
       "    </tr>\n",
       "    <tr>\n",
       "      <th>isCab</th>\n",
       "      <td>47.552633</td>\n",
       "    </tr>\n",
       "    <tr>\n",
       "      <th>salvage</th>\n",
       "      <td>47.552633</td>\n",
       "    </tr>\n",
       "    <tr>\n",
       "      <th>theft_title</th>\n",
       "      <td>47.552633</td>\n",
       "    </tr>\n",
       "  </tbody>\n",
       "</table>\n",
       "</div>"
      ],
      "text/plain": [
       "                       0\n",
       "fleet          47.552633\n",
       "frame_damaged  47.552633\n",
       "has_accidents  47.552633\n",
       "isCab          47.552633\n",
       "salvage        47.552633\n",
       "theft_title    47.552633"
      ]
     },
     "execution_count": 43,
     "metadata": {},
     "output_type": "execute_result"
    }
   ],
   "source": [
    "# filtering the columns that match in null values\n",
    "percentage = df.isna().sum()/df.shape[0]*100\n",
    "pd.DataFrame(percentage[percentage.between(47, 48)])"
   ]
  },
  {
   "cell_type": "markdown",
   "id": "2f7066a5-3526-4bdb-a486-cb88bbbbf31e",
   "metadata": {},
   "source": [
    "This indicates that the data in these columns is repetitive. We can safely remove these columns and retain the 'fleet' column, which we'll rename to 'damage_history'."
   ]
  },
  {
   "cell_type": "code",
   "execution_count": 44,
   "id": "1c62ff76-4aa3-4ad6-b5e0-2a3e4106fe45",
   "metadata": {
    "tags": []
   },
   "outputs": [
    {
     "data": {
      "text/html": [
       "<div>\n",
       "<style scoped>\n",
       "    .dataframe tbody tr th:only-of-type {\n",
       "        vertical-align: middle;\n",
       "    }\n",
       "\n",
       "    .dataframe tbody tr th {\n",
       "        vertical-align: top;\n",
       "    }\n",
       "\n",
       "    .dataframe thead th {\n",
       "        text-align: right;\n",
       "    }\n",
       "</style>\n",
       "<table border=\"1\" class=\"dataframe\">\n",
       "  <thead>\n",
       "    <tr style=\"text-align: right;\">\n",
       "      <th></th>\n",
       "      <th>back_legroom</th>\n",
       "      <th>body_type</th>\n",
       "      <th>city_fuel_economy</th>\n",
       "      <th>daysonmarket</th>\n",
       "      <th>engine_type</th>\n",
       "      <th>exterior_color</th>\n",
       "      <th>damage_history</th>\n",
       "      <th>front_legroom</th>\n",
       "      <th>fuel_tank_volume</th>\n",
       "      <th>fuel_type</th>\n",
       "      <th>...</th>\n",
       "      <th>savings_amount</th>\n",
       "      <th>torque</th>\n",
       "      <th>transmission</th>\n",
       "      <th>transmission_display</th>\n",
       "      <th>wheel_system</th>\n",
       "      <th>wheelbase</th>\n",
       "      <th>width</th>\n",
       "      <th>year</th>\n",
       "      <th>has_picture</th>\n",
       "      <th>has_description</th>\n",
       "    </tr>\n",
       "  </thead>\n",
       "  <tbody>\n",
       "    <tr>\n",
       "      <th>0</th>\n",
       "      <td>35.099998</td>\n",
       "      <td>SUV / Crossover</td>\n",
       "      <td>NaN</td>\n",
       "      <td>522</td>\n",
       "      <td>I4</td>\n",
       "      <td>Yellow</td>\n",
       "      <td>False</td>\n",
       "      <td>41.200001</td>\n",
       "      <td>12.700000</td>\n",
       "      <td>Gasoline</td>\n",
       "      <td>...</td>\n",
       "      <td>0</td>\n",
       "      <td>200 lb-ft @ 1,750 RPM</td>\n",
       "      <td>A</td>\n",
       "      <td>9-Speed Automatic Overdrive</td>\n",
       "      <td>FWD</td>\n",
       "      <td>101.2 in</td>\n",
       "      <td>79.6 in</td>\n",
       "      <td>2019</td>\n",
       "      <td>True</td>\n",
       "      <td>True</td>\n",
       "    </tr>\n",
       "    <tr>\n",
       "      <th>1</th>\n",
       "      <td>38.099998</td>\n",
       "      <td>SUV / Crossover</td>\n",
       "      <td>NaN</td>\n",
       "      <td>207</td>\n",
       "      <td>I4</td>\n",
       "      <td>Black</td>\n",
       "      <td>False</td>\n",
       "      <td>39.099998</td>\n",
       "      <td>17.700001</td>\n",
       "      <td>Gasoline</td>\n",
       "      <td>...</td>\n",
       "      <td>0</td>\n",
       "      <td>269 lb-ft @ 1,400 RPM</td>\n",
       "      <td>A</td>\n",
       "      <td>9-Speed Automatic Overdrive</td>\n",
       "      <td>AWD</td>\n",
       "      <td>107.9 in</td>\n",
       "      <td>85.6 in</td>\n",
       "      <td>2020</td>\n",
       "      <td>True</td>\n",
       "      <td>True</td>\n",
       "    </tr>\n",
       "    <tr>\n",
       "      <th>2</th>\n",
       "      <td>35.400002</td>\n",
       "      <td>Sedan</td>\n",
       "      <td>17.0</td>\n",
       "      <td>1233</td>\n",
       "      <td>H4</td>\n",
       "      <td>Other Color</td>\n",
       "      <td>False</td>\n",
       "      <td>43.299999</td>\n",
       "      <td>15.900000</td>\n",
       "      <td>Gasoline</td>\n",
       "      <td>...</td>\n",
       "      <td>0</td>\n",
       "      <td>290 lb-ft @ 4,000 RPM</td>\n",
       "      <td>M</td>\n",
       "      <td>6-Speed Manual</td>\n",
       "      <td>AWD</td>\n",
       "      <td>104.3 in</td>\n",
       "      <td>78.9 in</td>\n",
       "      <td>2016</td>\n",
       "      <td>False</td>\n",
       "      <td>False</td>\n",
       "    </tr>\n",
       "    <tr>\n",
       "      <th>3</th>\n",
       "      <td>37.599998</td>\n",
       "      <td>SUV / Crossover</td>\n",
       "      <td>NaN</td>\n",
       "      <td>196</td>\n",
       "      <td>V6</td>\n",
       "      <td>Gray</td>\n",
       "      <td>False</td>\n",
       "      <td>39.000000</td>\n",
       "      <td>23.500000</td>\n",
       "      <td>Gasoline</td>\n",
       "      <td>...</td>\n",
       "      <td>0</td>\n",
       "      <td>332 lb-ft @ 3,500 RPM</td>\n",
       "      <td>A</td>\n",
       "      <td>8-Speed Automatic Overdrive</td>\n",
       "      <td>AWD</td>\n",
       "      <td>115 in</td>\n",
       "      <td>87.4 in</td>\n",
       "      <td>2020</td>\n",
       "      <td>True</td>\n",
       "      <td>True</td>\n",
       "    </tr>\n",
       "    <tr>\n",
       "      <th>4</th>\n",
       "      <td>38.099998</td>\n",
       "      <td>SUV / Crossover</td>\n",
       "      <td>NaN</td>\n",
       "      <td>137</td>\n",
       "      <td>I4</td>\n",
       "      <td>Black</td>\n",
       "      <td>False</td>\n",
       "      <td>39.099998</td>\n",
       "      <td>17.700001</td>\n",
       "      <td>Gasoline</td>\n",
       "      <td>...</td>\n",
       "      <td>0</td>\n",
       "      <td>269 lb-ft @ 1,400 RPM</td>\n",
       "      <td>A</td>\n",
       "      <td>9-Speed Automatic Overdrive</td>\n",
       "      <td>AWD</td>\n",
       "      <td>107.9 in</td>\n",
       "      <td>85.6 in</td>\n",
       "      <td>2020</td>\n",
       "      <td>True</td>\n",
       "      <td>True</td>\n",
       "    </tr>\n",
       "  </tbody>\n",
       "</table>\n",
       "<p>5 rows × 34 columns</p>\n",
       "</div>"
      ],
      "text/plain": [
       "   back_legroom        body_type  city_fuel_economy  daysonmarket engine_type  \\\n",
       "0     35.099998  SUV / Crossover                NaN           522          I4   \n",
       "1     38.099998  SUV / Crossover                NaN           207          I4   \n",
       "2     35.400002            Sedan               17.0          1233          H4   \n",
       "3     37.599998  SUV / Crossover                NaN           196          V6   \n",
       "4     38.099998  SUV / Crossover                NaN           137          I4   \n",
       "\n",
       "  exterior_color damage_history  front_legroom  fuel_tank_volume fuel_type  \\\n",
       "0         Yellow          False      41.200001         12.700000  Gasoline   \n",
       "1          Black          False      39.099998         17.700001  Gasoline   \n",
       "2    Other Color          False      43.299999         15.900000  Gasoline   \n",
       "3           Gray          False      39.000000         23.500000  Gasoline   \n",
       "4          Black          False      39.099998         17.700001  Gasoline   \n",
       "\n",
       "   ... savings_amount                 torque  transmission  \\\n",
       "0  ...              0  200 lb-ft @ 1,750 RPM             A   \n",
       "1  ...              0  269 lb-ft @ 1,400 RPM             A   \n",
       "2  ...              0  290 lb-ft @ 4,000 RPM             M   \n",
       "3  ...              0  332 lb-ft @ 3,500 RPM             A   \n",
       "4  ...              0  269 lb-ft @ 1,400 RPM             A   \n",
       "\n",
       "          transmission_display  wheel_system wheelbase    width  year  \\\n",
       "0  9-Speed Automatic Overdrive           FWD  101.2 in  79.6 in  2019   \n",
       "1  9-Speed Automatic Overdrive           AWD  107.9 in  85.6 in  2020   \n",
       "2               6-Speed Manual           AWD  104.3 in  78.9 in  2016   \n",
       "3  8-Speed Automatic Overdrive           AWD    115 in  87.4 in  2020   \n",
       "4  9-Speed Automatic Overdrive           AWD  107.9 in  85.6 in  2020   \n",
       "\n",
       "  has_picture  has_description  \n",
       "0        True             True  \n",
       "1        True             True  \n",
       "2       False            False  \n",
       "3        True             True  \n",
       "4        True             True  \n",
       "\n",
       "[5 rows x 34 columns]"
      ]
     },
     "execution_count": 44,
     "metadata": {},
     "output_type": "execute_result"
    }
   ],
   "source": [
    "# dropping the columns\n",
    "df = df.drop(['frame_damaged', 'has_accidents', 'isCab', 'salvage', 'theft_title'], axis=1)\n",
    "\n",
    "# filling the null values with \"False\" and renaming the column to \"has_incidents\"\n",
    "df['fleet'].fillna(\"False\", inplace=True)\n",
    "\n",
    "# checking the result\n",
    "df['fleet'].isna().sum()/df.shape[0]*100\n",
    "\n",
    "# renaming the column to \"has_incidents\"\n",
    "df.rename(columns={'fleet': 'damage_history'}, inplace=True)\n",
    "\n",
    "# checking the result\n",
    "df.head()"
   ]
  },
  {
   "cell_type": "markdown",
   "id": "2944d0a8-56c1-4869-9ea4-bd853ac1eb0e",
   "metadata": {
    "tags": []
   },
   "source": [
    "### height, length & width\n",
    "\n",
    "The amount of null values in the height column are 5.31%\n",
    "The amount of null values in the length column are 5.31%.\n",
    "The amount of null values in the width column are 5.31%."
   ]
  },
  {
   "cell_type": "code",
   "execution_count": 45,
   "id": "d7bac363-bcde-4097-8631-bdb38deb855e",
   "metadata": {
    "tags": []
   },
   "outputs": [
    {
     "data": {
      "text/plain": [
       "66.1 in    2.838767\n",
       "66.3 in    2.585200\n",
       "56.5 in    2.440067\n",
       "56.9 in    2.418167\n",
       "65.4 in    2.302800\n",
       "             ...   \n",
       "96.2 in    0.000033\n",
       "93.3 in    0.000033\n",
       "104 in     0.000033\n",
       "82.5 in    0.000033\n",
       "103 in     0.000033\n",
       "Name: height, Length: 472, dtype: float64"
      ]
     },
     "execution_count": 45,
     "metadata": {},
     "output_type": "execute_result"
    }
   ],
   "source": [
    "df['height'].value_counts()/df.shape[0]*100"
   ]
  },
  {
   "cell_type": "code",
   "execution_count": 46,
   "id": "62af644a-746e-457f-8ebe-9963a2d3b3cd",
   "metadata": {
    "tags": []
   },
   "outputs": [
    {
     "data": {
      "text/plain": [
       "231.9 in    3.257167\n",
       "183.1 in    2.157633\n",
       "231.7 in    1.926833\n",
       "182.3 in    1.829633\n",
       "184.5 in    1.707167\n",
       "              ...   \n",
       "160.2 in    0.000033\n",
       "151.6 in    0.000033\n",
       "156.4 in    0.000033\n",
       "148.5 in    0.000033\n",
       "235.1 in    0.000033\n",
       "Name: length, Length: 836, dtype: float64"
      ]
     },
     "execution_count": 46,
     "metadata": {},
     "output_type": "execute_result"
    }
   ],
   "source": [
    "# checking the value counts of the column.\n",
    "df['length'].value_counts()/df.shape[0]*100"
   ]
  },
  {
   "cell_type": "code",
   "execution_count": 47,
   "id": "3c8e381d-587c-466e-bb63-f977d5a13fc5",
   "metadata": {},
   "outputs": [
    {
     "data": {
      "text/plain": [
       "72.4 in    4.383000\n",
       "73 in      3.568833\n",
       "96.8 in    3.471367\n",
       "70.9 in    2.434933\n",
       "83.5 in    2.408400\n",
       "             ...   \n",
       "90.7 in    0.000067\n",
       "62.6 in    0.000067\n",
       "62 in      0.000033\n",
       "55 in      0.000033\n",
       "65.1 in    0.000033\n",
       "Name: width, Length: 285, dtype: float64"
      ]
     },
     "execution_count": 47,
     "metadata": {},
     "output_type": "execute_result"
    }
   ],
   "source": [
    "df['width'].value_counts()/df.shape[0]*100"
   ]
  },
  {
   "cell_type": "code",
   "execution_count": 48,
   "id": "eaa84b2e-1e91-4c89-9881-9deb08b6ed03",
   "metadata": {
    "tags": []
   },
   "outputs": [
    {
     "data": {
      "text/plain": [
       "array([ 66.5,  68. ,  58.1,  73. ,  66.3,  56.9,  64.9,  46.6,  56.5,\n",
       "        60.7,  66.2,  57.6,  55.1,  70.7,  60.9,  69.9,  69.3,  65. ,\n",
       "         nan,  64.1,  58.7,  58.4,  71. ,  70.8,  70.9,  73.6,  56.6,\n",
       "        65.4,  58.5,  73.9,  65.3,  55.7,  67.7,  64.5,  58.3,  57.7,\n",
       "        76.3,  66.1,  54.6,  74.4,  66. ,  64.8,  55.8,  69.4,  53.1,\n",
       "        72.6,  56.7,  67.1,  57.1,  77.4,  57.4,  65.7,  81.3,  70.6,\n",
       "        70.2,  69. ,  67. ,  77.6,  54.4,  75.5,  57. ,  72.3,  58.9,\n",
       "        67.4,  75.6,  66.9,  70.1,  77.5,  74. ,  78.2,  72.1,  81.2,\n",
       "        49.3,  67.9,  57.8,  79.3,  52.9,  67.3,  56.8,  56.2,  63.3,\n",
       "        56.3,  83.4,  68.9,  55.3,  82.4,  72.8,  66.8,  72.4,  63.9,\n",
       "        62.9,  55. ,  54.8,  58. ,  95.5,  65.2,  70.4,  69.5,  68.2,\n",
       "        54. ,  64.4,  76.7,  54.2,  68.7,  71.5,  54.7,  76. ,  53.9,\n",
       "        53.5,  55.9,  60. ,  71.3,  50.8,  74.3,  65.6,  57.9,  57.2,\n",
       "        68.3,  63.6,  59.6,  54.9,  68.5,  67.5,  68.4,  51.8,  76.9,\n",
       "        75.7,  51.2,  71.4,  48.5,  63.5,  63. ,  58.2,  57.3,  69.6,\n",
       "        78.8,  60.8,  78.1,  57.5,  63.4,  65.9,  58.8,  61.5,  67.8,\n",
       "        73.7,  64.6,  59.4,  70.5,  78.3,  73.1,  58.6,  74.9,  68.8,\n",
       "        72.7,  59. ,  63.2,  69.1,  59.3,  54.3,  71.9,  91.7,  64.7,\n",
       "        74.2,  71.2,  61.9,  68.6,  92.8,  62.7,  71.7,  70. ,  70.3,\n",
       "       105.9,  64.2,  77.7,  61.6,  78. ,  53. ,  54.1, 107.7,  71.6,\n",
       "        77.2,  51.3,  67.6,  60.2,  80.2,  54.5,  74.5,  59.2,  69.8,\n",
       "        56.1,  61. ,  55.5,  59.7,  56. ,  66.6,  73.2,  69.7,  75. ,\n",
       "        71.1,  52.3,  55.4,  63.1,  73.4,  75.9,  84.3,  78.5,  75.8,\n",
       "        56.4,  78.4,  49.2,  65.1,  62.6,  76.8,  62.5,  60.6,  59.8,\n",
       "        61.7,  75.2,  52.6,  59.5,  55.6,  53.7,  72.5,  62.2,  49. ,\n",
       "        66.4,  47.8,  79.1,  76.2,  59.1,  53.6,  63.8,  53.8,  53.3,\n",
       "        52.8, 105.7,  77.1,  76.1,  50.7,  60.5,  81.4, 100.7,  52.4,\n",
       "        67.2,  48.8,  68.1,  76.4,  71.8,  55.2,  73.8,  84.6,  72.2,\n",
       "        50.9,  77.8,  50.4,  76.6,  72. ,  81.5,  77.9,  79.8,  48.7,\n",
       "        81. ,  61.3,  52. ,  83.6,  99.2,  84.1,  66.7,  84.8,  65.5,\n",
       "        45.9,  50.6,  96.3,  61.2,  81.6,  51. ,  77.3,  79.7,  60.1,\n",
       "        77. ,  74.1,  61.8,  82.2,  80.7, 101.3,  47.7, 110.2, 107.5,\n",
       "        80.9,  83.7,  82.9,  80.1,  82.8,  80.8,  80.5,  79.9,  62.8,\n",
       "        82. ,  99.1,  51.1,  79.5,  74.6,  62.1,  51.4,  50. ,  80. ,\n",
       "        80.4,  83.9,  81.1,  75.1,  60.4,  75.4,  51.5, 105. ,  59.9,\n",
       "        75.3, 108.6, 110.1,  73.5,  72.9,  79.2,  83.2,  63.7,  76.5,\n",
       "        78.7,  65.8,  62.4,  43.9,  79.6,  49.4, 101. ,  73.3,  87.3,\n",
       "        79.4,  85. ,  80.6,  80.3,  84.5, 109.4, 100.8,  61.4,  48.6,\n",
       "        46.5,  50.1,  47.3,  82.6,  47.2,  46.4,  64. ,  53.2,  84. ,\n",
       "       110.4, 106.8,  51.9,  49.1,  74.8,  51.6,  62. ,  50.2,  69.2,\n",
       "        44.7,  91. ,  93.9, 110.8, 105.5,  52.1,  97.9, 114.2, 111.3,\n",
       "       100.1,  47.6,  46.3, 108.4, 110.5,  46. ,  48.9,  94.3,  78.9,\n",
       "        52.2, 107.2,  49.9,  52.7, 110. ,  87. ,  90. ,  45.8,  60.3,\n",
       "        47. ,  88. ,  94.5,  82.1,  82.3,  48.1, 106. ,  74.7,  50.3,\n",
       "        48.4,  86.5,  47.5,  47.9,  51.7, 113.5,  96.5, 107.3, 108.7,\n",
       "       107. , 110.9,  86.8,  49.7, 109.6,  47.1,  78.6, 117.6,  48.2,\n",
       "       109.1,  97.8, 108.5,  49.6,  49.8,  81.8,  52.5,  47.4,  46.9,\n",
       "        98.7,  83.8,  81.9,  81.7,  46.1,  46.7,  46.8,  48. ,  45.2,\n",
       "        44.3,  53.4,  49.5, 104. , 108.2, 108.9,  45.6,  84.9, 103. ,\n",
       "       105.8, 108.8,  43.7,  44. , 109.2, 103.6,  50.5,  48.3,  64.3,\n",
       "        79. ,  97.2,  82.7,  95.9,  93.1,  94.7, 102.7, 108. ,  61.1,\n",
       "        93.3,  96.2,  96.1, 100.3,  96.4,  45.3,  88.2, 110.6,  43.5,\n",
       "        82.5,  44.9,  93. , 111.2], dtype=float32)"
      ]
     },
     "execution_count": 48,
     "metadata": {},
     "output_type": "execute_result"
    }
   ],
   "source": [
    "df['height'] = df['height'].str.split(' ').str[0]\n",
    "df['height'] = pd.to_numeric(df['height'], downcast='float', errors='coerce')\n",
    "\n",
    "df['height'].unique()"
   ]
  },
  {
   "cell_type": "code",
   "execution_count": 49,
   "id": "585307dc-eb4b-4478-b607-c333638a6acb",
   "metadata": {
    "tags": []
   },
   "outputs": [
    {
     "name": "stdout",
     "output_type": "stream",
     "text": [
      "The amount of null values in the height column are 0.0%.\n",
      "The amount of null values in the height column are 0.0%.\n"
     ]
    }
   ],
   "source": [
    "df['height'].fillna(df['height'].mean(), inplace=True)\n",
    "result = df['height'].isna().sum()/df.shape[0]*100\n",
    "print(f\"The amount of null values in the height column are {result.round(2)}%.\")\n",
    "\n",
    "df['length'] = df['length'].str.split(' ').str[0]\n",
    "df['length'] = pd.to_numeric(df['length'], downcast='float', errors='coerce')\n",
    "df['length'].fillna(df['length'].mean(), inplace=True)\n",
    "result = df['length'].isna().sum()/df.shape[0]*100\n",
    "print(f\"The amount of null values in the height column are {result.round(2)}%.\")"
   ]
  },
  {
   "cell_type": "code",
   "execution_count": 50,
   "id": "0af0953a-4c54-46ec-b175-4a017865dbdf",
   "metadata": {},
   "outputs": [
    {
     "data": {
      "image/png": "[encoded data removed]",
      "text/plain": [
       "<Figure size 1000x600 with 1 Axes>"
      ]
     },
     "metadata": {},
     "output_type": "display_data"
    }
   ],
   "source": [
    "# splitting the column and returning the first value\n",
    "df['width'] = df['width'].str.split(\" \").str[0]\n",
    "# replacing \"--\" with a null value.\n",
    "df['width'].replace(\"--\", np.nan, inplace=True)\n",
    "# converting the column to float.\n",
    "df['width'] = df['width'].astype(float)\n",
    "\n",
    "# plotting the distribution of the column\n",
    "plt.figure(figsize=(10,6))\n",
    "plt.hist(df['width'], bins=20)\n",
    "plt.title('Width')\n",
    "# Add the mode\n",
    "plt.axvline(df['width'].mode()[0], color='r', linestyle='dashed', linewidth=2, label='Mode')\n",
    "# Add the median\n",
    "plt.axvline(df['width'].median(), color='goldenrod', label='median')\n",
    "# Add the mean\n",
    "plt.axvline(df['width'].mean(), color='darkgreen', label='mean')\n",
    "plt.legend()\n",
    "plt.xlabel('Width')\n",
    "plt.ylabel('Frequency')\n",
    "plt.show()"
   ]
  },
  {
   "cell_type": "code",
   "execution_count": 51,
   "id": "909e0c11-ba60-4109-9e73-9cfba310a3c9",
   "metadata": {},
   "outputs": [
    {
     "name": "stdout",
     "output_type": "stream",
     "text": [
      "The amount of null values in the width column are 0.0%.\n"
     ]
    }
   ],
   "source": [
    "# filling the null values with the mode of the column.\n",
    "df['width'].fillna(df['width'].mode()[0], inplace=True)\n",
    "\n",
    "# checking the result\n",
    "result = df['width'].isna().sum()/df.shape[0]*100\n",
    "\n",
    "print(f\"The amount of null values in the width column are {result.round(2)}%.\")"
   ]
  },
  {
   "cell_type": "markdown",
   "id": "28a538b2-8640-4a5f-bf7f-151274b4a737",
   "metadata": {
    "jp-MarkdownHeadingCollapsed": true,
    "tags": []
   },
   "source": [
    "### city_fuel_economy & highway_fuel economy\n",
    "\n",
    "The amount of null values in the city_fuel_economy column is 16.38%, and the amount of null values in the highway_fuel_economy column is 16.38% which are generally very high. Now we have to investigate what the missing values could be, and what we do with them. AT last, when both columns have been processed, we combine them and make a new column 'combined_fuel_economy'."
   ]
  },
  {
   "cell_type": "code",
   "execution_count": 52,
   "id": "ff803b77-7084-49a9-95de-49ee5bea8e09",
   "metadata": {
    "tags": []
   },
   "outputs": [
    {
     "data": {
      "text/plain": [
       "19.0     198957\n",
       "18.0     191820\n",
       "22.0     174752\n",
       "21.0     170908\n",
       "20.0     169252\n",
       "          ...  \n",
       "78.0          6\n",
       "98.0          5\n",
       "93.0          3\n",
       "112.0         3\n",
       "7.0           2\n",
       "Name: city_fuel_economy, Length: 100, dtype: int64"
      ]
     },
     "execution_count": 52,
     "metadata": {},
     "output_type": "execute_result"
    }
   ],
   "source": [
    "# checking for the value counts of the column.\n",
    "df['city_fuel_economy'].value_counts()"
   ]
  },
  {
   "cell_type": "markdown",
   "id": "5f0f6bb1-bed9-460b-8050-49176f227969",
   "metadata": {},
   "source": [
    "Most of the values seem to fall between 10 and 30, so we can fill in the missing values with the mean value."
   ]
  },
  {
   "cell_type": "code",
   "execution_count": 53,
   "id": "94c92181-5f27-4636-9c7b-d18cdce449a2",
   "metadata": {
    "tags": []
   },
   "outputs": [
    {
     "name": "stdout",
     "output_type": "stream",
     "text": [
      "The amount of null values in the city_fuel_economy column are 0.0%\n"
     ]
    }
   ],
   "source": [
    "# replacing null values with the mean of the column\n",
    "df['city_fuel_economy'].replace(np.nan, df['city_fuel_economy'].mean(), inplace=True)\n",
    "\n",
    "# Null check\n",
    "result = df['city_fuel_economy'].isna().sum()/df.shape[0]*100\n",
    "print(f\"The amount of null values in the city_fuel_economy column are {result.round(2)}%\")"
   ]
  },
  {
   "cell_type": "code",
   "execution_count": 54,
   "id": "562c091e-f8ab-4096-a579-f97711a5d645",
   "metadata": {
    "tags": []
   },
   "outputs": [
    {
     "data": {
      "text/plain": [
       "25.0     5.452400\n",
       "27.0     5.441267\n",
       "28.0     5.344700\n",
       "30.0     5.237367\n",
       "22.0     4.948567\n",
       "           ...   \n",
       "10.0     0.000167\n",
       "91.0     0.000100\n",
       "83.0     0.000067\n",
       "56.0     0.000033\n",
       "120.0    0.000033\n",
       "Name: highway_fuel_economy, Length: 99, dtype: float64"
      ]
     },
     "execution_count": 54,
     "metadata": {},
     "output_type": "execute_result"
    }
   ],
   "source": [
    "df['highway_fuel_economy'].value_counts()/df.shape[0]*100"
   ]
  },
  {
   "cell_type": "code",
   "execution_count": 55,
   "id": "692831bb-310a-4a8e-9cba-6eb7e703cf8a",
   "metadata": {
    "tags": []
   },
   "outputs": [
    {
     "name": "stdout",
     "output_type": "stream",
     "text": [
      "The amount of null values in the highway_fuel_economy column are 0.0%.\n"
     ]
    }
   ],
   "source": [
    "# filling the null values with the mean of the column\n",
    "df['highway_fuel_economy'].fillna(df['highway_fuel_economy'].mean(), inplace=True)\n",
    "\n",
    "# checking the result\n",
    "result = df['highway_fuel_economy'].isna().sum()/df.shape[0]*100\n",
    "\n",
    "print(f\"The amount of null values in the highway_fuel_economy column are {result.round(2)}%.\")"
   ]
  },
  {
   "cell_type": "markdown",
   "id": "f17b0f0e-b1ab-433e-8c7e-c4b7f71ffd75",
   "metadata": {},
   "source": [
    "Now that both columns (highway_fuel_economy, city_fuel_economy) have been processed, a new column can be made where we combine the data from both columns."
   ]
  },
  {
   "cell_type": "code",
   "execution_count": 56,
   "id": "2301862b-d0f6-4ee8-a899-8602f6c6daaa",
   "metadata": {
    "tags": []
   },
   "outputs": [
    {
     "data": {
      "text/html": [
       "<div>\n",
       "<style scoped>\n",
       "    .dataframe tbody tr th:only-of-type {\n",
       "        vertical-align: middle;\n",
       "    }\n",
       "\n",
       "    .dataframe tbody tr th {\n",
       "        vertical-align: top;\n",
       "    }\n",
       "\n",
       "    .dataframe thead th {\n",
       "        text-align: right;\n",
       "    }\n",
       "</style>\n",
       "<table border=\"1\" class=\"dataframe\">\n",
       "  <thead>\n",
       "    <tr style=\"text-align: right;\">\n",
       "      <th></th>\n",
       "      <th>back_legroom</th>\n",
       "      <th>body_type</th>\n",
       "      <th>daysonmarket</th>\n",
       "      <th>engine_type</th>\n",
       "      <th>exterior_color</th>\n",
       "      <th>damage_history</th>\n",
       "      <th>front_legroom</th>\n",
       "      <th>fuel_tank_volume</th>\n",
       "      <th>fuel_type</th>\n",
       "      <th>height</th>\n",
       "      <th>...</th>\n",
       "      <th>torque</th>\n",
       "      <th>transmission</th>\n",
       "      <th>transmission_display</th>\n",
       "      <th>wheel_system</th>\n",
       "      <th>wheelbase</th>\n",
       "      <th>width</th>\n",
       "      <th>year</th>\n",
       "      <th>has_picture</th>\n",
       "      <th>has_description</th>\n",
       "      <th>combined_fuel_economy</th>\n",
       "    </tr>\n",
       "  </thead>\n",
       "  <tbody>\n",
       "    <tr>\n",
       "      <th>0</th>\n",
       "      <td>35.099998</td>\n",
       "      <td>SUV / Crossover</td>\n",
       "      <td>522</td>\n",
       "      <td>I4</td>\n",
       "      <td>Yellow</td>\n",
       "      <td>False</td>\n",
       "      <td>41.200001</td>\n",
       "      <td>12.700000</td>\n",
       "      <td>Gasoline</td>\n",
       "      <td>66.500000</td>\n",
       "      <td>...</td>\n",
       "      <td>200 lb-ft @ 1,750 RPM</td>\n",
       "      <td>A</td>\n",
       "      <td>9-Speed Automatic Overdrive</td>\n",
       "      <td>FWD</td>\n",
       "      <td>101.2 in</td>\n",
       "      <td>79.6</td>\n",
       "      <td>2019</td>\n",
       "      <td>True</td>\n",
       "      <td>True</td>\n",
       "      <td>26.08327</td>\n",
       "    </tr>\n",
       "    <tr>\n",
       "      <th>1</th>\n",
       "      <td>38.099998</td>\n",
       "      <td>SUV / Crossover</td>\n",
       "      <td>207</td>\n",
       "      <td>I4</td>\n",
       "      <td>Black</td>\n",
       "      <td>False</td>\n",
       "      <td>39.099998</td>\n",
       "      <td>17.700001</td>\n",
       "      <td>Gasoline</td>\n",
       "      <td>68.000000</td>\n",
       "      <td>...</td>\n",
       "      <td>269 lb-ft @ 1,400 RPM</td>\n",
       "      <td>A</td>\n",
       "      <td>9-Speed Automatic Overdrive</td>\n",
       "      <td>AWD</td>\n",
       "      <td>107.9 in</td>\n",
       "      <td>85.6</td>\n",
       "      <td>2020</td>\n",
       "      <td>True</td>\n",
       "      <td>True</td>\n",
       "      <td>26.08327</td>\n",
       "    </tr>\n",
       "    <tr>\n",
       "      <th>2</th>\n",
       "      <td>35.400002</td>\n",
       "      <td>Sedan</td>\n",
       "      <td>1233</td>\n",
       "      <td>H4</td>\n",
       "      <td>Other Color</td>\n",
       "      <td>False</td>\n",
       "      <td>43.299999</td>\n",
       "      <td>15.900000</td>\n",
       "      <td>Gasoline</td>\n",
       "      <td>58.099998</td>\n",
       "      <td>...</td>\n",
       "      <td>290 lb-ft @ 4,000 RPM</td>\n",
       "      <td>M</td>\n",
       "      <td>6-Speed Manual</td>\n",
       "      <td>AWD</td>\n",
       "      <td>104.3 in</td>\n",
       "      <td>78.9</td>\n",
       "      <td>2016</td>\n",
       "      <td>False</td>\n",
       "      <td>False</td>\n",
       "      <td>20.00000</td>\n",
       "    </tr>\n",
       "    <tr>\n",
       "      <th>3</th>\n",
       "      <td>37.599998</td>\n",
       "      <td>SUV / Crossover</td>\n",
       "      <td>196</td>\n",
       "      <td>V6</td>\n",
       "      <td>Gray</td>\n",
       "      <td>False</td>\n",
       "      <td>39.000000</td>\n",
       "      <td>23.500000</td>\n",
       "      <td>Gasoline</td>\n",
       "      <td>73.000000</td>\n",
       "      <td>...</td>\n",
       "      <td>332 lb-ft @ 3,500 RPM</td>\n",
       "      <td>A</td>\n",
       "      <td>8-Speed Automatic Overdrive</td>\n",
       "      <td>AWD</td>\n",
       "      <td>115 in</td>\n",
       "      <td>87.4</td>\n",
       "      <td>2020</td>\n",
       "      <td>True</td>\n",
       "      <td>True</td>\n",
       "      <td>26.08327</td>\n",
       "    </tr>\n",
       "    <tr>\n",
       "      <th>4</th>\n",
       "      <td>38.099998</td>\n",
       "      <td>SUV / Crossover</td>\n",
       "      <td>137</td>\n",
       "      <td>I4</td>\n",
       "      <td>Black</td>\n",
       "      <td>False</td>\n",
       "      <td>39.099998</td>\n",
       "      <td>17.700001</td>\n",
       "      <td>Gasoline</td>\n",
       "      <td>68.000000</td>\n",
       "      <td>...</td>\n",
       "      <td>269 lb-ft @ 1,400 RPM</td>\n",
       "      <td>A</td>\n",
       "      <td>9-Speed Automatic Overdrive</td>\n",
       "      <td>AWD</td>\n",
       "      <td>107.9 in</td>\n",
       "      <td>85.6</td>\n",
       "      <td>2020</td>\n",
       "      <td>True</td>\n",
       "      <td>True</td>\n",
       "      <td>26.08327</td>\n",
       "    </tr>\n",
       "  </tbody>\n",
       "</table>\n",
       "<p>5 rows × 33 columns</p>\n",
       "</div>"
      ],
      "text/plain": [
       "   back_legroom        body_type  daysonmarket engine_type exterior_color  \\\n",
       "0     35.099998  SUV / Crossover           522          I4         Yellow   \n",
       "1     38.099998  SUV / Crossover           207          I4          Black   \n",
       "2     35.400002            Sedan          1233          H4    Other Color   \n",
       "3     37.599998  SUV / Crossover           196          V6           Gray   \n",
       "4     38.099998  SUV / Crossover           137          I4          Black   \n",
       "\n",
       "  damage_history  front_legroom  fuel_tank_volume fuel_type     height  ...  \\\n",
       "0          False      41.200001         12.700000  Gasoline  66.500000  ...   \n",
       "1          False      39.099998         17.700001  Gasoline  68.000000  ...   \n",
       "2          False      43.299999         15.900000  Gasoline  58.099998  ...   \n",
       "3          False      39.000000         23.500000  Gasoline  73.000000  ...   \n",
       "4          False      39.099998         17.700001  Gasoline  68.000000  ...   \n",
       "\n",
       "                  torque transmission         transmission_display  \\\n",
       "0  200 lb-ft @ 1,750 RPM            A  9-Speed Automatic Overdrive   \n",
       "1  269 lb-ft @ 1,400 RPM            A  9-Speed Automatic Overdrive   \n",
       "2  290 lb-ft @ 4,000 RPM            M               6-Speed Manual   \n",
       "3  332 lb-ft @ 3,500 RPM            A  8-Speed Automatic Overdrive   \n",
       "4  269 lb-ft @ 1,400 RPM            A  9-Speed Automatic Overdrive   \n",
       "\n",
       "   wheel_system wheelbase width  year  has_picture has_description  \\\n",
       "0           FWD  101.2 in  79.6  2019         True            True   \n",
       "1           AWD  107.9 in  85.6  2020         True            True   \n",
       "2           AWD  104.3 in  78.9  2016        False           False   \n",
       "3           AWD    115 in  87.4  2020         True            True   \n",
       "4           AWD  107.9 in  85.6  2020         True            True   \n",
       "\n",
       "   combined_fuel_economy  \n",
       "0               26.08327  \n",
       "1               26.08327  \n",
       "2               20.00000  \n",
       "3               26.08327  \n",
       "4               26.08327  \n",
       "\n",
       "[5 rows x 33 columns]"
      ]
     },
     "execution_count": 56,
     "metadata": {},
     "output_type": "execute_result"
    }
   ],
   "source": [
    "# combining the city and highway fuel economy columns into a combined fuel economy column\n",
    "df['combined_fuel_economy'] = (df['city_fuel_economy'] + df['highway_fuel_economy'])/2 \n",
    "\n",
    "# dropping the city and highway fuel economy columns\n",
    "df.drop(['city_fuel_economy','highway_fuel_economy'], axis=1, inplace=True)\n",
    "\n",
    "# checking the head of the dataframe\n",
    "df.head()"
   ]
  },
  {
   "cell_type": "markdown",
   "id": "5a59bb5f-bb2f-4619-ba83-dc5f955f5843",
   "metadata": {
    "jp-MarkdownHeadingCollapsed": true,
    "tags": []
   },
   "source": [
    "### horsepower\n",
    "\n",
    "The amount of null values in the horsepower column are 5.75%. "
   ]
  },
  {
   "cell_type": "code",
   "execution_count": 57,
   "id": "a34fe4ac-df46-47c0-9d25-ba48e94a10d6",
   "metadata": {
    "tags": []
   },
   "outputs": [
    {
     "data": {
      "text/plain": [
       "170.0    4.028700\n",
       "375.0    2.618733\n",
       "395.0    2.555900\n",
       "310.0    2.343067\n",
       "180.0    2.333400\n",
       "           ...   \n",
       "313.0    0.000033\n",
       "91.0     0.000033\n",
       "77.0     0.000033\n",
       "65.0     0.000033\n",
       "69.0     0.000033\n",
       "Name: horsepower, Length: 455, dtype: float64"
      ]
     },
     "execution_count": 57,
     "metadata": {},
     "output_type": "execute_result"
    }
   ],
   "source": [
    "# checking the value counts of the column.\n",
    "df['horsepower'].value_counts()/df.shape[0]*100"
   ]
  },
  {
   "cell_type": "code",
   "execution_count": 58,
   "id": "4ee82057-fb1f-431c-a0de-bb5ebef59a52",
   "metadata": {
    "tags": []
   },
   "outputs": [
    {
     "name": "stdout",
     "output_type": "stream",
     "text": [
      "The amount of null values in the horsepower column are 0.0%.\n"
     ]
    }
   ],
   "source": [
    "# filling the null values with the most common value\n",
    "df['horsepower'].fillna(df['horsepower'].mode()[0], inplace=True)\n",
    "\n",
    "# checking the result\n",
    "percentage = df['horsepower'].isna().sum()/df.shape[0]*100\n",
    "\n",
    "print(f\"The amount of null values in the horsepower column are {percentage.round(2)}%.\")"
   ]
  },
  {
   "cell_type": "markdown",
   "id": "f350dfc7-646c-45b1-ba62-1c7f8b51a834",
   "metadata": {
    "jp-MarkdownHeadingCollapsed": true,
    "tags": []
   },
   "source": [
    "### major_options\n",
    "\n",
    "The amount of null values in the major_options column are 6.67%."
   ]
  },
  {
   "cell_type": "code",
   "execution_count": 59,
   "id": "90539808-5f8d-4692-b59b-d5aad57cfb6d",
   "metadata": {
    "tags": []
   },
   "outputs": [
    {
     "data": {
      "text/plain": [
       "['Alloy Wheels', 'Bluetooth', 'Backup Camera']                                                                                                                                                                                                                      2.969267\n",
       "['Alloy Wheels']                                                                                                                                                                                                                                                    1.376367\n",
       "['Steel Wheels']                                                                                                                                                                                                                                                    1.366500\n",
       "['Bluetooth', 'Backup Camera']                                                                                                                                                                                                                                      1.229033\n",
       "['Steel Wheels', 'Bluetooth', 'Backup Camera']                                                                                                                                                                                                                      1.213733\n",
       "                                                                                                                                                                                                                                                                      ...   \n",
       "['Power Package', 'Alloy Wheels', 'Technology Package', 'Heat Package', 'Parking Sensors', 'Heated Seats', 'Android Auto', 'Cold Weather Package', 'Quick Order Package', 'CarPlay', 'Multi Zone Climate Control', 'Bluetooth', 'Backup Camera', 'Remote Start']    0.000033\n",
       "['Value Package', 'Power Package', 'Navigation System', 'Alloy Wheels', 'Bluetooth', 'Backup Camera', 'Trailer Package', 'Tow Package']                                                                                                                             0.000033\n",
       "['Sunroof/Moonroof', 'Navigation System', 'Alloy Wheels', 'Premium Wheels', 'Trailer Package', 'Heated Seats', '302A Luxury Equipment Group', 'Tow Package', 'Appearance Package', 'Bluetooth', 'Backup Camera', 'Remote Start', 'Off Road Package']                0.000033\n",
       "['Remote Vehicle Starter Prep Package', 'Navigation System', 'Suspension Package', 'Alloy Wheels', 'Appearance Package', 'LT Package', 'Z 71 Package', 'Skid Plate Package', 'Bluetooth', 'Remote Start', 'Z71 Package']                                            0.000033\n",
       "['Sunroof/Moonroof', 'Adaptive Cruise Control', 'Alloy Wheels', 'Bluetooth', 'Backup Camera', 'Remote Start', 'Blind Spot Monitoring', 'Premium Package', 'Multi Zone Climate Control']                                                                             0.000033\n",
       "Name: major_options, Length: 279972, dtype: float64"
      ]
     },
     "execution_count": 59,
     "metadata": {},
     "output_type": "execute_result"
    }
   ],
   "source": [
    "# checking the value counts\n",
    "df['major_options'].value_counts()/df.shape[0]*100"
   ]
  },
  {
   "cell_type": "code",
   "execution_count": 60,
   "id": "77899cbe-0667-4822-bf88-04cb3532474d",
   "metadata": {
    "tags": []
   },
   "outputs": [
    {
     "data": {
      "text/plain": [
       "4.0     340504\n",
       "3.0     314017\n",
       "5.0     307010\n",
       "6.0     282661\n",
       "7.0     249399\n",
       "8.0     225955\n",
       "2.0     224622\n",
       "1.0     183388\n",
       "9.0     183370\n",
       "10.0    150292\n",
       "11.0    115621\n",
       "12.0     80844\n",
       "13.0     51701\n",
       "14.0     32477\n",
       "15.0     18990\n",
       "16.0     12780\n",
       "17.0      8002\n",
       "18.0      5175\n",
       "19.0      3521\n",
       "20.0      2501\n",
       "21.0      1640\n",
       "22.0      1273\n",
       "23.0      1063\n",
       "24.0       746\n",
       "25.0       623\n",
       "26.0       492\n",
       "27.0       311\n",
       "28.0       222\n",
       "29.0       211\n",
       "30.0       125\n",
       "31.0        93\n",
       "32.0        89\n",
       "33.0        56\n",
       "34.0        48\n",
       "35.0        41\n",
       "36.0        24\n",
       "38.0        14\n",
       "37.0        12\n",
       "39.0         7\n",
       "40.0         6\n",
       "45.0         4\n",
       "41.0         4\n",
       "44.0         3\n",
       "48.0         3\n",
       "53.0         2\n",
       "49.0         2\n",
       "52.0         2\n",
       "50.0         2\n",
       "43.0         2\n",
       "42.0         1\n",
       "59.0         1\n",
       "57.0         1\n",
       "47.0         1\n",
       "Name: major_options_count, dtype: int64"
      ]
     },
     "execution_count": 60,
     "metadata": {},
     "output_type": "execute_result"
    }
   ],
   "source": [
    "# creating a major_options_count column to count the number of major options\n",
    "df['major_options_count'] = df['major_options'].str.count(',') + 1\n",
    " \n",
    "# checking the result\n",
    "df['major_options_count'].value_counts()"
   ]
  },
  {
   "cell_type": "code",
   "execution_count": 61,
   "id": "894fa180-54e8-4415-acac-9c25dd8cd868",
   "metadata": {
    "tags": []
   },
   "outputs": [
    {
     "name": "stdout",
     "output_type": "stream",
     "text": [
      "The amount of null values in the major_options_count column are 0.0%.\n"
     ]
    }
   ],
   "source": [
    "# filling the null values with the mean of the column\n",
    "df['major_options_count'].fillna(df['major_options_count'].mean(), inplace=True)\n",
    " \n",
    "# checking the result\n",
    "result = df['major_options_count'].isna().sum()/df.shape[0]*100\n",
    " \n",
    "print(f\"The amount of null values in the major_options_count column are {result.round(2)}%.\")"
   ]
  },
  {
   "cell_type": "code",
   "execution_count": 62,
   "id": "210dc6a2-31ec-4d5d-aae8-d6533af6e74e",
   "metadata": {
    "tags": []
   },
   "outputs": [],
   "source": [
    "# dropping the major_options column\n",
    "df.drop('major_options', axis=1, inplace=True)"
   ]
  },
  {
   "cell_type": "markdown",
   "id": "216e0354-6126-4281-b01d-d7d5051fce34",
   "metadata": {
    "jp-MarkdownHeadingCollapsed": true,
    "tags": []
   },
   "source": [
    "### maximum_seating\n",
    "\n",
    "The amount of null values in the maximum_seating column are 5.31%."
   ]
  },
  {
   "cell_type": "code",
   "execution_count": 63,
   "id": "2a62a014-93aa-4c70-b9c2-0f63f59a1bb3",
   "metadata": {
    "tags": []
   },
   "outputs": [
    {
     "data": {
      "text/plain": [
       "5 seats     62.511067\n",
       "7 seats     10.177500\n",
       "6 seats     10.049367\n",
       "8 seats      6.678600\n",
       "4 seats      2.705767\n",
       "2 seats      1.170167\n",
       "3 seats      0.989200\n",
       "15 seats     0.196867\n",
       "9 seats      0.121133\n",
       "12 seats     0.056767\n",
       "10 seats     0.018000\n",
       "--           0.016700\n",
       "Name: maximum_seating, dtype: float64"
      ]
     },
     "execution_count": 63,
     "metadata": {},
     "output_type": "execute_result"
    }
   ],
   "source": [
    "# checking the value_counts of the column\n",
    "df['maximum_seating'].value_counts()/df.shape[0]*100"
   ]
  },
  {
   "cell_type": "code",
   "execution_count": 64,
   "id": "baaa3ab0-ab7e-4c10-9e19-684b51b063cf",
   "metadata": {
    "tags": []
   },
   "outputs": [
    {
     "name": "stdout",
     "output_type": "stream",
     "text": [
      "The amount of null values in the maximum_seating column are 0.0%.\n"
     ]
    }
   ],
   "source": [
    "# replacing the \"--\" with np.nan\n",
    "df['maximum_seating'].replace(\"--\", np.nan , inplace=True)\n",
    "\n",
    "# filling the null values with a new value called the most frequent value.\n",
    "df['maximum_seating'].fillna(\"5 seats\", inplace=True)\n",
    "\n",
    "df['maximum_seating'] = df['maximum_seating'].str.split(' ').str[0]\n",
    "\n",
    "# checking the result\n",
    "result = df['maximum_seating'].isna().sum()/df.shape[0]*100\n",
    "\n",
    "print(f\"The amount of null values in the maximum_seating column are {result.round(2)}%.\")"
   ]
  },
  {
   "cell_type": "markdown",
   "id": "60889b59-8fe7-4369-8d14-72b06e65e56a",
   "metadata": {
    "jp-MarkdownHeadingCollapsed": true,
    "tags": []
   },
   "source": [
    "### mileage\n",
    "\n",
    "The amount of null values in the mileage column are 4.81%."
   ]
  },
  {
   "cell_type": "code",
   "execution_count": 65,
   "id": "83be190a-0af0-4d61-95d7-865e47a21486",
   "metadata": {
    "tags": []
   },
   "outputs": [
    {
     "data": {
      "text/plain": [
       "0.0         8.563233\n",
       "5.0         5.029333\n",
       "10.0        4.649367\n",
       "3.0         2.609767\n",
       "2.0         2.544733\n",
       "              ...   \n",
       "137822.0    0.000033\n",
       "142416.0    0.000033\n",
       "271567.0    0.000033\n",
       "163323.0    0.000033\n",
       "121932.0    0.000033\n",
       "Name: mileage, Length: 197577, dtype: float64"
      ]
     },
     "execution_count": 65,
     "metadata": {},
     "output_type": "execute_result"
    }
   ],
   "source": [
    "# checking the value counts\n",
    "df['mileage'].value_counts()/df.shape[0]*100"
   ]
  },
  {
   "cell_type": "code",
   "execution_count": 66,
   "id": "6dc7ef6d-518e-42d5-94b0-2b3c10c92655",
   "metadata": {
    "tags": []
   },
   "outputs": [
    {
     "data": {
      "image/png": "[encoded data removed]",
      "text/plain": [
       "<Figure size 1000x600 with 1 Axes>"
      ]
     },
     "metadata": {},
     "output_type": "display_data"
    }
   ],
   "source": [
    "# plotting the mileage column to see the distribution\n",
    "plt.figure(figsize=(10,6))\n",
    "plt.hist(df['mileage'], bins=20)\n",
    "plt.title('Mileage')\n",
    "# Add the mode\n",
    "plt.axvline(df['mileage'].mode()[0], color='r', linestyle='dashed', linewidth=2, label='Mode')\n",
    "# Add the median\n",
    "plt.axvline(df['mileage'].median(), color='goldenrod', label='median')\n",
    "# Add the mean\n",
    "plt.axvline(df['mileage'].mean(), color='darkgreen', label='mean')\n",
    "#removing scientific notation\n",
    "plt.ticklabel_format(style='plain')\n",
    "plt.legend()\n",
    "plt.xlabel('Mileage')\n",
    "plt.ylabel('Frequency')\n",
    "plt.show()"
   ]
  },
  {
   "cell_type": "code",
   "execution_count": 67,
   "id": "d404b17f-4ba2-4428-b384-3ed580bff873",
   "metadata": {
    "tags": []
   },
   "outputs": [
    {
     "data": {
      "image/png": "[encoded data removed]",
      "text/plain": [
       "<Figure size 1000x600 with 1 Axes>"
      ]
     },
     "metadata": {},
     "output_type": "display_data"
    }
   ],
   "source": [
    "# using the interquartile range to remove outliers\n",
    "q1 = df['mileage'].quantile(0.25)\n",
    "q3 = df['mileage'].quantile(0.75)\n",
    "\n",
    "# calculating the interquartile range\n",
    "iqr = q3 - q1\n",
    "\n",
    "# removing outliers\n",
    "df = df[(df['mileage'] >= q1 - 1.5*iqr) & (df['mileage'] <= q3 + 1.5*iqr)]\n",
    "\n",
    "# checking the result\n",
    "plt.figure(figsize=(10,6))\n",
    "plt.hist(df['mileage'], bins=20)\n",
    "plt.title('Mileage')\n",
    "# Add the mode\n",
    "plt.axvline(df['mileage'].mode()[0], color='r', linestyle='dashed', linewidth=2, label='Mode')\n",
    "# Add the median\n",
    "plt.axvline(df['mileage'].median(), color='goldenrod', label='median')\n",
    "# Add the mean\n",
    "plt.axvline(df['mileage'].mean(), color='darkgreen', label='mean')\n",
    "#removing scientific notation\n",
    "plt.ticklabel_format(style='plain')\n",
    "plt.legend()\n",
    "plt.xlabel('Mileage')\n",
    "plt.ylabel('Frequency')\n",
    "plt.show()"
   ]
  },
  {
   "cell_type": "code",
   "execution_count": 68,
   "id": "dcc5f7e6-3e30-4719-9258-73cddd36e989",
   "metadata": {
    "tags": []
   },
   "outputs": [
    {
     "name": "stdout",
     "output_type": "stream",
     "text": [
      "The amount of null values in the mileage column are 0.0%.\n"
     ]
    }
   ],
   "source": [
    "# filling the null values with the mean of the column\n",
    "df['mileage'].fillna(df['mileage'].mean(), inplace=True)\n",
    "\n",
    "# checking the result\n",
    "result = df['mileage'].isna().sum()/df.shape[0]*100\n",
    "\n",
    "print(f\"The amount of null values in the mileage column are {result.round(2)}%.\")"
   ]
  },
  {
   "cell_type": "markdown",
   "id": "a3196257-e230-4e86-a9fc-769601bf8d02",
   "metadata": {
    "jp-MarkdownHeadingCollapsed": true,
    "tags": []
   },
   "source": [
    "### owner_count\n",
    "\n",
    "The amount of null values in the owner_count column are 50.57%."
   ]
  },
  {
   "cell_type": "code",
   "execution_count": 69,
   "id": "4f58798b-c709-4fe6-9d74-004eb5a46808",
   "metadata": {},
   "outputs": [
    {
     "data": {
      "text/plain": [
       "1.0     34.609183\n",
       "2.0      9.433492\n",
       "3.0      2.484472\n",
       "4.0      0.628963\n",
       "5.0      0.174835\n",
       "6.0      0.058342\n",
       "7.0      0.020031\n",
       "8.0      0.007997\n",
       "9.0      0.003199\n",
       "10.0     0.001104\n",
       "11.0     0.000685\n",
       "14.0     0.000114\n",
       "12.0     0.000076\n",
       "13.0     0.000076\n",
       "15.0     0.000038\n",
       "Name: owner_count, dtype: float64"
      ]
     },
     "execution_count": 69,
     "metadata": {},
     "output_type": "execute_result"
    }
   ],
   "source": [
    "# checking the value counts\n",
    "df['owner_count'].value_counts()/df.shape[0]*100"
   ]
  },
  {
   "cell_type": "markdown",
   "id": "9bbaa7be-df7c-4607-aa69-12b7a3e4a972",
   "metadata": {},
   "source": [
    "In general, it is better to drop those columns with more than 50% empty values, so let's drop this column. Maybe the number of previous owners doesn't matter that much anyway, if the car's other features are suitable for the buyer."
   ]
  },
  {
   "cell_type": "code",
   "execution_count": 70,
   "id": "5dc3d597-df98-44a5-bcb8-35697976ab6c",
   "metadata": {
    "tags": []
   },
   "outputs": [],
   "source": [
    "df = df.drop(['owner_count'], axis=1)"
   ]
  },
  {
   "cell_type": "markdown",
   "id": "f24ffde3-5208-4d17-8558-9031c4c8b41e",
   "metadata": {
    "jp-MarkdownHeadingCollapsed": true,
    "tags": []
   },
   "source": [
    "### power\n",
    "\n",
    "The amount of null values in the power column are 16.05%.\n",
    "\n",
    "Power refers to the output generated by the engine, which quantifies the engine's performance in terms of both power output and revolutions per minute (rpm). Since this RPM-based measurement duplicates the information about the engine's power output, we will eliminate this column from the dataset to avoid redundancy."
   ]
  },
  {
   "cell_type": "code",
   "execution_count": 71,
   "id": "92ae9229-c017-48f2-ba67-17a2d7a513b7",
   "metadata": {
    "tags": []
   },
   "outputs": [],
   "source": [
    "df = df.drop(['power'], axis=1)"
   ]
  },
  {
   "cell_type": "markdown",
   "id": "07234d54-a008-4438-8102-62310b05d77f",
   "metadata": {
    "jp-MarkdownHeadingCollapsed": true,
    "tags": []
   },
   "source": [
    "### torque\n",
    "\n",
    "The amount of null values in the torque column are 17.26%."
   ]
  },
  {
   "cell_type": "code",
   "execution_count": 72,
   "id": "bd66b26b-239c-4f71-91f5-9c9c6be9d67c",
   "metadata": {
    "tags": []
   },
   "outputs": [
    {
     "data": {
      "text/plain": [
       "383 lb-ft @ 4,100 RPM    3.095194\n",
       "400 lb-ft @ 4,500 RPM    2.361467\n",
       "410 lb-ft @ 3,950 RPM    2.010579\n",
       "148 lb-ft @ 200 RPM      1.920477\n",
       "132 lb-ft @ 4,500 RPM    1.858365\n",
       "                           ...   \n",
       "210 lb-ft @ 3,900 RPM    0.000038\n",
       "195 lb-ft @ 2,000 RPM    0.000038\n",
       "378 lb-ft @ 3,050 RPM    0.000038\n",
       "142 lb-ft @ 4,500 RPM    0.000038\n",
       "156 lb-ft @ 4,500 RPM    0.000038\n",
       "Name: torque, Length: 1925, dtype: float64"
      ]
     },
     "execution_count": 72,
     "metadata": {},
     "output_type": "execute_result"
    }
   ],
   "source": [
    "df['torque'].value_counts()/df.shape[0]*100"
   ]
  },
  {
   "cell_type": "markdown",
   "id": "6a14c0a5-4417-4cc9-b00d-169bf7000950",
   "metadata": {
    "tags": []
   },
   "source": [
    "We also have a horsepower category, so we can drop the RPM values and use only the torque values."
   ]
  },
  {
   "cell_type": "code",
   "execution_count": 73,
   "id": "e8137f32-0415-4213-9c88-36d3b979d30b",
   "metadata": {
    "tags": []
   },
   "outputs": [
    {
     "name": "stdout",
     "output_type": "stream",
     "text": [
      "264.2731550652023\n"
     ]
    },
    {
     "data": {
      "image/png": "[encoded data removed]",
      "text/plain": [
       "<Figure size 1000x600 with 1 Axes>"
      ]
     },
     "metadata": {},
     "output_type": "display_data"
    }
   ],
   "source": [
    "# splitting the column and returning the first value\n",
    "df['torque'] = df['torque'].str.split(\" \").str[0]\n",
    "\n",
    "# converting the column to float.\n",
    "df['torque'] = df['torque'].astype(float)\n",
    "\n",
    "print(df['torque'].mean())\n",
    "\n",
    "# plotting the distribution of the column\n",
    "plt.figure(figsize=(10,6))\n",
    "plt.hist(df['torque'], bins=20)\n",
    "plt.title('Torque')\n",
    "# Add the mode\n",
    "plt.axvline(df['torque'].mode()[0], color='r', linestyle='dashed', linewidth=2, label='Mode')\n",
    "# Add the median\n",
    "plt.axvline(df['torque'].median(), color='goldenrod', label='median')\n",
    "# Add the mean\n",
    "plt.axvline(df['torque'].mean(), color='darkgreen', label='mean')\n",
    "plt.legend()\n",
    "plt.xlabel('Torque')\n",
    "plt.ylabel('Frequency')\n",
    "plt.show()"
   ]
  },
  {
   "cell_type": "code",
   "execution_count": 74,
   "id": "fbd29bb9-f42a-407b-8ddd-d20fcd6750d8",
   "metadata": {
    "tags": []
   },
   "outputs": [
    {
     "name": "stdout",
     "output_type": "stream",
     "text": [
      "The amount of null values in the torque column are 0.0%.\n"
     ]
    }
   ],
   "source": [
    "# filling the null values with the mean of the column.\n",
    "df['torque'].fillna(df['torque'].mean(), inplace=True)\n",
    "\n",
    "# checking the result\n",
    "result = df['torque'].isna().sum()/df.shape[0]*100\n",
    "\n",
    "print(f\"The amount of null values in the torque column are {result.round(2)}%.\")"
   ]
  },
  {
   "cell_type": "markdown",
   "id": "90ac755f-58a7-42de-b4f1-4bf0f8866cd4",
   "metadata": {
    "jp-MarkdownHeadingCollapsed": true,
    "tags": []
   },
   "source": [
    "### transmission & transmission_display\n",
    "\n",
    "The amount of null values in the transmission column are 2.14%.\n",
    "The amount of null values in the transmission_display column are 2.14%.\n",
    "\n",
    "The transmission display conveys information about the vehicle's transmission type. However, this information essentially duplicates what is already present in the transmission column. As a result, we will remove this redundant column from the dataset."
   ]
  },
  {
   "cell_type": "code",
   "execution_count": 75,
   "id": "248a92ff-ac2a-4486-a072-d8fe45de0344",
   "metadata": {
    "tags": []
   },
   "outputs": [
    {
     "data": {
      "text/plain": [
       "A              80.065844\n",
       "CVT            15.986572\n",
       "M               1.477012\n",
       "Dual Clutch     0.378650\n",
       "Name: transmission, dtype: float64"
      ]
     },
     "execution_count": 75,
     "metadata": {},
     "output_type": "execute_result"
    }
   ],
   "source": [
    "df['transmission'].value_counts()/df.shape[0]*100"
   ]
  },
  {
   "cell_type": "code",
   "execution_count": 76,
   "id": "7c357a32-97e3-4606-9805-71e13181ca2b",
   "metadata": {
    "tags": []
   },
   "outputs": [
    {
     "name": "stdout",
     "output_type": "stream",
     "text": [
      "The amount of null values in the transmission column are 0.0%.\n"
     ]
    }
   ],
   "source": [
    "# filling the null values with \"A\", for Automatic transmission.\n",
    "df['transmission'].fillna(\"A\", inplace=True)\n",
    "\n",
    "# checking the result\n",
    "result = df['transmission'].isna().sum()/df.shape[0]*100\n",
    "\n",
    "print(f\"The amount of null values in the transmission column are {result.round(2)}%.\")"
   ]
  },
  {
   "cell_type": "code",
   "execution_count": 77,
   "id": "a8618787-428e-4133-a672-21179fc964cc",
   "metadata": {
    "tags": []
   },
   "outputs": [],
   "source": [
    "df = df.drop(['transmission_display'], axis=1)"
   ]
  },
  {
   "cell_type": "markdown",
   "id": "24fde52d-b0f9-4823-9624-86b9b1588d66",
   "metadata": {
    "jp-MarkdownHeadingCollapsed": true,
    "tags": []
   },
   "source": [
    "### wheel_system\n",
    "\n",
    "The amount of null values in the wheel_system column are 4.89%."
   ]
  },
  {
   "cell_type": "code",
   "execution_count": 78,
   "id": "40e01481-18f4-4894-9827-1ed33d0a5ed8",
   "metadata": {
    "tags": []
   },
   "outputs": [
    {
     "data": {
      "text/plain": [
       "FWD    42.348062\n",
       "AWD    23.759459\n",
       "4WD    19.034049\n",
       "RWD     6.197889\n",
       "4X2     3.926182\n",
       "Name: wheel_system, dtype: float64"
      ]
     },
     "execution_count": 78,
     "metadata": {},
     "output_type": "execute_result"
    }
   ],
   "source": [
    "df['wheel_system'].value_counts()/df.shape[0]*100"
   ]
  },
  {
   "cell_type": "code",
   "execution_count": 79,
   "id": "f325686d-fd84-499a-b760-f162438d30dc",
   "metadata": {
    "tags": []
   },
   "outputs": [
    {
     "name": "stdout",
     "output_type": "stream",
     "text": [
      "The amount of null values in the wheel_system column are 0.0%.\n"
     ]
    }
   ],
   "source": [
    "# replacing the null values with \"FWD\".\n",
    "df['wheel_system'].fillna(\"FWD\", inplace=True)\n",
    "\n",
    "# checking the result\n",
    "result = df['wheel_system'].isna().sum()/df.shape[0]*100\n",
    "\n",
    "print(f\"The amount of null values in the wheel_system column are {result.round(2)}%.\")"
   ]
  },
  {
   "cell_type": "markdown",
   "id": "7f7307cc-e285-4039-9cdc-00a5f1f2d22d",
   "metadata": {
    "jp-MarkdownHeadingCollapsed": true,
    "tags": []
   },
   "source": [
    "### wheelbase\n",
    "\n",
    "The amount of null values in the wheel_system column are 5.31%."
   ]
  },
  {
   "cell_type": "code",
   "execution_count": 80,
   "id": "ca4f176a-b172-4217-88e2-536581d3308d",
   "metadata": {
    "tags": []
   },
   "outputs": [
    {
     "data": {
      "text/plain": [
       "106.3 in    6.740406\n",
       "112.2 in    4.488311\n",
       "145 in      3.194740\n",
       "105.1 in    3.013546\n",
       "111.2 in    2.907754\n",
       "              ...   \n",
       "156.4 in    0.000038\n",
       "130.9 in    0.000038\n",
       "170 in      0.000038\n",
       "96.4 in     0.000038\n",
       "138.4 in    0.000038\n",
       "Name: wheelbase, Length: 470, dtype: float64"
      ]
     },
     "execution_count": 80,
     "metadata": {},
     "output_type": "execute_result"
    }
   ],
   "source": [
    "df['wheelbase'].value_counts()/df.shape[0]*100"
   ]
  },
  {
   "cell_type": "code",
   "execution_count": 81,
   "id": "3c3ca267-4782-4b8b-8de3-dba2f5bf1d39",
   "metadata": {
    "tags": []
   },
   "outputs": [],
   "source": [
    "# splitting the column and returning the first value\n",
    "df['wheelbase'] = df['wheelbase'].str.split(\" \").str[0]\n",
    "\n",
    "# replacing \"--\" with a null value.\n",
    "df['wheelbase'].replace(\"--\", np.nan, inplace=True)\n",
    "\n",
    "# converting the column to float.\n",
    "df['wheelbase'] = df['wheelbase'].astype(float)"
   ]
  },
  {
   "cell_type": "code",
   "execution_count": 82,
   "id": "809a75a5-ed33-4894-a496-35e1d746eff5",
   "metadata": {
    "tags": []
   },
   "outputs": [
    {
     "data": {
      "image/png": "[encoded data removed]",
      "text/plain": [
       "<Figure size 1000x600 with 1 Axes>"
      ]
     },
     "metadata": {},
     "output_type": "display_data"
    }
   ],
   "source": [
    "# plotting the distribution of the column\n",
    "plt.figure(figsize=(10,6))\n",
    "plt.hist(df['wheelbase'], bins=20)\n",
    "plt.title('Wheelbase')\n",
    "# Add the mode\n",
    "plt.axvline(df['wheelbase'].mode()[0], color='r', linestyle='dashed', linewidth=2, label='Mode')\n",
    "# Add the median\n",
    "plt.axvline(df['wheelbase'].median(), color='goldenrod', label='median')\n",
    "# Add the mean\n",
    "plt.axvline(df['wheelbase'].mean(), color='darkgreen', label='mean')\n",
    "plt.legend()\n",
    "plt.xlabel('Wheelbase')\n",
    "plt.ylabel('Frequency')\n",
    "plt.show()"
   ]
  },
  {
   "cell_type": "code",
   "execution_count": 83,
   "id": "e5c3fb4f-b481-4039-bd7d-0ef3c961196c",
   "metadata": {
    "tags": []
   },
   "outputs": [
    {
     "name": "stdout",
     "output_type": "stream",
     "text": [
      "The amount of null values in the wheelbase column are 0.0%.\n"
     ]
    }
   ],
   "source": [
    "# filling the null values with the median of the column.\n",
    "df['wheelbase'].fillna(df['wheelbase'].median(), inplace=True)\n",
    "\n",
    "# checking the result\n",
    "result = df['wheelbase'].isna().sum()/df.shape[0]*100\n",
    "\n",
    "print(f\"The amount of null values in the wheelbase column are {result.round(2)}%.\")"
   ]
  },
  {
   "cell_type": "markdown",
   "id": "3d68828e-cf2f-4d0f-8310-3bc942cb4d02",
   "metadata": {
    "tags": []
   },
   "source": [
    "## Cleaned dataframe to csv"
   ]
  },
  {
   "cell_type": "code",
   "execution_count": 84,
   "id": "231044f7-3543-454d-8921-b2a8b2283b24",
   "metadata": {
    "tags": []
   },
   "outputs": [],
   "source": [
    "df.to_csv('cleaned_data.csv', index=False)"
   ]
  },
  {
   "cell_type": "code",
   "execution_count": 85,
   "id": "eceabc4d-b47d-46d7-a73c-fd36469e74ad",
   "metadata": {
    "tags": []
   },
   "outputs": [
    {
     "data": {
      "text/plain": [
       "back_legroom             0\n",
       "body_type                0\n",
       "daysonmarket             0\n",
       "engine_type              0\n",
       "exterior_color           0\n",
       "damage_history           0\n",
       "front_legroom            0\n",
       "fuel_tank_volume         0\n",
       "fuel_type                0\n",
       "height                   0\n",
       "horsepower               0\n",
       "interior_color           0\n",
       "is_new                   0\n",
       "length                   0\n",
       "make_name                0\n",
       "maximum_seating          0\n",
       "mileage                  0\n",
       "model_name               0\n",
       "price                    0\n",
       "savings_amount           0\n",
       "torque                   0\n",
       "transmission             0\n",
       "wheel_system             0\n",
       "wheelbase                0\n",
       "width                    0\n",
       "year                     0\n",
       "has_picture              0\n",
       "has_description          0\n",
       "combined_fuel_economy    0\n",
       "major_options_count      0\n",
       "dtype: int64"
      ]
     },
     "execution_count": 85,
     "metadata": {},
     "output_type": "execute_result"
    }
   ],
   "source": [
    "df.isnull().sum()"
   ]
  },
  {
   "cell_type": "code",
   "execution_count": 86,
   "id": "502ea50b-527f-413a-8bb3-ecb00a261edb",
   "metadata": {
    "tags": []
   },
   "outputs": [
    {
     "data": {
      "text/html": [
       "<div>\n",
       "<style scoped>\n",
       "    .dataframe tbody tr th:only-of-type {\n",
       "        vertical-align: middle;\n",
       "    }\n",
       "\n",
       "    .dataframe tbody tr th {\n",
       "        vertical-align: top;\n",
       "    }\n",
       "\n",
       "    .dataframe thead th {\n",
       "        text-align: right;\n",
       "    }\n",
       "</style>\n",
       "<table border=\"1\" class=\"dataframe\">\n",
       "  <thead>\n",
       "    <tr style=\"text-align: right;\">\n",
       "      <th></th>\n",
       "      <th>back_legroom</th>\n",
       "      <th>body_type</th>\n",
       "      <th>daysonmarket</th>\n",
       "      <th>engine_type</th>\n",
       "      <th>exterior_color</th>\n",
       "      <th>damage_history</th>\n",
       "      <th>front_legroom</th>\n",
       "      <th>fuel_tank_volume</th>\n",
       "      <th>fuel_type</th>\n",
       "      <th>height</th>\n",
       "      <th>...</th>\n",
       "      <th>torque</th>\n",
       "      <th>transmission</th>\n",
       "      <th>wheel_system</th>\n",
       "      <th>wheelbase</th>\n",
       "      <th>width</th>\n",
       "      <th>year</th>\n",
       "      <th>has_picture</th>\n",
       "      <th>has_description</th>\n",
       "      <th>combined_fuel_economy</th>\n",
       "      <th>major_options_count</th>\n",
       "    </tr>\n",
       "  </thead>\n",
       "  <tbody>\n",
       "    <tr>\n",
       "      <th>0</th>\n",
       "      <td>35.099998</td>\n",
       "      <td>SUV / Crossover</td>\n",
       "      <td>522</td>\n",
       "      <td>I4</td>\n",
       "      <td>Yellow</td>\n",
       "      <td>False</td>\n",
       "      <td>41.200001</td>\n",
       "      <td>12.700000</td>\n",
       "      <td>Gasoline</td>\n",
       "      <td>66.500000</td>\n",
       "      <td>...</td>\n",
       "      <td>200.0</td>\n",
       "      <td>A</td>\n",
       "      <td>FWD</td>\n",
       "      <td>101.2</td>\n",
       "      <td>79.6</td>\n",
       "      <td>2019</td>\n",
       "      <td>True</td>\n",
       "      <td>True</td>\n",
       "      <td>26.08327</td>\n",
       "      <td>1.000000</td>\n",
       "    </tr>\n",
       "    <tr>\n",
       "      <th>1</th>\n",
       "      <td>38.099998</td>\n",
       "      <td>SUV / Crossover</td>\n",
       "      <td>207</td>\n",
       "      <td>I4</td>\n",
       "      <td>Black</td>\n",
       "      <td>False</td>\n",
       "      <td>39.099998</td>\n",
       "      <td>17.700001</td>\n",
       "      <td>Gasoline</td>\n",
       "      <td>68.000000</td>\n",
       "      <td>...</td>\n",
       "      <td>269.0</td>\n",
       "      <td>A</td>\n",
       "      <td>AWD</td>\n",
       "      <td>107.9</td>\n",
       "      <td>85.6</td>\n",
       "      <td>2020</td>\n",
       "      <td>True</td>\n",
       "      <td>True</td>\n",
       "      <td>26.08327</td>\n",
       "      <td>1.000000</td>\n",
       "    </tr>\n",
       "    <tr>\n",
       "      <th>3</th>\n",
       "      <td>37.599998</td>\n",
       "      <td>SUV / Crossover</td>\n",
       "      <td>196</td>\n",
       "      <td>V6</td>\n",
       "      <td>Gray</td>\n",
       "      <td>False</td>\n",
       "      <td>39.000000</td>\n",
       "      <td>23.500000</td>\n",
       "      <td>Gasoline</td>\n",
       "      <td>73.000000</td>\n",
       "      <td>...</td>\n",
       "      <td>332.0</td>\n",
       "      <td>A</td>\n",
       "      <td>AWD</td>\n",
       "      <td>115.0</td>\n",
       "      <td>87.4</td>\n",
       "      <td>2020</td>\n",
       "      <td>True</td>\n",
       "      <td>True</td>\n",
       "      <td>26.08327</td>\n",
       "      <td>6.161011</td>\n",
       "    </tr>\n",
       "    <tr>\n",
       "      <th>4</th>\n",
       "      <td>38.099998</td>\n",
       "      <td>SUV / Crossover</td>\n",
       "      <td>137</td>\n",
       "      <td>I4</td>\n",
       "      <td>Black</td>\n",
       "      <td>False</td>\n",
       "      <td>39.099998</td>\n",
       "      <td>17.700001</td>\n",
       "      <td>Gasoline</td>\n",
       "      <td>68.000000</td>\n",
       "      <td>...</td>\n",
       "      <td>269.0</td>\n",
       "      <td>A</td>\n",
       "      <td>AWD</td>\n",
       "      <td>107.9</td>\n",
       "      <td>85.6</td>\n",
       "      <td>2020</td>\n",
       "      <td>True</td>\n",
       "      <td>True</td>\n",
       "      <td>26.08327</td>\n",
       "      <td>1.000000</td>\n",
       "    </tr>\n",
       "    <tr>\n",
       "      <th>5</th>\n",
       "      <td>37.099998</td>\n",
       "      <td>SUV / Crossover</td>\n",
       "      <td>242</td>\n",
       "      <td>I4</td>\n",
       "      <td>Other Color</td>\n",
       "      <td>False</td>\n",
       "      <td>40.200001</td>\n",
       "      <td>16.600000</td>\n",
       "      <td>Gasoline</td>\n",
       "      <td>66.300003</td>\n",
       "      <td>...</td>\n",
       "      <td>269.0</td>\n",
       "      <td>A</td>\n",
       "      <td>AWD</td>\n",
       "      <td>113.1</td>\n",
       "      <td>84.4</td>\n",
       "      <td>2020</td>\n",
       "      <td>True</td>\n",
       "      <td>True</td>\n",
       "      <td>26.08327</td>\n",
       "      <td>8.000000</td>\n",
       "    </tr>\n",
       "  </tbody>\n",
       "</table>\n",
       "<p>5 rows × 30 columns</p>\n",
       "</div>"
      ],
      "text/plain": [
       "   back_legroom        body_type  daysonmarket engine_type exterior_color  \\\n",
       "0     35.099998  SUV / Crossover           522          I4         Yellow   \n",
       "1     38.099998  SUV / Crossover           207          I4          Black   \n",
       "3     37.599998  SUV / Crossover           196          V6           Gray   \n",
       "4     38.099998  SUV / Crossover           137          I4          Black   \n",
       "5     37.099998  SUV / Crossover           242          I4    Other Color   \n",
       "\n",
       "  damage_history  front_legroom  fuel_tank_volume fuel_type     height  ...  \\\n",
       "0          False      41.200001         12.700000  Gasoline  66.500000  ...   \n",
       "1          False      39.099998         17.700001  Gasoline  68.000000  ...   \n",
       "3          False      39.000000         23.500000  Gasoline  73.000000  ...   \n",
       "4          False      39.099998         17.700001  Gasoline  68.000000  ...   \n",
       "5          False      40.200001         16.600000  Gasoline  66.300003  ...   \n",
       "\n",
       "   torque transmission  wheel_system  wheelbase width  year  has_picture  \\\n",
       "0   200.0            A           FWD      101.2  79.6  2019         True   \n",
       "1   269.0            A           AWD      107.9  85.6  2020         True   \n",
       "3   332.0            A           AWD      115.0  87.4  2020         True   \n",
       "4   269.0            A           AWD      107.9  85.6  2020         True   \n",
       "5   269.0            A           AWD      113.1  84.4  2020         True   \n",
       "\n",
       "  has_description  combined_fuel_economy  major_options_count  \n",
       "0            True               26.08327             1.000000  \n",
       "1            True               26.08327             1.000000  \n",
       "3            True               26.08327             6.161011  \n",
       "4            True               26.08327             1.000000  \n",
       "5            True               26.08327             8.000000  \n",
       "\n",
       "[5 rows x 30 columns]"
      ]
     },
     "execution_count": 86,
     "metadata": {},
     "output_type": "execute_result"
    }
   ],
   "source": [
    "df.head()"
   ]
  },
  {
   "cell_type": "code",
   "execution_count": 88,
   "id": "86f68713-1fb4-49d3-81b5-2cd30ceef953",
   "metadata": {
    "tags": []
   },
   "outputs": [
    {
     "data": {
      "text/plain": [
       "(2625910, 30)"
      ]
     },
     "execution_count": 88,
     "metadata": {},
     "output_type": "execute_result"
    }
   ],
   "source": [
    "df.shape"
   ]
  }
 ],
 "metadata": {
  "kernelspec": {
   "display_name": "Python 3 (ipykernel)",
   "language": "python",
   "name": "python3"
  },
  "language_info": {
   "codemirror_mode": {
    "name": "ipython",
    "version": 3
   },
   "file_extension": ".py",
   "mimetype": "text/x-python",
   "name": "python",
   "nbconvert_exporter": "python",
   "pygments_lexer": "ipython3",
   "version": "3.11.4"
  }
 },
 "nbformat": 4,
 "nbformat_minor": 5
}
