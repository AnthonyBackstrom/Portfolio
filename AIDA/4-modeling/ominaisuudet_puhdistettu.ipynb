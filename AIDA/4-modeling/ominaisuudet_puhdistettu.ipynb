{
 "cells": [
  {
   "cell_type": "code",
   "execution_count": 2,
   "id": "50f0710e-1ccd-405c-b43a-afeb1187874b",
   "metadata": {},
   "outputs": [],
   "source": [
    "import pandas as pd\n",
    "from sklearn.model_selection import train_test_split\n",
    "from sklearn.ensemble import RandomForestRegressor\n",
    "from sklearn.preprocessing import OneHotEncoder\n",
    "from sklearn.compose import ColumnTransformer\n",
    "from sklearn.pipeline import Pipeline\n",
    "from sklearn.metrics import mean_squared_error, r2_score\n",
    "\n",
    "# Load the dataset\n",
    "df = pd.read_csv('model_data.csv')"
   ]
  },
  {
   "cell_type": "markdown",
   "id": "a91f835b-e1d4-4816-ac53-fe1fe303bf5f",
   "metadata": {},
   "source": [
    "### Ominaisuuksien tärkeyden arviointi\n",
    "\n",
    "Tässä on arvioitu ominaisuuksien tärkeyttä auton hinnan kannalta.\n",
    "\n",
    "Käytetty random forest -mallia ominaisuuksien tärkeyden arviointiin\n",
    "\n",
    "Käytetty koko puhdistettua dataa ja koodin ajamisessa kesti kauan.\n",
    "\n",
    "n_estimators arvo on pieni ja siinä olisi parantamisen varaa tulosten tarkkuuden kannalta\n",
    "\n",
    "ominaisuudet_100k.ipynb tiedostossa on ajettu sama koodi, mutta pienemmällä datatiedostolla.\n",
    "\n",
    "Nämä tulokset kyllä antavat suuntaa siitä mitkä ominaisuudet ovat tärkeitä auton hinnan kannalta"
   ]
  },
  {
   "cell_type": "code",
   "execution_count": 3,
   "id": "81ac353c-017e-4c86-8dd7-f3365246df65",
   "metadata": {
    "tags": []
   },
   "outputs": [
    {
     "name": "stdout",
     "output_type": "stream",
     "text": [
      "                       Feature  Importance\n",
      "1                   horsepower    0.431989\n",
      "2                      mileage    0.220409\n",
      "4                         year    0.058751\n",
      "3                seller_rating    0.019506\n",
      "0            city_fuel_economy    0.018987\n",
      "...                        ...         ...\n",
      "663   model_name_Falcon Futura    0.000000\n",
      "1377     model_name_Terraplane    0.000000\n",
      "1380          model_name_Thing    0.000000\n",
      "649          model_name_F12tdf    0.000000\n",
      "918         model_name_Mark IX    0.000000\n",
      "\n",
      "[1547 rows x 2 columns]\n"
     ]
    }
   ],
   "source": [
    "# Set features and target variable\n",
    "X = df.drop('price', axis=1)\n",
    "y = df['price']\n",
    "\n",
    "# Define categorical and numerical columns\n",
    "categorical_features = X.select_dtypes(include=['object', 'bool']).columns.tolist()\n",
    "numerical_features = X.select_dtypes(include=['int64', 'float64']).columns.tolist()\n",
    "\n",
    "# Create preprocessing pipeline\n",
    "preprocessor = ColumnTransformer(\n",
    "    transformers=[\n",
    "        ('num', 'passthrough', numerical_features),\n",
    "        ('cat', OneHotEncoder(handle_unknown='ignore'), categorical_features)\n",
    "    ]\n",
    ")\n",
    "\n",
    "# Split the data into training and test sets\n",
    "X_train, X_test, y_train, y_test = train_test_split(X, y, test_size=0.2, random_state=42)\n",
    "\n",
    "# Create random forest model\n",
    "rf_model = RandomForestRegressor(n_estimators=10, random_state=42, n_jobs=-1)\n",
    "\n",
    "# Create pipeline\n",
    "pipeline = Pipeline([\n",
    "    ('preprocessor', preprocessor),\n",
    "    ('model', rf_model)\n",
    "])\n",
    "\n",
    "# Train the model\n",
    "pipeline.fit(X_train, y_train)\n",
    "\n",
    "# Get the learned feature importances from the model\n",
    "feature_importances = rf_model.feature_importances_\n",
    "\n",
    "# Get preprocessed feature names\n",
    "encoded_feature_names = (pipeline.named_steps['preprocessor']\n",
    "                         .transformers_[1][1]\n",
    "                         .get_feature_names_out(categorical_features))\n",
    "\n",
    "# Create a list of all feature names\n",
    "all_feature_names = numerical_features + encoded_feature_names.tolist()\n",
    "\n",
    "# Create a DataFrame for feature importances\n",
    "importances = pd.DataFrame({\n",
    "    'Feature': all_feature_names,\n",
    "    'Importance': feature_importances\n",
    "})\n",
    "\n",
    "# Sort features by their importance\n",
    "importances_sorted = importances.sort_values(by='Importance', ascending=False)\n",
    "\n",
    "# Print the most important features\n",
    "print(importances_sorted)\n"
   ]
  }
 ],
 "metadata": {
  "kernelspec": {
   "display_name": "Python 3 (ipykernel)",
   "language": "python",
   "name": "python3"
  },
  "language_info": {
   "codemirror_mode": {
    "name": "ipython",
    "version": 3
   },
   "file_extension": ".py",
   "mimetype": "text/x-python",
   "name": "python",
   "nbconvert_exporter": "python",
   "pygments_lexer": "ipython3",
   "version": "3.9.16"
  }
 },
 "nbformat": 4,
 "nbformat_minor": 5
}
