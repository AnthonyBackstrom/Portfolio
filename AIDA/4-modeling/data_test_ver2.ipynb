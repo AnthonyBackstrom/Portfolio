{
 "cells": [
  {
   "cell_type": "markdown",
   "metadata": {},
   "source": [
    "## Data Modeling\n",
    "\n",
    "- **Author:** Anthony Bäckström\n",
    "- **Date:** 16.11.2023\n",
    "- **Last Update:** \n",
    "\n",
    "# **Vielä muistiinpano vaiheessa teksti**\n",
    "## Tullaan kirjoittamaan puhtaaksi mallintamisen jälkeen"
   ]
  },
  {
   "cell_type": "markdown",
   "metadata": {},
   "source": [
    "## Data Puhdistusprosessi\n",
    "\n",
    "### Tavoitteet ja Lähestymistapa\n",
    "\n",
    "- Tavoite: Puhdistaa datasetti, muuntaa arvot numeerisiksi ja poistaa sellaiset autot, joista puuttuu tietoja.\n",
    "- Uniikkien Arvojen Säilyttäminen: Pyrimme säilyttämään kaikki uniikit arvot datasetissä.\n",
    "- Datatiedoston Koon Harventaminen: Tavoitteena on harventaa tiedoston kokoa, mikä mahdollistaa tarkemman datan käytön.\n",
    "\n",
    "### Dataprosessoinnin Vaiheet\n",
    "\n",
    "- Ladataan data ja muutetaan dealer_zip-sarakkeen tyyppi merkkijonoksi käyttäen pandas-kirjastoa. Käytämme tqdm-kirjastoa prosessin seurantaan.\n",
    "- Jos tarpeeksi tarkkoja tuloksia ei saada, harkitaan tyhjien arvojen muuttamista keskiarvojen, mediaanien, moodien avulla tai jopa ennustetaan puuttuvat arvot mallin avulla.\n",
    "- Valitaan tarvittavat sarakkeet"
   ]
  },
  {
   "cell_type": "code",
   "execution_count": null,
   "metadata": {},
   "outputs": [],
   "source": [
    "import pandas as pd\n",
    "from tqdm import tqdm\n",
    "\n",
    "def load_data(file_name):\n",
    "    df_iter = pd.read_csv(file_name, dtype={\"dealer_zip\": str}, low_memory=False, iterator=True, chunksize=1000)\n",
    "    df = pd.concat(tqdm(df_iter, desc=\"Loading Data\"))\n",
    "    return df\n",
    "\n",
    "df = load_data(\"used_cars_data.csv\")"
   ]
  },
  {
   "cell_type": "code",
   "execution_count": null,
   "metadata": {},
   "outputs": [],
   "source": [
    "df_cleaned = df.loc[:, [\n",
    "    'body_type', 'city_fuel_economy', 'highway_fuel_economy', \n",
    "    'engine_cylinders', 'exterior_color', 'frame_damaged', \n",
    "    'has_accidents', 'salvage', 'fuel_tank_volume', 'fuel_type', \n",
    "    'horsepower', 'isCab', 'major_options', 'make_name', \n",
    "    'maximum_seating', 'mileage', 'model_name', 'price', 'seller_rating', \n",
    "    'torque', 'transmission', 'wheel_system', 'year'\n",
    "]].copy()"
   ]
  },
  {
   "cell_type": "code",
   "execution_count": null,
   "metadata": {},
   "outputs": [],
   "source": [
    "# Save to new file\n",
    "df_cleaned.to_csv('new_cars_data.csv', index=False)"
   ]
  },
  {
   "cell_type": "markdown",
   "metadata": {},
   "source": [
    "## Uuden Polttoaineen Yhdistelmäsarakkeen Luominen\n",
    "\n",
    "## Tehtävän Kuvaus\n",
    "\n",
    "- Tehdään uusi sarakkeen 'fuel_comb' luominen, joka on keskiarvo 'city_fuel_economy' ja 'highway_fuel_economy' sarakkeista. Tämän jälkeen poistetaan alkuperäiset sarakkeet.\n",
    "\n",
    "## Toteutusvaiheet\n",
    "\n",
    "- Ladataan puhdistettu datasetti.\n",
    "- Lasketaan uuden 'fuel_comb'-sarakkeen arvot ottamalla keskiarvo 'city_fuel_economy' ja 'highway_fuel_economy' sarakkeista.\n",
    "- Poistetaan 'city_fuel_economy' ja 'highway_fuel_economy' sarakkeet datasetistä.\n",
    "- Tallennetaan päivitetty datasetti uudelleen."
   ]
  },
  {
   "cell_type": "code",
   "execution_count": null,
   "metadata": {},
   "outputs": [],
   "source": [
    "import pandas as pd\n",
    "\n",
    "# Load the cleaned dataset\n",
    "file_path = 'new_cars_data.csv'\n",
    "data_cleaned = pd.read_csv(file_path)\n",
    "\n",
    "# Calculate the average of 'city_fuel_economy' and 'highway_fuel_economy'\n",
    "data_cleaned['fuel_comb'] = (data_cleaned['city_fuel_economy'] + data_cleaned['highway_fuel_economy']) / 2\n",
    "\n",
    "# Drop the original 'city_fuel_economy' and 'highway_fuel_economy' columns\n",
    "data_cleaned.drop(['city_fuel_economy', 'highway_fuel_economy'], axis=1, inplace=True)\n",
    "\n",
    "# Save the updated dataset\n",
    "output_file_path = 'new_cars_data.csv'  \n",
    "data_cleaned.to_csv(output_file_path, index=False)\n",
    "\n",
    "print(\"New column 'fuel_comb' added and original columns removed. Data saved to\", output_file_path)"
   ]
  },
  {
   "cell_type": "markdown",
   "metadata": {},
   "source": [
    "## Tyhjien Arvojen Poistaminen Autoista\n",
    "\n",
    "### Tehtävän Kuvaus\n",
    "\n",
    "- Poistetaan kaikki autot datasetistä, joissa on tyhjiä arvoja.\n",
    "- Data ennen Poistoa: Alkuperäisessä datasetissä oli yli 3 miljoonaa autoa.\n",
    "- Data Poiston Jälkeen: Poistoprosessin jälkeen datasetissä on yli 1,1 miljoonaa autoa.\n",
    "\n",
    "### Toteutusvaiheet\n",
    "\n",
    "- Ladataan datasetti.\n",
    "- Tarkistetaan ja poistetaan tyhjät arvot eri sarakkeista.\n",
    "- Tallennetaan puhdistettu datasetti uuteen tiedostoon."
   ]
  },
  {
   "cell_type": "code",
   "execution_count": null,
   "metadata": {},
   "outputs": [],
   "source": [
    "import pandas as pd\n",
    "\n",
    "# Load data\n",
    "\n",
    "df = pd.read_csv('new_cars_data.csv')\n",
    "\n",
    "columns_to_check = [\n",
    "    'body_type', 'fuel_comb',\n",
    "    'engine_cylinders', 'exterior_color', 'frame_damaged',\n",
    "    'has_accidents', 'salvage', 'fuel_tank_volume', 'fuel_type',\n",
    "    'horsepower', 'isCab', 'major_options', 'make_name',\n",
    "    'maximum_seating', 'mileage', 'model_name', 'price', 'seller_rating',\n",
    "    'torque', 'transmission', 'wheel_system', 'year'\n",
    "]\n",
    "\n",
    "for column in columns_to_check:\n",
    "    # Count the number of missing values in each column\n",
    "    num_missing_values = df[column].isna().sum()\n",
    "    if num_missing_values > 0:\n",
    "        # Remove rows where the column value is missing\n",
    "        df = df.dropna(subset=[column])\n",
    "        print(f\"Removed {num_missing_values} rows with missing values in '{column}'.\")\n",
    "\n",
    "# Save the cleaned data to a new file\n",
    "\n",
    "df.to_csv('new_cars_data.csv', index=False)\n",
    "\n",
    "print(\"Data cleaned and saved successfully!\")"
   ]
  },
  {
   "cell_type": "markdown",
   "metadata": {},
   "source": [
    "​\n",
    "\n",
    "    Removed 13543 rows with missing values in 'body_type'.\n",
    "    Removed 477771 rows with missing values in 'fuel_comb'.\n",
    "    Removed 10741 rows with missing values in 'engine_cylinders'.\n",
    "    Removed 24 rows with missing values in 'exterior_color'.\n",
    "    Removed 1176315 rows with missing values in 'frame_damaged'.\n",
    "    Removed 5422 rows with missing values in 'fuel_tank_volume'.\n",
    "    Removed 875 rows with missing values in 'horsepower'.\n",
    "    Removed 45886 rows with missing values in 'major_options'.\n",
    "    Removed 13910 rows with missing values in 'mileage'.\n",
    "    Removed 19519 rows with missing values in 'seller_rating'.\n",
    "    Removed 112492 rows with missing values in 'torque'.\n",
    "    Removed 8285 rows with missing values in 'transmission'.\n",
    "    Removed 91 rows with missing values in 'wheel_system'.\n",
    "    Data cleaned and saved successfully!\n"
   ]
  },
  {
   "cell_type": "markdown",
   "metadata": {},
   "source": [
    "## True/False Sarakkeiden Muuntaminen 1/0 Tyypeiksi\n",
    "\n",
    "### Tehtävän Kuvaus\n",
    "\n",
    "- Muuttaa true/false -arvot 1/0 -arvoiksi tietyissä sarakkeissa.\n",
    "\n",
    "### Toteutusvaiheet\n",
    "\n",
    "- Ladataan datasetti.\n",
    "- Tunnistetaan ja muunnetaan tietyt boolean-sarakkeet 1/0 -arvoiksi.\n",
    "- Tallennetaan muutetut tiedot uuteen tiedostoon."
   ]
  },
  {
   "cell_type": "code",
   "execution_count": null,
   "metadata": {},
   "outputs": [],
   "source": [
    "import pandas as pd\n",
    "\n",
    "# Load data\n",
    "\n",
    "df = pd.read_csv('new_cars_data.csv')\n",
    "\n",
    "# List of columns to convert from True/False to 1/0\n",
    "boolean_columns = ['frame_damaged', 'has_accidents', 'salvage', 'isCab']\n",
    "\n",
    "for column in boolean_columns:\n",
    "    # Check if the column exists in the DataFrame\n",
    "    if column in df.columns:\n",
    "        # Convert True/False to 1/0\n",
    "        df[column] = df[column].map({True: 1, False: 0})\n",
    "        print(f\"Converted '{column}' from True/False to 1/0.\")\n",
    "    else:\n",
    "        print(f\"Column '{column}' not found in the DataFrame.\")\n",
    "\n",
    "# Save the modified data to a new file\n",
    "\n",
    "df.to_csv('new_cars_data.csv', index=False)\n",
    "\n",
    "print(\"Data modified and saved successfully!\")"
   ]
  },
  {
   "cell_type": "markdown",
   "metadata": {},
   "source": [
    "    Converted 'frame_damaged' from True/False to 1/0.\n",
    "    Converted 'has_accidents' from True/False to 1/0.\n",
    "    Converted 'salvage' from True/False to 1/0.\n",
    "    Converted 'isCab' from True/False to 1/0.\n",
    "    Data modified and saved successfully!"
   ]
  },
  {
   "cell_type": "markdown",
   "metadata": {},
   "source": [
    "- arvojen pyöristys kahden desimaalin tarkkuudella"
   ]
  },
  {
   "cell_type": "code",
   "execution_count": null,
   "metadata": {},
   "outputs": [],
   "source": [
    "import pandas as pd\n",
    "\n",
    "# Load data\n",
    "\n",
    "df = pd.read_csv('new_cars_data.csv')\n",
    "\n",
    "# Round the 'seller_rating' column to two decimal places\n",
    "df['seller_rating'] = df['seller_rating'].round(2)\n",
    "\n",
    "#  display the first few rows to verify the changes\n",
    "print(df.head())\n",
    "\n",
    "# Save the modified data back to a CSV file \n",
    "df.to_csv('new_cars_data.csv', index=False)"
   ]
  },
  {
   "cell_type": "markdown",
   "metadata": {},
   "source": [
    "## Polttoainesäiliön Tilavuuden Muokkaus\n",
    "\n",
    "### Tehtävän Kuvaus\n",
    "\n",
    "- Muuttaa 'fuel_tank_volume'-sarakkeen tietoja poistamalla 'gal'-yksikkö ja muuntamalla arvot numeerisiksi.\n",
    "\n",
    "### Toteutusvaiheet\n",
    "\n",
    "- Ladataan datasetti.\n",
    "- Poistetaan 'gal'-yksikkö 'fuel_tank_volume'-sarakkeesta ja muunnetaan jäljelle jäävät arvot numeerisiksi.\n",
    "- Tallennetaan muutokset ja vahvistetaan ne tarkastelemalla datan ensimmäisiä rivejä.\n",
    "- Tallennetaan muokatut tiedot takaisin CSV-tiedostoon."
   ]
  },
  {
   "cell_type": "code",
   "execution_count": null,
   "metadata": {},
   "outputs": [],
   "source": [
    "import pandas as pd\n",
    "\n",
    "\n",
    "df = pd.read_csv('new_cars_data.csv')\n",
    "\n",
    "# Remove 'gal' from the 'fuel_tank_volume' column and convert to numeric\n",
    "df['fuel_tank_volume'] = df['fuel_tank_volume'].str.replace(' gal', '', regex=False)\n",
    "df['fuel_tank_volume'] = pd.to_numeric(df['fuel_tank_volume'], errors='coerce')\n",
    "\n",
    "# Display the first few rows to verify the changes\n",
    "print(df.head())\n",
    "\n",
    "# Save the modified data back to a CSV file\n",
    "df.to_csv('new_cars_data.csv', index=False)"
   ]
  },
  {
   "cell_type": "markdown",
   "metadata": {},
   "source": [
    "## Penkkien Määrän Muokkaus\n",
    "\n",
    "### Tehtävän Kuvaus\n",
    "\n",
    "- Muuttaa 'maximum_seating'-sarakkeen tietoja poistamalla sana 'seats' ja muuntamalla arvot numeerisiksi.\n",
    "\n",
    "### Toteutusvaiheet\n",
    "\n",
    "- Ladataan datasetti.\n",
    "- Poistetaan sana 'seats' 'maximum_seating'-sarakkeesta ja muunnetaan jäljelle jäävät arvot numeerisiksi.\n",
    "- Näytetään ensimmäiset rivit muutosten vahvistamiseksi.\n",
    "- Tallennetaan muokatut tiedot takaisin CSV-tiedostoon."
   ]
  },
  {
   "cell_type": "code",
   "execution_count": null,
   "metadata": {},
   "outputs": [],
   "source": [
    "import pandas as pd\n",
    "\n",
    "# Load data\n",
    "\n",
    "df = pd.read_csv('new_cars_data.csv')\n",
    "\n",
    "# Remove 'seats' from the 'maximum_seating' column and convert to numeric\n",
    "df['maximum_seating'] = df['maximum_seating'].str.replace(' seats', '', regex=False)\n",
    "df['maximum_seating'] = pd.to_numeric(df['maximum_seating'], errors='coerce').astype('Int64')\n",
    "\n",
    "# Display the first few rows to verify the changes\n",
    "print(df.head())\n",
    "\n",
    "\n",
    "# Save the modified data back to a CSV file\n",
    "df.to_csv('new_cars_data.csv', index=False)"
   ]
  },
  {
   "cell_type": "markdown",
   "metadata": {},
   "source": [
    "# objektien muuttaminen koneoppia varten\n",
    "- luon uuden tiedoston varmuuden vuoksi, jos tulee jotai säbää"
   ]
  },
  {
   "cell_type": "markdown",
   "metadata": {},
   "source": [
    "## Korin Mallin One-Hot Encoding\n",
    "\n",
    "### Tehtävän Kuvaus\n",
    "\n",
    "- Suorittaa one-hot encoding 'body_type'-sarakkeelle binäärimenetelmällä, koska eri kori tyyppien arvoja on vähän.\n",
    "\n",
    "### Toteutusvaiheet\n",
    "\n",
    "- Ladataan datasetti.\n",
    "- Suoritetaan one-hot encoding 'body_type'-sarakkeelle pandas-kirjaston avulla.\n",
    "- Näytetään ensimmäiset rivit muutosten vahvistamiseksi.\n",
    "- Tallennetaan muokatut tiedot uuteen CSV-tiedostoon.\n"
   ]
  },
  {
   "cell_type": "code",
   "execution_count": null,
   "metadata": {},
   "outputs": [],
   "source": [
    "import pandas as pd\n",
    "\n",
    "# Load dataset\n",
    "file_path = 'new_cars_data.csv'\n",
    "df = pd.read_csv(file_path)\n",
    "\n",
    "# Perform one-hot encoding on the 'body_type' column\n",
    "df_encoded = pd.get_dummies(df, columns=['body_type'])\n",
    "\n",
    "# Display the first few rows to verify the changes\n",
    "print(df_encoded.head())\n",
    "\n",
    "# Save the modified data \n",
    "df_encoded.to_csv('testi.csv', index=False)"
   ]
  },
  {
   "cell_type": "markdown",
   "metadata": {},
   "source": [
    "## Moottorin Mallin Muokkaus ja One-Hot Encoding\n",
    "\n",
    "### Tehtävän Kuvaus\n",
    "\n",
    "- Soveltamalla one-hot encodingia moottorin mallille, jaotellaan 'engine_cylinders'-sarakkeen arvot perusmoottorityypeiksi ja lisäominaisuuksiksi.\n",
    "- Perusmallit: Esimerkiksi V6, V8, I4 jne.\n",
    "- Lisäarvot: Flex Fuel, Diesel, Hybrid, Biodiesel, Compressed Natural Gas ja Propane, merkittynä 1/0 menetelmällä.\n",
    "\n",
    "### Toteutusvaiheet\n",
    "\n",
    "- Ladataan datasetti.\n",
    "- Erotellaan 'engine_cylinders'-sarakkeesta perusmoottorityypit ja lisäominaisuudet.\n",
    "- Suoritetaan one-hot encoding 'Engine_Type'-sarakkeelle.\n",
    "- Tallennetaan muokatut tiedot uuteen CSV-tiedostoon."
   ]
  },
  {
   "cell_type": "code",
   "execution_count": null,
   "metadata": {},
   "outputs": [],
   "source": [
    "import pandas as pd\n",
    "\n",
    "# Load data\n",
    "df = pd.read_csv('testi.csv')\n",
    "\n",
    "# Split 'engine_cylinders' into 'Engine Type' and additional attributes\n",
    "df['Engine_Type'] = df['engine_cylinders'].str.extract(r'([IVWHR]\\d+)')\n",
    "\n",
    "# Additional attributes\n",
    "df['Flex_Fuel'] = df['engine_cylinders'].str.contains('Flex Fuel Vehicle').astype(int)\n",
    "df['Diesel'] = df['engine_cylinders'].str.contains('Diesel').astype(int)\n",
    "df['Hybrid'] = df['engine_cylinders'].str.contains('Hybrid').astype(int)\n",
    "df['Biodiesel'] = df['engine_cylinders'].str.contains('Biodiesel').astype(int)\n",
    "df['Compressed_Natural_Gas'] = df['engine_cylinders'].str.contains('Compressed Natural Gas').astype(int)\n",
    "df['Propane'] = df['engine_cylinders'].str.contains('Propane').astype(int)\n",
    "\n",
    "# Perform one-hot encoding on the 'Engine_Type' column\n",
    "df = pd.get_dummies(df, columns=['Engine_Type'])\n",
    "\n",
    "# Save the modified data to a new CSV file\n",
    "output_file_path = 'testi.csv'  \n",
    "df.to_csv(output_file_path, index=False)\n",
    "\n",
    "print(f\"Data modified and saved to {output_file_path}\")\n"
   ]
  },
  {
   "cell_type": "markdown",
   "metadata": {},
   "source": [
    "## 'Exterior_Color'-sarakkeen Muuntaminen Taajuuskoodauksella\n",
    "\n",
    "### Tehtävän Kuvaus\n",
    "\n",
    "- Käsitellä 'exterior_color'-sarakkeen suurta kardinalisuutta taajuuskoodauksen avulla. Tässä menetelmässä ainutlaatuiset värit korvataan niiden esiintymistiheydellä datasetissä.\n",
    "- Taajuuskoodaus: Yksinkertainen ja tehokas tapa käsitellä monimutkaisia kategorisia muuttujia, jossa korkean kardinalisuuden ongelma minimoidaan.\n",
    "\n",
    "### Toteutusvaiheet\n",
    "\n",
    "- Ladataan datasetti.\n",
    "- Lasketaan kunkin värin esiintymistiheys.\n",
    "- Korvataan värit niiden tiheyksillä 'exterior_color'-sarakkeessa.\n",
    "- Käytetään muunnettua ominaisuutta koneoppimisessa.\n",
    "- Tallennetaan muokatut tiedot tarvittaessa uuteen CSV-tiedostoon."
   ]
  },
  {
   "cell_type": "code",
   "execution_count": null,
   "metadata": {},
   "outputs": [],
   "source": [
    "import pandas as pd\n",
    "\n",
    "# Load data\n",
    "df = pd.read_csv('testi.csv')\n",
    "\n",
    "# Calculate the frequency of each color\n",
    "color_frequency = df['exterior_color'].value_counts(normalize=True)  # normalize=True gives the proportion\n",
    "\n",
    "# Map each color to its frequency\n",
    "df['exterior_color'] = df['exterior_color'].map(color_frequency)\n",
    "\n",
    "# Display the first few rows to verify the changes\n",
    "print(df.head())\n",
    "\n",
    "\n",
    "df.to_csv('testi.csv', index=False)"
   ]
  },
  {
   "cell_type": "markdown",
   "metadata": {},
   "source": [
    "## 'Fuel_Type'-sarakkeen Muuntaminen One-Hot Encodingilla\n",
    "\n",
    "### Tehtävän Kuvaus\n",
    "\n",
    "- Muuntaa 'fuel_type'-sarakkeen kategoriset arvot one-hot encode -muotoon, mikä on hyödyllistä koneoppimismalleja varten.\n",
    "\n",
    "### Toteutusvaiheet\n",
    "\n",
    "- Ladataan datasetti.\n",
    "- Suoritetaan one-hot encoding 'fuel_type'-sarakkeelle.\n",
    "- Tarkistetaan muutokset näyttämällä datan ensimmäiset rivit.\n",
    "- Tallennetaan muokatut tiedot tarvittaessa uuteen CSV-tiedostoon."
   ]
  },
  {
   "cell_type": "code",
   "execution_count": null,
   "metadata": {},
   "outputs": [],
   "source": [
    "import pandas as pd\n",
    "\n",
    "# Load data\n",
    "df = pd.read_csv('testi.csv')\n",
    "\n",
    "# Perform one-hot encoding on the 'fuel_type' column\n",
    "df_encoded = pd.get_dummies(df, columns=['fuel_type'])\n",
    "\n",
    "# Display the first few rows to verify the changes\n",
    "print(df_encoded.head())\n",
    "\n",
    "\n",
    "df_encoded.to_csv('testi.csv', index=False)"
   ]
  },
  {
   "cell_type": "markdown",
   "metadata": {},
   "source": [
    "## Lisävarusteiden Määrän Laskeminen Autossa\n",
    "\n",
    "### Tehtävän Kuvaus\n",
    "\n",
    "- Laskea kunkin auton lisävarusteiden määrä 'major_options'-sarakkeesta, joka on lista muodossa.\n",
    "- Haaste: 'Major_options'-sarake sisältää monia uniikkeja arvoja, jotka tekevät datan puhdistamisesta haastavaa.\n",
    "\n",
    "### Toteutusvaiheet\n",
    "\n",
    "- Ladataan datasetti.\n",
    "- Luodaan funktio, joka laskee jokaisen auton lisävarusteiden määrän 'major_options'-sarakkeesta.\n",
    "- Sovelletaan funktiota ja lisätään tulos uutena sarakkeena datasettiin.\n",
    "- Tarkistetaan muutokset näyttämällä datan ensimmäiset rivit.\n",
    "- Tallennetaan muokatut tiedot tarvittaessa uuteen CSV-tiedostoon."
   ]
  },
  {
   "cell_type": "code",
   "execution_count": null,
   "metadata": {},
   "outputs": [],
   "source": [
    "%pip install pandas\n",
    "\n",
    "import pandas as pd\n",
    "import ast  # This will be used to safely evaluate the string representation of lists\n",
    "\n",
    "# Load data\n",
    "df = pd.read_csv('testi.csv')\n",
    "\n",
    "# Function to count the number of options\n",
    "# Assumes that every entry in 'major_options' is a valid list of options\n",
    "def count_options(option_string):\n",
    "    try:\n",
    "        options_list = ast.literal_eval(option_string)\n",
    "        return len(options_list)\n",
    "    except:\n",
    "        return 0  # Returns 0 in case of any error in parsing\n",
    "\n",
    "# Apply the function to the 'major_options' column\n",
    "df['options_count'] = df['major_options'].apply(count_options)\n",
    "\n",
    "# Display the first few rows to verify the changes\n",
    "print(df.head())\n",
    "\n",
    "\n",
    "df.to_csv('testi.csv', index=False)"
   ]
  },
  {
   "cell_type": "markdown",
   "metadata": {},
   "source": [
    "## Automerkeille Oman Sarakkeen Luominen One-Hot Encodingilla\n",
    "\n",
    "### Tehtävän Kuvaus\n",
    "\n",
    "- Suorittaa one-hot encoding 'make_name'-sarakkeelle, luomalla jokaiselle automerkille oman sarakkeen.\n",
    "\n",
    "### Toteutusvaiheet\n",
    "\n",
    "- Ladataan datasetti.\n",
    "- Suoritetaan one-hot encoding 'make_name'-sarakkeelle.\n",
    "- Tarkistetaan muutokset näyttämällä datan ensimmäiset rivit.\n",
    "- Tallennetaan muokatut tiedot tarvittaessa uuteen CSV-tiedostoon."
   ]
  },
  {
   "cell_type": "code",
   "execution_count": null,
   "metadata": {},
   "outputs": [],
   "source": [
    "%pip install pandas\n",
    "import pandas as pd\n",
    "\n",
    "# Load data\n",
    "df = pd.read_csv('testi.csv')\n",
    "\n",
    "# Perform one-hot encoding on the 'make_name' column\n",
    "df_encoded = pd.get_dummies(df, columns=['make_name'])\n",
    "\n",
    "# Display the first few rows to verify the changes\n",
    "print(df_encoded.head())\n",
    "\n",
    "\n",
    "df_encoded.to_csv('testi.csv', index=False)"
   ]
  },
  {
   "cell_type": "markdown",
   "metadata": {},
   "source": [
    "## Automerkeille Oman Sarakkeen Luominen One-Hot Encodingilla\n",
    "\n",
    "### Tehtävän Kuvaus\n",
    "\n",
    "- Suorittaa one-hot encoding 'make_name'-sarakkeelle, luomalla jokaiselle automerkille oman sarakkeen.\n",
    "\n",
    "### Toteutusvaiheet\n",
    "\n",
    "- Ladataan datasetti.\n",
    "- Suoritetaan one-hot encoding 'make_name'-sarakkeelle.\n",
    "- Tarkistetaan muutokset näyttämällä datan ensimmäiset rivit.\n",
    "- Tallennetaan muokatut tiedot tarvittaessa uuteen CSV-tiedostoon."
   ]
  },
  {
   "cell_type": "code",
   "execution_count": null,
   "metadata": {},
   "outputs": [],
   "source": [
    "import pandas as pd\n",
    "\n",
    "# Load data\n",
    "df = pd.read_csv('testi.csv')\n",
    "\n",
    "# Calculate the frequency of each model name\n",
    "model_frequency = df['model_name'].value_counts(normalize=True)  # normalize=True gives the proportion\n",
    "\n",
    "# Map each model name to its frequency\n",
    "df['model_name'] = df['model_name'].map(model_frequency)\n",
    "\n",
    "# Display the first few rows to verify the changes\n",
    "print(df.head())\n",
    "\n",
    "df.to_csv('testi.csv', index=False)"
   ]
  },
  {
   "cell_type": "markdown",
   "metadata": {},
   "source": [
    "## 'Transmission'-sarakkeen Muuntaminen One-Hot Encodingilla\n",
    "\n",
    "### Tehtävän Kuvaus\n",
    "\n",
    "- Suorittaa one-hot encoding 'transmission'-sarakkeelle, luomalla jokaiselle vaihteistotyypille oman sarakkeen.\n",
    "\n",
    "### Toteutusvaiheet\n",
    "\n",
    "- Ladataan datasetti.\n",
    "- Suoritetaan one-hot encoding 'transmission'-sarakkeelle.\n",
    "- Tarkistetaan muutokset näyttämällä datan ensimmäiset rivit.\n",
    "- Tallennetaan muokatut tiedot tarvittaessa uuteen CSV-tiedostoon."
   ]
  },
  {
   "cell_type": "code",
   "execution_count": null,
   "metadata": {},
   "outputs": [],
   "source": [
    "import pandas as pd\n",
    "\n",
    "# Load data\n",
    "df = pd.read_csv('testi.csv')\n",
    "\n",
    "# Perform one-hot encoding on the 'transmission' column\n",
    "df_encoded = pd.get_dummies(df, columns=['transmission'])\n",
    "\n",
    "# Display the first few rows to verify the changes\n",
    "print(df_encoded.head())\n",
    "\n",
    "df_encoded.to_csv('testi.csv', index=False)"
   ]
  },
  {
   "cell_type": "markdown",
   "metadata": {},
   "source": [
    "## 'Wheel_System'-sarakkeen Muuntaminen One-Hot Encodingilla\n",
    "\n",
    "### Tehtävän Kuvaus\n",
    "\n",
    "- Suorittaa one-hot encoding 'wheel_system'-sarakkeelle, luomalla jokaiselle pyöräjärjestelmätyypille oman sarakkeen.\n",
    "\n",
    "### Toteutusvaiheet\n",
    "\n",
    "- Ladataan datasetti.\n",
    "- Suoritetaan one-hot encoding 'wheel_system'-sarakkeelle.\n",
    "- Tarkistetaan muutokset näyttämällä datan ensimmäiset rivit.\n",
    "- Tallennetaan muokatut tiedot uuteen CSV-tiedostoon nimellä 'testi3.csv'."
   ]
  },
  {
   "cell_type": "code",
   "execution_count": null,
   "metadata": {},
   "outputs": [],
   "source": [
    "import pandas as pd\n",
    "\n",
    "# Load data\n",
    "df = pd.read_csv('testi.csv')\n",
    "\n",
    "# Perform one-hot encoding on the 'wheel_system' column\n",
    "df_encoded = pd.get_dummies(df, columns=['wheel_system'])\n",
    "\n",
    "# Display the first few rows to verify the changes\n",
    "print(df_encoded.head())\n",
    "\n",
    "df_encoded.to_csv('testi.csv', index=False)"
   ]
  },
  {
   "cell_type": "markdown",
   "metadata": {},
   "source": [
    "## Koneoppimallien testaus"
   ]
  }
 ],
 "metadata": {
  "language_info": {
   "name": "python"
  }
 },
 "nbformat": 4,
 "nbformat_minor": 2
}
