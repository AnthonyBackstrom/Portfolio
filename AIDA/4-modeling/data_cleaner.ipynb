{
 "cells": [
  {
   "cell_type": "code",
   "execution_count": 2,
   "id": "88d51f6d-46b6-4506-b972-e6291bcbb3eb",
   "metadata": {
    "tags": []
   },
   "outputs": [],
   "source": [
    "import pandas as pd\n",
    "\n",
    "df = pd.read_csv('your_file.csv', low_memory=False)"
   ]
  },
  {
   "cell_type": "markdown",
   "id": "b988627a-84db-401c-8a05-4580bec62951",
   "metadata": {},
   "source": [
    "### Datan siivous/muokkaus\n",
    "Datassa on täytetty kaikki tyhjät arvot joko 'Other', 'False', '0', keskiarvolla, tai mediaanilla riippuen sarakkeesta. Tätä voisi vielä testata sillä että poistaisi kaikki tyhjät arvot ja katsoisi millaisia tuloksia sellaisella datalla saisi.\n",
    "\n",
    "Värit on myös ryhmitelty, esim ICE SILVER ja METALLIC SILVER ovat yhdistetty kummatkin SILVER ryhmään. En tiedä onko tämä fiksua. Värien käyttäminen näin mallin koulutuksessa taisi huonontaa mallin suoriutumista (muistaakseni). Vaatii testausta.\n",
    "\n",
    "Lopuksi tulostettu null arvojen määrä, jonka pitäisi olla 0\n",
    "\n",
    "Olen luonut uuden datatiedoston jossa on vain valitut sarakkeet ja kaikki null-arvot on korvattu.\n",
    "\n",
    "#### Huom suurin osa datan analysoinnin välivaiheista puuttuu, niitä on tehty eri tiedostoissa eikä tuloksia ole kasattu yhteen sen jälkeen!"
   ]
  },
  {
   "cell_type": "code",
   "execution_count": 3,
   "id": "365087b9-67c8-4db6-af40-431fa044c6dd",
   "metadata": {
    "tags": []
   },
   "outputs": [
    {
     "name": "stdout",
     "output_type": "stream",
     "text": [
      "body_type            0\n",
      "city_fuel_economy    0\n",
      "exterior_color       0\n",
      "fuel_type            0\n",
      "horsepower           0\n",
      "isCab                0\n",
      "is_cpo               0\n",
      "is_new               0\n",
      "is_oemcpo            0\n",
      "make_name            0\n",
      "mileage              0\n",
      "model_name           0\n",
      "price                0\n",
      "seller_rating        0\n",
      "transmission         0\n",
      "wheel_system         0\n",
      "year                 0\n",
      "dtype: int64\n"
     ]
    }
   ],
   "source": [
    "# Replace missing values\n",
    "df['body_type'].fillna('Other', inplace=True)\n",
    "# df['exterior_color'].fillna('Other', inplace=True)\n",
    "df['transmission'].fillna('Other', inplace=True)\n",
    "df['wheel_system'].fillna('Other', inplace=True)\n",
    "df['fuel_type'].fillna('Other', inplace=True)\n",
    "\n",
    "df['is_cpo'].fillna(False, inplace=True)\n",
    "df['is_oemcpo'].fillna(False, inplace=True)\n",
    "df['isCab'].fillna(False, inplace=True)\n",
    "\n",
    "df['mileage'].fillna(0, inplace=True)\n",
    "\n",
    "# Calculate mean and median values and replace null values with these\n",
    "seller_rating_mean = df['seller_rating'].mean()\n",
    "df['seller_rating'] = df['seller_rating'].fillna(seller_rating_mean)\n",
    "\n",
    "city_fuel_economy_median = df['city_fuel_economy'].median()\n",
    "df['city_fuel_economy'] = df['city_fuel_economy'].fillna(city_fuel_economy_median)\n",
    "\n",
    "horsepower_median = df['horsepower'].median()\n",
    "df['horsepower'] = df['horsepower'].fillna(horsepower_median)\n",
    "\n",
    "# Define a list of common colors to which we want to map the variants\n",
    "common_colors = ['Black', 'Gray', 'White', 'Silver', 'Red', 'Blue', 'Green', 'Brown']\n",
    "\n",
    "# Go through common colors and combine variants\n",
    "for color in common_colors:\n",
    "    # regex=True allows partial string matching\n",
    "    df['exterior_color'] = df['exterior_color'].str.replace(f'.*{color}.*', color, case=False, regex=True)\n",
    "\n",
    "# Create a function to combine color names or replace them with 'Other' category\n",
    "def categorize_color(color):\n",
    "    if pd.isnull(color):\n",
    "        return 'Other'\n",
    "    color = color.lower()\n",
    "    for common_color in common_colors:\n",
    "        if common_color.lower() in color:\n",
    "            return common_color.capitalize()\n",
    "    return 'Other'\n",
    "\n",
    "# Apply the created function to each row in the 'exterior_color' column\n",
    "df['exterior_color'] = df['exterior_color'].apply(categorize_color)\n",
    "\n",
    "# Print possible null values in the dataframe\n",
    "null_counts = df.isnull().sum()\n",
    "print(null_counts)\n",
    "\n",
    "# Uncomment the following line to create a new .csv file\n",
    "# df.to_csv('your_new_file.csv', index=False)"
   ]
  },
  {
   "cell_type": "code",
   "execution_count": null,
   "id": "4d2bf14b-688a-4a17-a6f7-090b0e85b738",
   "metadata": {
    "tags": []
   },
   "outputs": [],
   "source": []
  }
 ],
 "metadata": {
  "kernelspec": {
   "display_name": "Python 3 (ipykernel)",
   "language": "python",
   "name": "python3"
  },
  "language_info": {
   "codemirror_mode": {
    "name": "ipython",
    "version": 3
   },
   "file_extension": ".py",
   "mimetype": "text/x-python",
   "name": "python",
   "nbconvert_exporter": "python",
   "pygments_lexer": "ipython3",
   "version": "3.9.16"
  }
 },
 "nbformat": 4,
 "nbformat_minor": 5
}
