{
 "cells": [
  {
   "cell_type": "code",
   "execution_count": 9,
   "id": "d0fb0e21-b509-4b39-ad23-db8d4297bde9",
   "metadata": {},
   "outputs": [],
   "source": [
    "import pandas as pd\n",
    "from sklearn.model_selection import train_test_split\n",
    "from sklearn.ensemble import RandomForestRegressor\n",
    "from sklearn.metrics import mean_squared_error, r2_score\n",
    "from sklearn.compose import ColumnTransformer\n",
    "from sklearn.preprocessing import OneHotEncoder, StandardScaler\n",
    "from sklearn.pipeline import Pipeline\n",
    "from sklearn.impute import SimpleImputer\n",
    "\n",
    "# Load the dataset\n",
    "df = pd.read_csv('model_data.csv')"
   ]
  },
  {
   "cell_type": "markdown",
   "id": "3113ff5e-781a-4f7e-b078-c450acc2b274",
   "metadata": {},
   "source": [
    "### Malli\n",
    "Random Forest\n",
    "\n",
    "Kokeiltu myös Linear Regressionia jolla sain huonoja tuloksia\n",
    "\n",
    "Voi testata vaihtelemalla hyperparametreja, datatiedostoa ja käytettäviä sarakkeita. \n",
    "\n",
    "Testissä käytetty datatiedostoa joka sisältää kaikki rivit alkuperäisestä datatiedostosta.\n",
    "\n",
    "Dataa on muokattu, kuten tyhjät arvot korvattu False:lla joissain tapauksissa, sekä käytetty mediaania tai keskiarvoa tyhjien arvojen kohdalla tietyissä sarakkeissa.\n",
    "\n",
    "Tälläkin mallilla/datalla voi saada paremman tarkkuuden, jos käyttää suurempaa n_estimators ja max_depth arvoa, mutta koodin suorittamisessa tulee silloin menemään todella kauan aikaa. Tämän koodin suorittamisessa kesti 30-60min, en muista tarkalleen.\n",
    "\n",
    "##### HUOM mallin tarkkuus on ihan hyvä, mutta kun virheitä hinnan arvioinnissa tulee, niin hinnan heitto voi olla todella suurta."
   ]
  },
  {
   "cell_type": "code",
   "execution_count": 16,
   "id": "ba909260-aeaf-4867-8664-fa5d08ff02d3",
   "metadata": {
    "tags": []
   },
   "outputs": [
    {
     "name": "stdout",
     "output_type": "stream",
     "text": [
      "Mean Squared Error: 76204404.07277617\n",
      "R^2 Score: 0.8224115158165506\n"
     ]
    }
   ],
   "source": [
    "# Selecting the desired columns for features and target variable\n",
    "X = df[['mileage', 'make_name', 'horsepower', 'year', 'body_type', 'seller_rating', 'model_name', 'city_fuel_economy']]  # Features\n",
    "y = df['price']  # Target variable\n",
    "\n",
    "# One-Hot Encoding categorial features\n",
    "categorical_features = ['make_name', 'body_type', 'model_name']\n",
    "numerical_features = ['mileage', 'horsepower', 'year', 'seller_rating']\n",
    "\n",
    "# Creating preprocessing pipelines\n",
    "categorical_pipeline = Pipeline(steps=[\n",
    "    ('onehot', OneHotEncoder(handle_unknown='ignore'))  # Applies One-Hot Encoding\n",
    "])\n",
    "\n",
    "# No changes to numerical features in this pipeline, but you might want to scale them\n",
    "preprocessor = ColumnTransformer(\n",
    "    transformers=[\n",
    "        ('cat', categorical_pipeline, categorical_features),\n",
    "        ('num', 'passthrough', numerical_features)\n",
    "    ]\n",
    ")\n",
    "\n",
    "# Splitting the data into training and testing sets\n",
    "X_train, X_test, y_train, y_test = train_test_split(X, y, test_size=0.2, random_state=42)\n",
    "\n",
    "# Creating a Random Forest model\n",
    "model = RandomForestRegressor(n_estimators=20, max_depth=28, random_state=42, n_jobs=-1)\n",
    "\n",
    "# Creating the final pipeline that includes preprocessing and the model\n",
    "pipeline = Pipeline([\n",
    "    ('preprocessor', preprocessor),\n",
    "    ('model', model)\n",
    "])\n",
    "\n",
    "# Training the model with training data\n",
    "pipeline.fit(X_train, y_train)\n",
    "\n",
    "# Predicting the 'price' for the test data\n",
    "y_pred = pipeline.predict(X_test)\n",
    "\n",
    "# Calculating the performance of the predictions\n",
    "mse = mean_squared_error(y_test, y_pred)\n",
    "r2 = r2_score(y_test, y_pred)\n",
    "\n",
    "# Printing performance metrics\n",
    "print(f'Mean Squared Error: {mse}')\n",
    "print(f'R^2 Score: {r2}')"
   ]
  }
 ],
 "metadata": {
  "kernelspec": {
   "display_name": "Python 3 (ipykernel)",
   "language": "python",
   "name": "python3"
  },
  "language_info": {
   "codemirror_mode": {
    "name": "ipython",
    "version": 3
   },
   "file_extension": ".py",
   "mimetype": "text/x-python",
   "name": "python",
   "nbconvert_exporter": "python",
   "pygments_lexer": "ipython3",
   "version": "3.9.16"
  }
 },
 "nbformat": 4,
 "nbformat_minor": 5
}
