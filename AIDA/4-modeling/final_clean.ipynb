{
 "cells": [
  {
   "cell_type": "markdown",
   "id": "6d0127c5-90cb-4055-9b98-7cb2ee9a92fa",
   "metadata": {},
   "source": [
    "# Datan esikäsittely"
   ]
  },
  {
   "cell_type": "code",
   "execution_count": 1,
   "id": "3e67c2d1-23ed-4afd-bbad-51af82ee5972",
   "metadata": {
    "tags": []
   },
   "outputs": [
    {
     "data": {
      "text/html": [
       "<div>\n",
       "<style scoped>\n",
       "    .dataframe tbody tr th:only-of-type {\n",
       "        vertical-align: middle;\n",
       "    }\n",
       "\n",
       "    .dataframe tbody tr th {\n",
       "        vertical-align: top;\n",
       "    }\n",
       "\n",
       "    .dataframe thead th {\n",
       "        text-align: right;\n",
       "    }\n",
       "</style>\n",
       "<table border=\"1\" class=\"dataframe\">\n",
       "  <thead>\n",
       "    <tr style=\"text-align: right;\">\n",
       "      <th></th>\n",
       "      <th>vin</th>\n",
       "      <th>body_type</th>\n",
       "      <th>city_fuel_economy</th>\n",
       "      <th>engine_type</th>\n",
       "      <th>exterior_color</th>\n",
       "      <th>frame_damaged</th>\n",
       "      <th>fuel_tank_volume</th>\n",
       "      <th>fuel_type</th>\n",
       "      <th>has_accidents</th>\n",
       "      <th>highway_fuel_economy</th>\n",
       "      <th>...</th>\n",
       "      <th>maximum_seating</th>\n",
       "      <th>mileage</th>\n",
       "      <th>model_name</th>\n",
       "      <th>price</th>\n",
       "      <th>salvage</th>\n",
       "      <th>seller_rating</th>\n",
       "      <th>torque</th>\n",
       "      <th>transmission</th>\n",
       "      <th>wheel_system</th>\n",
       "      <th>year</th>\n",
       "    </tr>\n",
       "  </thead>\n",
       "  <tbody>\n",
       "    <tr>\n",
       "      <th>0</th>\n",
       "      <td>ZACNJABB5KPJ92081</td>\n",
       "      <td>SUV / Crossover</td>\n",
       "      <td>NaN</td>\n",
       "      <td>I4</td>\n",
       "      <td>Solar Yellow</td>\n",
       "      <td>NaN</td>\n",
       "      <td>12.7 gal</td>\n",
       "      <td>Gasoline</td>\n",
       "      <td>NaN</td>\n",
       "      <td>NaN</td>\n",
       "      <td>...</td>\n",
       "      <td>5 seats</td>\n",
       "      <td>7.0</td>\n",
       "      <td>Renegade</td>\n",
       "      <td>23141.0</td>\n",
       "      <td>NaN</td>\n",
       "      <td>2.8</td>\n",
       "      <td>200 lb-ft @ 1,750 RPM</td>\n",
       "      <td>A</td>\n",
       "      <td>FWD</td>\n",
       "      <td>2019</td>\n",
       "    </tr>\n",
       "    <tr>\n",
       "      <th>1</th>\n",
       "      <td>SALCJ2FX1LH858117</td>\n",
       "      <td>SUV / Crossover</td>\n",
       "      <td>NaN</td>\n",
       "      <td>I4</td>\n",
       "      <td>Narvik Black</td>\n",
       "      <td>NaN</td>\n",
       "      <td>17.7 gal</td>\n",
       "      <td>Gasoline</td>\n",
       "      <td>NaN</td>\n",
       "      <td>NaN</td>\n",
       "      <td>...</td>\n",
       "      <td>7 seats</td>\n",
       "      <td>8.0</td>\n",
       "      <td>Discovery Sport</td>\n",
       "      <td>46500.0</td>\n",
       "      <td>NaN</td>\n",
       "      <td>3.0</td>\n",
       "      <td>269 lb-ft @ 1,400 RPM</td>\n",
       "      <td>A</td>\n",
       "      <td>AWD</td>\n",
       "      <td>2020</td>\n",
       "    </tr>\n",
       "    <tr>\n",
       "      <th>2</th>\n",
       "      <td>JF1VA2M67G9829723</td>\n",
       "      <td>Sedan</td>\n",
       "      <td>17.0</td>\n",
       "      <td>H4</td>\n",
       "      <td>None</td>\n",
       "      <td>False</td>\n",
       "      <td>15.9 gal</td>\n",
       "      <td>Gasoline</td>\n",
       "      <td>False</td>\n",
       "      <td>23.0</td>\n",
       "      <td>...</td>\n",
       "      <td>5 seats</td>\n",
       "      <td>NaN</td>\n",
       "      <td>WRX STI</td>\n",
       "      <td>46995.0</td>\n",
       "      <td>False</td>\n",
       "      <td>NaN</td>\n",
       "      <td>290 lb-ft @ 4,000 RPM</td>\n",
       "      <td>M</td>\n",
       "      <td>AWD</td>\n",
       "      <td>2016</td>\n",
       "    </tr>\n",
       "    <tr>\n",
       "      <th>3</th>\n",
       "      <td>SALRR2RV0L2433391</td>\n",
       "      <td>SUV / Crossover</td>\n",
       "      <td>NaN</td>\n",
       "      <td>V6</td>\n",
       "      <td>Eiger Gray</td>\n",
       "      <td>NaN</td>\n",
       "      <td>23.5 gal</td>\n",
       "      <td>Gasoline</td>\n",
       "      <td>NaN</td>\n",
       "      <td>NaN</td>\n",
       "      <td>...</td>\n",
       "      <td>7 seats</td>\n",
       "      <td>11.0</td>\n",
       "      <td>Discovery</td>\n",
       "      <td>67430.0</td>\n",
       "      <td>NaN</td>\n",
       "      <td>3.0</td>\n",
       "      <td>332 lb-ft @ 3,500 RPM</td>\n",
       "      <td>A</td>\n",
       "      <td>AWD</td>\n",
       "      <td>2020</td>\n",
       "    </tr>\n",
       "    <tr>\n",
       "      <th>4</th>\n",
       "      <td>SALCJ2FXXLH862327</td>\n",
       "      <td>SUV / Crossover</td>\n",
       "      <td>NaN</td>\n",
       "      <td>I4</td>\n",
       "      <td>Narvik Black</td>\n",
       "      <td>NaN</td>\n",
       "      <td>17.7 gal</td>\n",
       "      <td>Gasoline</td>\n",
       "      <td>NaN</td>\n",
       "      <td>NaN</td>\n",
       "      <td>...</td>\n",
       "      <td>7 seats</td>\n",
       "      <td>7.0</td>\n",
       "      <td>Discovery Sport</td>\n",
       "      <td>48880.0</td>\n",
       "      <td>NaN</td>\n",
       "      <td>3.0</td>\n",
       "      <td>269 lb-ft @ 1,400 RPM</td>\n",
       "      <td>A</td>\n",
       "      <td>AWD</td>\n",
       "      <td>2020</td>\n",
       "    </tr>\n",
       "  </tbody>\n",
       "</table>\n",
       "<p>5 rows × 24 columns</p>\n",
       "</div>"
      ],
      "text/plain": [
       "                 vin        body_type  city_fuel_economy engine_type  \\\n",
       "0  ZACNJABB5KPJ92081  SUV / Crossover                NaN          I4   \n",
       "1  SALCJ2FX1LH858117  SUV / Crossover                NaN          I4   \n",
       "2  JF1VA2M67G9829723            Sedan               17.0          H4   \n",
       "3  SALRR2RV0L2433391  SUV / Crossover                NaN          V6   \n",
       "4  SALCJ2FXXLH862327  SUV / Crossover                NaN          I4   \n",
       "\n",
       "  exterior_color frame_damaged fuel_tank_volume fuel_type has_accidents  \\\n",
       "0   Solar Yellow           NaN         12.7 gal  Gasoline           NaN   \n",
       "1   Narvik Black           NaN         17.7 gal  Gasoline           NaN   \n",
       "2           None         False         15.9 gal  Gasoline         False   \n",
       "3     Eiger Gray           NaN         23.5 gal  Gasoline           NaN   \n",
       "4   Narvik Black           NaN         17.7 gal  Gasoline           NaN   \n",
       "\n",
       "   highway_fuel_economy  ...  maximum_seating mileage       model_name  \\\n",
       "0                   NaN  ...          5 seats     7.0         Renegade   \n",
       "1                   NaN  ...          7 seats     8.0  Discovery Sport   \n",
       "2                  23.0  ...          5 seats     NaN          WRX STI   \n",
       "3                   NaN  ...          7 seats    11.0        Discovery   \n",
       "4                   NaN  ...          7 seats     7.0  Discovery Sport   \n",
       "\n",
       "     price salvage  seller_rating                 torque  transmission  \\\n",
       "0  23141.0     NaN            2.8  200 lb-ft @ 1,750 RPM             A   \n",
       "1  46500.0     NaN            3.0  269 lb-ft @ 1,400 RPM             A   \n",
       "2  46995.0   False            NaN  290 lb-ft @ 4,000 RPM             M   \n",
       "3  67430.0     NaN            3.0  332 lb-ft @ 3,500 RPM             A   \n",
       "4  48880.0     NaN            3.0  269 lb-ft @ 1,400 RPM             A   \n",
       "\n",
       "  wheel_system  year  \n",
       "0          FWD  2019  \n",
       "1          AWD  2020  \n",
       "2          AWD  2016  \n",
       "3          AWD  2020  \n",
       "4          AWD  2020  \n",
       "\n",
       "[5 rows x 24 columns]"
      ]
     },
     "execution_count": 1,
     "metadata": {},
     "output_type": "execute_result"
    }
   ],
   "source": [
    "import pandas as pd\n",
    "import numpy as np\n",
    "\n",
    "df = pd.read_csv('./temp/used_cars_data.csv', usecols= ['vin', 'body_type', 'city_fuel_economy', 'highway_fuel_economy', 'engine_type', 'exterior_color', 'frame_damaged', 'has_accidents', 'salvage', 'fuel_tank_volume', 'fuel_type', 'horsepower', 'isCab', 'make_name', 'maximum_seating', 'mileage', 'model_name', 'major_options', 'seller_rating', 'price', 'torque', 'transmission', 'wheel_system', 'year'])\n",
    "df.head()"
   ]
  },
  {
   "cell_type": "markdown",
   "id": "64ac0da3-63c4-4a39-a625-3d3771e49627",
   "metadata": {},
   "source": [
    "## Poistetaan duplikaattirivit\n",
    "\n",
    "Poistetaan rivit, joissa vin on sama. Tämän jälkeen poistetaan myös vin datasetistä, koska emme käytä sitä."
   ]
  },
  {
   "cell_type": "code",
   "execution_count": 2,
   "id": "b88e59b8-adf0-44be-ba1a-857bf5910c6a",
   "metadata": {
    "tags": []
   },
   "outputs": [
    {
     "name": "stdout",
     "output_type": "stream",
     "text": [
      "Duplicate rows count: 40\n"
     ]
    }
   ],
   "source": [
    "duplicate_rows = df.duplicated().sum()\n",
    "print(f\"Duplicate rows count: {duplicate_rows}\")"
   ]
  },
  {
   "cell_type": "code",
   "execution_count": 3,
   "id": "5feae326-67d8-4cf0-9646-94f25c20f8a6",
   "metadata": {
    "tags": []
   },
   "outputs": [
    {
     "name": "stdout",
     "output_type": "stream",
     "text": [
      "The number of duplicate rows are 0.\n"
     ]
    }
   ],
   "source": [
    "df = df.drop_duplicates().copy()\n",
    "dup = df.duplicated().sum()\n",
    "df.drop(['vin'], axis=1, inplace=True)\n",
    "print(f\"The number of duplicate rows are {dup}.\")"
   ]
  },
  {
   "cell_type": "code",
   "execution_count": 4,
   "id": "9704659c-f79f-4d07-b07e-bb1c35ba0025",
   "metadata": {
    "tags": []
   },
   "outputs": [
    {
     "name": "stdout",
     "output_type": "stream",
     "text": [
      "has_accidents           47.552633\n",
      "frame_damaged           47.552633\n",
      "isCab                   47.552633\n",
      "salvage                 47.552633\n",
      "torque                  17.259600\n",
      "highway_fuel_economy    16.375933\n",
      "city_fuel_economy       16.375933\n",
      "major_options            6.668200\n",
      "horsepower               5.746100\n",
      "fuel_tank_volume         5.308867\n",
      "maximum_seating          5.308867\n",
      "wheel_system             4.891000\n",
      "mileage                  4.812900\n",
      "engine_type              3.352667\n",
      "fuel_type                2.757467\n",
      "transmission             2.139467\n",
      "seller_rating            1.362400\n",
      "body_type                0.451400\n",
      "exterior_color           0.000867\n",
      "price                    0.000000\n",
      "model_name               0.000000\n",
      "make_name                0.000000\n",
      "year                     0.000000\n",
      "dtype: float64\n"
     ]
    }
   ],
   "source": [
    "print((df.isna().sum()/df.shape[0]*100).sort_values(ascending=False))"
   ]
  },
  {
   "cell_type": "markdown",
   "id": "0aa4d00b-0aa4-455d-a9b7-02c3784a53f0",
   "metadata": {},
   "source": [
    "## Poistetaan tyhjiä arvoja\n",
    "\n",
    "Poistetaan rivit, joissa esiintyy vain vähän tyhjiä arvoja. Sarakkeet miltä poistetaan tyhjät rivit: 'body_type','exterior_color', 'seller_rating', 'transmission', 'fuel_type', 'engine_type', 'mileage', 'wheel_system'"
   ]
  },
  {
   "cell_type": "code",
   "execution_count": 5,
   "id": "93f410db-ea6d-40d6-a847-025a90883aa9",
   "metadata": {
    "tags": []
   },
   "outputs": [
    {
     "data": {
      "text/plain": [
       "(2588305, 23)"
      ]
     },
     "execution_count": 5,
     "metadata": {},
     "output_type": "execute_result"
    }
   ],
   "source": [
    "df = df.dropna(subset=['body_type','exterior_color', 'seller_rating', 'transmission', 'fuel_type', 'engine_type', 'mileage', 'wheel_system'])\n",
    "df.shape"
   ]
  },
  {
   "cell_type": "markdown",
   "id": "4b714a34-d0c8-4540-9acf-b47df74d9699",
   "metadata": {},
   "source": [
    "## Sarakkeiden tyhjien arvojen muuttaminen\n",
    "\n",
    "**Fuel tank volume**\n",
    "\n",
    "Poimitaan numeerisen osan alkuperäisistä arvoista, muunnetaan ne liukulukuiksi ja täytetään puuttuvat arvot vastaavan polttoainetyypin keskimääräisellä polttoainesäiliön tilavuudella."
   ]
  },
  {
   "cell_type": "code",
   "execution_count": 6,
   "id": "9502f911-ae6d-49bb-99b5-bdb4234488d7",
   "metadata": {
    "tags": []
   },
   "outputs": [],
   "source": [
    "# Fuel tank volume\n",
    "df['fuel_tank_volume'] = df['fuel_tank_volume'].str.split(' ').str[0]\n",
    "df['fuel_tank_volume'] = pd.to_numeric(df['fuel_tank_volume'], downcast='float', errors='coerce')\n",
    "df['fuel_tank_volume'].fillna(df.groupby('fuel_type')['fuel_tank_volume'].transform('mean'), inplace=True)"
   ]
  },
  {
   "cell_type": "markdown",
   "id": "ab46a7d8-544e-4856-9b78-25705365bae6",
   "metadata": {},
   "source": [
    "**Exterior color**\n",
    "\n",
    "Lasketaan jokaisen ulkovärin taajuuden (osuuden) sarakkeessa \"exterior_color\", korvataan todelliset väriarvot vastaavilla taajuuksilla."
   ]
  },
  {
   "cell_type": "code",
   "execution_count": 7,
   "id": "93ab4cca-fceb-4bb9-ad56-3b9bcd605341",
   "metadata": {},
   "outputs": [
    {
     "name": "stdout",
     "output_type": "stream",
     "text": [
      "         body_type  city_fuel_economy engine_type  exterior_color  \\\n",
      "0  SUV / Crossover                NaN          I4        0.000098   \n",
      "1  SUV / Crossover                NaN          I4        0.000449   \n",
      "3  SUV / Crossover                NaN          V6        0.000038   \n",
      "4  SUV / Crossover                NaN          I4        0.000449   \n",
      "5  SUV / Crossover                NaN          I4        0.000012   \n",
      "\n",
      "  frame_damaged  fuel_tank_volume fuel_type has_accidents  \\\n",
      "0           NaN         12.700000  Gasoline           NaN   \n",
      "1           NaN         17.700001  Gasoline           NaN   \n",
      "3           NaN         23.500000  Gasoline           NaN   \n",
      "4           NaN         17.700001  Gasoline           NaN   \n",
      "5         False         16.600000  Gasoline         False   \n",
      "\n",
      "   highway_fuel_economy  horsepower  ... maximum_seating mileage  \\\n",
      "0                   NaN       177.0  ...         5 seats     7.0   \n",
      "1                   NaN       246.0  ...         7 seats     8.0   \n",
      "3                   NaN       340.0  ...         7 seats    11.0   \n",
      "4                   NaN       246.0  ...         7 seats     7.0   \n",
      "5                   NaN       247.0  ...         5 seats    12.0   \n",
      "\n",
      "          model_name    price  salvage seller_rating                 torque  \\\n",
      "0           Renegade  23141.0      NaN           2.8  200 lb-ft @ 1,750 RPM   \n",
      "1    Discovery Sport  46500.0      NaN           3.0  269 lb-ft @ 1,400 RPM   \n",
      "3          Discovery  67430.0      NaN           3.0  332 lb-ft @ 3,500 RPM   \n",
      "4    Discovery Sport  48880.0      NaN           3.0  269 lb-ft @ 1,400 RPM   \n",
      "5  Range Rover Velar  66903.0    False           3.0  269 lb-ft @ 1,200 RPM   \n",
      "\n",
      "  transmission  wheel_system  year  \n",
      "0            A           FWD  2019  \n",
      "1            A           AWD  2020  \n",
      "3            A           AWD  2020  \n",
      "4            A           AWD  2020  \n",
      "5            A           AWD  2020  \n",
      "\n",
      "[5 rows x 23 columns]\n"
     ]
    }
   ],
   "source": [
    "# Exterior color\n",
    "# Calculate the frequency of each color\n",
    "color_frequency = df['exterior_color'].value_counts(normalize=True)  # normalize=True gives the proportion\n",
    "\n",
    "# Map each color to its frequency\n",
    "df['exterior_color'] = df['exterior_color'].map(color_frequency)\n",
    "\n",
    "# Display the first few rows to verify the changes\n",
    "print(df.head())"
   ]
  },
  {
   "cell_type": "markdown",
   "id": "079e4f31-0a33-47e1-8f5b-dbf940e20f88",
   "metadata": {},
   "source": [
    "**isCab**\n",
    "\n",
    "Sarakkeen isCab puuttuvat arvot täytetään epätodella. Muutetaan 'frame_damaged', 'has_accidents', 'salvage' sarakkeet 'has_accidents' sarakkeeksi käyttäen apuna isCab saraketta, koska 'frame_damaged', 'has_accidents', 'salvage' ja 'isCab' sarakkeet sisältävät täysin samat tiedot ja tyhjien prosenttiosuuden."
   ]
  },
  {
   "cell_type": "code",
   "execution_count": 8,
   "id": "fe6e6e2f-1181-483a-bf78-3b5023f8ffb5",
   "metadata": {
    "tags": []
   },
   "outputs": [],
   "source": [
    "df = df.drop(['frame_damaged', 'has_accidents', 'salvage'], axis=1)\n",
    "df['isCab'].fillna(False, inplace=True)\n",
    "df['damage_history'] = df['isCab']"
   ]
  },
  {
   "cell_type": "markdown",
   "id": "6140c6ab-c106-4df5-95a9-a51980d309c6",
   "metadata": {},
   "source": [
    "**city_fuel_economy** ja **highway_fuel_economy**\n",
    "\n",
    "Täytetään sarakkeiden puuttuvat arvot sarakkeen keskiarvolla."
   ]
  },
  {
   "cell_type": "code",
   "execution_count": 9,
   "id": "407bd992-2748-414c-a77c-7de82f66a196",
   "metadata": {
    "tags": []
   },
   "outputs": [],
   "source": [
    "# City fuel economy\n",
    "df['city_fuel_economy'].replace(np.nan, df['city_fuel_economy'].mean(), inplace=True)\n",
    "\n",
    "# highway fuel economy\n",
    "df['highway_fuel_economy'].fillna(df['highway_fuel_economy'].mean(), inplace=True)"
   ]
  },
  {
   "cell_type": "markdown",
   "id": "30997ad2-df03-4b15-8278-437db14a000b",
   "metadata": {},
   "source": [
    "**horsepower**\n",
    "\n",
    "Täytetään puuttuvat arvot sarakkeen modella."
   ]
  },
  {
   "cell_type": "code",
   "execution_count": 10,
   "id": "93a1cbc8-024a-4c58-a829-7dd55a4b1f6c",
   "metadata": {},
   "outputs": [],
   "source": [
    "# Horsepower\n",
    "df['horsepower'].fillna(df['horsepower'].mode()[0], inplace=True)"
   ]
  },
  {
   "cell_type": "markdown",
   "id": "8ef54e70-e30e-4f2e-a3b8-5b3288c646c0",
   "metadata": {},
   "source": [
    "**major options**\n",
    "\n",
    "Luodaan uusi sarake ('major_options_count'), joka laskee tärkeimpien vaihtoehtojen määrän jokaiselle merkinnälle laskemalla pilkut 'major_options'-sarakkeessa, täyttämällä kaikki puuttuvat arvot nollalla ja poistamalla sitten alkuperäinen \"major_options\" -sarake DataFramesta. Tuloksena olevassa DataFrame-kehyksessä on päävaihtoehtojen numeerinen määrä jokaiselle merkinnälle \"major_options_count\" -sarakkeessa."
   ]
  },
  {
   "cell_type": "code",
   "execution_count": 11,
   "id": "ba1ec7e3-e705-4034-8c6f-2bf2165d1ef6",
   "metadata": {},
   "outputs": [],
   "source": [
    "# Major options\n",
    "df['major_options_count'] = df['major_options'].str.count(',') + 1\n",
    "df['major_options_count'].fillna(0, inplace=True)\n",
    "df.drop(['major_options'], axis=1, inplace=True)"
   ]
  },
  {
   "cell_type": "markdown",
   "id": "dc81c27d-44b1-42dc-bd9d-362a1a6049ae",
   "metadata": {},
   "source": [
    "**maximum seating**\n",
    "\n",
    "Korvataan kaikki \"--\" esiintymät sanalla NaN ja täytetään tyhjät arvot 5 paikalla. Poimitaan numeerisen osan (ensimmäisen sanan) kustakin \"maximum_seating\" -sarakkeen merkinnästä."
   ]
  },
  {
   "cell_type": "code",
   "execution_count": 12,
   "id": "21413182-852c-41ea-ab99-e880b0d4e33f",
   "metadata": {},
   "outputs": [],
   "source": [
    "# Maximum seating\n",
    "df['maximum_seating'].replace(\"--\", np.nan , inplace=True)\n",
    "df['maximum_seating'].fillna(\"5 seats\", inplace=True)\n",
    "df['maximum_seating'] = df['maximum_seating'].str.split(' ').str[0]"
   ]
  },
  {
   "cell_type": "markdown",
   "id": "aacf8011-f0f7-4e1e-b25f-46b05cc49c8e",
   "metadata": {},
   "source": [
    "**mileage**\n",
    "\n",
    "Poistetaan outlier rivit sarakkeesta."
   ]
  },
  {
   "cell_type": "code",
   "execution_count": 13,
   "id": "8e1af4e5-f4c2-4e7b-acad-400c64baf0f0",
   "metadata": {
    "tags": []
   },
   "outputs": [],
   "source": [
    "# Mileage\n",
    "q1 = df['mileage'].quantile(0.25)\n",
    "q3 = df['mileage'].quantile(0.75)\n",
    "iqr = q3 - q1\n",
    "df = df[(df['mileage'] >= q1 - 1.5*iqr) & (df['mileage'] <= q3 + 1.5*iqr)]"
   ]
  },
  {
   "cell_type": "markdown",
   "id": "8e28577b-2e63-48ae-9c0a-9492f3251bbb",
   "metadata": {},
   "source": [
    "**torque**\n",
    "\n",
    "Poimitaan numeerinen osa (ensimmäisen sanan) jokaisesta syötteestä, muunnetaan arvot liukuluvuiksi ja täytetään puuttuvat arvot keskimääräisellä vääntömomentilla."
   ]
  },
  {
   "cell_type": "code",
   "execution_count": 14,
   "id": "762183a2-2c48-4fc5-95fd-33e9bdc77438",
   "metadata": {},
   "outputs": [],
   "source": [
    "# Torque\n",
    "df['torque'] = df['torque'].str.split(\" \").str[0]\n",
    "df['torque'] = df['torque'].astype(float)\n",
    "df['torque'].fillna(df['torque'].mean(), inplace=True)"
   ]
  },
  {
   "cell_type": "code",
   "execution_count": 15,
   "id": "eed51751-c686-4779-a658-9e7aba98be86",
   "metadata": {
    "tags": []
   },
   "outputs": [
    {
     "name": "stdout",
     "output_type": "stream",
     "text": [
      "body_type               0.0\n",
      "mileage                 0.0\n",
      "damage_history          0.0\n",
      "year                    0.0\n",
      "wheel_system            0.0\n",
      "transmission            0.0\n",
      "torque                  0.0\n",
      "seller_rating           0.0\n",
      "price                   0.0\n",
      "model_name              0.0\n",
      "maximum_seating         0.0\n",
      "city_fuel_economy       0.0\n",
      "make_name               0.0\n",
      "isCab                   0.0\n",
      "horsepower              0.0\n",
      "highway_fuel_economy    0.0\n",
      "fuel_type               0.0\n",
      "fuel_tank_volume        0.0\n",
      "exterior_color          0.0\n",
      "engine_type             0.0\n",
      "major_options_count     0.0\n",
      "dtype: float64\n"
     ]
    }
   ],
   "source": [
    "print((df.isna().sum()/df.shape[0]*100).sort_values(ascending=False))"
   ]
  },
  {
   "cell_type": "code",
   "execution_count": 16,
   "id": "0785489b-ab7f-41e1-899e-399e1d80c37d",
   "metadata": {
    "tags": []
   },
   "outputs": [
    {
     "data": {
      "text/html": [
       "<div>\n",
       "<style scoped>\n",
       "    .dataframe tbody tr th:only-of-type {\n",
       "        vertical-align: middle;\n",
       "    }\n",
       "\n",
       "    .dataframe tbody tr th {\n",
       "        vertical-align: top;\n",
       "    }\n",
       "\n",
       "    .dataframe thead th {\n",
       "        text-align: right;\n",
       "    }\n",
       "</style>\n",
       "<table border=\"1\" class=\"dataframe\">\n",
       "  <thead>\n",
       "    <tr style=\"text-align: right;\">\n",
       "      <th></th>\n",
       "      <th>body_type</th>\n",
       "      <th>city_fuel_economy</th>\n",
       "      <th>engine_type</th>\n",
       "      <th>exterior_color</th>\n",
       "      <th>fuel_tank_volume</th>\n",
       "      <th>fuel_type</th>\n",
       "      <th>highway_fuel_economy</th>\n",
       "      <th>horsepower</th>\n",
       "      <th>isCab</th>\n",
       "      <th>make_name</th>\n",
       "      <th>...</th>\n",
       "      <th>mileage</th>\n",
       "      <th>model_name</th>\n",
       "      <th>price</th>\n",
       "      <th>seller_rating</th>\n",
       "      <th>torque</th>\n",
       "      <th>transmission</th>\n",
       "      <th>wheel_system</th>\n",
       "      <th>year</th>\n",
       "      <th>damage_history</th>\n",
       "      <th>major_options_count</th>\n",
       "    </tr>\n",
       "  </thead>\n",
       "  <tbody>\n",
       "    <tr>\n",
       "      <th>0</th>\n",
       "      <td>SUV / Crossover</td>\n",
       "      <td>22.270333</td>\n",
       "      <td>I4</td>\n",
       "      <td>0.000098</td>\n",
       "      <td>12.700000</td>\n",
       "      <td>Gasoline</td>\n",
       "      <td>29.161924</td>\n",
       "      <td>177.0</td>\n",
       "      <td>False</td>\n",
       "      <td>Jeep</td>\n",
       "      <td>...</td>\n",
       "      <td>7.0</td>\n",
       "      <td>Renegade</td>\n",
       "      <td>23141.0</td>\n",
       "      <td>2.8</td>\n",
       "      <td>200.0</td>\n",
       "      <td>A</td>\n",
       "      <td>FWD</td>\n",
       "      <td>2019</td>\n",
       "      <td>False</td>\n",
       "      <td>1.0</td>\n",
       "    </tr>\n",
       "    <tr>\n",
       "      <th>1</th>\n",
       "      <td>SUV / Crossover</td>\n",
       "      <td>22.270333</td>\n",
       "      <td>I4</td>\n",
       "      <td>0.000449</td>\n",
       "      <td>17.700001</td>\n",
       "      <td>Gasoline</td>\n",
       "      <td>29.161924</td>\n",
       "      <td>246.0</td>\n",
       "      <td>False</td>\n",
       "      <td>Land Rover</td>\n",
       "      <td>...</td>\n",
       "      <td>8.0</td>\n",
       "      <td>Discovery Sport</td>\n",
       "      <td>46500.0</td>\n",
       "      <td>3.0</td>\n",
       "      <td>269.0</td>\n",
       "      <td>A</td>\n",
       "      <td>AWD</td>\n",
       "      <td>2020</td>\n",
       "      <td>False</td>\n",
       "      <td>1.0</td>\n",
       "    </tr>\n",
       "    <tr>\n",
       "      <th>3</th>\n",
       "      <td>SUV / Crossover</td>\n",
       "      <td>22.270333</td>\n",
       "      <td>V6</td>\n",
       "      <td>0.000038</td>\n",
       "      <td>23.500000</td>\n",
       "      <td>Gasoline</td>\n",
       "      <td>29.161924</td>\n",
       "      <td>340.0</td>\n",
       "      <td>False</td>\n",
       "      <td>Land Rover</td>\n",
       "      <td>...</td>\n",
       "      <td>11.0</td>\n",
       "      <td>Discovery</td>\n",
       "      <td>67430.0</td>\n",
       "      <td>3.0</td>\n",
       "      <td>332.0</td>\n",
       "      <td>A</td>\n",
       "      <td>AWD</td>\n",
       "      <td>2020</td>\n",
       "      <td>False</td>\n",
       "      <td>0.0</td>\n",
       "    </tr>\n",
       "    <tr>\n",
       "      <th>4</th>\n",
       "      <td>SUV / Crossover</td>\n",
       "      <td>22.270333</td>\n",
       "      <td>I4</td>\n",
       "      <td>0.000449</td>\n",
       "      <td>17.700001</td>\n",
       "      <td>Gasoline</td>\n",
       "      <td>29.161924</td>\n",
       "      <td>246.0</td>\n",
       "      <td>False</td>\n",
       "      <td>Land Rover</td>\n",
       "      <td>...</td>\n",
       "      <td>7.0</td>\n",
       "      <td>Discovery Sport</td>\n",
       "      <td>48880.0</td>\n",
       "      <td>3.0</td>\n",
       "      <td>269.0</td>\n",
       "      <td>A</td>\n",
       "      <td>AWD</td>\n",
       "      <td>2020</td>\n",
       "      <td>False</td>\n",
       "      <td>1.0</td>\n",
       "    </tr>\n",
       "    <tr>\n",
       "      <th>5</th>\n",
       "      <td>SUV / Crossover</td>\n",
       "      <td>22.270333</td>\n",
       "      <td>I4</td>\n",
       "      <td>0.000012</td>\n",
       "      <td>16.600000</td>\n",
       "      <td>Gasoline</td>\n",
       "      <td>29.161924</td>\n",
       "      <td>247.0</td>\n",
       "      <td>False</td>\n",
       "      <td>Land Rover</td>\n",
       "      <td>...</td>\n",
       "      <td>12.0</td>\n",
       "      <td>Range Rover Velar</td>\n",
       "      <td>66903.0</td>\n",
       "      <td>3.0</td>\n",
       "      <td>269.0</td>\n",
       "      <td>A</td>\n",
       "      <td>AWD</td>\n",
       "      <td>2020</td>\n",
       "      <td>False</td>\n",
       "      <td>8.0</td>\n",
       "    </tr>\n",
       "  </tbody>\n",
       "</table>\n",
       "<p>5 rows × 21 columns</p>\n",
       "</div>"
      ],
      "text/plain": [
       "         body_type  city_fuel_economy engine_type  exterior_color  \\\n",
       "0  SUV / Crossover          22.270333          I4        0.000098   \n",
       "1  SUV / Crossover          22.270333          I4        0.000449   \n",
       "3  SUV / Crossover          22.270333          V6        0.000038   \n",
       "4  SUV / Crossover          22.270333          I4        0.000449   \n",
       "5  SUV / Crossover          22.270333          I4        0.000012   \n",
       "\n",
       "   fuel_tank_volume fuel_type  highway_fuel_economy  horsepower  isCab  \\\n",
       "0         12.700000  Gasoline             29.161924       177.0  False   \n",
       "1         17.700001  Gasoline             29.161924       246.0  False   \n",
       "3         23.500000  Gasoline             29.161924       340.0  False   \n",
       "4         17.700001  Gasoline             29.161924       246.0  False   \n",
       "5         16.600000  Gasoline             29.161924       247.0  False   \n",
       "\n",
       "    make_name  ... mileage         model_name    price  seller_rating  torque  \\\n",
       "0        Jeep  ...     7.0           Renegade  23141.0            2.8   200.0   \n",
       "1  Land Rover  ...     8.0    Discovery Sport  46500.0            3.0   269.0   \n",
       "3  Land Rover  ...    11.0          Discovery  67430.0            3.0   332.0   \n",
       "4  Land Rover  ...     7.0    Discovery Sport  48880.0            3.0   269.0   \n",
       "5  Land Rover  ...    12.0  Range Rover Velar  66903.0            3.0   269.0   \n",
       "\n",
       "   transmission wheel_system  year  damage_history  major_options_count  \n",
       "0             A          FWD  2019           False                  1.0  \n",
       "1             A          AWD  2020           False                  1.0  \n",
       "3             A          AWD  2020           False                  0.0  \n",
       "4             A          AWD  2020           False                  1.0  \n",
       "5             A          AWD  2020           False                  8.0  \n",
       "\n",
       "[5 rows x 21 columns]"
      ]
     },
     "execution_count": 16,
     "metadata": {},
     "output_type": "execute_result"
    }
   ],
   "source": [
    "df.head()"
   ]
  },
  {
   "cell_type": "markdown",
   "id": "4234d855-8057-477c-9669-f0aad8bf547a",
   "metadata": {},
   "source": [
    "**model_name**\n",
    "\n",
    "Lasketaan jokaisen mallin taajuus (osuus) sarakkeessa \"mosel_name\", korvataan todelliset mallit vastaavilla taajuuksilla."
   ]
  },
  {
   "cell_type": "code",
   "execution_count": 17,
   "id": "7ea17566-fa55-4660-9d14-59903a81c1b6",
   "metadata": {},
   "outputs": [
    {
     "data": {
      "text/html": [
       "<div>\n",
       "<style scoped>\n",
       "    .dataframe tbody tr th:only-of-type {\n",
       "        vertical-align: middle;\n",
       "    }\n",
       "\n",
       "    .dataframe tbody tr th {\n",
       "        vertical-align: top;\n",
       "    }\n",
       "\n",
       "    .dataframe thead th {\n",
       "        text-align: right;\n",
       "    }\n",
       "</style>\n",
       "<table border=\"1\" class=\"dataframe\">\n",
       "  <thead>\n",
       "    <tr style=\"text-align: right;\">\n",
       "      <th></th>\n",
       "      <th>body_type</th>\n",
       "      <th>city_fuel_economy</th>\n",
       "      <th>engine_type</th>\n",
       "      <th>exterior_color</th>\n",
       "      <th>fuel_tank_volume</th>\n",
       "      <th>fuel_type</th>\n",
       "      <th>highway_fuel_economy</th>\n",
       "      <th>horsepower</th>\n",
       "      <th>isCab</th>\n",
       "      <th>make_name</th>\n",
       "      <th>...</th>\n",
       "      <th>mileage</th>\n",
       "      <th>model_name</th>\n",
       "      <th>price</th>\n",
       "      <th>seller_rating</th>\n",
       "      <th>torque</th>\n",
       "      <th>transmission</th>\n",
       "      <th>wheel_system</th>\n",
       "      <th>year</th>\n",
       "      <th>damage_history</th>\n",
       "      <th>major_options_count</th>\n",
       "    </tr>\n",
       "  </thead>\n",
       "  <tbody>\n",
       "    <tr>\n",
       "      <th>0</th>\n",
       "      <td>SUV / Crossover</td>\n",
       "      <td>22.270333</td>\n",
       "      <td>I4</td>\n",
       "      <td>0.000098</td>\n",
       "      <td>12.700000</td>\n",
       "      <td>Gasoline</td>\n",
       "      <td>29.161924</td>\n",
       "      <td>177.0</td>\n",
       "      <td>False</td>\n",
       "      <td>Jeep</td>\n",
       "      <td>...</td>\n",
       "      <td>7.0</td>\n",
       "      <td>0.006273</td>\n",
       "      <td>23141.0</td>\n",
       "      <td>2.8</td>\n",
       "      <td>200.0</td>\n",
       "      <td>A</td>\n",
       "      <td>FWD</td>\n",
       "      <td>2019</td>\n",
       "      <td>False</td>\n",
       "      <td>1.0</td>\n",
       "    </tr>\n",
       "    <tr>\n",
       "      <th>1</th>\n",
       "      <td>SUV / Crossover</td>\n",
       "      <td>22.270333</td>\n",
       "      <td>I4</td>\n",
       "      <td>0.000449</td>\n",
       "      <td>17.700001</td>\n",
       "      <td>Gasoline</td>\n",
       "      <td>29.161924</td>\n",
       "      <td>246.0</td>\n",
       "      <td>False</td>\n",
       "      <td>Land Rover</td>\n",
       "      <td>...</td>\n",
       "      <td>8.0</td>\n",
       "      <td>0.001287</td>\n",
       "      <td>46500.0</td>\n",
       "      <td>3.0</td>\n",
       "      <td>269.0</td>\n",
       "      <td>A</td>\n",
       "      <td>AWD</td>\n",
       "      <td>2020</td>\n",
       "      <td>False</td>\n",
       "      <td>1.0</td>\n",
       "    </tr>\n",
       "    <tr>\n",
       "      <th>3</th>\n",
       "      <td>SUV / Crossover</td>\n",
       "      <td>22.270333</td>\n",
       "      <td>V6</td>\n",
       "      <td>0.000038</td>\n",
       "      <td>23.500000</td>\n",
       "      <td>Gasoline</td>\n",
       "      <td>29.161924</td>\n",
       "      <td>340.0</td>\n",
       "      <td>False</td>\n",
       "      <td>Land Rover</td>\n",
       "      <td>...</td>\n",
       "      <td>11.0</td>\n",
       "      <td>0.000475</td>\n",
       "      <td>67430.0</td>\n",
       "      <td>3.0</td>\n",
       "      <td>332.0</td>\n",
       "      <td>A</td>\n",
       "      <td>AWD</td>\n",
       "      <td>2020</td>\n",
       "      <td>False</td>\n",
       "      <td>0.0</td>\n",
       "    </tr>\n",
       "    <tr>\n",
       "      <th>4</th>\n",
       "      <td>SUV / Crossover</td>\n",
       "      <td>22.270333</td>\n",
       "      <td>I4</td>\n",
       "      <td>0.000449</td>\n",
       "      <td>17.700001</td>\n",
       "      <td>Gasoline</td>\n",
       "      <td>29.161924</td>\n",
       "      <td>246.0</td>\n",
       "      <td>False</td>\n",
       "      <td>Land Rover</td>\n",
       "      <td>...</td>\n",
       "      <td>7.0</td>\n",
       "      <td>0.001287</td>\n",
       "      <td>48880.0</td>\n",
       "      <td>3.0</td>\n",
       "      <td>269.0</td>\n",
       "      <td>A</td>\n",
       "      <td>AWD</td>\n",
       "      <td>2020</td>\n",
       "      <td>False</td>\n",
       "      <td>1.0</td>\n",
       "    </tr>\n",
       "    <tr>\n",
       "      <th>5</th>\n",
       "      <td>SUV / Crossover</td>\n",
       "      <td>22.270333</td>\n",
       "      <td>I4</td>\n",
       "      <td>0.000012</td>\n",
       "      <td>16.600000</td>\n",
       "      <td>Gasoline</td>\n",
       "      <td>29.161924</td>\n",
       "      <td>247.0</td>\n",
       "      <td>False</td>\n",
       "      <td>Land Rover</td>\n",
       "      <td>...</td>\n",
       "      <td>12.0</td>\n",
       "      <td>0.000567</td>\n",
       "      <td>66903.0</td>\n",
       "      <td>3.0</td>\n",
       "      <td>269.0</td>\n",
       "      <td>A</td>\n",
       "      <td>AWD</td>\n",
       "      <td>2020</td>\n",
       "      <td>False</td>\n",
       "      <td>8.0</td>\n",
       "    </tr>\n",
       "  </tbody>\n",
       "</table>\n",
       "<p>5 rows × 21 columns</p>\n",
       "</div>"
      ],
      "text/plain": [
       "         body_type  city_fuel_economy engine_type  exterior_color  \\\n",
       "0  SUV / Crossover          22.270333          I4        0.000098   \n",
       "1  SUV / Crossover          22.270333          I4        0.000449   \n",
       "3  SUV / Crossover          22.270333          V6        0.000038   \n",
       "4  SUV / Crossover          22.270333          I4        0.000449   \n",
       "5  SUV / Crossover          22.270333          I4        0.000012   \n",
       "\n",
       "   fuel_tank_volume fuel_type  highway_fuel_economy  horsepower  isCab  \\\n",
       "0         12.700000  Gasoline             29.161924       177.0  False   \n",
       "1         17.700001  Gasoline             29.161924       246.0  False   \n",
       "3         23.500000  Gasoline             29.161924       340.0  False   \n",
       "4         17.700001  Gasoline             29.161924       246.0  False   \n",
       "5         16.600000  Gasoline             29.161924       247.0  False   \n",
       "\n",
       "    make_name  ... mileage  model_name    price  seller_rating  torque  \\\n",
       "0        Jeep  ...     7.0    0.006273  23141.0            2.8   200.0   \n",
       "1  Land Rover  ...     8.0    0.001287  46500.0            3.0   269.0   \n",
       "3  Land Rover  ...    11.0    0.000475  67430.0            3.0   332.0   \n",
       "4  Land Rover  ...     7.0    0.001287  48880.0            3.0   269.0   \n",
       "5  Land Rover  ...    12.0    0.000567  66903.0            3.0   269.0   \n",
       "\n",
       "   transmission wheel_system  year  damage_history  major_options_count  \n",
       "0             A          FWD  2019           False                  1.0  \n",
       "1             A          AWD  2020           False                  1.0  \n",
       "3             A          AWD  2020           False                  0.0  \n",
       "4             A          AWD  2020           False                  1.0  \n",
       "5             A          AWD  2020           False                  8.0  \n",
       "\n",
       "[5 rows x 21 columns]"
      ]
     },
     "execution_count": 17,
     "metadata": {},
     "output_type": "execute_result"
    }
   ],
   "source": [
    "# Calculate the frequency of each model name\n",
    "model_frequency = df['model_name'].value_counts(normalize=True)  # normalize=True gives the proportion\n",
    "\n",
    "# Map each model name to its frequency\n",
    "df['model_name'] = df['model_name'].map(model_frequency)\n",
    "\n",
    "df.head()"
   ]
  },
  {
   "cell_type": "markdown",
   "id": "6352fedb-a66d-41dd-ba28-e38fe4729d68",
   "metadata": {
    "tags": []
   },
   "source": [
    "**price**\n",
    "\n",
    "Poistetaan suurimmat esiintymät hinta -sarakkeesta."
   ]
  },
  {
   "cell_type": "code",
   "execution_count": 18,
   "id": "36691ad7-f575-4e96-b5af-eb629331a458",
   "metadata": {},
   "outputs": [],
   "source": [
    "Q1 = df['price'].quantile(0.01)\n",
    "Q3 = df['price'].quantile(0.99)\n",
    "IQR = Q3 - Q1\n",
    "\n",
    "# Define the upper bound for outliers\n",
    "upper_bound = Q3 + 1.5 * IQR\n",
    "\n",
    "# Filter out rows with 'price' values above the upper bound\n",
    "df = df[df['price'] <= upper_bound]"
   ]
  },
  {
   "cell_type": "markdown",
   "id": "445f11e5-cfcc-474f-b6d5-64c333705f4f",
   "metadata": {},
   "source": [
    "**engine_type**\n",
    "\n",
    "Poimitaan vain moottorin tyyppi merkkijonosta."
   ]
  },
  {
   "cell_type": "code",
   "execution_count": 19,
   "id": "39085327-337c-422e-b8c0-809d75a132f6",
   "metadata": {},
   "outputs": [
    {
     "data": {
      "text/plain": [
       "array(['I4', 'V6', 'I6', 'V8', 'H4', 'I3', 'I5', 'R2', 'W12', 'V10',\n",
       "       'V12', 'H6', 'I2', 'W8'], dtype=object)"
      ]
     },
     "execution_count": 19,
     "metadata": {},
     "output_type": "execute_result"
    }
   ],
   "source": [
    "df['engine_type'] = df['engine_type'].str.split(' ').str[0]\n",
    "df['engine_type'].unique()"
   ]
  },
  {
   "cell_type": "markdown",
   "id": "04c07e9a-c504-4158-84eb-5e10415e4c8e",
   "metadata": {},
   "source": [
    "## Muutetaan kategoriset arvot one hot encodingia käyttäen"
   ]
  },
  {
   "cell_type": "code",
   "execution_count": 20,
   "id": "cea6157d-385a-4ec5-a110-53b92ba59aef",
   "metadata": {},
   "outputs": [],
   "source": [
    "df_dummy = pd.get_dummies(df)"
   ]
  },
  {
   "cell_type": "markdown",
   "id": "e0fffb16-fccb-46cd-a0bd-2715f02f8ff6",
   "metadata": {},
   "source": [
    "## Tallennetaan dataframe csv -tiedostona"
   ]
  },
  {
   "cell_type": "code",
   "execution_count": 21,
   "id": "a5e1bd1e-22df-478b-98f7-7eca9758063c",
   "metadata": {
    "tags": []
   },
   "outputs": [
    {
     "data": {
      "text/plain": [
       "(2384759, 21)"
      ]
     },
     "execution_count": 21,
     "metadata": {},
     "output_type": "execute_result"
    }
   ],
   "source": [
    "df.shape"
   ]
  },
  {
   "cell_type": "code",
   "execution_count": 22,
   "id": "b9371d69-0eef-4d69-8f5c-1bcff8223d4d",
   "metadata": {
    "tags": []
   },
   "outputs": [
    {
     "data": {
      "text/plain": [
       "(2384759, 125)"
      ]
     },
     "execution_count": 22,
     "metadata": {},
     "output_type": "execute_result"
    }
   ],
   "source": [
    "df_dummy.shape"
   ]
  },
  {
   "cell_type": "code",
   "execution_count": 23,
   "id": "e6e85936-0638-48ed-92fa-dec0d7a41f01",
   "metadata": {
    "tags": []
   },
   "outputs": [],
   "source": [
    "df.to_csv('./temp/cleaned_data.csv', index=False)\n",
    "df_dummy.to_csv('./temp/cleaned_data2.csv', index=False)"
   ]
  }
 ],
 "metadata": {
  "kernelspec": {
   "display_name": "Python 3 (ipykernel)",
   "language": "python",
   "name": "python3"
  },
  "language_info": {
   "codemirror_mode": {
    "name": "ipython",
    "version": 3
   },
   "file_extension": ".py",
   "mimetype": "text/x-python",
   "name": "python",
   "nbconvert_exporter": "python",
   "pygments_lexer": "ipython3",
   "version": "3.11.4"
  }
 },
 "nbformat": 4,
 "nbformat_minor": 5
}
