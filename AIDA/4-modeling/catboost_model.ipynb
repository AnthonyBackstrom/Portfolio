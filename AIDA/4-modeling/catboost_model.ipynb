{
 "cells": [
  {
   "cell_type": "code",
   "execution_count": 4,
   "id": "a6092db3-e863-4c0a-904b-c092c3e62b26",
   "metadata": {
    "tags": []
   },
   "outputs": [],
   "source": [
    "import pandas as pd\n",
    "import numpy as np\n",
    "from sklearn.model_selection import train_test_split\n",
    "from sklearn.ensemble import RandomForestRegressor\n",
    "from sklearn.metrics import mean_squared_error, r2_score\n",
    "from sklearn.compose import ColumnTransformer\n",
    "from sklearn.preprocessing import OneHotEncoder, StandardScaler\n",
    "from sklearn.pipeline import Pipeline\n",
    "from sklearn.impute import SimpleImputer\n",
    "from sklearn.model_selection import cross_val_score\n",
    "import xgboost as xgb\n",
    "import lightgbm as lgb\n",
    "from catboost import CatBoostRegressor\n",
    "\n",
    "# Load the dataset\n",
    "df = pd.read_csv('cleaned_data.csv')"
   ]
  },
  {
   "cell_type": "code",
   "execution_count": null,
   "id": "44fd7c20-f89e-4366-ba88-b1da05eabf85",
   "metadata": {
    "tags": []
   },
   "outputs": [
    {
     "name": "stdout",
     "output_type": "stream",
     "text": [
      "0:\tlearn: 15972.4144398\ttest: 15954.1956994\tbest: 15954.1956994 (0)\ttotal: 155ms\tremaining: 30m 55s\n",
      "200:\tlearn: 6001.1142081\ttest: 5975.4341861\tbest: 5975.4341861 (200)\ttotal: 27.8s\tremaining: 27m 14s\n",
      "400:\tlearn: 4838.6617844\ttest: 4819.3779729\tbest: 4819.3779729 (400)\ttotal: 54.6s\tremaining: 26m 18s\n",
      "600:\tlearn: 4468.5220324\ttest: 4458.0632971\tbest: 4458.0632971 (600)\ttotal: 1m 21s\tremaining: 25m 38s\n",
      "800:\tlearn: 4240.1086061\ttest: 4237.5918626\tbest: 4237.5918626 (800)\ttotal: 1m 47s\tremaining: 25m 8s\n",
      "1000:\tlearn: 4077.3199066\ttest: 4082.0408278\tbest: 4082.0408278 (1000)\ttotal: 2m 14s\tremaining: 24m 35s\n",
      "1200:\tlearn: 3958.1413599\ttest: 3968.6565492\tbest: 3968.6565492 (1200)\ttotal: 2m 40s\tremaining: 24m 6s\n",
      "1400:\tlearn: 3864.0767836\ttest: 3878.9975767\tbest: 3878.9975767 (1400)\ttotal: 3m 7s\tremaining: 23m 40s\n",
      "1600:\tlearn: 3786.1494883\ttest: 3804.9714221\tbest: 3804.9714221 (1600)\ttotal: 3m 34s\tremaining: 23m 12s\n",
      "1800:\tlearn: 3723.7400614\ttest: 3746.5998516\tbest: 3746.5998516 (1800)\ttotal: 4m 5s\tremaining: 23m 8s\n",
      "2000:\tlearn: 3667.0907965\ttest: 3693.2550349\tbest: 3693.2550349 (2000)\ttotal: 4m 33s\tremaining: 22m 46s\n",
      "2200:\tlearn: 3620.1605655\ttest: 3649.2250017\tbest: 3649.2250017 (2200)\ttotal: 5m 4s\tremaining: 22m 37s\n",
      "2400:\tlearn: 3581.2099526\ttest: 3613.4204517\tbest: 3613.4204517 (2400)\ttotal: 5m 33s\tremaining: 22m 14s\n",
      "2600:\tlearn: 3547.3357124\ttest: 3583.1133069\tbest: 3583.1133069 (2600)\ttotal: 6m 3s\tremaining: 21m 52s\n",
      "2800:\tlearn: 3517.6994657\ttest: 3556.4591467\tbest: 3556.4591467 (2800)\ttotal: 6m 32s\tremaining: 21m 29s\n",
      "3000:\tlearn: 3490.8772208\ttest: 3532.5214766\tbest: 3532.5214766 (3000)\ttotal: 7m\tremaining: 21m 1s\n",
      "3200:\tlearn: 3466.8842226\ttest: 3511.4200269\tbest: 3511.4200269 (3200)\ttotal: 7m 28s\tremaining: 20m 32s\n",
      "3400:\tlearn: 3445.0161728\ttest: 3492.8218663\tbest: 3492.8218663 (3400)\ttotal: 7m 57s\tremaining: 20m 7s\n",
      "3600:\tlearn: 3425.4473890\ttest: 3476.0816040\tbest: 3476.0816040 (3600)\ttotal: 8m 25s\tremaining: 19m 39s\n",
      "3800:\tlearn: 3407.4398752\ttest: 3460.8308739\tbest: 3460.8308739 (3800)\ttotal: 8m 54s\tremaining: 19m 12s\n",
      "4000:\tlearn: 3390.6901657\ttest: 3446.6707643\tbest: 3446.6707643 (4000)\ttotal: 9m 22s\tremaining: 18m 43s\n",
      "4200:\tlearn: 3374.8967904\ttest: 3433.7883683\tbest: 3433.7883683 (4200)\ttotal: 9m 49s\tremaining: 18m 15s\n",
      "4400:\tlearn: 3360.6500909\ttest: 3421.6737586\tbest: 3421.6737586 (4400)\ttotal: 10m 19s\tremaining: 17m 50s\n",
      "4600:\tlearn: 3347.0629305\ttest: 3410.2768349\tbest: 3410.2768349 (4600)\ttotal: 10m 47s\tremaining: 17m 21s\n",
      "4800:\tlearn: 3334.1192817\ttest: 3399.4263759\tbest: 3399.4263759 (4800)\ttotal: 11m 14s\tremaining: 16m 50s\n",
      "5000:\tlearn: 3321.3323273\ttest: 3388.7389494\tbest: 3388.7389494 (5000)\ttotal: 11m 42s\tremaining: 16m 23s\n",
      "5200:\tlearn: 3309.5140056\ttest: 3378.9019396\tbest: 3378.9019396 (5200)\ttotal: 12m 11s\tremaining: 15m 56s\n",
      "5400:\tlearn: 3298.9435350\ttest: 3370.2621367\tbest: 3370.2621367 (5400)\ttotal: 12m 41s\tremaining: 15m 30s\n",
      "5600:\tlearn: 3288.9733807\ttest: 3362.1782560\tbest: 3362.1782560 (5600)\ttotal: 13m 12s\tremaining: 15m 4s\n",
      "5800:\tlearn: 3279.0536040\ttest: 3354.3712048\tbest: 3354.3712048 (5800)\ttotal: 13m 42s\tremaining: 14m 38s\n",
      "6000:\tlearn: 3270.0006161\ttest: 3347.2444220\tbest: 3347.2444220 (6000)\ttotal: 14m 10s\tremaining: 14m 10s\n",
      "6200:\tlearn: 3261.4487763\ttest: 3340.5254663\tbest: 3340.5254663 (6200)\ttotal: 14m 38s\tremaining: 13m 41s\n",
      "6400:\tlearn: 3252.9726848\ttest: 3333.7181563\tbest: 3333.7181563 (6400)\ttotal: 15m 7s\tremaining: 13m 13s\n",
      "6600:\tlearn: 3244.6662672\ttest: 3327.3008471\tbest: 3327.3008471 (6600)\ttotal: 15m 38s\tremaining: 12m 47s\n",
      "6800:\tlearn: 3236.5864091\ttest: 3321.0184763\tbest: 3321.0184763 (6800)\ttotal: 16m 8s\tremaining: 12m 20s\n",
      "7000:\tlearn: 3228.7137152\ttest: 3315.1727301\tbest: 3315.1727301 (7000)\ttotal: 16m 35s\tremaining: 11m 50s\n",
      "7200:\tlearn: 3221.3365924\ttest: 3309.8179761\tbest: 3309.8179761 (7200)\ttotal: 17m 3s\tremaining: 11m 22s\n",
      "7400:\tlearn: 3214.1031528\ttest: 3304.3956020\tbest: 3304.3956020 (7400)\ttotal: 17m 32s\tremaining: 10m 54s\n",
      "7600:\tlearn: 3206.8104054\ttest: 3299.0438401\tbest: 3299.0438401 (7600)\ttotal: 18m 1s\tremaining: 10m 25s\n",
      "7800:\tlearn: 3199.3038998\ttest: 3293.3567177\tbest: 3293.3567177 (7800)\ttotal: 18m 32s\tremaining: 9m 58s\n",
      "8000:\tlearn: 3192.3184729\ttest: 3288.1411887\tbest: 3288.1411887 (8000)\ttotal: 19m 1s\tremaining: 9m 30s\n",
      "8200:\tlearn: 3185.7276902\ttest: 3283.4639080\tbest: 3283.4639080 (8200)\ttotal: 19m 27s\tremaining: 9m\n",
      "8400:\tlearn: 3179.0616542\ttest: 3278.7706463\tbest: 3278.7706463 (8400)\ttotal: 19m 53s\tremaining: 8m 31s\n",
      "8600:\tlearn: 3173.1038916\ttest: 3274.7644519\tbest: 3274.7635266 (8599)\ttotal: 20m 19s\tremaining: 8m 2s\n",
      "8800:\tlearn: 3167.0432860\ttest: 3270.5799081\tbest: 3270.5799081 (8800)\ttotal: 20m 46s\tremaining: 7m 32s\n",
      "9000:\tlearn: 3161.2389301\ttest: 3266.6626902\tbest: 3266.6626902 (9000)\ttotal: 21m 12s\tremaining: 7m 3s\n",
      "9200:\tlearn: 3155.5495881\ttest: 3262.6956278\tbest: 3262.6956278 (9200)\ttotal: 21m 38s\tremaining: 6m 35s\n",
      "9400:\tlearn: 3150.1255131\ttest: 3259.1479321\tbest: 3259.1479321 (9400)\ttotal: 22m 5s\tremaining: 6m 6s\n",
      "9600:\tlearn: 3144.8223713\ttest: 3255.4369415\tbest: 3255.4369415 (9600)\ttotal: 22m 31s\tremaining: 5m 37s\n",
      "9800:\tlearn: 3139.4440582\ttest: 3251.6679041\tbest: 3251.6679041 (9800)\ttotal: 22m 57s\tremaining: 5m 9s\n",
      "10000:\tlearn: 3134.2754417\ttest: 3248.2377540\tbest: 3248.2377540 (10000)\ttotal: 23m 24s\tremaining: 4m 40s\n",
      "10200:\tlearn: 3129.3238854\ttest: 3244.9208341\tbest: 3244.9208341 (10200)\ttotal: 23m 50s\tremaining: 4m 12s\n",
      "10400:\tlearn: 3124.3039732\ttest: 3241.5416181\tbest: 3241.5416181 (10400)\ttotal: 24m 16s\tremaining: 3m 43s\n",
      "10600:\tlearn: 3119.3940612\ttest: 3238.2401311\tbest: 3238.2401311 (10600)\ttotal: 24m 42s\tremaining: 3m 15s\n",
      "10800:\tlearn: 3114.5927439\ttest: 3235.0188856\tbest: 3235.0188856 (10800)\ttotal: 25m 9s\tremaining: 2m 47s\n",
      "11000:\tlearn: 3109.9142755\ttest: 3231.8858771\tbest: 3231.8858771 (11000)\ttotal: 25m 38s\tremaining: 2m 19s\n",
      "11200:\tlearn: 3105.3750344\ttest: 3228.8325023\tbest: 3228.8325023 (11200)\ttotal: 26m 7s\tremaining: 1m 51s\n",
      "11400:\tlearn: 3100.8050002\ttest: 3225.8021160\tbest: 3225.8021160 (11400)\ttotal: 26m 34s\tremaining: 1m 23s\n",
      "11600:\tlearn: 3096.4777099\ttest: 3222.9131684\tbest: 3222.9131684 (11600)\ttotal: 27m 1s\tremaining: 55.8s\n",
      "11800:\tlearn: 3092.1072110\ttest: 3220.0383037\tbest: 3220.0383037 (11800)\ttotal: 27m 35s\tremaining: 27.9s\n",
      "11999:\tlearn: 3087.8022669\ttest: 3217.2926078\tbest: 3217.2926078 (11999)\ttotal: 28m 3s\tremaining: 0us\n",
      "\n",
      "bestTest = 3217.292608\n",
      "bestIteration = 11999\n",
      "\n"
     ]
    }
   ],
   "source": [
    "# Selecting the desired features for the model and the target variable\n",
    "X = df[['body_type', 'city_fuel_economy', 'engine_type', 'exterior_color', 'fuel_tank_volume', 'fuel_type', 'highway_fuel_economy', 'horsepower', 'isCab', 'make_name', 'maximum_seating', 'mileage', 'model_name', 'seller_rating', 'torque', 'transmission', 'wheel_system', 'year', 'damage_history', 'major_options_count'\n",
    "]]  # Features\n",
    "y = df['price']  # Target variable\n",
    "\n",
    "# One-Hot Encoding categorial features\n",
    "categorical_features = ['body_type', 'engine_type', 'damage_history', 'fuel_type', 'isCab', 'make_name', 'transmission', 'wheel_system']\n",
    "numerical_features = ['city_fuel_economy', 'highway_fuel_economy', 'exterior_color', 'fuel_tank_volume', 'horsepower', 'mileage', 'model_name', 'major_options_count', 'seller_rating', 'torque', 'year' ]\n",
    "\n",
    "# Creating preprocessing pipelines for categorical features\n",
    "categorical_pipeline = Pipeline(steps=[\n",
    "    ('onehot', OneHotEncoder(handle_unknown='ignore'))  # Applies One-Hot Encoding\n",
    "])\n",
    "\n",
    "# No transformation for numerical features in this pipeline\n",
    "preprocessor = ColumnTransformer(\n",
    "    transformers=[\n",
    "        ('cat', categorical_pipeline, categorical_features),\n",
    "        ('num', 'passthrough', numerical_features)  # No changes to numerical features\n",
    "    ]\n",
    ")\n",
    "\n",
    "# Splitting the data into training, validation, and testing sets\n",
    "X_train, X_temp, y_train, y_temp = train_test_split(X, y, test_size=0.4, random_state=42)\n",
    "X_val, X_test, y_val, y_test = train_test_split(X_temp, y_temp, test_size=0.5, random_state=42)\n",
    "\n",
    "# Apply preprocessing to the training and validation data\n",
    "X_train_preprocessed = preprocessor.fit_transform(X_train)\n",
    "X_val_preprocessed = preprocessor.transform(X_val)\n",
    "X_test_preprocessed = preprocessor.transform(X_test)\n",
    "\n",
    "# Define the CatBoost model\n",
    "model = CatBoostRegressor(\n",
    "    iterations=12000, \n",
    "    learning_rate=0.01, \n",
    "    depth=10, \n",
    "    silent=True, \n",
    "    random_state=42\n",
    ")\n",
    "\n",
    "# Fit the model with early stopping\n",
    "model.fit(\n",
    "    X_train_preprocessed, y_train, \n",
    "    eval_set=(X_val_preprocessed, y_val), \n",
    "    early_stopping_rounds=200,  # Number of rounds to stop if no improvement\n",
    "    verbose=200  # Set output verbosity\n",
    ")\n",
    "\n",
    "# Predicting the 'price' for the test data\n",
    "y_pred = model.predict(X_test_preprocessed)\n",
    "\n",
    "# Calculating the performance of the predictions\n",
    "rmse = np.sqrt(mean_squared_error(y_test, y_pred))\n",
    "r2 = r2_score(y_test, y_pred)\n",
    "\n",
    "# Printing performance metrics\n",
    "print(f'Root Mean Squared Error: {rmse}')\n",
    "print(f'R^2 Score: {r2}')"
   ]
  },
  {
   "cell_type": "code",
   "execution_count": 3,
   "id": "2d3743fc-3191-482b-b7e4-9b7738ccef1f",
   "metadata": {
    "tags": []
   },
   "outputs": [
    {
     "name": "stdout",
     "output_type": "stream",
     "text": [
      "Root Mean Squared Error: 2975.021629307054\n",
      "R^2 Score: 0.9659971736531674\n"
     ]
    }
   ],
   "source": [
    "# Predicting the 'price' for the test data\n",
    "y_pred = model.predict(X_test_preprocessed)\n",
    "\n",
    "# Calculating the performance of the predictions\n",
    "rmse = np.sqrt(mean_squared_error(y_test,y_pred))\n",
    "r2 = r2_score(y_test, y_pred)\n",
    "\n",
    "# Printing performance metrics\n",
    "print(f'Root Mean Squared Error: {rmse}')\n",
    "print(f'R^2 Score: {r2}')"
   ]
  },
  {
   "cell_type": "code",
   "execution_count": 16,
   "id": "6675ef23-a5b2-4cb5-b839-58452f6250e0",
   "metadata": {
    "tags": []
   },
   "outputs": [
    {
     "name": "stdout",
     "output_type": "stream",
     "text": [
      "       Actual Price  Predicted Price   Difference  Difference%\n",
      "6835        33000.0     36984.528353  3984.528353    12.074328\n",
      "16433       27995.0     29876.542345  1881.542345     6.720994\n",
      "39861       26990.0     26980.505458    -9.494542     0.035178\n",
      "36693       20459.0     20625.486816   166.486816     0.813758\n",
      "22108       48905.0     46575.279630 -2329.720370     4.763767\n",
      "20495       68870.0     65232.162687 -3637.837313     5.282180\n",
      "28673       27935.0     27134.758810  -800.241190     2.864654\n",
      "6769        59245.0     52060.845046 -7184.154954    12.126179\n",
      "27193       19895.0     20543.127656   648.127656     3.257741\n",
      "12708       11900.0     10906.206975  -993.793025     8.351202\n",
      "39382       72981.0     73092.907375   111.907375     0.153338\n",
      "809         16995.0     12595.813428 -4399.186572    25.885181\n",
      "4830        34695.0     39588.409043  4893.409043    14.104076\n",
      "6159        26988.0     30405.825796  3417.825796    12.664243\n",
      "5782        63194.0     54969.452420 -8224.547580    13.014760\n"
     ]
    }
   ],
   "source": [
    "# Comparing predicted prices with actual prices\n",
    "comparison_df = pd.DataFrame({'Actual Price': y_test, 'Predicted Price': y_pred})\n",
    "comparison_df['Difference'] = comparison_df['Predicted Price'] - comparison_df['Actual Price']\n",
    "comparison_df['Difference%'] = np.abs(comparison_df['Difference'] / comparison_df['Actual Price'] * 100)\n",
    "\n",
    "# Sorting the DataFrame by the difference percentage to see the predictions with the biggest discrepancies\n",
    "comparison_df.sort_values(by='Difference%', ascending=False, inplace=True)\n",
    "\n",
    "# Reset index for better readability\n",
    "comparison_df.reset_index(drop=True, inplace=True)\n",
    "\n",
    "# Generate a random sample from the comparison dataframe\n",
    "random_comparison_sample = comparison_df.sample(n=15, random_state=None)  # 'n' is the number of samples\n",
    "\n",
    "# Display the random sample\n",
    "print(random_comparison_sample)"
   ]
  }
 ],
 "metadata": {
  "kernelspec": {
   "display_name": "Python 3 (ipykernel)",
   "language": "python",
   "name": "python3"
  },
  "language_info": {
   "codemirror_mode": {
    "name": "ipython",
    "version": 3
   },
   "file_extension": ".py",
   "mimetype": "text/x-python",
   "name": "python",
   "nbconvert_exporter": "python",
   "pygments_lexer": "ipython3",
   "version": "3.9.16"
  }
 },
 "nbformat": 4,
 "nbformat_minor": 5
}
