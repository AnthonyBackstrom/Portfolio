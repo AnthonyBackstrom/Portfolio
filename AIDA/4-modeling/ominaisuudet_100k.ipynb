{
 "cells": [
  {
   "cell_type": "code",
   "execution_count": 1,
   "id": "8305ba54-c50e-4a1d-b5ba-8b455537ed61",
   "metadata": {},
   "outputs": [],
   "source": [
    "import pandas as pd\n",
    "from sklearn.model_selection import train_test_split\n",
    "from sklearn.ensemble import RandomForestRegressor\n",
    "from sklearn.preprocessing import OneHotEncoder\n",
    "from sklearn.compose import ColumnTransformer\n",
    "from sklearn.pipeline import Pipeline\n",
    "from sklearn.metrics import mean_squared_error, r2_score\n",
    "\n",
    "# Load the dataset\n",
    "df = pd.read_csv('model_data_100k.csv')"
   ]
  },
  {
   "cell_type": "markdown",
   "id": "c2044ac0-1e5d-4191-846e-1d545fc4ade4",
   "metadata": {},
   "source": [
    "### Ominaisuuksien tärkeyden arviointi\n",
    "\n",
    "Tässä on arvioitu ominaisuuksien tärkeyttä auton hinnan kannalta.\n",
    "\n",
    "Datana on käytetty puhdistettua/muokattua dataa jossa on 100 000 ensimmäistä riviä alkuperäisestä datatiedostosta. Koodin suorituksessa kestää ikä ja terveys jos käyttää suuria datatiedostoja.\n",
    "\n",
    "Käytetty random forest -mallia ominaisuuksien tärkeyden arviointiin.\n",
    "\n",
    "Tulokset kuvastavat suhteellisen tarkasti mitkä ominaisuudet ovat tärkeitä.\n",
    "\n",
    "En tiedä kuinka paljon tuloksiin vaikuttaa se, että dataa on muokattu ja siitä on tyhjät arvot korvattu keskiarvoilla jne."
   ]
  },
  {
   "cell_type": "code",
   "execution_count": 7,
   "id": "2d1343b7-5de0-4cf4-ab2b-0d680178ee64",
   "metadata": {
    "tags": []
   },
   "outputs": [
    {
     "name": "stdout",
     "output_type": "stream",
     "text": [
      "                        Feature  Importance\n",
      "1                    horsepower    0.394254\n",
      "2                       mileage    0.244415\n",
      "4                          year    0.046512\n",
      "102           model_name_250 GT    0.034530\n",
      "131  model_name_599 GTB Fiorano    0.026344\n",
      "52            make_name_Ferrari    0.025732\n",
      "10       body_type_Pickup Truck    0.018990\n",
      "3                 seller_rating    0.015386\n",
      "0             city_fuel_economy    0.013234\n",
      "729      model_name_SLR McLaren    0.011387\n",
      "84        make_name_Rolls-Royce    0.006892\n",
      "44                make_name_BMW    0.006577\n",
      "144              model_name_911    0.005883\n",
      "920            wheel_system_FWD    0.005876\n",
      "919            wheel_system_AWD    0.004972\n"
     ]
    }
   ],
   "source": [
    "# Set features and target variable\n",
    "X = df.drop('price', axis=1)\n",
    "y = df['price']\n",
    "\n",
    "# Define categorical and numerical columns\n",
    "categorical_features = X.select_dtypes(include=['object', 'bool']).columns.tolist()\n",
    "numerical_features = X.select_dtypes(include=['int64', 'float64']).columns.tolist()\n",
    "\n",
    "# Create preprocessing pipeline\n",
    "preprocessor = ColumnTransformer(\n",
    "    transformers=[\n",
    "        ('num', 'passthrough', numerical_features),\n",
    "        ('cat', OneHotEncoder(handle_unknown='ignore'), categorical_features)\n",
    "    ]\n",
    ")\n",
    "\n",
    "# Split the data into training and testing sets\n",
    "X_train, X_test, y_train, y_test = train_test_split(X, y, test_size=0.2, random_state=42)\n",
    "\n",
    "# Create a Random Forest model\n",
    "rf_model = RandomForestRegressor(n_estimators=100, random_state=42, n_jobs=6)\n",
    "# Maybe try using different max_depth values\n",
    "\n",
    "# Create a pipeline\n",
    "pipeline = Pipeline([\n",
    "    ('preprocessor', preprocessor),\n",
    "    ('model', rf_model)\n",
    "])\n",
    "\n",
    "# Train the model with the training data\n",
    "pipeline.fit(X_train, y_train)\n",
    "\n",
    "# Get the learned feature importances from the model\n",
    "feature_importances = rf_model.feature_importances_\n",
    "\n",
    "# Get preprocessed feature names\n",
    "encoded_feature_names = (pipeline.named_steps['preprocessor']\n",
    "                         .transformers_[1][1]\n",
    "                         .get_feature_names_out(categorical_features))\n",
    "\n",
    "# Create a list of all feature names\n",
    "all_feature_names = numerical_features + list(encoded_feature_names)\n",
    "\n",
    "# Create a DataFrame for feature importances\n",
    "importances = pd.DataFrame({\n",
    "    'Feature': all_feature_names,\n",
    "    'Importance': feature_importances\n",
    "})\n",
    "\n",
    "# Sort features by their importance\n",
    "importances_sorted = importances.sort_values(by='Importance', ascending=False)\n",
    "\n",
    "# Print the most important features\n",
    "print(importances_sorted.head(15))"
   ]
  }
 ],
 "metadata": {
  "kernelspec": {
   "display_name": "Python 3 (ipykernel)",
   "language": "python",
   "name": "python3"
  },
  "language_info": {
   "codemirror_mode": {
    "name": "ipython",
    "version": 3
   },
   "file_extension": ".py",
   "mimetype": "text/x-python",
   "name": "python",
   "nbconvert_exporter": "python",
   "pygments_lexer": "ipython3",
   "version": "3.9.16"
  }
 },
 "nbformat": 4,
 "nbformat_minor": 5
}
