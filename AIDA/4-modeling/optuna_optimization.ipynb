{
 "cells": [
  {
   "cell_type": "code",
   "execution_count": 2,
   "id": "a30cefec-4ab5-4818-8763-fb69ac034838",
   "metadata": {
    "tags": []
   },
   "outputs": [],
   "source": [
    "import pandas as pd\n",
    "import numpy as np\n",
    "from sklearn.model_selection import train_test_split, KFold\n",
    "from sklearn.metrics import mean_squared_error\n",
    "from sklearn.pipeline import Pipeline\n",
    "from sklearn.compose import ColumnTransformer\n",
    "from sklearn.preprocessing import OneHotEncoder\n",
    "import lightgbm as lgb\n",
    "import optuna\n",
    "from lightgbm.callback import early_stopping\n",
    "\n",
    "# Load the dataset\n",
    "df = pd.read_csv('cleaned_data.csv') "
   ]
  },
  {
   "cell_type": "code",
   "execution_count": 3,
   "id": "c1d7a8bb-9f3d-45ea-85c5-4fd50be9f501",
   "metadata": {
    "tags": []
   },
   "outputs": [
    {
     "name": "stderr",
     "output_type": "stream",
     "text": [
      "[I 2023-12-06 07:08:01,988] A new study created in memory with name: no-name-4b0a56a2-1ff0-452c-9218-9ed847b54b2d\n",
      "[I 2023-12-06 07:12:42,906] Trial 0 finished with value: 3395.618884129109 and parameters: {'n_estimators': 21713, 'learning_rate': 0.043173505635851976, 'num_leaves': 184, 'max_depth': 72, 'min_child_samples': 4}. Best is trial 0 with value: 3395.618884129109.\n",
      "[I 2023-12-06 07:22:09,177] Trial 1 finished with value: 3400.2750662940484 and parameters: {'n_estimators': 26375, 'learning_rate': 0.016951231218519137, 'num_leaves': 256, 'max_depth': 48, 'min_child_samples': 7}. Best is trial 0 with value: 3395.618884129109.\n",
      "[I 2023-12-06 07:35:56,323] Trial 2 finished with value: 3399.146282603684 and parameters: {'n_estimators': 22759, 'learning_rate': 0.013415512184863842, 'num_leaves': 239, 'max_depth': 52, 'min_child_samples': 7}. Best is trial 0 with value: 3395.618884129109.\n",
      "[I 2023-12-06 07:49:05,093] Trial 3 finished with value: 3397.9059903194707 and parameters: {'n_estimators': 25550, 'learning_rate': 0.014682842691532392, 'num_leaves': 224, 'max_depth': 72, 'min_child_samples': 12}. Best is trial 0 with value: 3395.618884129109.\n",
      "[I 2023-12-06 07:54:38,496] Trial 4 finished with value: 3401.2572371048627 and parameters: {'n_estimators': 19089, 'learning_rate': 0.02671226511313768, 'num_leaves': 273, 'max_depth': 39, 'min_child_samples': 1}. Best is trial 0 with value: 3395.618884129109.\n",
      "[I 2023-12-06 07:58:34,834] Trial 5 finished with value: 3401.6641413285083 and parameters: {'n_estimators': 21663, 'learning_rate': 0.04089032578264978, 'num_leaves': 276, 'max_depth': 46, 'min_child_samples': 3}. Best is trial 0 with value: 3395.618884129109.\n",
      "[I 2023-12-06 08:03:47,710] Trial 6 finished with value: 3400.0297470240203 and parameters: {'n_estimators': 22057, 'learning_rate': 0.03390214091006893, 'num_leaves': 210, 'max_depth': 75, 'min_child_samples': 10}. Best is trial 0 with value: 3395.618884129109.\n",
      "[I 2023-12-06 08:27:45,927] Trial 7 finished with value: 3393.9137345609147 and parameters: {'n_estimators': 24716, 'learning_rate': 0.008545958475997706, 'num_leaves': 158, 'max_depth': 44, 'min_child_samples': 5}. Best is trial 7 with value: 3393.9137345609147.\n",
      "[I 2023-12-06 08:45:54,721] Trial 8 finished with value: 3401.3460340393685 and parameters: {'n_estimators': 21329, 'learning_rate': 0.00958166854816786, 'num_leaves': 247, 'max_depth': 83, 'min_child_samples': 11}. Best is trial 7 with value: 3393.9137345609147.\n",
      "[I 2023-12-06 08:49:50,971] Trial 9 finished with value: 3398.628133189768 and parameters: {'n_estimators': 23826, 'learning_rate': 0.04891599853364806, 'num_leaves': 186, 'max_depth': 39, 'min_child_samples': 6}. Best is trial 7 with value: 3393.9137345609147.\n",
      "[I 2023-12-06 09:17:59,541] Trial 10 finished with value: 3395.8330580818206 and parameters: {'n_estimators': 27755, 'learning_rate': 0.007464002170624963, 'num_leaves': 142, 'max_depth': 60, 'min_child_samples': 9}. Best is trial 7 with value: 3393.9137345609147.\n",
      "[I 2023-12-06 09:26:46,473] Trial 11 finished with value: 3393.5995575283364 and parameters: {'n_estimators': 24497, 'learning_rate': 0.02343780529371437, 'num_leaves': 158, 'max_depth': 63, 'min_child_samples': 4}. Best is trial 11 with value: 3393.5995575283364.\n",
      "[I 2023-12-06 09:34:52,082] Trial 12 finished with value: 3393.9341122089486 and parameters: {'n_estimators': 24545, 'learning_rate': 0.02211424460614826, 'num_leaves': 150, 'max_depth': 61, 'min_child_samples': 4}. Best is trial 11 with value: 3393.5995575283364.\n",
      "[I 2023-12-06 09:44:19,111] Trial 13 finished with value: 3390.1474141588587 and parameters: {'n_estimators': 25274, 'learning_rate': 0.021983118499833997, 'num_leaves': 173, 'max_depth': 61, 'min_child_samples': 2}. Best is trial 13 with value: 3390.1474141588587.\n",
      "[I 2023-12-06 09:52:09,270] Trial 14 finished with value: 3397.1222773514614 and parameters: {'n_estimators': 26464, 'learning_rate': 0.02249796583868618, 'num_leaves': 174, 'max_depth': 60, 'min_child_samples': 1}. Best is trial 13 with value: 3390.1474141588587.\n",
      "[I 2023-12-06 09:57:51,245] Trial 15 finished with value: 3398.3149617646436 and parameters: {'n_estimators': 27967, 'learning_rate': 0.03151617102616761, 'num_leaves': 166, 'max_depth': 66, 'min_child_samples': 2}. Best is trial 13 with value: 3390.1474141588587.\n",
      "[I 2023-12-06 10:06:43,704] Trial 16 finished with value: 3392.5538564310173 and parameters: {'n_estimators': 23602, 'learning_rate': 0.020918920923962248, 'num_leaves': 201, 'max_depth': 54, 'min_child_samples': 3}. Best is trial 13 with value: 3390.1474141588587.\n",
      "[I 2023-12-06 10:16:30,623] Trial 17 finished with value: 3397.4468462853292 and parameters: {'n_estimators': 19788, 'learning_rate': 0.016677318738675326, 'num_leaves': 199, 'max_depth': 55, 'min_child_samples': 2}. Best is trial 13 with value: 3390.1474141588587.\n",
      "[I 2023-12-06 10:23:05,699] Trial 18 finished with value: 3395.6698012402344 and parameters: {'n_estimators': 23347, 'learning_rate': 0.027706946223297467, 'num_leaves': 206, 'max_depth': 53, 'min_child_samples': 3}. Best is trial 13 with value: 3390.1474141588587.\n",
      "[I 2023-12-06 10:31:24,077] Trial 19 finished with value: 3399.9840110148402 and parameters: {'n_estimators': 20609, 'learning_rate': 0.020762844555440564, 'num_leaves': 221, 'max_depth': 66, 'min_child_samples': 8}. Best is trial 13 with value: 3390.1474141588587.\n",
      "[I 2023-12-06 10:40:41,828] Trial 20 finished with value: 3395.521565107407 and parameters: {'n_estimators': 26096, 'learning_rate': 0.019607898482189672, 'num_leaves': 189, 'max_depth': 56, 'min_child_samples': 5}. Best is trial 13 with value: 3390.1474141588587.\n",
      "[I 2023-12-06 10:48:37,643] Trial 21 finished with value: 3396.301817184165 and parameters: {'n_estimators': 24807, 'learning_rate': 0.024643786437860297, 'num_leaves': 170, 'max_depth': 64, 'min_child_samples': 3}. Best is trial 13 with value: 3390.1474141588587.\n",
      "[I 2023-12-06 10:56:19,063] Trial 22 finished with value: 3396.3641834885348 and parameters: {'n_estimators': 23874, 'learning_rate': 0.02450906394973816, 'num_leaves': 157, 'max_depth': 58, 'min_child_samples': 5}. Best is trial 13 with value: 3390.1474141588587.\n",
      "[I 2023-12-06 11:02:14,702] Trial 23 finished with value: 3395.1945838510055 and parameters: {'n_estimators': 22803, 'learning_rate': 0.029937127773712692, 'num_leaves': 178, 'max_depth': 69, 'min_child_samples': 2}. Best is trial 13 with value: 3390.1474141588587.\n",
      "[I 2023-12-06 11:12:34,198] Trial 24 finished with value: 3393.4626385541374 and parameters: {'n_estimators': 25292, 'learning_rate': 0.019137664609726043, 'num_leaves': 194, 'max_depth': 51, 'min_child_samples': 4}. Best is trial 13 with value: 3390.1474141588587.\n",
      "[I 2023-12-06 11:21:57,785] Trial 25 finished with value: 3397.4727858337646 and parameters: {'n_estimators': 25638, 'learning_rate': 0.01910892968610784, 'num_leaves': 197, 'max_depth': 50, 'min_child_samples': 1}. Best is trial 13 with value: 3390.1474141588587.\n",
      "[I 2023-12-06 11:37:26,005] Trial 26 finished with value: 3394.582580656568 and parameters: {'n_estimators': 26948, 'learning_rate': 0.013655430583007068, 'num_leaves': 219, 'max_depth': 43, 'min_child_samples': 6}. Best is trial 13 with value: 3390.1474141588587.\n",
      "[I 2023-12-06 11:46:47,292] Trial 27 finished with value: 3394.9360834990207 and parameters: {'n_estimators': 18070, 'learning_rate': 0.01941037344938381, 'num_leaves': 197, 'max_depth': 50, 'min_child_samples': 3}. Best is trial 13 with value: 3390.1474141588587.\n",
      "[I 2023-12-06 11:53:47,664] Trial 28 finished with value: 3395.443843329848 and parameters: {'n_estimators': 25430, 'learning_rate': 0.02510421481101774, 'num_leaves': 235, 'max_depth': 56, 'min_child_samples': 2}. Best is trial 13 with value: 3390.1474141588587.\n",
      "[I 2023-12-06 12:00:02,882] Trial 29 finished with value: 3395.3420254708853 and parameters: {'n_estimators': 23690, 'learning_rate': 0.028027747238523176, 'num_leaves': 186, 'max_depth': 35, 'min_child_samples': 4}. Best is trial 13 with value: 3390.1474141588587.\n"
     ]
    },
    {
     "name": "stdout",
     "output_type": "stream",
     "text": [
      "Best parameters:  {'n_estimators': 25274, 'learning_rate': 0.021983118499833997, 'num_leaves': 173, 'max_depth': 61, 'min_child_samples': 2}\n"
     ]
    }
   ],
   "source": [
    "X = df[['body_type', 'city_fuel_economy', 'engine_type', 'exterior_color', 'fuel_tank_volume', 'fuel_type', 'highway_fuel_economy', 'horsepower', 'isCab', 'make_name', 'maximum_seating', 'mileage', 'model_name', 'seller_rating', 'torque', 'transmission', 'wheel_system', 'year', 'damage_history', 'major_options_count']]  # Columns\n",
    "y = df['price']  # Target\n",
    "\n",
    "# One-Hot Encoding categorical features\n",
    "categorical_features = ['body_type', 'engine_type', 'damage_history', 'fuel_type', 'isCab', 'make_name', 'transmission', 'wheel_system']\n",
    "numerical_features = ['city_fuel_economy', 'highway_fuel_economy', 'exterior_color', 'fuel_tank_volume', 'horsepower', 'mileage', 'model_name', 'major_options_count', 'seller_rating', 'torque', 'year' ]\n",
    "\n",
    "# Creating preprocessing pipelines for categorical features\n",
    "categorical_pipeline = Pipeline(steps=[\n",
    "    ('onehot', OneHotEncoder(handle_unknown='ignore'))  # Applies One-Hot Encoding\n",
    "])\n",
    "\n",
    "# No transformation for numerical features in this pipeline\n",
    "preprocessor = ColumnTransformer(\n",
    "    transformers=[\n",
    "        ('cat', categorical_pipeline, categorical_features),\n",
    "        ('num', 'passthrough', numerical_features)  # No changes to numerical features\n",
    "    ]\n",
    ")\n",
    "\n",
    "def objective(trial):\n",
    "    # Defining hyperparameters\n",
    "    param = {\n",
    "        'objective': 'regression',\n",
    "        'metric': 'rmse',\n",
    "        'verbosity': -1,\n",
    "        'boosting_type': 'gbdt',\n",
    "        'n_estimators': trial.suggest_int('n_estimators', 18000, 28000),\n",
    "        'learning_rate': trial.suggest_float('learning_rate', 0.007, 0.05),\n",
    "        'num_leaves': trial.suggest_int('num_leaves', 140, 280),\n",
    "        'max_depth': trial.suggest_int('max_depth', 35, 85),\n",
    "        'min_child_samples': trial.suggest_int('min_child_samples', 1, 12),\n",
    "        #colsample_bytree=0.8,\n",
    "        #force_row_wise=True\n",
    "        #force_col_wise=True\n",
    "        # Add more parameters if needed\n",
    "    }\n",
    "\n",
    "    # K-fold cross-validation\n",
    "    kf = KFold(n_splits=3)\n",
    "    rmse_scores = []\n",
    "\n",
    "    for train_index, val_index in kf.split(X):\n",
    "        # Apply preprocessing\n",
    "        X_train = X.iloc[train_index]\n",
    "        X_val = X.iloc[val_index]\n",
    "        y_train = y.iloc[train_index]\n",
    "        y_val = y.iloc[val_index]\n",
    "\n",
    "        # Convert categorical variables using the preprocessor variable\n",
    "        X_train_preprocessed = preprocessor.fit_transform(X_train)\n",
    "        X_val_preprocessed = preprocessor.transform(X_val)\n",
    "\n",
    "        # Train the model with preprocessed data\n",
    "        model = lgb.LGBMRegressor(**param)\n",
    "        model.fit(X_train_preprocessed, y_train, eval_set=[(X_val_preprocessed, y_val)], callbacks=[early_stopping(stopping_rounds=100, verbose=False)])\n",
    "        preds = model.predict(X_val_preprocessed)\n",
    "        rmse_scores.append(mean_squared_error(y_val, preds, squared=False))\n",
    "\n",
    "    avg_rmse = np.mean(rmse_scores)\n",
    "    # Print the trial's parameters and RMSE score.\n",
    "    # print(f\"Trial {trial.number}: RMSE = {avg_rmse}, parameters: {param}\")\n",
    "\n",
    "    return avg_rmse\n",
    "\n",
    "study = optuna.create_study(direction='minimize')\n",
    "study.optimize(objective, n_trials=30)  # Number of trials to run\n",
    "\n",
    "# Print best parameters\n",
    "print(\"Best parameters: \", study.best_params"
   ]
  }
 ],
 "metadata": {
  "kernelspec": {
   "display_name": "Python 3 (ipykernel)",
   "language": "python",
   "name": "python3"
  },
  "language_info": {
   "codemirror_mode": {
    "name": "ipython",
    "version": 3
   },
   "file_extension": ".py",
   "mimetype": "text/x-python",
   "name": "python",
   "nbconvert_exporter": "python",
   "pygments_lexer": "ipython3",
   "version": "3.9.16"
  }
 },
 "nbformat": 4,
 "nbformat_minor": 5
}
