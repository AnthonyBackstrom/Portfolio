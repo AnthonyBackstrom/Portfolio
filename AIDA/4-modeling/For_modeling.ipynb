{
 "cells": [
  {
   "cell_type": "code",
   "execution_count": 1,
   "id": "c9e2dce4-f5d0-4e8d-bf81-be8b293db6c5",
   "metadata": {},
   "outputs": [],
   "source": [
    "import numpy as np\n",
    "import pandas as pd \n",
    "import matplotlib.pyplot as plt\n",
    "import seaborn as sns"
   ]
  },
  {
   "cell_type": "code",
   "execution_count": 2,
   "id": "5f627469-ea3b-4dc5-90bf-7fd673c3e174",
   "metadata": {},
   "outputs": [],
   "source": [
    "pd.set_option('display.max_rows', 70)\n",
    "pd.set_option('display.max_columns', 200)"
   ]
  },
  {
   "cell_type": "code",
   "execution_count": 3,
   "id": "6234b722-7899-4399-a90f-e3610329b968",
   "metadata": {},
   "outputs": [],
   "source": [
    "df=pd.read_csv('used_cars_data.csv', low_memory=False)"
   ]
  },
  {
   "cell_type": "markdown",
   "id": "7d503525-12f6-4fe9-bbce-a81ae786573a",
   "metadata": {},
   "source": [
    "## For modeling, select the required lines"
   ]
  },
  {
   "cell_type": "code",
   "execution_count": 4,
   "id": "56d50586-3b15-49d4-a4fb-7e40aa4fafaf",
   "metadata": {},
   "outputs": [
    {
     "data": {
      "text/html": [
       "<div>\n",
       "<style scoped>\n",
       "    .dataframe tbody tr th:only-of-type {\n",
       "        vertical-align: middle;\n",
       "    }\n",
       "\n",
       "    .dataframe tbody tr th {\n",
       "        vertical-align: top;\n",
       "    }\n",
       "\n",
       "    .dataframe thead th {\n",
       "        text-align: right;\n",
       "    }\n",
       "</style>\n",
       "<table border=\"1\" class=\"dataframe\">\n",
       "  <thead>\n",
       "    <tr style=\"text-align: right;\">\n",
       "      <th></th>\n",
       "      <th>body_type</th>\n",
       "      <th>city_fuel_economy</th>\n",
       "      <th>highway_fuel_economy</th>\n",
       "      <th>exterior_color</th>\n",
       "      <th>frame_damaged</th>\n",
       "      <th>has_accidents</th>\n",
       "      <th>salvage</th>\n",
       "      <th>fuel_tank_volume</th>\n",
       "      <th>fuel_type</th>\n",
       "      <th>engine_type</th>\n",
       "      <th>horsepower</th>\n",
       "      <th>isCab</th>\n",
       "      <th>major_options</th>\n",
       "      <th>make_name</th>\n",
       "      <th>maximum_seating</th>\n",
       "      <th>mileage</th>\n",
       "      <th>model_name</th>\n",
       "      <th>seller_rating</th>\n",
       "      <th>torque</th>\n",
       "      <th>price</th>\n",
       "      <th>transmission</th>\n",
       "      <th>wheel_system</th>\n",
       "      <th>year</th>\n",
       "    </tr>\n",
       "  </thead>\n",
       "  <tbody>\n",
       "    <tr>\n",
       "      <th>0</th>\n",
       "      <td>SUV / Crossover</td>\n",
       "      <td>NaN</td>\n",
       "      <td>NaN</td>\n",
       "      <td>Solar Yellow</td>\n",
       "      <td>NaN</td>\n",
       "      <td>NaN</td>\n",
       "      <td>NaN</td>\n",
       "      <td>12.7 gal</td>\n",
       "      <td>Gasoline</td>\n",
       "      <td>I4</td>\n",
       "      <td>177.0</td>\n",
       "      <td>NaN</td>\n",
       "      <td>['Quick Order Package']</td>\n",
       "      <td>Jeep</td>\n",
       "      <td>5 seats</td>\n",
       "      <td>7.0</td>\n",
       "      <td>Renegade</td>\n",
       "      <td>2.800000</td>\n",
       "      <td>200 lb-ft @ 1,750 RPM</td>\n",
       "      <td>23141.0</td>\n",
       "      <td>A</td>\n",
       "      <td>FWD</td>\n",
       "      <td>2019</td>\n",
       "    </tr>\n",
       "    <tr>\n",
       "      <th>1</th>\n",
       "      <td>SUV / Crossover</td>\n",
       "      <td>NaN</td>\n",
       "      <td>NaN</td>\n",
       "      <td>Narvik Black</td>\n",
       "      <td>NaN</td>\n",
       "      <td>NaN</td>\n",
       "      <td>NaN</td>\n",
       "      <td>17.7 gal</td>\n",
       "      <td>Gasoline</td>\n",
       "      <td>I4</td>\n",
       "      <td>246.0</td>\n",
       "      <td>NaN</td>\n",
       "      <td>['Adaptive Cruise Control']</td>\n",
       "      <td>Land Rover</td>\n",
       "      <td>7 seats</td>\n",
       "      <td>8.0</td>\n",
       "      <td>Discovery Sport</td>\n",
       "      <td>3.000000</td>\n",
       "      <td>269 lb-ft @ 1,400 RPM</td>\n",
       "      <td>46500.0</td>\n",
       "      <td>A</td>\n",
       "      <td>AWD</td>\n",
       "      <td>2020</td>\n",
       "    </tr>\n",
       "    <tr>\n",
       "      <th>2</th>\n",
       "      <td>Sedan</td>\n",
       "      <td>17.0</td>\n",
       "      <td>23.0</td>\n",
       "      <td>None</td>\n",
       "      <td>False</td>\n",
       "      <td>False</td>\n",
       "      <td>False</td>\n",
       "      <td>15.9 gal</td>\n",
       "      <td>Gasoline</td>\n",
       "      <td>H4</td>\n",
       "      <td>305.0</td>\n",
       "      <td>False</td>\n",
       "      <td>['Alloy Wheels', 'Bluetooth', 'Backup Camera',...</td>\n",
       "      <td>Subaru</td>\n",
       "      <td>5 seats</td>\n",
       "      <td>NaN</td>\n",
       "      <td>WRX STI</td>\n",
       "      <td>NaN</td>\n",
       "      <td>290 lb-ft @ 4,000 RPM</td>\n",
       "      <td>46995.0</td>\n",
       "      <td>M</td>\n",
       "      <td>AWD</td>\n",
       "      <td>2016</td>\n",
       "    </tr>\n",
       "    <tr>\n",
       "      <th>3</th>\n",
       "      <td>SUV / Crossover</td>\n",
       "      <td>NaN</td>\n",
       "      <td>NaN</td>\n",
       "      <td>Eiger Gray</td>\n",
       "      <td>NaN</td>\n",
       "      <td>NaN</td>\n",
       "      <td>NaN</td>\n",
       "      <td>23.5 gal</td>\n",
       "      <td>Gasoline</td>\n",
       "      <td>V6</td>\n",
       "      <td>340.0</td>\n",
       "      <td>NaN</td>\n",
       "      <td>NaN</td>\n",
       "      <td>Land Rover</td>\n",
       "      <td>7 seats</td>\n",
       "      <td>11.0</td>\n",
       "      <td>Discovery</td>\n",
       "      <td>3.000000</td>\n",
       "      <td>332 lb-ft @ 3,500 RPM</td>\n",
       "      <td>67430.0</td>\n",
       "      <td>A</td>\n",
       "      <td>AWD</td>\n",
       "      <td>2020</td>\n",
       "    </tr>\n",
       "    <tr>\n",
       "      <th>4</th>\n",
       "      <td>SUV / Crossover</td>\n",
       "      <td>NaN</td>\n",
       "      <td>NaN</td>\n",
       "      <td>Narvik Black</td>\n",
       "      <td>NaN</td>\n",
       "      <td>NaN</td>\n",
       "      <td>NaN</td>\n",
       "      <td>17.7 gal</td>\n",
       "      <td>Gasoline</td>\n",
       "      <td>I4</td>\n",
       "      <td>246.0</td>\n",
       "      <td>NaN</td>\n",
       "      <td>['Adaptive Cruise Control']</td>\n",
       "      <td>Land Rover</td>\n",
       "      <td>7 seats</td>\n",
       "      <td>7.0</td>\n",
       "      <td>Discovery Sport</td>\n",
       "      <td>3.000000</td>\n",
       "      <td>269 lb-ft @ 1,400 RPM</td>\n",
       "      <td>48880.0</td>\n",
       "      <td>A</td>\n",
       "      <td>AWD</td>\n",
       "      <td>2020</td>\n",
       "    </tr>\n",
       "    <tr>\n",
       "      <th>...</th>\n",
       "      <td>...</td>\n",
       "      <td>...</td>\n",
       "      <td>...</td>\n",
       "      <td>...</td>\n",
       "      <td>...</td>\n",
       "      <td>...</td>\n",
       "      <td>...</td>\n",
       "      <td>...</td>\n",
       "      <td>...</td>\n",
       "      <td>...</td>\n",
       "      <td>...</td>\n",
       "      <td>...</td>\n",
       "      <td>...</td>\n",
       "      <td>...</td>\n",
       "      <td>...</td>\n",
       "      <td>...</td>\n",
       "      <td>...</td>\n",
       "      <td>...</td>\n",
       "      <td>...</td>\n",
       "      <td>...</td>\n",
       "      <td>...</td>\n",
       "      <td>...</td>\n",
       "      <td>...</td>\n",
       "    </tr>\n",
       "    <tr>\n",
       "      <th>3000035</th>\n",
       "      <td>SUV / Crossover</td>\n",
       "      <td>26.0</td>\n",
       "      <td>32.0</td>\n",
       "      <td>Silver</td>\n",
       "      <td>False</td>\n",
       "      <td>False</td>\n",
       "      <td>False</td>\n",
       "      <td>14.9 gal</td>\n",
       "      <td>Gasoline</td>\n",
       "      <td>I4</td>\n",
       "      <td>170.0</td>\n",
       "      <td>True</td>\n",
       "      <td>['Alloy Wheels', 'Bluetooth', 'Backup Camera',...</td>\n",
       "      <td>Chevrolet</td>\n",
       "      <td>5 seats</td>\n",
       "      <td>41897.0</td>\n",
       "      <td>Equinox</td>\n",
       "      <td>4.272727</td>\n",
       "      <td>NaN</td>\n",
       "      <td>17998.0</td>\n",
       "      <td>A</td>\n",
       "      <td>FWD</td>\n",
       "      <td>2018</td>\n",
       "    </tr>\n",
       "    <tr>\n",
       "      <th>3000036</th>\n",
       "      <td>SUV / Crossover</td>\n",
       "      <td>18.0</td>\n",
       "      <td>27.0</td>\n",
       "      <td>Mosaic Black Metallic</td>\n",
       "      <td>NaN</td>\n",
       "      <td>NaN</td>\n",
       "      <td>NaN</td>\n",
       "      <td>19.4 gal</td>\n",
       "      <td>Gasoline</td>\n",
       "      <td>V6</td>\n",
       "      <td>310.0</td>\n",
       "      <td>NaN</td>\n",
       "      <td>['Alloy Wheels', 'Third Row Seating', 'Bluetoo...</td>\n",
       "      <td>Chevrolet</td>\n",
       "      <td>8 seats</td>\n",
       "      <td>5.0</td>\n",
       "      <td>Traverse</td>\n",
       "      <td>4.533333</td>\n",
       "      <td>266 lb-ft @ 2,800 RPM</td>\n",
       "      <td>36490.0</td>\n",
       "      <td>A</td>\n",
       "      <td>FWD</td>\n",
       "      <td>2020</td>\n",
       "    </tr>\n",
       "    <tr>\n",
       "      <th>3000037</th>\n",
       "      <td>Sedan</td>\n",
       "      <td>NaN</td>\n",
       "      <td>NaN</td>\n",
       "      <td>Gray</td>\n",
       "      <td>False</td>\n",
       "      <td>True</td>\n",
       "      <td>False</td>\n",
       "      <td>16.5 gal</td>\n",
       "      <td>NaN</td>\n",
       "      <td>NaN</td>\n",
       "      <td>240.0</td>\n",
       "      <td>False</td>\n",
       "      <td>['Alloy Wheels', 'Bluetooth', 'Backup Camera']</td>\n",
       "      <td>Ford</td>\n",
       "      <td>5 seats</td>\n",
       "      <td>57992.0</td>\n",
       "      <td>Fusion</td>\n",
       "      <td>4.142857</td>\n",
       "      <td>270 lb-ft @ 1,750 RPM</td>\n",
       "      <td>12990.0</td>\n",
       "      <td>A</td>\n",
       "      <td>FWD</td>\n",
       "      <td>2016</td>\n",
       "    </tr>\n",
       "    <tr>\n",
       "      <th>3000038</th>\n",
       "      <td>Sedan</td>\n",
       "      <td>30.0</td>\n",
       "      <td>40.0</td>\n",
       "      <td>Green</td>\n",
       "      <td>False</td>\n",
       "      <td>False</td>\n",
       "      <td>False</td>\n",
       "      <td>14.8 gal</td>\n",
       "      <td>Diesel</td>\n",
       "      <td>I4 Diesel</td>\n",
       "      <td>180.0</td>\n",
       "      <td>False</td>\n",
       "      <td>['Sunroof/Moonroof', 'Navigation System', 'All...</td>\n",
       "      <td>Jaguar</td>\n",
       "      <td>5 seats</td>\n",
       "      <td>27857.0</td>\n",
       "      <td>XE</td>\n",
       "      <td>4.272727</td>\n",
       "      <td>318 lb-ft @ 1,750 RPM</td>\n",
       "      <td>26998.0</td>\n",
       "      <td>A</td>\n",
       "      <td>AWD</td>\n",
       "      <td>2017</td>\n",
       "    </tr>\n",
       "    <tr>\n",
       "      <th>3000039</th>\n",
       "      <td>SUV / Crossover</td>\n",
       "      <td>26.0</td>\n",
       "      <td>33.0</td>\n",
       "      <td>Brilliant Silver</td>\n",
       "      <td>False</td>\n",
       "      <td>False</td>\n",
       "      <td>False</td>\n",
       "      <td>14.5 gal</td>\n",
       "      <td>Gasoline</td>\n",
       "      <td>I4</td>\n",
       "      <td>170.0</td>\n",
       "      <td>False</td>\n",
       "      <td>['Alloy Wheels', 'Bluetooth', 'Backup Camera',...</td>\n",
       "      <td>Nissan</td>\n",
       "      <td>7 seats</td>\n",
       "      <td>22600.0</td>\n",
       "      <td>Rogue</td>\n",
       "      <td>4.333333</td>\n",
       "      <td>175 lb-ft @ 4,400 RPM</td>\n",
       "      <td>19900.0</td>\n",
       "      <td>A</td>\n",
       "      <td>FWD</td>\n",
       "      <td>2017</td>\n",
       "    </tr>\n",
       "  </tbody>\n",
       "</table>\n",
       "<p>3000040 rows × 23 columns</p>\n",
       "</div>"
      ],
      "text/plain": [
       "               body_type  city_fuel_economy  highway_fuel_economy  \\\n",
       "0        SUV / Crossover                NaN                   NaN   \n",
       "1        SUV / Crossover                NaN                   NaN   \n",
       "2                  Sedan               17.0                  23.0   \n",
       "3        SUV / Crossover                NaN                   NaN   \n",
       "4        SUV / Crossover                NaN                   NaN   \n",
       "...                  ...                ...                   ...   \n",
       "3000035  SUV / Crossover               26.0                  32.0   \n",
       "3000036  SUV / Crossover               18.0                  27.0   \n",
       "3000037            Sedan                NaN                   NaN   \n",
       "3000038            Sedan               30.0                  40.0   \n",
       "3000039  SUV / Crossover               26.0                  33.0   \n",
       "\n",
       "                exterior_color frame_damaged has_accidents salvage  \\\n",
       "0                 Solar Yellow           NaN           NaN     NaN   \n",
       "1                 Narvik Black           NaN           NaN     NaN   \n",
       "2                         None         False         False   False   \n",
       "3                   Eiger Gray           NaN           NaN     NaN   \n",
       "4                 Narvik Black           NaN           NaN     NaN   \n",
       "...                        ...           ...           ...     ...   \n",
       "3000035                 Silver         False         False   False   \n",
       "3000036  Mosaic Black Metallic           NaN           NaN     NaN   \n",
       "3000037                   Gray         False          True   False   \n",
       "3000038                  Green         False         False   False   \n",
       "3000039       Brilliant Silver         False         False   False   \n",
       "\n",
       "        fuel_tank_volume fuel_type engine_type  horsepower  isCab  \\\n",
       "0               12.7 gal  Gasoline          I4       177.0    NaN   \n",
       "1               17.7 gal  Gasoline          I4       246.0    NaN   \n",
       "2               15.9 gal  Gasoline          H4       305.0  False   \n",
       "3               23.5 gal  Gasoline          V6       340.0    NaN   \n",
       "4               17.7 gal  Gasoline          I4       246.0    NaN   \n",
       "...                  ...       ...         ...         ...    ...   \n",
       "3000035         14.9 gal  Gasoline          I4       170.0   True   \n",
       "3000036         19.4 gal  Gasoline          V6       310.0    NaN   \n",
       "3000037         16.5 gal       NaN         NaN       240.0  False   \n",
       "3000038         14.8 gal    Diesel   I4 Diesel       180.0  False   \n",
       "3000039         14.5 gal  Gasoline          I4       170.0  False   \n",
       "\n",
       "                                             major_options   make_name  \\\n",
       "0                                  ['Quick Order Package']        Jeep   \n",
       "1                              ['Adaptive Cruise Control']  Land Rover   \n",
       "2        ['Alloy Wheels', 'Bluetooth', 'Backup Camera',...      Subaru   \n",
       "3                                                      NaN  Land Rover   \n",
       "4                              ['Adaptive Cruise Control']  Land Rover   \n",
       "...                                                    ...         ...   \n",
       "3000035  ['Alloy Wheels', 'Bluetooth', 'Backup Camera',...   Chevrolet   \n",
       "3000036  ['Alloy Wheels', 'Third Row Seating', 'Bluetoo...   Chevrolet   \n",
       "3000037     ['Alloy Wheels', 'Bluetooth', 'Backup Camera']        Ford   \n",
       "3000038  ['Sunroof/Moonroof', 'Navigation System', 'All...      Jaguar   \n",
       "3000039  ['Alloy Wheels', 'Bluetooth', 'Backup Camera',...      Nissan   \n",
       "\n",
       "        maximum_seating  mileage       model_name  seller_rating  \\\n",
       "0               5 seats      7.0         Renegade       2.800000   \n",
       "1               7 seats      8.0  Discovery Sport       3.000000   \n",
       "2               5 seats      NaN          WRX STI            NaN   \n",
       "3               7 seats     11.0        Discovery       3.000000   \n",
       "4               7 seats      7.0  Discovery Sport       3.000000   \n",
       "...                 ...      ...              ...            ...   \n",
       "3000035         5 seats  41897.0          Equinox       4.272727   \n",
       "3000036         8 seats      5.0         Traverse       4.533333   \n",
       "3000037         5 seats  57992.0           Fusion       4.142857   \n",
       "3000038         5 seats  27857.0               XE       4.272727   \n",
       "3000039         7 seats  22600.0            Rogue       4.333333   \n",
       "\n",
       "                        torque    price transmission wheel_system  year  \n",
       "0        200 lb-ft @ 1,750 RPM  23141.0            A          FWD  2019  \n",
       "1        269 lb-ft @ 1,400 RPM  46500.0            A          AWD  2020  \n",
       "2        290 lb-ft @ 4,000 RPM  46995.0            M          AWD  2016  \n",
       "3        332 lb-ft @ 3,500 RPM  67430.0            A          AWD  2020  \n",
       "4        269 lb-ft @ 1,400 RPM  48880.0            A          AWD  2020  \n",
       "...                        ...      ...          ...          ...   ...  \n",
       "3000035                    NaN  17998.0            A          FWD  2018  \n",
       "3000036  266 lb-ft @ 2,800 RPM  36490.0            A          FWD  2020  \n",
       "3000037  270 lb-ft @ 1,750 RPM  12990.0            A          FWD  2016  \n",
       "3000038  318 lb-ft @ 1,750 RPM  26998.0            A          AWD  2017  \n",
       "3000039  175 lb-ft @ 4,400 RPM  19900.0            A          FWD  2017  \n",
       "\n",
       "[3000040 rows x 23 columns]"
      ]
     },
     "execution_count": 4,
     "metadata": {},
     "output_type": "execute_result"
    }
   ],
   "source": [
    "df = df.loc[:, [\n",
    "    'body_type', 'city_fuel_economy', 'highway_fuel_economy', \n",
    "    'exterior_color', 'frame_damaged', 'has_accidents', \n",
    "    'salvage', 'fuel_tank_volume', 'fuel_type', 'engine_type', \n",
    "    'horsepower', 'isCab', 'major_options','make_name', 'maximum_seating', \n",
    "    'mileage', 'model_name', 'seller_rating', 'torque', 'price', \n",
    "    'transmission', 'wheel_system', 'year'\n",
    "]].copy()\n",
    "df"
   ]
  },
  {
   "cell_type": "markdown",
   "id": "5cc3cd3d-a5f9-47e5-84c1-f0b0e96e1fd5",
   "metadata": {},
   "source": [
    "## Data Cleaning & Data Wrangling"
   ]
  },
  {
   "cell_type": "markdown",
   "id": "9204a9a7-7fda-477f-9e8b-ffbf3d1f7b98",
   "metadata": {},
   "source": [
    "## Duplicates\n",
    "\n",
    "checking for duplicate rows"
   ]
  },
  {
   "cell_type": "code",
   "execution_count": 5,
   "id": "1e4976d4-3496-4f31-9993-d8c2bd9b76d8",
   "metadata": {},
   "outputs": [
    {
     "name": "stdout",
     "output_type": "stream",
     "text": [
      "The number of duplicate rows are 148132.\n"
     ]
    }
   ],
   "source": [
    "# checking for duplicate rows\n",
    "duplucate_rows = df.duplicated().sum()\n",
    "\n",
    "print(f\"The number of duplicate rows are {duplucate_rows}.\")"
   ]
  },
  {
   "cell_type": "code",
   "execution_count": 6,
   "id": "34cafd6b-b5a7-4975-ba8e-d9bad582b8e7",
   "metadata": {},
   "outputs": [
    {
     "data": {
      "text/html": [
       "<div>\n",
       "<style scoped>\n",
       "    .dataframe tbody tr th:only-of-type {\n",
       "        vertical-align: middle;\n",
       "    }\n",
       "\n",
       "    .dataframe tbody tr th {\n",
       "        vertical-align: top;\n",
       "    }\n",
       "\n",
       "    .dataframe thead th {\n",
       "        text-align: right;\n",
       "    }\n",
       "</style>\n",
       "<table border=\"1\" class=\"dataframe\">\n",
       "  <thead>\n",
       "    <tr style=\"text-align: right;\">\n",
       "      <th></th>\n",
       "      <th>body_type</th>\n",
       "      <th>city_fuel_economy</th>\n",
       "      <th>highway_fuel_economy</th>\n",
       "      <th>exterior_color</th>\n",
       "      <th>frame_damaged</th>\n",
       "      <th>has_accidents</th>\n",
       "      <th>salvage</th>\n",
       "      <th>fuel_tank_volume</th>\n",
       "      <th>fuel_type</th>\n",
       "      <th>engine_type</th>\n",
       "      <th>horsepower</th>\n",
       "      <th>isCab</th>\n",
       "      <th>major_options</th>\n",
       "      <th>make_name</th>\n",
       "      <th>maximum_seating</th>\n",
       "      <th>mileage</th>\n",
       "      <th>model_name</th>\n",
       "      <th>seller_rating</th>\n",
       "      <th>torque</th>\n",
       "      <th>price</th>\n",
       "      <th>transmission</th>\n",
       "      <th>wheel_system</th>\n",
       "      <th>year</th>\n",
       "    </tr>\n",
       "  </thead>\n",
       "  <tbody>\n",
       "    <tr>\n",
       "      <th>202</th>\n",
       "      <td>SUV / Crossover</td>\n",
       "      <td>NaN</td>\n",
       "      <td>NaN</td>\n",
       "      <td>Snowflake White Pearl Mica</td>\n",
       "      <td>NaN</td>\n",
       "      <td>NaN</td>\n",
       "      <td>NaN</td>\n",
       "      <td>19 gal</td>\n",
       "      <td>Gasoline</td>\n",
       "      <td>I4</td>\n",
       "      <td>250.0</td>\n",
       "      <td>NaN</td>\n",
       "      <td>['Adaptive Cruise Control', 'Alloy Wheels', 'B...</td>\n",
       "      <td>Mazda</td>\n",
       "      <td>7 seats</td>\n",
       "      <td>10.0</td>\n",
       "      <td>CX-9</td>\n",
       "      <td>2.800000</td>\n",
       "      <td>320 lb-ft @ 2,500 RPM</td>\n",
       "      <td>39695.0</td>\n",
       "      <td>A</td>\n",
       "      <td>FWD</td>\n",
       "      <td>2020</td>\n",
       "    </tr>\n",
       "    <tr>\n",
       "      <th>210</th>\n",
       "      <td>SUV / Crossover</td>\n",
       "      <td>NaN</td>\n",
       "      <td>NaN</td>\n",
       "      <td>Snowflake White Pearl Mica</td>\n",
       "      <td>NaN</td>\n",
       "      <td>NaN</td>\n",
       "      <td>NaN</td>\n",
       "      <td>19 gal</td>\n",
       "      <td>Gasoline</td>\n",
       "      <td>I4</td>\n",
       "      <td>250.0</td>\n",
       "      <td>NaN</td>\n",
       "      <td>['Adaptive Cruise Control', 'Alloy Wheels', 'B...</td>\n",
       "      <td>Mazda</td>\n",
       "      <td>7 seats</td>\n",
       "      <td>10.0</td>\n",
       "      <td>CX-9</td>\n",
       "      <td>2.800000</td>\n",
       "      <td>320 lb-ft @ 2,500 RPM</td>\n",
       "      <td>39695.0</td>\n",
       "      <td>A</td>\n",
       "      <td>FWD</td>\n",
       "      <td>2020</td>\n",
       "    </tr>\n",
       "    <tr>\n",
       "      <th>612</th>\n",
       "      <td>SUV / Crossover</td>\n",
       "      <td>22.0</td>\n",
       "      <td>30.0</td>\n",
       "      <td>Granite Crystal Metallic Clearcoat</td>\n",
       "      <td>NaN</td>\n",
       "      <td>NaN</td>\n",
       "      <td>NaN</td>\n",
       "      <td>13.5 gal</td>\n",
       "      <td>Gasoline</td>\n",
       "      <td>I4</td>\n",
       "      <td>180.0</td>\n",
       "      <td>NaN</td>\n",
       "      <td>['Alloy Wheels', 'Bluetooth', 'Backup Camera',...</td>\n",
       "      <td>Jeep</td>\n",
       "      <td>5 seats</td>\n",
       "      <td>0.0</td>\n",
       "      <td>Compass</td>\n",
       "      <td>4.377778</td>\n",
       "      <td>175 lb-ft @ 3,900 RPM</td>\n",
       "      <td>26329.0</td>\n",
       "      <td>A</td>\n",
       "      <td>4WD</td>\n",
       "      <td>2021</td>\n",
       "    </tr>\n",
       "    <tr>\n",
       "      <th>629</th>\n",
       "      <td>SUV / Crossover</td>\n",
       "      <td>22.0</td>\n",
       "      <td>30.0</td>\n",
       "      <td>Granite Crystal Metallic Clearcoat</td>\n",
       "      <td>NaN</td>\n",
       "      <td>NaN</td>\n",
       "      <td>NaN</td>\n",
       "      <td>13.5 gal</td>\n",
       "      <td>Gasoline</td>\n",
       "      <td>I4</td>\n",
       "      <td>180.0</td>\n",
       "      <td>NaN</td>\n",
       "      <td>['Alloy Wheels', 'Bluetooth', 'Backup Camera',...</td>\n",
       "      <td>Jeep</td>\n",
       "      <td>5 seats</td>\n",
       "      <td>0.0</td>\n",
       "      <td>Compass</td>\n",
       "      <td>4.377778</td>\n",
       "      <td>175 lb-ft @ 3,900 RPM</td>\n",
       "      <td>26329.0</td>\n",
       "      <td>A</td>\n",
       "      <td>4WD</td>\n",
       "      <td>2021</td>\n",
       "    </tr>\n",
       "    <tr>\n",
       "      <th>642</th>\n",
       "      <td>SUV / Crossover</td>\n",
       "      <td>22.0</td>\n",
       "      <td>30.0</td>\n",
       "      <td>Jazz Blue Pearlcoat</td>\n",
       "      <td>NaN</td>\n",
       "      <td>NaN</td>\n",
       "      <td>NaN</td>\n",
       "      <td>13.5 gal</td>\n",
       "      <td>Gasoline</td>\n",
       "      <td>I4</td>\n",
       "      <td>180.0</td>\n",
       "      <td>NaN</td>\n",
       "      <td>['Alloy Wheels', 'Bluetooth', 'Backup Camera',...</td>\n",
       "      <td>Jeep</td>\n",
       "      <td>5 seats</td>\n",
       "      <td>0.0</td>\n",
       "      <td>Compass</td>\n",
       "      <td>4.377778</td>\n",
       "      <td>175 lb-ft @ 3,900 RPM</td>\n",
       "      <td>26329.0</td>\n",
       "      <td>A</td>\n",
       "      <td>4WD</td>\n",
       "      <td>2021</td>\n",
       "    </tr>\n",
       "    <tr>\n",
       "      <th>...</th>\n",
       "      <td>...</td>\n",
       "      <td>...</td>\n",
       "      <td>...</td>\n",
       "      <td>...</td>\n",
       "      <td>...</td>\n",
       "      <td>...</td>\n",
       "      <td>...</td>\n",
       "      <td>...</td>\n",
       "      <td>...</td>\n",
       "      <td>...</td>\n",
       "      <td>...</td>\n",
       "      <td>...</td>\n",
       "      <td>...</td>\n",
       "      <td>...</td>\n",
       "      <td>...</td>\n",
       "      <td>...</td>\n",
       "      <td>...</td>\n",
       "      <td>...</td>\n",
       "      <td>...</td>\n",
       "      <td>...</td>\n",
       "      <td>...</td>\n",
       "      <td>...</td>\n",
       "      <td>...</td>\n",
       "    </tr>\n",
       "    <tr>\n",
       "      <th>2999122</th>\n",
       "      <td>Pickup Truck</td>\n",
       "      <td>NaN</td>\n",
       "      <td>NaN</td>\n",
       "      <td>Summit White</td>\n",
       "      <td>NaN</td>\n",
       "      <td>NaN</td>\n",
       "      <td>NaN</td>\n",
       "      <td>NaN</td>\n",
       "      <td>NaN</td>\n",
       "      <td>NaN</td>\n",
       "      <td>NaN</td>\n",
       "      <td>NaN</td>\n",
       "      <td>['Steel Wheels', 'Bluetooth']</td>\n",
       "      <td>GMC</td>\n",
       "      <td>NaN</td>\n",
       "      <td>0.0</td>\n",
       "      <td>Sierra 2500HD</td>\n",
       "      <td>4.555556</td>\n",
       "      <td>NaN</td>\n",
       "      <td>50850.0</td>\n",
       "      <td>A</td>\n",
       "      <td>NaN</td>\n",
       "      <td>2020</td>\n",
       "    </tr>\n",
       "    <tr>\n",
       "      <th>2999134</th>\n",
       "      <td>Pickup Truck</td>\n",
       "      <td>16.0</td>\n",
       "      <td>22.0</td>\n",
       "      <td>Black</td>\n",
       "      <td>NaN</td>\n",
       "      <td>NaN</td>\n",
       "      <td>NaN</td>\n",
       "      <td>24 gal</td>\n",
       "      <td>Gasoline</td>\n",
       "      <td>V8</td>\n",
       "      <td>420.0</td>\n",
       "      <td>NaN</td>\n",
       "      <td>NaN</td>\n",
       "      <td>Chevrolet</td>\n",
       "      <td>6 seats</td>\n",
       "      <td>0.0</td>\n",
       "      <td>Silverado 1500</td>\n",
       "      <td>4.446429</td>\n",
       "      <td>383 lb-ft @ 4,100 RPM</td>\n",
       "      <td>49500.0</td>\n",
       "      <td>A</td>\n",
       "      <td>4WD</td>\n",
       "      <td>2020</td>\n",
       "    </tr>\n",
       "    <tr>\n",
       "      <th>2999192</th>\n",
       "      <td>Pickup Truck</td>\n",
       "      <td>16.0</td>\n",
       "      <td>22.0</td>\n",
       "      <td>Satin Steel Metallic</td>\n",
       "      <td>NaN</td>\n",
       "      <td>NaN</td>\n",
       "      <td>NaN</td>\n",
       "      <td>24 gal</td>\n",
       "      <td>Gasoline</td>\n",
       "      <td>V8</td>\n",
       "      <td>420.0</td>\n",
       "      <td>NaN</td>\n",
       "      <td>NaN</td>\n",
       "      <td>Chevrolet</td>\n",
       "      <td>6 seats</td>\n",
       "      <td>0.0</td>\n",
       "      <td>Silverado 1500</td>\n",
       "      <td>4.446429</td>\n",
       "      <td>383 lb-ft @ 4,100 RPM</td>\n",
       "      <td>49500.0</td>\n",
       "      <td>A</td>\n",
       "      <td>4WD</td>\n",
       "      <td>2020</td>\n",
       "    </tr>\n",
       "    <tr>\n",
       "      <th>2999488</th>\n",
       "      <td>Pickup Truck</td>\n",
       "      <td>NaN</td>\n",
       "      <td>NaN</td>\n",
       "      <td>Oxford White</td>\n",
       "      <td>NaN</td>\n",
       "      <td>NaN</td>\n",
       "      <td>NaN</td>\n",
       "      <td>34 gal</td>\n",
       "      <td>NaN</td>\n",
       "      <td>NaN</td>\n",
       "      <td>430.0</td>\n",
       "      <td>NaN</td>\n",
       "      <td>['Steel Wheels', 'Backup Camera']</td>\n",
       "      <td>Ford</td>\n",
       "      <td>3 seats</td>\n",
       "      <td>NaN</td>\n",
       "      <td>F-250 Super Duty</td>\n",
       "      <td>5.000000</td>\n",
       "      <td>430 lb-ft @ 3,800 RPM</td>\n",
       "      <td>37875.0</td>\n",
       "      <td>A</td>\n",
       "      <td>4X2</td>\n",
       "      <td>2020</td>\n",
       "    </tr>\n",
       "    <tr>\n",
       "      <th>2999523</th>\n",
       "      <td>Pickup Truck</td>\n",
       "      <td>NaN</td>\n",
       "      <td>NaN</td>\n",
       "      <td>Oxford White</td>\n",
       "      <td>NaN</td>\n",
       "      <td>NaN</td>\n",
       "      <td>NaN</td>\n",
       "      <td>34 gal</td>\n",
       "      <td>NaN</td>\n",
       "      <td>NaN</td>\n",
       "      <td>430.0</td>\n",
       "      <td>NaN</td>\n",
       "      <td>['Steel Wheels', 'Backup Camera']</td>\n",
       "      <td>Ford</td>\n",
       "      <td>3 seats</td>\n",
       "      <td>NaN</td>\n",
       "      <td>F-250 Super Duty</td>\n",
       "      <td>5.000000</td>\n",
       "      <td>430 lb-ft @ 3,800 RPM</td>\n",
       "      <td>37875.0</td>\n",
       "      <td>A</td>\n",
       "      <td>4X2</td>\n",
       "      <td>2020</td>\n",
       "    </tr>\n",
       "  </tbody>\n",
       "</table>\n",
       "<p>239090 rows × 23 columns</p>\n",
       "</div>"
      ],
      "text/plain": [
       "               body_type  city_fuel_economy  highway_fuel_economy  \\\n",
       "202      SUV / Crossover                NaN                   NaN   \n",
       "210      SUV / Crossover                NaN                   NaN   \n",
       "612      SUV / Crossover               22.0                  30.0   \n",
       "629      SUV / Crossover               22.0                  30.0   \n",
       "642      SUV / Crossover               22.0                  30.0   \n",
       "...                  ...                ...                   ...   \n",
       "2999122     Pickup Truck                NaN                   NaN   \n",
       "2999134     Pickup Truck               16.0                  22.0   \n",
       "2999192     Pickup Truck               16.0                  22.0   \n",
       "2999488     Pickup Truck                NaN                   NaN   \n",
       "2999523     Pickup Truck                NaN                   NaN   \n",
       "\n",
       "                             exterior_color frame_damaged has_accidents  \\\n",
       "202              Snowflake White Pearl Mica           NaN           NaN   \n",
       "210              Snowflake White Pearl Mica           NaN           NaN   \n",
       "612      Granite Crystal Metallic Clearcoat           NaN           NaN   \n",
       "629      Granite Crystal Metallic Clearcoat           NaN           NaN   \n",
       "642                     Jazz Blue Pearlcoat           NaN           NaN   \n",
       "...                                     ...           ...           ...   \n",
       "2999122                        Summit White           NaN           NaN   \n",
       "2999134                               Black           NaN           NaN   \n",
       "2999192                Satin Steel Metallic           NaN           NaN   \n",
       "2999488                        Oxford White           NaN           NaN   \n",
       "2999523                        Oxford White           NaN           NaN   \n",
       "\n",
       "        salvage fuel_tank_volume fuel_type engine_type  horsepower isCab  \\\n",
       "202         NaN           19 gal  Gasoline          I4       250.0   NaN   \n",
       "210         NaN           19 gal  Gasoline          I4       250.0   NaN   \n",
       "612         NaN         13.5 gal  Gasoline          I4       180.0   NaN   \n",
       "629         NaN         13.5 gal  Gasoline          I4       180.0   NaN   \n",
       "642         NaN         13.5 gal  Gasoline          I4       180.0   NaN   \n",
       "...         ...              ...       ...         ...         ...   ...   \n",
       "2999122     NaN              NaN       NaN         NaN         NaN   NaN   \n",
       "2999134     NaN           24 gal  Gasoline          V8       420.0   NaN   \n",
       "2999192     NaN           24 gal  Gasoline          V8       420.0   NaN   \n",
       "2999488     NaN           34 gal       NaN         NaN       430.0   NaN   \n",
       "2999523     NaN           34 gal       NaN         NaN       430.0   NaN   \n",
       "\n",
       "                                             major_options  make_name  \\\n",
       "202      ['Adaptive Cruise Control', 'Alloy Wheels', 'B...      Mazda   \n",
       "210      ['Adaptive Cruise Control', 'Alloy Wheels', 'B...      Mazda   \n",
       "612      ['Alloy Wheels', 'Bluetooth', 'Backup Camera',...       Jeep   \n",
       "629      ['Alloy Wheels', 'Bluetooth', 'Backup Camera',...       Jeep   \n",
       "642      ['Alloy Wheels', 'Bluetooth', 'Backup Camera',...       Jeep   \n",
       "...                                                    ...        ...   \n",
       "2999122                      ['Steel Wheels', 'Bluetooth']        GMC   \n",
       "2999134                                                NaN  Chevrolet   \n",
       "2999192                                                NaN  Chevrolet   \n",
       "2999488                  ['Steel Wheels', 'Backup Camera']       Ford   \n",
       "2999523                  ['Steel Wheels', 'Backup Camera']       Ford   \n",
       "\n",
       "        maximum_seating  mileage        model_name  seller_rating  \\\n",
       "202             7 seats     10.0              CX-9       2.800000   \n",
       "210             7 seats     10.0              CX-9       2.800000   \n",
       "612             5 seats      0.0           Compass       4.377778   \n",
       "629             5 seats      0.0           Compass       4.377778   \n",
       "642             5 seats      0.0           Compass       4.377778   \n",
       "...                 ...      ...               ...            ...   \n",
       "2999122             NaN      0.0     Sierra 2500HD       4.555556   \n",
       "2999134         6 seats      0.0    Silverado 1500       4.446429   \n",
       "2999192         6 seats      0.0    Silverado 1500       4.446429   \n",
       "2999488         3 seats      NaN  F-250 Super Duty       5.000000   \n",
       "2999523         3 seats      NaN  F-250 Super Duty       5.000000   \n",
       "\n",
       "                        torque    price transmission wheel_system  year  \n",
       "202      320 lb-ft @ 2,500 RPM  39695.0            A          FWD  2020  \n",
       "210      320 lb-ft @ 2,500 RPM  39695.0            A          FWD  2020  \n",
       "612      175 lb-ft @ 3,900 RPM  26329.0            A          4WD  2021  \n",
       "629      175 lb-ft @ 3,900 RPM  26329.0            A          4WD  2021  \n",
       "642      175 lb-ft @ 3,900 RPM  26329.0            A          4WD  2021  \n",
       "...                        ...      ...          ...          ...   ...  \n",
       "2999122                    NaN  50850.0            A          NaN  2020  \n",
       "2999134  383 lb-ft @ 4,100 RPM  49500.0            A          4WD  2020  \n",
       "2999192  383 lb-ft @ 4,100 RPM  49500.0            A          4WD  2020  \n",
       "2999488  430 lb-ft @ 3,800 RPM  37875.0            A          4X2  2020  \n",
       "2999523  430 lb-ft @ 3,800 RPM  37875.0            A          4X2  2020  \n",
       "\n",
       "[239090 rows x 23 columns]"
      ]
     },
     "execution_count": 6,
     "metadata": {},
     "output_type": "execute_result"
    }
   ],
   "source": [
    "# setting the duplicated index\n",
    "duplicate_index = df.duplicated(keep=False)\n",
    "\n",
    "# calling the duplicated index in a dataframe\n",
    "df.loc[duplicate_index, :].sort_index()"
   ]
  },
  {
   "cell_type": "code",
   "execution_count": 7,
   "id": "5a213afc-c109-474a-9962-5a5ce6775796",
   "metadata": {},
   "outputs": [
    {
     "name": "stdout",
     "output_type": "stream",
     "text": [
      "The number of duplicate rows are 0.\n"
     ]
    }
   ],
   "source": [
    "# making a copy with the duplicated rows dropped\n",
    "df2 = df.drop_duplicates().copy()\n",
    "\n",
    "# checking for duplicate rows in the new dataframe\n",
    "dup = df2.duplicated().sum()\n",
    "\n",
    "print(f\"The number of duplicate rows are {dup}.\")"
   ]
  },
  {
   "cell_type": "markdown",
   "id": "9f245cbe-46aa-4cd2-aa19-dd9fa1cc553c",
   "metadata": {},
   "source": [
    "## Null Values"
   ]
  },
  {
   "cell_type": "code",
   "execution_count": 8,
   "id": "49e79497-5e64-4eca-9607-1b3470d39ea0",
   "metadata": {},
   "outputs": [
    {
     "data": {
      "text/plain": [
       "body_type                 12436\n",
       "city_fuel_economy        467402\n",
       "highway_fuel_economy     467402\n",
       "exterior_color               26\n",
       "frame_damaged           1281177\n",
       "has_accidents           1281177\n",
       "salvage                 1281177\n",
       "fuel_tank_volume         149994\n",
       "fuel_type                 77925\n",
       "engine_type               94761\n",
       "horsepower               162215\n",
       "isCab                   1281177\n",
       "major_options            183948\n",
       "make_name                     0\n",
       "maximum_seating          149994\n",
       "mileage                  124976\n",
       "model_name                    0\n",
       "seller_rating             39739\n",
       "torque                   487853\n",
       "price                         0\n",
       "transmission              59617\n",
       "wheel_system             137779\n",
       "year                          0\n",
       "dtype: int64"
      ]
     },
     "execution_count": 8,
     "metadata": {},
     "output_type": "execute_result"
    }
   ],
   "source": [
    "# checking for the total amount of null values\n",
    "df2.isnull().sum()"
   ]
  },
  {
   "cell_type": "markdown",
   "id": "0ec52886-7ab4-435c-b9ea-4c2acc53ba9c",
   "metadata": {},
   "source": [
    "## body_type"
   ]
  },
  {
   "cell_type": "code",
   "execution_count": 9,
   "id": "dc30d7c5-843a-4e23-bd8e-35972ac56e2f",
   "metadata": {},
   "outputs": [
    {
     "data": {
      "text/plain": [
       "array(['SUV / Crossover', 'Sedan', 'Coupe', 'Hatchback', 'Pickup Truck',\n",
       "       'Wagon', 'Minivan', 'Van', 'Convertible', nan], dtype=object)"
      ]
     },
     "execution_count": 9,
     "metadata": {},
     "output_type": "execute_result"
    }
   ],
   "source": [
    "df2['body_type'].unique()"
   ]
  },
  {
   "cell_type": "code",
   "execution_count": 10,
   "id": "1bcda275-21c6-42cc-ad34-5eddcb3b33ba",
   "metadata": {},
   "outputs": [
    {
     "data": {
      "text/plain": [
       "SUV / Crossover    46.962630\n",
       "Sedan              24.590450\n",
       "Pickup Truck       16.060792\n",
       "Hatchback           2.958265\n",
       "Minivan             2.702752\n",
       "Coupe               2.489947\n",
       "Van                 1.496367\n",
       "Wagon               1.393067\n",
       "Convertible         0.909672\n",
       "Name: body_type, dtype: float64"
      ]
     },
     "execution_count": 10,
     "metadata": {},
     "output_type": "execute_result"
    }
   ],
   "source": [
    "df2['body_type'].value_counts()/df2['body_type'].shape*100"
   ]
  },
  {
   "cell_type": "code",
   "execution_count": 11,
   "id": "f585a7fd-54d2-4c3b-9af6-9b65c4abded8",
   "metadata": {},
   "outputs": [],
   "source": [
    "df2['body_type'].replace(np.nan, 'SUV / Crossover', inplace=True)"
   ]
  },
  {
   "cell_type": "code",
   "execution_count": 12,
   "id": "7c7fa629-2eb6-4593-a695-c48a4bd7f0bd",
   "metadata": {},
   "outputs": [
    {
     "name": "stdout",
     "output_type": "stream",
     "text": [
      "The amount of null values in the body_type column are 0.0%.\n"
     ]
    }
   ],
   "source": [
    "result = df2['body_type'].isna().sum()/df2.shape[0]*100\n",
    "\n",
    "print(f\"The amount of null values in the body_type column are {result.round(2)}%.\")"
   ]
  },
  {
   "cell_type": "markdown",
   "id": "3e1c8213-4628-418a-905b-9813ce692dd1",
   "metadata": {},
   "source": [
    "## city_fuel_economy"
   ]
  },
  {
   "cell_type": "code",
   "execution_count": 13,
   "id": "59d3ef26-a5bc-480b-9172-fb5044d80dfb",
   "metadata": {},
   "outputs": [
    {
     "name": "stdout",
     "output_type": "stream",
     "text": [
      "The amount of null values in the city_fuel_economy column are 0.0%.\n"
     ]
    }
   ],
   "source": [
    "# replacing null values with the mean of the column\n",
    "df2['city_fuel_economy'].replace(np.nan, df2['city_fuel_economy'].mean(), inplace=True)\n",
    "\n",
    "# Null check\n",
    "result = df2['city_fuel_economy'].isna().sum()/df2.shape[0]*100\n",
    "\n",
    "print(f\"The amount of null values in the city_fuel_economy column are {result.round(2)}%.\")"
   ]
  },
  {
   "cell_type": "markdown",
   "id": "3ca51600-32e7-4707-a020-f97abddc0be5",
   "metadata": {},
   "source": [
    "## highway_fuel_economy"
   ]
  },
  {
   "cell_type": "code",
   "execution_count": 14,
   "id": "b870093c-1fe4-40e5-b484-38b78bd32b00",
   "metadata": {},
   "outputs": [
    {
     "name": "stdout",
     "output_type": "stream",
     "text": [
      "The amount of null values in the highway_fuel_economy column are 0.0%.\n"
     ]
    }
   ],
   "source": [
    "# filling the null values with the mean of the column\n",
    "df2['highway_fuel_economy'].fillna(df2['highway_fuel_economy'].mean(), inplace=True)\n",
    "\n",
    "# checking the result\n",
    "result = df2['highway_fuel_economy'].isna().sum()/df2.shape[0]*100\n",
    "\n",
    "print(f\"The amount of null values in the highway_fuel_economy column are {result.round(2)}%.\")"
   ]
  },
  {
   "cell_type": "code",
   "execution_count": 15,
   "id": "122a68d0-3c89-4619-b45c-9abce6a786ec",
   "metadata": {},
   "outputs": [
    {
     "data": {
      "text/html": [
       "<div>\n",
       "<style scoped>\n",
       "    .dataframe tbody tr th:only-of-type {\n",
       "        vertical-align: middle;\n",
       "    }\n",
       "\n",
       "    .dataframe tbody tr th {\n",
       "        vertical-align: top;\n",
       "    }\n",
       "\n",
       "    .dataframe thead th {\n",
       "        text-align: right;\n",
       "    }\n",
       "</style>\n",
       "<table border=\"1\" class=\"dataframe\">\n",
       "  <thead>\n",
       "    <tr style=\"text-align: right;\">\n",
       "      <th></th>\n",
       "      <th>body_type</th>\n",
       "      <th>exterior_color</th>\n",
       "      <th>frame_damaged</th>\n",
       "      <th>has_accidents</th>\n",
       "      <th>salvage</th>\n",
       "      <th>fuel_tank_volume</th>\n",
       "      <th>fuel_type</th>\n",
       "      <th>engine_type</th>\n",
       "      <th>horsepower</th>\n",
       "      <th>isCab</th>\n",
       "      <th>major_options</th>\n",
       "      <th>make_name</th>\n",
       "      <th>maximum_seating</th>\n",
       "      <th>mileage</th>\n",
       "      <th>model_name</th>\n",
       "      <th>seller_rating</th>\n",
       "      <th>torque</th>\n",
       "      <th>price</th>\n",
       "      <th>transmission</th>\n",
       "      <th>wheel_system</th>\n",
       "      <th>year</th>\n",
       "      <th>combined_fuel_economy</th>\n",
       "    </tr>\n",
       "  </thead>\n",
       "  <tbody>\n",
       "    <tr>\n",
       "      <th>0</th>\n",
       "      <td>SUV / Crossover</td>\n",
       "      <td>Solar Yellow</td>\n",
       "      <td>NaN</td>\n",
       "      <td>NaN</td>\n",
       "      <td>NaN</td>\n",
       "      <td>12.7 gal</td>\n",
       "      <td>Gasoline</td>\n",
       "      <td>I4</td>\n",
       "      <td>177.0</td>\n",
       "      <td>NaN</td>\n",
       "      <td>['Quick Order Package']</td>\n",
       "      <td>Jeep</td>\n",
       "      <td>5 seats</td>\n",
       "      <td>7.0</td>\n",
       "      <td>Renegade</td>\n",
       "      <td>2.8</td>\n",
       "      <td>200 lb-ft @ 1,750 RPM</td>\n",
       "      <td>23141.0</td>\n",
       "      <td>A</td>\n",
       "      <td>FWD</td>\n",
       "      <td>2019</td>\n",
       "      <td>25.945626</td>\n",
       "    </tr>\n",
       "    <tr>\n",
       "      <th>1</th>\n",
       "      <td>SUV / Crossover</td>\n",
       "      <td>Narvik Black</td>\n",
       "      <td>NaN</td>\n",
       "      <td>NaN</td>\n",
       "      <td>NaN</td>\n",
       "      <td>17.7 gal</td>\n",
       "      <td>Gasoline</td>\n",
       "      <td>I4</td>\n",
       "      <td>246.0</td>\n",
       "      <td>NaN</td>\n",
       "      <td>['Adaptive Cruise Control']</td>\n",
       "      <td>Land Rover</td>\n",
       "      <td>7 seats</td>\n",
       "      <td>8.0</td>\n",
       "      <td>Discovery Sport</td>\n",
       "      <td>3.0</td>\n",
       "      <td>269 lb-ft @ 1,400 RPM</td>\n",
       "      <td>46500.0</td>\n",
       "      <td>A</td>\n",
       "      <td>AWD</td>\n",
       "      <td>2020</td>\n",
       "      <td>25.945626</td>\n",
       "    </tr>\n",
       "    <tr>\n",
       "      <th>2</th>\n",
       "      <td>Sedan</td>\n",
       "      <td>None</td>\n",
       "      <td>False</td>\n",
       "      <td>False</td>\n",
       "      <td>False</td>\n",
       "      <td>15.9 gal</td>\n",
       "      <td>Gasoline</td>\n",
       "      <td>H4</td>\n",
       "      <td>305.0</td>\n",
       "      <td>False</td>\n",
       "      <td>['Alloy Wheels', 'Bluetooth', 'Backup Camera',...</td>\n",
       "      <td>Subaru</td>\n",
       "      <td>5 seats</td>\n",
       "      <td>NaN</td>\n",
       "      <td>WRX STI</td>\n",
       "      <td>NaN</td>\n",
       "      <td>290 lb-ft @ 4,000 RPM</td>\n",
       "      <td>46995.0</td>\n",
       "      <td>M</td>\n",
       "      <td>AWD</td>\n",
       "      <td>2016</td>\n",
       "      <td>20.000000</td>\n",
       "    </tr>\n",
       "    <tr>\n",
       "      <th>3</th>\n",
       "      <td>SUV / Crossover</td>\n",
       "      <td>Eiger Gray</td>\n",
       "      <td>NaN</td>\n",
       "      <td>NaN</td>\n",
       "      <td>NaN</td>\n",
       "      <td>23.5 gal</td>\n",
       "      <td>Gasoline</td>\n",
       "      <td>V6</td>\n",
       "      <td>340.0</td>\n",
       "      <td>NaN</td>\n",
       "      <td>NaN</td>\n",
       "      <td>Land Rover</td>\n",
       "      <td>7 seats</td>\n",
       "      <td>11.0</td>\n",
       "      <td>Discovery</td>\n",
       "      <td>3.0</td>\n",
       "      <td>332 lb-ft @ 3,500 RPM</td>\n",
       "      <td>67430.0</td>\n",
       "      <td>A</td>\n",
       "      <td>AWD</td>\n",
       "      <td>2020</td>\n",
       "      <td>25.945626</td>\n",
       "    </tr>\n",
       "    <tr>\n",
       "      <th>4</th>\n",
       "      <td>SUV / Crossover</td>\n",
       "      <td>Narvik Black</td>\n",
       "      <td>NaN</td>\n",
       "      <td>NaN</td>\n",
       "      <td>NaN</td>\n",
       "      <td>17.7 gal</td>\n",
       "      <td>Gasoline</td>\n",
       "      <td>I4</td>\n",
       "      <td>246.0</td>\n",
       "      <td>NaN</td>\n",
       "      <td>['Adaptive Cruise Control']</td>\n",
       "      <td>Land Rover</td>\n",
       "      <td>7 seats</td>\n",
       "      <td>7.0</td>\n",
       "      <td>Discovery Sport</td>\n",
       "      <td>3.0</td>\n",
       "      <td>269 lb-ft @ 1,400 RPM</td>\n",
       "      <td>48880.0</td>\n",
       "      <td>A</td>\n",
       "      <td>AWD</td>\n",
       "      <td>2020</td>\n",
       "      <td>25.945626</td>\n",
       "    </tr>\n",
       "  </tbody>\n",
       "</table>\n",
       "</div>"
      ],
      "text/plain": [
       "         body_type exterior_color frame_damaged has_accidents salvage  \\\n",
       "0  SUV / Crossover   Solar Yellow           NaN           NaN     NaN   \n",
       "1  SUV / Crossover   Narvik Black           NaN           NaN     NaN   \n",
       "2            Sedan           None         False         False   False   \n",
       "3  SUV / Crossover     Eiger Gray           NaN           NaN     NaN   \n",
       "4  SUV / Crossover   Narvik Black           NaN           NaN     NaN   \n",
       "\n",
       "  fuel_tank_volume fuel_type engine_type  horsepower  isCab  \\\n",
       "0         12.7 gal  Gasoline          I4       177.0    NaN   \n",
       "1         17.7 gal  Gasoline          I4       246.0    NaN   \n",
       "2         15.9 gal  Gasoline          H4       305.0  False   \n",
       "3         23.5 gal  Gasoline          V6       340.0    NaN   \n",
       "4         17.7 gal  Gasoline          I4       246.0    NaN   \n",
       "\n",
       "                                       major_options   make_name  \\\n",
       "0                            ['Quick Order Package']        Jeep   \n",
       "1                        ['Adaptive Cruise Control']  Land Rover   \n",
       "2  ['Alloy Wheels', 'Bluetooth', 'Backup Camera',...      Subaru   \n",
       "3                                                NaN  Land Rover   \n",
       "4                        ['Adaptive Cruise Control']  Land Rover   \n",
       "\n",
       "  maximum_seating  mileage       model_name  seller_rating  \\\n",
       "0         5 seats      7.0         Renegade            2.8   \n",
       "1         7 seats      8.0  Discovery Sport            3.0   \n",
       "2         5 seats      NaN          WRX STI            NaN   \n",
       "3         7 seats     11.0        Discovery            3.0   \n",
       "4         7 seats      7.0  Discovery Sport            3.0   \n",
       "\n",
       "                  torque    price transmission wheel_system  year  \\\n",
       "0  200 lb-ft @ 1,750 RPM  23141.0            A          FWD  2019   \n",
       "1  269 lb-ft @ 1,400 RPM  46500.0            A          AWD  2020   \n",
       "2  290 lb-ft @ 4,000 RPM  46995.0            M          AWD  2016   \n",
       "3  332 lb-ft @ 3,500 RPM  67430.0            A          AWD  2020   \n",
       "4  269 lb-ft @ 1,400 RPM  48880.0            A          AWD  2020   \n",
       "\n",
       "   combined_fuel_economy  \n",
       "0              25.945626  \n",
       "1              25.945626  \n",
       "2              20.000000  \n",
       "3              25.945626  \n",
       "4              25.945626  "
      ]
     },
     "execution_count": 15,
     "metadata": {},
     "output_type": "execute_result"
    }
   ],
   "source": [
    "# combining the city and highway fuel economy columns into a combined fuel economy column\n",
    "df2['combined_fuel_economy'] = (df2['city_fuel_economy'] + df2['highway_fuel_economy'])/2 \n",
    "\n",
    "# dropping the city and highway fuel economy columns\n",
    "df2.drop(['city_fuel_economy','highway_fuel_economy'], axis=1, inplace=True)\n",
    "\n",
    "# checking the head of the dataframe\n",
    "df2.head()"
   ]
  },
  {
   "cell_type": "code",
   "execution_count": 16,
   "id": "5686ec18-ce61-4548-b2e8-a55ed3228f30",
   "metadata": {},
   "outputs": [
    {
     "name": "stdout",
     "output_type": "stream",
     "text": [
      "The mean of the combined fuel economy column is 25.95 mpg.\n"
     ]
    }
   ],
   "source": [
    "# inspecting the mean, median, and mode of the combined fuel economy column\n",
    "print(f\"The mean of the combined fuel economy column is {round(df2['combined_fuel_economy'].mean(), 2)} mpg.\")"
   ]
  },
  {
   "cell_type": "markdown",
   "id": "02b738e2-2fe2-42fa-be22-1b09e99c0562",
   "metadata": {},
   "source": [
    "## exterior_color"
   ]
  },
  {
   "cell_type": "code",
   "execution_count": 18,
   "id": "af16c893-1883-4cc6-b79a-1c50650888b9",
   "metadata": {},
   "outputs": [
    {
     "name": "stdout",
     "output_type": "stream",
     "text": [
      "The amount of null values in the exterior_color column are 0.000911670362438059%.\n"
     ]
    }
   ],
   "source": [
    "# checking how many null values are in the column\n",
    "percentage = df2['exterior_color'].isna().sum()/df2.shape[0]*100\n",
    "\n",
    "print(f\"The amount of null values in the exterior_color column are {percentage}%.\")"
   ]
  },
  {
   "cell_type": "code",
   "execution_count": 19,
   "id": "61d18224-d403-4030-a478-29ffad9ed92a",
   "metadata": {},
   "outputs": [
    {
     "data": {
      "text/plain": [
       "Black                                     5.573918\n",
       "White                                     4.361501\n",
       "Summit White                              3.047854\n",
       "Silver                                    2.719618\n",
       "Gray                                      2.666811\n",
       "                                            ...   \n",
       "Silver Ice Metallicsilver Ice Metallic    0.000035\n",
       "Cypress Pearl Green                       0.000035\n",
       "Red Candy Tinted                          0.000035\n",
       "Matte Blu Mediterraneo                    0.000035\n",
       "Cosmic                                    0.000035\n",
       "Name: exterior_color, Length: 28665, dtype: float64"
      ]
     },
     "execution_count": 19,
     "metadata": {},
     "output_type": "execute_result"
    }
   ],
   "source": [
    "# checking the value counts of the column.\n",
    "df2['exterior_color'].value_counts()/df2.shape[0]*100"
   ]
  },
  {
   "cell_type": "markdown",
   "id": "02d02a75-d32f-42f8-8099-43b1e163051c",
   "metadata": {},
   "source": [
    "The findings indicate a lack of consistency in color names. Numerous non-standard colors that do not contribute to our analysis are present. It would be beneficial to categorize these colors into a few groups. Additionally, it is observed that certain vehicles have multiple colors listed. To address this, we can separate these vehicles into multiple rows, ensuring that each row corresponds to a single color.\n",
    "\n",
    "Firstly, let's address missing values by filling them with the most frequently occurring color."
   ]
  },
  {
   "cell_type": "code",
   "execution_count": 20,
   "id": "f76259a5-1ef2-47e4-abf8-b19ac0d55f07",
   "metadata": {},
   "outputs": [
    {
     "name": "stdout",
     "output_type": "stream",
     "text": [
      "The amount of null values in the exterior_color column are 0.0%.\n"
     ]
    }
   ],
   "source": [
    "# replacing null values with Black.\n",
    "df2['exterior_color'].fillna(\"Black\", inplace=True)\n",
    "\n",
    "# checking result\n",
    "result = df2['exterior_color'].isna().sum()/df2.shape[0]*100\n",
    "\n",
    "print(f\"The amount of null values in the exterior_color column are {result.round(2)}%.\")"
   ]
  },
  {
   "cell_type": "markdown",
   "id": "e5fa5848-a8cb-4970-b9e1-62c5197c0760",
   "metadata": {},
   "source": [
    "Following that, we can tackle the extensive number of categories in the \"exterior_color\" column. A surplus of categories in this column may lead to redundant information. Therefore, let's reorganize the \"exterior_color\" column.\n",
    "\n",
    "Тhe most prevalent exterior colors in America for 2022 are ranked as follows: White, Black, Gray, Silver, Red, Blue, Brown,Green, Beige, Orange, Gold, Yellow, Purple."
   ]
  },
  {
   "cell_type": "code",
   "execution_count": 21,
   "id": "8fec4cc8-1632-44d4-9138-b96f6e791f1b",
   "metadata": {},
   "outputs": [],
   "source": [
    "# making a list of the top exterior colors\n",
    "colors = ['White', 'Black', 'Gray', 'Silver',\n",
    "          'Red', 'Blue', 'Brown', 'Green', 'Beige',\n",
    "          'Orange', 'Gold', 'Yellow', 'Purple']\n",
    "\n",
    "# extracting the top exterior colors from the exterior_color column\n",
    "df2['exterior_color'] = df2['exterior_color'].str.findall('|'.join(colors)).apply(set).str.join(', ')"
   ]
  },
  {
   "cell_type": "code",
   "execution_count": 22,
   "id": "a235c65a-c09f-4bf7-b11f-eee3a8f6f501",
   "metadata": {},
   "outputs": [
    {
     "data": {
      "text/plain": [
       "                     24.625900\n",
       "White                20.756700\n",
       "Black                17.931504\n",
       "Silver               11.452193\n",
       "Blue                  7.859019\n",
       "                       ...    \n",
       "Silver, Orange        0.000035\n",
       "Blue, Brown           0.000035\n",
       "Gray, Yellow          0.000035\n",
       "Blue, Purple          0.000035\n",
       "Blue, Gold, White     0.000035\n",
       "Name: exterior_color, Length: 81, dtype: float64"
      ]
     },
     "execution_count": 22,
     "metadata": {},
     "output_type": "execute_result"
    }
   ],
   "source": [
    "# checking the results\n",
    "df2['exterior_color'].value_counts()/df2.shape[0]*100"
   ]
  },
  {
   "cell_type": "code",
   "execution_count": 23,
   "id": "c9eb59fd-0a9e-4fe9-97cc-28f57089e15e",
   "metadata": {},
   "outputs": [
    {
     "data": {
      "text/plain": [
       "81"
      ]
     },
     "execution_count": 23,
     "metadata": {},
     "output_type": "execute_result"
    }
   ],
   "source": [
    "# checking the number of unique values in the exterior_color column\n",
    "df2['exterior_color'].nunique()"
   ]
  },
  {
   "cell_type": "code",
   "execution_count": 25,
   "id": "15d6f419-d14d-4c1f-9117-62488802bd95",
   "metadata": {},
   "outputs": [
    {
     "data": {
      "text/plain": [
       "Other Color     24.625900\n",
       "White           20.756700\n",
       "Black           17.931504\n",
       "Silver          11.452193\n",
       "Blue             7.859019\n",
       "Red              7.593548\n",
       "Gray             7.303006\n",
       "Green            0.704511\n",
       "Mixed Colors     0.574668\n",
       "Brown            0.383147\n",
       "Orange           0.356673\n",
       "Gold             0.303306\n",
       "Beige            0.155826\n",
       "Name: exterior_color, dtype: float64"
      ]
     },
     "execution_count": 25,
     "metadata": {},
     "output_type": "execute_result"
    }
   ],
   "source": [
    "# replacing null values with 'Other Color'.\n",
    "df2['exterior_color'].replace(\"\", \"Other Color\", inplace=True)\n",
    "\n",
    "# masking rows with more than one color\n",
    "mask = df2['exterior_color'].map(df2['exterior_color'].value_counts()) < 4424\n",
    "\n",
    "# labeling the rows with more than one color as 'Mixed Colors'\n",
    "df2['exterior_color'] =  df2['exterior_color'].mask(mask, 'Mixed Colors')\n",
    "\n",
    "# checking the new unique values in the exterior_color_new column\n",
    "df2['exterior_color'].value_counts()/df2.shape[0]*100"
   ]
  },
  {
   "cell_type": "markdown",
   "id": "03560aba-1692-48ea-9013-5176b671edc6",
   "metadata": {},
   "source": [
    "## frame_damaged"
   ]
  },
  {
   "cell_type": "code",
   "execution_count": 26,
   "id": "d2a0dd32-2b44-41d1-be75-3892856e49ff",
   "metadata": {},
   "outputs": [
    {
     "name": "stdout",
     "output_type": "stream",
     "text": [
      "The amount of null values in the exterior_color column are 44.92350384374251%.\n"
     ]
    }
   ],
   "source": [
    "# checking how many null values are in the column\n",
    "percentage = df2['frame_damaged'].isna().sum()/df2.shape[0]*100\n",
    "\n",
    "print(f\"The amount of null values in the exterior_color column are {percentage}%.\")"
   ]
  },
  {
   "cell_type": "code",
   "execution_count": 27,
   "id": "bed2031e-fe9c-452e-b938-6f39e6f7632b",
   "metadata": {},
   "outputs": [
    {
     "name": "stdout",
     "output_type": "stream",
     "text": [
      "The amount of null values in the exterior_color column are 0.0%.\n"
     ]
    }
   ],
   "source": [
    "# replacing null values with Black.\n",
    "df2['frame_damaged'].fillna(\"\", inplace=True)\n",
    "\n",
    "# checking result\n",
    "result = df2['frame_damaged'].isna().sum()/df2.shape[0]*100\n",
    "\n",
    "print(f\"The amount of null values in the exterior_color column are {result.round(2)}%.\")"
   ]
  },
  {
   "cell_type": "markdown",
   "id": "5a7808b5-266c-4bec-86ec-a7970cc94af5",
   "metadata": {},
   "source": [
    "## has_accidents"
   ]
  },
  {
   "cell_type": "code",
   "execution_count": 28,
   "id": "2f02ca09-a03c-424b-97e0-dcbe77796382",
   "metadata": {},
   "outputs": [
    {
     "name": "stdout",
     "output_type": "stream",
     "text": [
      "The amount of null values in the exterior_color column are 44.92350384374251%.\n"
     ]
    }
   ],
   "source": [
    "# checking how many null values are in the column\n",
    "percentage = df2['has_accidents'].isna().sum()/df2.shape[0]*100\n",
    "\n",
    "print(f\"The amount of null values in the exterior_color column are {percentage}%.\")"
   ]
  },
  {
   "cell_type": "code",
   "execution_count": 29,
   "id": "ba0a8ada-bf81-4a52-b061-9fa9f73405ee",
   "metadata": {},
   "outputs": [
    {
     "name": "stdout",
     "output_type": "stream",
     "text": [
      "The amount of null values in the exterior_color column are 0.0%.\n"
     ]
    }
   ],
   "source": [
    "# replacing null values with Black.\n",
    "df2['has_accidents'].fillna(\"\", inplace=True)\n",
    "\n",
    "# checking result\n",
    "result = df2['has_accidents'].isna().sum()/df2.shape[0]*100\n",
    "\n",
    "print(f\"The amount of null values in the exterior_color column are {result.round(2)}%.\")"
   ]
  },
  {
   "cell_type": "markdown",
   "id": "9ca164da-78e6-41c5-88d7-f77fad290ccc",
   "metadata": {},
   "source": [
    "## salvage\n"
   ]
  },
  {
   "cell_type": "code",
   "execution_count": 30,
   "id": "84dfef17-07f3-4a4c-b370-05c084e2e3f8",
   "metadata": {},
   "outputs": [
    {
     "name": "stdout",
     "output_type": "stream",
     "text": [
      "The amount of null values in the exterior_color column are 44.92350384374251%.\n"
     ]
    }
   ],
   "source": [
    "# checking how many null values are in the column\n",
    "percentage = df2['salvage'].isna().sum()/df2.shape[0]*100\n",
    "\n",
    "print(f\"The amount of null values in the exterior_color column are {percentage}%.\")"
   ]
  },
  {
   "cell_type": "code",
   "execution_count": 31,
   "id": "52c9683d-e7c8-4753-a197-bddb8b938036",
   "metadata": {},
   "outputs": [
    {
     "name": "stdout",
     "output_type": "stream",
     "text": [
      "The amount of null values in the exterior_color column are 0.0%.\n"
     ]
    }
   ],
   "source": [
    "# replacing null values with Black.\n",
    "df2['salvage'].fillna(\"\", inplace=True)\n",
    "\n",
    "# checking result\n",
    "result = df2['salvage'].isna().sum()/df2.shape[0]*100\n",
    "\n",
    "print(f\"The amount of null values in the exterior_color column are {result.round(2)}%.\")"
   ]
  },
  {
   "cell_type": "markdown",
   "id": "0ffb83b1-641f-4c4b-b18a-f706483be91f",
   "metadata": {},
   "source": [
    "## fuel_tank_volume"
   ]
  },
  {
   "cell_type": "code",
   "execution_count": 32,
   "id": "c0446aab-0105-4b35-a1d0-e648862b8e12",
   "metadata": {},
   "outputs": [
    {
     "data": {
      "text/plain": [
       "26 gal      6.978205\n",
       "13.2 gal    5.383238\n",
       "18.5 gal    4.961170\n",
       "14 gal      4.273455\n",
       "14.5 gal    3.210482\n",
       "              ...   \n",
       "25.5 gal    0.000070\n",
       "25.2 gal    0.000070\n",
       "40.7 gal    0.000035\n",
       "23.1 gal    0.000035\n",
       "26.3 gal    0.000035\n",
       "Name: fuel_tank_volume, Length: 182, dtype: float64"
      ]
     },
     "execution_count": 32,
     "metadata": {},
     "output_type": "execute_result"
    }
   ],
   "source": [
    "# checking the value counts of the column.\n",
    "df2['fuel_tank_volume'].value_counts()/df2.shape[0]*100"
   ]
  },
  {
   "cell_type": "code",
   "execution_count": 33,
   "id": "987d34fc-9a33-4f92-8f53-d7f82ca286b6",
   "metadata": {},
   "outputs": [
    {
     "data": {
      "text/html": [
       "<div>\n",
       "<style scoped>\n",
       "    .dataframe tbody tr th:only-of-type {\n",
       "        vertical-align: middle;\n",
       "    }\n",
       "\n",
       "    .dataframe tbody tr th {\n",
       "        vertical-align: top;\n",
       "    }\n",
       "\n",
       "    .dataframe thead th {\n",
       "        text-align: right;\n",
       "    }\n",
       "</style>\n",
       "<table border=\"1\" class=\"dataframe\">\n",
       "  <thead>\n",
       "    <tr style=\"text-align: right;\">\n",
       "      <th></th>\n",
       "      <th>fuel_tank_volume</th>\n",
       "      <th>fuel_type</th>\n",
       "    </tr>\n",
       "  </thead>\n",
       "  <tbody>\n",
       "    <tr>\n",
       "      <th>274</th>\n",
       "      <td>NaN</td>\n",
       "      <td>Electric</td>\n",
       "    </tr>\n",
       "    <tr>\n",
       "      <th>1182</th>\n",
       "      <td>NaN</td>\n",
       "      <td>Electric</td>\n",
       "    </tr>\n",
       "    <tr>\n",
       "      <th>1721</th>\n",
       "      <td>NaN</td>\n",
       "      <td>Electric</td>\n",
       "    </tr>\n",
       "    <tr>\n",
       "      <th>1729</th>\n",
       "      <td>NaN</td>\n",
       "      <td>Electric</td>\n",
       "    </tr>\n",
       "    <tr>\n",
       "      <th>2351</th>\n",
       "      <td>NaN</td>\n",
       "      <td>Electric</td>\n",
       "    </tr>\n",
       "    <tr>\n",
       "      <th>...</th>\n",
       "      <td>...</td>\n",
       "      <td>...</td>\n",
       "    </tr>\n",
       "    <tr>\n",
       "      <th>2999820</th>\n",
       "      <td>NaN</td>\n",
       "      <td>Electric</td>\n",
       "    </tr>\n",
       "    <tr>\n",
       "      <th>2999874</th>\n",
       "      <td>NaN</td>\n",
       "      <td>Electric</td>\n",
       "    </tr>\n",
       "    <tr>\n",
       "      <th>2999882</th>\n",
       "      <td>NaN</td>\n",
       "      <td>Electric</td>\n",
       "    </tr>\n",
       "    <tr>\n",
       "      <th>2999919</th>\n",
       "      <td>NaN</td>\n",
       "      <td>Electric</td>\n",
       "    </tr>\n",
       "    <tr>\n",
       "      <th>2999949</th>\n",
       "      <td>NaN</td>\n",
       "      <td>Electric</td>\n",
       "    </tr>\n",
       "  </tbody>\n",
       "</table>\n",
       "<p>15562 rows × 2 columns</p>\n",
       "</div>"
      ],
      "text/plain": [
       "        fuel_tank_volume fuel_type\n",
       "274                  NaN  Electric\n",
       "1182                 NaN  Electric\n",
       "1721                 NaN  Electric\n",
       "1729                 NaN  Electric\n",
       "2351                 NaN  Electric\n",
       "...                  ...       ...\n",
       "2999820              NaN  Electric\n",
       "2999874              NaN  Electric\n",
       "2999882              NaN  Electric\n",
       "2999919              NaN  Electric\n",
       "2999949              NaN  Electric\n",
       "\n",
       "[15562 rows x 2 columns]"
      ]
     },
     "execution_count": 33,
     "metadata": {},
     "output_type": "execute_result"
    }
   ],
   "source": [
    "# filtering the rows that the fuel_type column is \"Electric\", with the fuel_tank_volume column.\n",
    "df2.loc[(df2['fuel_type'] == \"Electric\"), ['fuel_tank_volume','fuel_type']]"
   ]
  },
  {
   "cell_type": "code",
   "execution_count": 34,
   "id": "2bb064b4-0c3f-44f9-b221-4106a0e3b171",
   "metadata": {},
   "outputs": [],
   "source": [
    "# splitting the column and returning the first value\n",
    "df2['fuel_tank_volume'] = df2['fuel_tank_volume'].str.split(' ').str[0]\n",
    "\n",
    "# replacing \"--\" with np.nan\n",
    "df2['fuel_tank_volume'].replace(\"--\", np.nan , inplace=True)\n",
    "\n",
    "# converting the fuel_tank_volume column to a float\n",
    "df2['fuel_tank_volume'] = pd.to_numeric(df2['fuel_tank_volume'], downcast='float')"
   ]
  },
  {
   "cell_type": "code",
   "execution_count": 35,
   "id": "262ee3b1-19dd-44ab-ac96-5a69cdd63b0b",
   "metadata": {},
   "outputs": [
    {
     "name": "stdout",
     "output_type": "stream",
     "text": [
      "The amount of null values in the fuel_tank_volume column are 4.76%.\n"
     ]
    }
   ],
   "source": [
    "# filling the null values with the 0 value on electric cars only.\n",
    "df2.loc[(df2['fuel_type'] == \"Electric\"), 'fuel_tank_volume'] = 0\n",
    "\n",
    "# checking the result\n",
    "result = df2['fuel_tank_volume'].isna().sum()/df2.shape[0]*100\n",
    "\n",
    "print(f\"The amount of null values in the fuel_tank_volume column are {result.round(2)}%.\")"
   ]
  },
  {
   "cell_type": "code",
   "execution_count": 36,
   "id": "3e15c1ea-4b6f-4f95-85c6-3745e8c93c49",
   "metadata": {},
   "outputs": [
    {
     "data": {
      "text/html": [
       "<div>\n",
       "<style scoped>\n",
       "    .dataframe tbody tr th:only-of-type {\n",
       "        vertical-align: middle;\n",
       "    }\n",
       "\n",
       "    .dataframe tbody tr th {\n",
       "        vertical-align: top;\n",
       "    }\n",
       "\n",
       "    .dataframe thead th {\n",
       "        text-align: right;\n",
       "    }\n",
       "</style>\n",
       "<table border=\"1\" class=\"dataframe\">\n",
       "  <thead>\n",
       "    <tr style=\"text-align: right;\">\n",
       "      <th></th>\n",
       "      <th>fuel_tank_volume</th>\n",
       "      <th>fuel_type</th>\n",
       "    </tr>\n",
       "  </thead>\n",
       "  <tbody>\n",
       "    <tr>\n",
       "      <th>50</th>\n",
       "      <td>NaN</td>\n",
       "      <td>NaN</td>\n",
       "    </tr>\n",
       "    <tr>\n",
       "      <th>162</th>\n",
       "      <td>NaN</td>\n",
       "      <td>Gasoline</td>\n",
       "    </tr>\n",
       "    <tr>\n",
       "      <th>263</th>\n",
       "      <td>NaN</td>\n",
       "      <td>Gasoline</td>\n",
       "    </tr>\n",
       "    <tr>\n",
       "      <th>303</th>\n",
       "      <td>NaN</td>\n",
       "      <td>NaN</td>\n",
       "    </tr>\n",
       "    <tr>\n",
       "      <th>394</th>\n",
       "      <td>NaN</td>\n",
       "      <td>Gasoline</td>\n",
       "    </tr>\n",
       "    <tr>\n",
       "      <th>...</th>\n",
       "      <td>...</td>\n",
       "      <td>...</td>\n",
       "    </tr>\n",
       "    <tr>\n",
       "      <th>2999931</th>\n",
       "      <td>NaN</td>\n",
       "      <td>Gasoline</td>\n",
       "    </tr>\n",
       "    <tr>\n",
       "      <th>2999974</th>\n",
       "      <td>NaN</td>\n",
       "      <td>Gasoline</td>\n",
       "    </tr>\n",
       "    <tr>\n",
       "      <th>2999975</th>\n",
       "      <td>NaN</td>\n",
       "      <td>Gasoline</td>\n",
       "    </tr>\n",
       "    <tr>\n",
       "      <th>2999992</th>\n",
       "      <td>NaN</td>\n",
       "      <td>Gasoline</td>\n",
       "    </tr>\n",
       "    <tr>\n",
       "      <th>3000006</th>\n",
       "      <td>NaN</td>\n",
       "      <td>Hybrid</td>\n",
       "    </tr>\n",
       "  </tbody>\n",
       "</table>\n",
       "<p>135824 rows × 2 columns</p>\n",
       "</div>"
      ],
      "text/plain": [
       "         fuel_tank_volume fuel_type\n",
       "50                    NaN       NaN\n",
       "162                   NaN  Gasoline\n",
       "263                   NaN  Gasoline\n",
       "303                   NaN       NaN\n",
       "394                   NaN  Gasoline\n",
       "...                   ...       ...\n",
       "2999931               NaN  Gasoline\n",
       "2999974               NaN  Gasoline\n",
       "2999975               NaN  Gasoline\n",
       "2999992               NaN  Gasoline\n",
       "3000006               NaN    Hybrid\n",
       "\n",
       "[135824 rows x 2 columns]"
      ]
     },
     "execution_count": 36,
     "metadata": {},
     "output_type": "execute_result"
    }
   ],
   "source": [
    "# checking the null values rows\n",
    "df2[df2['fuel_tank_volume'].isna()][['fuel_tank_volume','fuel_type']]"
   ]
  },
  {
   "cell_type": "code",
   "execution_count": 37,
   "id": "cf7a8abb-99fe-4229-aeb7-47ee093c8aa1",
   "metadata": {},
   "outputs": [
    {
     "name": "stdout",
     "output_type": "stream",
     "text": [
      "The amount of null values in the fuel_tank_volume column are 1.62%.\n"
     ]
    }
   ],
   "source": [
    "# filling the null values with the mean based on the fuel_type column.\n",
    "df2['fuel_tank_volume'].fillna(df2.groupby('fuel_type')['fuel_tank_volume'].transform('mean'), inplace=True)\n",
    "\n",
    "# checking the result\n",
    "result = df2['fuel_tank_volume'].isna().sum()/df2.shape[0]*100\n",
    " \n",
    "print(f\"The amount of null values in the fuel_tank_volume column are {result.round(2)}%.\")"
   ]
  },
  {
   "cell_type": "code",
   "execution_count": 38,
   "id": "b1e0422f-80aa-411f-9ac8-321e7d7f026a",
   "metadata": {},
   "outputs": [
    {
     "data": {
      "text/html": [
       "<div>\n",
       "<style scoped>\n",
       "    .dataframe tbody tr th:only-of-type {\n",
       "        vertical-align: middle;\n",
       "    }\n",
       "\n",
       "    .dataframe tbody tr th {\n",
       "        vertical-align: top;\n",
       "    }\n",
       "\n",
       "    .dataframe thead th {\n",
       "        text-align: right;\n",
       "    }\n",
       "</style>\n",
       "<table border=\"1\" class=\"dataframe\">\n",
       "  <thead>\n",
       "    <tr style=\"text-align: right;\">\n",
       "      <th></th>\n",
       "      <th>fuel_tank_volume</th>\n",
       "      <th>fuel_type</th>\n",
       "    </tr>\n",
       "  </thead>\n",
       "  <tbody>\n",
       "    <tr>\n",
       "      <th>50</th>\n",
       "      <td>NaN</td>\n",
       "      <td>NaN</td>\n",
       "    </tr>\n",
       "    <tr>\n",
       "      <th>303</th>\n",
       "      <td>NaN</td>\n",
       "      <td>NaN</td>\n",
       "    </tr>\n",
       "    <tr>\n",
       "      <th>1011</th>\n",
       "      <td>NaN</td>\n",
       "      <td>NaN</td>\n",
       "    </tr>\n",
       "    <tr>\n",
       "      <th>1124</th>\n",
       "      <td>NaN</td>\n",
       "      <td>NaN</td>\n",
       "    </tr>\n",
       "    <tr>\n",
       "      <th>1284</th>\n",
       "      <td>NaN</td>\n",
       "      <td>NaN</td>\n",
       "    </tr>\n",
       "    <tr>\n",
       "      <th>...</th>\n",
       "      <td>...</td>\n",
       "      <td>...</td>\n",
       "    </tr>\n",
       "    <tr>\n",
       "      <th>2999045</th>\n",
       "      <td>NaN</td>\n",
       "      <td>NaN</td>\n",
       "    </tr>\n",
       "    <tr>\n",
       "      <th>2999047</th>\n",
       "      <td>NaN</td>\n",
       "      <td>NaN</td>\n",
       "    </tr>\n",
       "    <tr>\n",
       "      <th>2999112</th>\n",
       "      <td>NaN</td>\n",
       "      <td>NaN</td>\n",
       "    </tr>\n",
       "    <tr>\n",
       "      <th>2999125</th>\n",
       "      <td>NaN</td>\n",
       "      <td>NaN</td>\n",
       "    </tr>\n",
       "    <tr>\n",
       "      <th>2999350</th>\n",
       "      <td>NaN</td>\n",
       "      <td>NaN</td>\n",
       "    </tr>\n",
       "  </tbody>\n",
       "</table>\n",
       "<p>46293 rows × 2 columns</p>\n",
       "</div>"
      ],
      "text/plain": [
       "         fuel_tank_volume fuel_type\n",
       "50                    NaN       NaN\n",
       "303                   NaN       NaN\n",
       "1011                  NaN       NaN\n",
       "1124                  NaN       NaN\n",
       "1284                  NaN       NaN\n",
       "...                   ...       ...\n",
       "2999045               NaN       NaN\n",
       "2999047               NaN       NaN\n",
       "2999112               NaN       NaN\n",
       "2999125               NaN       NaN\n",
       "2999350               NaN       NaN\n",
       "\n",
       "[46293 rows x 2 columns]"
      ]
     },
     "execution_count": 38,
     "metadata": {},
     "output_type": "execute_result"
    }
   ],
   "source": [
    "# checking the null values rows\n",
    "df2[df2['fuel_tank_volume'].isna()][['fuel_tank_volume','fuel_type']]"
   ]
  },
  {
   "cell_type": "markdown",
   "id": "9cf695be-c8ed-4d26-9c00-35e3b00584d1",
   "metadata": {},
   "source": [
    "It appears that our initial focus should be on handling the null values in the \"fuel_type\" column. By addressing this, we can subsequently proceed to fill in the null values in the \"fuel_tank_volume\" column."
   ]
  },
  {
   "cell_type": "markdown",
   "id": "32f0284d-26c0-4ac8-98ce-3976b05df8ab",
   "metadata": {},
   "source": [
    "## fuel_type\n"
   ]
  },
  {
   "cell_type": "code",
   "execution_count": 39,
   "id": "2cc21f32-91e2-4932-9048-11caa53d8c6f",
   "metadata": {},
   "outputs": [
    {
     "data": {
      "text/plain": [
       "Gasoline                  86.514291\n",
       "Flex Fuel Vehicle          5.292001\n",
       "Hybrid                     2.516876\n",
       "Diesel                     1.515371\n",
       "Biodiesel                  0.878184\n",
       "Electric                   0.545670\n",
       "Compressed Natural Gas     0.005014\n",
       "Propane                    0.000210\n",
       "Name: fuel_type, dtype: float64"
      ]
     },
     "execution_count": 39,
     "metadata": {},
     "output_type": "execute_result"
    }
   ],
   "source": [
    "# checking the value counts of the column.\n",
    "df2['fuel_type'].value_counts()/df2.shape[0]*100"
   ]
  },
  {
   "cell_type": "code",
   "execution_count": 40,
   "id": "5c09d69d-4b85-4d89-998b-55693856d654",
   "metadata": {},
   "outputs": [
    {
     "data": {
      "text/html": [
       "<div>\n",
       "<style scoped>\n",
       "    .dataframe tbody tr th:only-of-type {\n",
       "        vertical-align: middle;\n",
       "    }\n",
       "\n",
       "    .dataframe tbody tr th {\n",
       "        vertical-align: top;\n",
       "    }\n",
       "\n",
       "    .dataframe thead th {\n",
       "        text-align: right;\n",
       "    }\n",
       "</style>\n",
       "<table border=\"1\" class=\"dataframe\">\n",
       "  <thead>\n",
       "    <tr style=\"text-align: right;\">\n",
       "      <th></th>\n",
       "      <th>fuel_type</th>\n",
       "      <th>fuel_tank_volume</th>\n",
       "      <th>make_name</th>\n",
       "      <th>model_name</th>\n",
       "    </tr>\n",
       "  </thead>\n",
       "  <tbody>\n",
       "    <tr>\n",
       "      <th>42</th>\n",
       "      <td>NaN</td>\n",
       "      <td>12.7</td>\n",
       "      <td>Jeep</td>\n",
       "      <td>Renegade</td>\n",
       "    </tr>\n",
       "    <tr>\n",
       "      <th>50</th>\n",
       "      <td>NaN</td>\n",
       "      <td>NaN</td>\n",
       "      <td>Subaru</td>\n",
       "      <td>Impreza</td>\n",
       "    </tr>\n",
       "    <tr>\n",
       "      <th>61</th>\n",
       "      <td>NaN</td>\n",
       "      <td>16.9</td>\n",
       "      <td>Chrysler</td>\n",
       "      <td>200</td>\n",
       "    </tr>\n",
       "    <tr>\n",
       "      <th>112</th>\n",
       "      <td>NaN</td>\n",
       "      <td>24.6</td>\n",
       "      <td>Jeep</td>\n",
       "      <td>Grand Cherokee</td>\n",
       "    </tr>\n",
       "    <tr>\n",
       "      <th>217</th>\n",
       "      <td>NaN</td>\n",
       "      <td>26.0</td>\n",
       "      <td>RAM</td>\n",
       "      <td>1500</td>\n",
       "    </tr>\n",
       "    <tr>\n",
       "      <th>...</th>\n",
       "      <td>...</td>\n",
       "      <td>...</td>\n",
       "      <td>...</td>\n",
       "      <td>...</td>\n",
       "    </tr>\n",
       "    <tr>\n",
       "      <th>2999488</th>\n",
       "      <td>NaN</td>\n",
       "      <td>34.0</td>\n",
       "      <td>Ford</td>\n",
       "      <td>F-250 Super Duty</td>\n",
       "    </tr>\n",
       "    <tr>\n",
       "      <th>2999491</th>\n",
       "      <td>NaN</td>\n",
       "      <td>48.0</td>\n",
       "      <td>Ford</td>\n",
       "      <td>F-350 Super Duty</td>\n",
       "    </tr>\n",
       "    <tr>\n",
       "      <th>2999603</th>\n",
       "      <td>NaN</td>\n",
       "      <td>48.0</td>\n",
       "      <td>Ford</td>\n",
       "      <td>F-250 Super Duty</td>\n",
       "    </tr>\n",
       "    <tr>\n",
       "      <th>2999787</th>\n",
       "      <td>NaN</td>\n",
       "      <td>13.2</td>\n",
       "      <td>Nissan</td>\n",
       "      <td>Sentra</td>\n",
       "    </tr>\n",
       "    <tr>\n",
       "      <th>3000037</th>\n",
       "      <td>NaN</td>\n",
       "      <td>16.5</td>\n",
       "      <td>Ford</td>\n",
       "      <td>Fusion</td>\n",
       "    </tr>\n",
       "  </tbody>\n",
       "</table>\n",
       "<p>77925 rows × 4 columns</p>\n",
       "</div>"
      ],
      "text/plain": [
       "        fuel_type  fuel_tank_volume make_name        model_name\n",
       "42            NaN              12.7      Jeep          Renegade\n",
       "50            NaN               NaN    Subaru           Impreza\n",
       "61            NaN              16.9  Chrysler               200\n",
       "112           NaN              24.6      Jeep    Grand Cherokee\n",
       "217           NaN              26.0       RAM              1500\n",
       "...           ...               ...       ...               ...\n",
       "2999488       NaN              34.0      Ford  F-250 Super Duty\n",
       "2999491       NaN              48.0      Ford  F-350 Super Duty\n",
       "2999603       NaN              48.0      Ford  F-250 Super Duty\n",
       "2999787       NaN              13.2    Nissan            Sentra\n",
       "3000037       NaN              16.5      Ford            Fusion\n",
       "\n",
       "[77925 rows x 4 columns]"
      ]
     },
     "execution_count": 40,
     "metadata": {},
     "output_type": "execute_result"
    }
   ],
   "source": [
    "# checking the null values rows\n",
    "df2[df2['fuel_type'].isna()][['fuel_type','fuel_tank_volume','make_name','model_name']]"
   ]
  },
  {
   "cell_type": "code",
   "execution_count": 41,
   "id": "f8fc1b57-282e-4a53-bbc1-76fe7bfdf306",
   "metadata": {},
   "outputs": [
    {
     "name": "stdout",
     "output_type": "stream",
     "text": [
      "The amount of null values in the fuel_type column are 0.0%.\n"
     ]
    }
   ],
   "source": [
    "# filling the null values with \"Gasoline\".\n",
    "df2['fuel_type'].fillna(\"Gasoline\", inplace=True)\n",
    "\n",
    "# checking the result\n",
    "percentage = df2['fuel_type'].isna().sum()/df2.shape[0]*100\n",
    "\n",
    "print(f\"The amount of null values in the fuel_type column are {percentage.round(2)}%.\")"
   ]
  },
  {
   "cell_type": "markdown",
   "id": "060f3db3-660c-4c0a-8c07-e7f63406d8b4",
   "metadata": {},
   "source": [
    "Now that the null values have been filled in, lets go back to the fuel_tank_volume column and see if we can fill in the rest of the null values."
   ]
  },
  {
   "cell_type": "code",
   "execution_count": 42,
   "id": "41442313-1e45-4379-b361-f60d85f7e66a",
   "metadata": {},
   "outputs": [
    {
     "data": {
      "text/html": [
       "<div>\n",
       "<style scoped>\n",
       "    .dataframe tbody tr th:only-of-type {\n",
       "        vertical-align: middle;\n",
       "    }\n",
       "\n",
       "    .dataframe tbody tr th {\n",
       "        vertical-align: top;\n",
       "    }\n",
       "\n",
       "    .dataframe thead th {\n",
       "        text-align: right;\n",
       "    }\n",
       "</style>\n",
       "<table border=\"1\" class=\"dataframe\">\n",
       "  <thead>\n",
       "    <tr style=\"text-align: right;\">\n",
       "      <th></th>\n",
       "      <th>fuel_tank_volume</th>\n",
       "      <th>fuel_type</th>\n",
       "    </tr>\n",
       "  </thead>\n",
       "  <tbody>\n",
       "    <tr>\n",
       "      <th>50</th>\n",
       "      <td>NaN</td>\n",
       "      <td>Gasoline</td>\n",
       "    </tr>\n",
       "    <tr>\n",
       "      <th>303</th>\n",
       "      <td>NaN</td>\n",
       "      <td>Gasoline</td>\n",
       "    </tr>\n",
       "    <tr>\n",
       "      <th>1011</th>\n",
       "      <td>NaN</td>\n",
       "      <td>Gasoline</td>\n",
       "    </tr>\n",
       "    <tr>\n",
       "      <th>1124</th>\n",
       "      <td>NaN</td>\n",
       "      <td>Gasoline</td>\n",
       "    </tr>\n",
       "    <tr>\n",
       "      <th>1284</th>\n",
       "      <td>NaN</td>\n",
       "      <td>Gasoline</td>\n",
       "    </tr>\n",
       "    <tr>\n",
       "      <th>...</th>\n",
       "      <td>...</td>\n",
       "      <td>...</td>\n",
       "    </tr>\n",
       "    <tr>\n",
       "      <th>2999045</th>\n",
       "      <td>NaN</td>\n",
       "      <td>Gasoline</td>\n",
       "    </tr>\n",
       "    <tr>\n",
       "      <th>2999047</th>\n",
       "      <td>NaN</td>\n",
       "      <td>Gasoline</td>\n",
       "    </tr>\n",
       "    <tr>\n",
       "      <th>2999112</th>\n",
       "      <td>NaN</td>\n",
       "      <td>Gasoline</td>\n",
       "    </tr>\n",
       "    <tr>\n",
       "      <th>2999125</th>\n",
       "      <td>NaN</td>\n",
       "      <td>Gasoline</td>\n",
       "    </tr>\n",
       "    <tr>\n",
       "      <th>2999350</th>\n",
       "      <td>NaN</td>\n",
       "      <td>Gasoline</td>\n",
       "    </tr>\n",
       "  </tbody>\n",
       "</table>\n",
       "<p>46293 rows × 2 columns</p>\n",
       "</div>"
      ],
      "text/plain": [
       "         fuel_tank_volume fuel_type\n",
       "50                    NaN  Gasoline\n",
       "303                   NaN  Gasoline\n",
       "1011                  NaN  Gasoline\n",
       "1124                  NaN  Gasoline\n",
       "1284                  NaN  Gasoline\n",
       "...                   ...       ...\n",
       "2999045               NaN  Gasoline\n",
       "2999047               NaN  Gasoline\n",
       "2999112               NaN  Gasoline\n",
       "2999125               NaN  Gasoline\n",
       "2999350               NaN  Gasoline\n",
       "\n",
       "[46293 rows x 2 columns]"
      ]
     },
     "execution_count": 42,
     "metadata": {},
     "output_type": "execute_result"
    }
   ],
   "source": [
    "# checking the null values rows in the fuel_tank_volume column\n",
    "df2[df2['fuel_tank_volume'].isna()][['fuel_tank_volume','fuel_type']]"
   ]
  },
  {
   "cell_type": "code",
   "execution_count": 43,
   "id": "aeb004a3-4d47-4867-9123-45bce5eb8c47",
   "metadata": {},
   "outputs": [
    {
     "name": "stdout",
     "output_type": "stream",
     "text": [
      "The amount of null values in the fuel_tank_volume column are 0.0%.\n"
     ]
    }
   ],
   "source": [
    "# filling the null values with the mean based on the fuel_tank_volume column.\n",
    "df2['fuel_tank_volume'].fillna(df2.groupby('fuel_type')['fuel_tank_volume'].transform('mean'), inplace=True)\n",
    "\n",
    "# checking the result\n",
    "percentage = df2['fuel_tank_volume'].isna().sum()/df2.shape[0]*100\n",
    "\n",
    "print(f\"The amount of null values in the fuel_tank_volume column are {percentage.round(2)}%.\")"
   ]
  },
  {
   "cell_type": "markdown",
   "id": "c400d672-b113-4e58-b6e2-f0e009eb1661",
   "metadata": {},
   "source": [
    "## engine_type"
   ]
  },
  {
   "cell_type": "code",
   "execution_count": 44,
   "id": "23d27239-eae4-4526-91e1-71fd741dd7e1",
   "metadata": {},
   "outputs": [
    {
     "data": {
      "text/plain": [
       "array(['I4', 'H4', 'V6', 'I6', 'V6 Diesel', nan, 'V8', 'V8 Biodiesel',\n",
       "       'V8 Flex Fuel Vehicle', 'V6 Flex Fuel Vehicle', 'I4 Hybrid',\n",
       "       'V6 Hybrid', 'I3', 'I5', 'I4 Flex Fuel Vehicle', 'I4 Diesel',\n",
       "       'I6 Diesel', 'V8 Diesel', 'R2', 'W12', 'V10', 'V12',\n",
       "       'V6 Biodiesel', 'H6', 'I2', 'W12 Flex Fuel Vehicle',\n",
       "       'I5 Biodiesel', 'V8 Hybrid', 'H4 Hybrid',\n",
       "       'V8 Compressed Natural Gas', 'I6 Hybrid', 'I5 Diesel', 'W8',\n",
       "       'I4 Compressed Natural Gas', 'V10 Diesel', 'W16', 'V8 Propane',\n",
       "       'I3 Hybrid', 'V6 Compressed Natural Gas', 'V12 Hybrid'],\n",
       "      dtype=object)"
      ]
     },
     "execution_count": 44,
     "metadata": {},
     "output_type": "execute_result"
    }
   ],
   "source": [
    "# checking the unique values in the engine_type column\n",
    "df2['engine_type'].unique()"
   ]
  },
  {
   "cell_type": "code",
   "execution_count": 45,
   "id": "fd9cde81-1477-4e2d-b0a9-499ce80174cf",
   "metadata": {},
   "outputs": [
    {
     "data": {
      "text/plain": [
       "I4                           4.638179e-01\n",
       "V6                           2.506049e-01\n",
       "V8                           9.546276e-02\n",
       "V8 Flex Fuel Vehicle         2.680732e-02\n",
       "I4 Hybrid                    2.403759e-02\n",
       "V6 Flex Fuel Vehicle         2.285803e-02\n",
       "H4                           2.226509e-02\n",
       "I3                           1.801881e-02\n",
       "I6                           9.876546e-03\n",
       "I6 Diesel                    7.952220e-03\n",
       "V8 Biodiesel                 7.514268e-03\n",
       "I4 Flex Fuel Vehicle         3.220651e-03\n",
       "I4 Diesel                    2.519015e-03\n",
       "V8 Diesel                    2.197126e-03\n",
       "V6 Diesel                    2.195372e-03\n",
       "I5                           1.858405e-03\n",
       "H6                           1.643111e-03\n",
       "V6 Biodiesel                 1.234612e-03\n",
       "V6 Hybrid                    1.046317e-03\n",
       "V12                          4.610948e-04\n",
       "V10                          4.512768e-04\n",
       "I2                           3.141756e-04\n",
       "W12                          1.697109e-04\n",
       "V8 Hybrid                    4.453159e-05\n",
       "W12 Flex Fuel Vehicle        3.401232e-05\n",
       "I5 Biodiesel                 3.296039e-05\n",
       "H4 Hybrid                    3.296039e-05\n",
       "V8 Compressed Natural Gas    3.225911e-05\n",
       "R2                           2.279176e-05\n",
       "I5 Diesel                    1.718148e-05\n",
       "I4 Compressed Natural Gas    1.683084e-05\n",
       "I6 Hybrid                    5.610279e-06\n",
       "V8 Propane                   2.103855e-06\n",
       "W8                           1.051927e-06\n",
       "I3 Hybrid                    1.051927e-06\n",
       "V6 Compressed Natural Gas    1.051927e-06\n",
       "V10 Diesel                   7.012849e-07\n",
       "W16                          7.012849e-07\n",
       "V12 Hybrid                   7.012849e-07\n",
       "Name: engine_type, dtype: float64"
      ]
     },
     "execution_count": 45,
     "metadata": {},
     "output_type": "execute_result"
    }
   ],
   "source": [
    "# checking the value counts of the column.\n",
    "df2['engine_type'].value_counts()/df2.shape[0]*1"
   ]
  },
  {
   "cell_type": "code",
   "execution_count": 46,
   "id": "65c0f92f-8bce-4fc0-9ff6-d05bc9f37159",
   "metadata": {},
   "outputs": [
    {
     "data": {
      "text/plain": [
       "array(['I4', 'H4', 'V6', 'I6', nan, 'V8', 'I3', 'I5', 'R2', 'W12', 'V10',\n",
       "       'V12', 'H6', 'I2', 'W8', 'W16'], dtype=object)"
      ]
     },
     "execution_count": 46,
     "metadata": {},
     "output_type": "execute_result"
    }
   ],
   "source": [
    "# selecting the first string in the engine_type column\n",
    "df2['engine_type'] = df2['engine_type'].str.split(' ').str[0]\n",
    "\n",
    "# checking the unique values in the engine_type column\n",
    "df2['engine_type'].unique()"
   ]
  },
  {
   "cell_type": "code",
   "execution_count": 47,
   "id": "f8076ae9-0cb9-4328-bd9b-81a418a4b459",
   "metadata": {},
   "outputs": [
    {
     "data": {
      "text/html": [
       "<div>\n",
       "<style scoped>\n",
       "    .dataframe tbody tr th:only-of-type {\n",
       "        vertical-align: middle;\n",
       "    }\n",
       "\n",
       "    .dataframe tbody tr th {\n",
       "        vertical-align: top;\n",
       "    }\n",
       "\n",
       "    .dataframe thead th {\n",
       "        text-align: right;\n",
       "    }\n",
       "</style>\n",
       "<table border=\"1\" class=\"dataframe\">\n",
       "  <thead>\n",
       "    <tr style=\"text-align: right;\">\n",
       "      <th></th>\n",
       "      <th>make_name</th>\n",
       "      <th>model_name</th>\n",
       "      <th>engine_type</th>\n",
       "      <th>fuel_type</th>\n",
       "    </tr>\n",
       "  </thead>\n",
       "  <tbody>\n",
       "    <tr>\n",
       "      <th>42</th>\n",
       "      <td>Jeep</td>\n",
       "      <td>Renegade</td>\n",
       "      <td>NaN</td>\n",
       "      <td>Gasoline</td>\n",
       "    </tr>\n",
       "    <tr>\n",
       "      <th>50</th>\n",
       "      <td>Subaru</td>\n",
       "      <td>Impreza</td>\n",
       "      <td>NaN</td>\n",
       "      <td>Gasoline</td>\n",
       "    </tr>\n",
       "    <tr>\n",
       "      <th>61</th>\n",
       "      <td>Chrysler</td>\n",
       "      <td>200</td>\n",
       "      <td>NaN</td>\n",
       "      <td>Gasoline</td>\n",
       "    </tr>\n",
       "    <tr>\n",
       "      <th>112</th>\n",
       "      <td>Jeep</td>\n",
       "      <td>Grand Cherokee</td>\n",
       "      <td>NaN</td>\n",
       "      <td>Gasoline</td>\n",
       "    </tr>\n",
       "    <tr>\n",
       "      <th>217</th>\n",
       "      <td>RAM</td>\n",
       "      <td>1500</td>\n",
       "      <td>NaN</td>\n",
       "      <td>Gasoline</td>\n",
       "    </tr>\n",
       "    <tr>\n",
       "      <th>...</th>\n",
       "      <td>...</td>\n",
       "      <td>...</td>\n",
       "      <td>...</td>\n",
       "      <td>...</td>\n",
       "    </tr>\n",
       "    <tr>\n",
       "      <th>2999874</th>\n",
       "      <td>Chevrolet</td>\n",
       "      <td>Bolt EV</td>\n",
       "      <td>NaN</td>\n",
       "      <td>Electric</td>\n",
       "    </tr>\n",
       "    <tr>\n",
       "      <th>2999882</th>\n",
       "      <td>Chevrolet</td>\n",
       "      <td>Bolt EV</td>\n",
       "      <td>NaN</td>\n",
       "      <td>Electric</td>\n",
       "    </tr>\n",
       "    <tr>\n",
       "      <th>2999919</th>\n",
       "      <td>Nissan</td>\n",
       "      <td>LEAF</td>\n",
       "      <td>NaN</td>\n",
       "      <td>Electric</td>\n",
       "    </tr>\n",
       "    <tr>\n",
       "      <th>2999949</th>\n",
       "      <td>Nissan</td>\n",
       "      <td>LEAF</td>\n",
       "      <td>NaN</td>\n",
       "      <td>Electric</td>\n",
       "    </tr>\n",
       "    <tr>\n",
       "      <th>3000037</th>\n",
       "      <td>Ford</td>\n",
       "      <td>Fusion</td>\n",
       "      <td>NaN</td>\n",
       "      <td>Gasoline</td>\n",
       "    </tr>\n",
       "  </tbody>\n",
       "</table>\n",
       "<p>94761 rows × 4 columns</p>\n",
       "</div>"
      ],
      "text/plain": [
       "         make_name      model_name engine_type fuel_type\n",
       "42            Jeep        Renegade         NaN  Gasoline\n",
       "50          Subaru         Impreza         NaN  Gasoline\n",
       "61        Chrysler             200         NaN  Gasoline\n",
       "112           Jeep  Grand Cherokee         NaN  Gasoline\n",
       "217            RAM            1500         NaN  Gasoline\n",
       "...            ...             ...         ...       ...\n",
       "2999874  Chevrolet         Bolt EV         NaN  Electric\n",
       "2999882  Chevrolet         Bolt EV         NaN  Electric\n",
       "2999919     Nissan            LEAF         NaN  Electric\n",
       "2999949     Nissan            LEAF         NaN  Electric\n",
       "3000037       Ford          Fusion         NaN  Gasoline\n",
       "\n",
       "[94761 rows x 4 columns]"
      ]
     },
     "execution_count": 47,
     "metadata": {},
     "output_type": "execute_result"
    }
   ],
   "source": [
    "# looking at the null rows\n",
    "df2.loc[df2['engine_type'].isna(),['make_name','model_name','engine_type', 'fuel_type']]"
   ]
  },
  {
   "cell_type": "markdown",
   "id": "2413d292-e1a8-402b-aa76-89a940cd0b34",
   "metadata": {},
   "source": [
    "It appears that the null values represent a combination of electric and gas vehicles. Let's begin by examining the electric vehicles."
   ]
  },
  {
   "cell_type": "code",
   "execution_count": 48,
   "id": "a226abc2-74e6-44a4-8ddf-15d078fce1be",
   "metadata": {},
   "outputs": [
    {
     "data": {
      "text/html": [
       "<div>\n",
       "<style scoped>\n",
       "    .dataframe tbody tr th:only-of-type {\n",
       "        vertical-align: middle;\n",
       "    }\n",
       "\n",
       "    .dataframe tbody tr th {\n",
       "        vertical-align: top;\n",
       "    }\n",
       "\n",
       "    .dataframe thead th {\n",
       "        text-align: right;\n",
       "    }\n",
       "</style>\n",
       "<table border=\"1\" class=\"dataframe\">\n",
       "  <thead>\n",
       "    <tr style=\"text-align: right;\">\n",
       "      <th></th>\n",
       "      <th>make_name</th>\n",
       "      <th>model_name</th>\n",
       "      <th>engine_type</th>\n",
       "      <th>fuel_type</th>\n",
       "    </tr>\n",
       "  </thead>\n",
       "  <tbody>\n",
       "    <tr>\n",
       "      <th>274</th>\n",
       "      <td>Kia</td>\n",
       "      <td>Soul EV</td>\n",
       "      <td>NaN</td>\n",
       "      <td>Electric</td>\n",
       "    </tr>\n",
       "    <tr>\n",
       "      <th>1182</th>\n",
       "      <td>Kia</td>\n",
       "      <td>Niro EV</td>\n",
       "      <td>NaN</td>\n",
       "      <td>Electric</td>\n",
       "    </tr>\n",
       "    <tr>\n",
       "      <th>1721</th>\n",
       "      <td>Chevrolet</td>\n",
       "      <td>Bolt EV</td>\n",
       "      <td>NaN</td>\n",
       "      <td>Electric</td>\n",
       "    </tr>\n",
       "    <tr>\n",
       "      <th>1729</th>\n",
       "      <td>Chevrolet</td>\n",
       "      <td>Bolt EV</td>\n",
       "      <td>NaN</td>\n",
       "      <td>Electric</td>\n",
       "    </tr>\n",
       "    <tr>\n",
       "      <th>2351</th>\n",
       "      <td>Hyundai</td>\n",
       "      <td>Ioniq Electric</td>\n",
       "      <td>NaN</td>\n",
       "      <td>Electric</td>\n",
       "    </tr>\n",
       "    <tr>\n",
       "      <th>...</th>\n",
       "      <td>...</td>\n",
       "      <td>...</td>\n",
       "      <td>...</td>\n",
       "      <td>...</td>\n",
       "    </tr>\n",
       "    <tr>\n",
       "      <th>2999820</th>\n",
       "      <td>Chevrolet</td>\n",
       "      <td>Bolt EV</td>\n",
       "      <td>NaN</td>\n",
       "      <td>Electric</td>\n",
       "    </tr>\n",
       "    <tr>\n",
       "      <th>2999874</th>\n",
       "      <td>Chevrolet</td>\n",
       "      <td>Bolt EV</td>\n",
       "      <td>NaN</td>\n",
       "      <td>Electric</td>\n",
       "    </tr>\n",
       "    <tr>\n",
       "      <th>2999882</th>\n",
       "      <td>Chevrolet</td>\n",
       "      <td>Bolt EV</td>\n",
       "      <td>NaN</td>\n",
       "      <td>Electric</td>\n",
       "    </tr>\n",
       "    <tr>\n",
       "      <th>2999919</th>\n",
       "      <td>Nissan</td>\n",
       "      <td>LEAF</td>\n",
       "      <td>NaN</td>\n",
       "      <td>Electric</td>\n",
       "    </tr>\n",
       "    <tr>\n",
       "      <th>2999949</th>\n",
       "      <td>Nissan</td>\n",
       "      <td>LEAF</td>\n",
       "      <td>NaN</td>\n",
       "      <td>Electric</td>\n",
       "    </tr>\n",
       "  </tbody>\n",
       "</table>\n",
       "<p>15562 rows × 4 columns</p>\n",
       "</div>"
      ],
      "text/plain": [
       "         make_name      model_name engine_type fuel_type\n",
       "274            Kia         Soul EV         NaN  Electric\n",
       "1182           Kia         Niro EV         NaN  Electric\n",
       "1721     Chevrolet         Bolt EV         NaN  Electric\n",
       "1729     Chevrolet         Bolt EV         NaN  Electric\n",
       "2351       Hyundai  Ioniq Electric         NaN  Electric\n",
       "...            ...             ...         ...       ...\n",
       "2999820  Chevrolet         Bolt EV         NaN  Electric\n",
       "2999874  Chevrolet         Bolt EV         NaN  Electric\n",
       "2999882  Chevrolet         Bolt EV         NaN  Electric\n",
       "2999919     Nissan            LEAF         NaN  Electric\n",
       "2999949     Nissan            LEAF         NaN  Electric\n",
       "\n",
       "[15562 rows x 4 columns]"
      ]
     },
     "execution_count": 48,
     "metadata": {},
     "output_type": "execute_result"
    }
   ],
   "source": [
    "# looking at the null rows that the fuel_type column is \"Electric\"\n",
    "df2.loc[(df2['engine_type'].isna()) & (df2['fuel_type'] == \"Electric\"),['make_name','model_name','engine_type', 'fuel_type']]"
   ]
  },
  {
   "cell_type": "code",
   "execution_count": 49,
   "id": "771ca22f-950b-45d5-bb14-f899abea62da",
   "metadata": {},
   "outputs": [],
   "source": [
    "# filling the null values with the fuel_type \"Electric\" with the \"Electric Motor\" value.\n",
    "df2.loc[(df2['engine_type'].isna()) & (df2['fuel_type'] == \"Electric\"), 'engine_type'] = \"Electric Motor\""
   ]
  },
  {
   "cell_type": "code",
   "execution_count": 51,
   "id": "8b1bc98b-cc46-4cc5-847a-4688670d655a",
   "metadata": {},
   "outputs": [],
   "source": [
    "# filling the null values with the fuel_type \"Gasoline\" with the \"I4\" value.\n",
    "df2.loc[(df2['engine_type'].isna()) & (df2['fuel_type'] == \"Gasoline\"), 'engine_type'] = \"Gasoline engine\""
   ]
  },
  {
   "cell_type": "code",
   "execution_count": 52,
   "id": "ff3810e0-1fb5-4570-8bff-9c696e8f1ac6",
   "metadata": {},
   "outputs": [
    {
     "name": "stdout",
     "output_type": "stream",
     "text": [
      "The amount of null values in the engine_type column are 0.027209853894305146%.\n"
     ]
    }
   ],
   "source": [
    "# checking for nulls\n",
    "result = df2['engine_type'].isna().sum()/df2.shape[0]*100\n",
    " \n",
    "print(f\"The amount of null values in the engine_type column are {result}%.\")"
   ]
  },
  {
   "cell_type": "code",
   "execution_count": 53,
   "id": "e27b5e01-b33d-4967-bcd6-ff25b22bda4b",
   "metadata": {},
   "outputs": [
    {
     "data": {
      "text/html": [
       "<div>\n",
       "<style scoped>\n",
       "    .dataframe tbody tr th:only-of-type {\n",
       "        vertical-align: middle;\n",
       "    }\n",
       "\n",
       "    .dataframe tbody tr th {\n",
       "        vertical-align: top;\n",
       "    }\n",
       "\n",
       "    .dataframe thead th {\n",
       "        text-align: right;\n",
       "    }\n",
       "</style>\n",
       "<table border=\"1\" class=\"dataframe\">\n",
       "  <thead>\n",
       "    <tr style=\"text-align: right;\">\n",
       "      <th></th>\n",
       "      <th>engine_type</th>\n",
       "      <th>fuel_type</th>\n",
       "    </tr>\n",
       "  </thead>\n",
       "  <tbody>\n",
       "    <tr>\n",
       "      <th>7186</th>\n",
       "      <td>NaN</td>\n",
       "      <td>Diesel</td>\n",
       "    </tr>\n",
       "    <tr>\n",
       "      <th>7264</th>\n",
       "      <td>NaN</td>\n",
       "      <td>Diesel</td>\n",
       "    </tr>\n",
       "    <tr>\n",
       "      <th>8259</th>\n",
       "      <td>NaN</td>\n",
       "      <td>Diesel</td>\n",
       "    </tr>\n",
       "    <tr>\n",
       "      <th>10489</th>\n",
       "      <td>NaN</td>\n",
       "      <td>Diesel</td>\n",
       "    </tr>\n",
       "    <tr>\n",
       "      <th>10503</th>\n",
       "      <td>NaN</td>\n",
       "      <td>Diesel</td>\n",
       "    </tr>\n",
       "    <tr>\n",
       "      <th>...</th>\n",
       "      <td>...</td>\n",
       "      <td>...</td>\n",
       "    </tr>\n",
       "    <tr>\n",
       "      <th>2976914</th>\n",
       "      <td>NaN</td>\n",
       "      <td>Diesel</td>\n",
       "    </tr>\n",
       "    <tr>\n",
       "      <th>2977375</th>\n",
       "      <td>NaN</td>\n",
       "      <td>Diesel</td>\n",
       "    </tr>\n",
       "    <tr>\n",
       "      <th>2977385</th>\n",
       "      <td>NaN</td>\n",
       "      <td>Diesel</td>\n",
       "    </tr>\n",
       "    <tr>\n",
       "      <th>2977393</th>\n",
       "      <td>NaN</td>\n",
       "      <td>Diesel</td>\n",
       "    </tr>\n",
       "    <tr>\n",
       "      <th>2977412</th>\n",
       "      <td>NaN</td>\n",
       "      <td>Diesel</td>\n",
       "    </tr>\n",
       "  </tbody>\n",
       "</table>\n",
       "<p>776 rows × 2 columns</p>\n",
       "</div>"
      ],
      "text/plain": [
       "        engine_type fuel_type\n",
       "7186            NaN    Diesel\n",
       "7264            NaN    Diesel\n",
       "8259            NaN    Diesel\n",
       "10489           NaN    Diesel\n",
       "10503           NaN    Diesel\n",
       "...             ...       ...\n",
       "2976914         NaN    Diesel\n",
       "2977375         NaN    Diesel\n",
       "2977385         NaN    Diesel\n",
       "2977393         NaN    Diesel\n",
       "2977412         NaN    Diesel\n",
       "\n",
       "[776 rows x 2 columns]"
      ]
     },
     "execution_count": 53,
     "metadata": {},
     "output_type": "execute_result"
    }
   ],
   "source": [
    "# checking the null values rows in the engine_type column\n",
    "df2[df2['engine_type'].isna()][['engine_type','fuel_type']]"
   ]
  },
  {
   "cell_type": "code",
   "execution_count": 54,
   "id": "30b34366-eeb7-4449-821f-8c33430008e5",
   "metadata": {},
   "outputs": [],
   "source": [
    "# filling the null values with the fuel_type \"Diesel\" with the \"Diesel\" value.\n",
    "df2.loc[(df2['engine_type'].isna()) & (df2['fuel_type'] == \"Diesel\"), 'engine_type'] = \"Diesel engine\""
   ]
  },
  {
   "cell_type": "code",
   "execution_count": 55,
   "id": "da1fa834-b1c7-4a59-8330-10a96031854b",
   "metadata": {},
   "outputs": [
    {
     "data": {
      "image/png": "[encoded data removed]",
      "text/plain": [
       "<Figure size 2000x600 with 1 Axes>"
      ]
     },
     "metadata": {},
     "output_type": "display_data"
    }
   ],
   "source": [
    "# plotting the distribution of the engine_type column\n",
    "plt.figure(figsize=(20,6))\n",
    "plt.bar(df2['engine_type'].value_counts().index, df2['engine_type'].value_counts(),\n",
    "        color=['darkgreen','darkorange','darkred','darkblue','darkviolet','darkgoldenrod'])\n",
    "plt.title('Engine Type Distribution')\n",
    "plt.xlabel('Engine Type')\n",
    "plt.ylabel('Frequency')\n",
    "plt.show()"
   ]
  },
  {
   "cell_type": "markdown",
   "id": "a5ee6d18-11af-4e2e-bd78-5e00f542c6da",
   "metadata": {},
   "source": [
    "## horsepower"
   ]
  },
  {
   "cell_type": "code",
   "execution_count": 56,
   "id": "525275be-e7d1-4648-8bcc-4166268ced6c",
   "metadata": {},
   "outputs": [
    {
     "name": "stdout",
     "output_type": "stream",
     "text": [
      "The amount of null values in the horsepower column are 0.0%.\n"
     ]
    }
   ],
   "source": [
    "# filling the null values with the most common value\n",
    "df2['horsepower'].fillna(df2['horsepower'].mode()[0], inplace=True)\n",
    "\n",
    "# checking the result\n",
    "percentage = df2['horsepower'].isna().sum()/df2.shape[0]*100\n",
    "\n",
    "print(f\"The amount of null values in the horsepower column are {percentage.round(2)}%.\")"
   ]
  },
  {
   "cell_type": "markdown",
   "id": "58f9ffcd-c9fc-47d4-a3bf-9bcb38580083",
   "metadata": {},
   "source": [
    "## isCab"
   ]
  },
  {
   "cell_type": "code",
   "execution_count": 57,
   "id": "a68e4a56-6f21-4709-aa4f-deafde0453f9",
   "metadata": {},
   "outputs": [
    {
     "name": "stdout",
     "output_type": "stream",
     "text": [
      "The amount of null values in the exterior_color column are 44.92350384374251%.\n"
     ]
    }
   ],
   "source": [
    "# checking how many null values are in the column\n",
    "percentage = df2['isCab'].isna().sum()/df2.shape[0]*100\n",
    "\n",
    "print(f\"The amount of null values in the exterior_color column are {percentage}%.\")"
   ]
  },
  {
   "cell_type": "code",
   "execution_count": 58,
   "id": "9ccc45cf-27c9-43b8-999f-400afde55f39",
   "metadata": {},
   "outputs": [
    {
     "name": "stdout",
     "output_type": "stream",
     "text": [
      "The amount of null values in the exterior_color column are 0.0%.\n"
     ]
    }
   ],
   "source": [
    "# replacing null values with Black.\n",
    "df2['isCab'].fillna(\"\", inplace=True)\n",
    "\n",
    "# checking result\n",
    "result = df2['isCab'].isna().sum()/df2.shape[0]*100\n",
    "\n",
    "print(f\"The amount of null values in the exterior_color column are {result.round(2)}%.\")"
   ]
  },
  {
   "cell_type": "markdown",
   "id": "035077d0-0031-4db3-be94-635d9c88c955",
   "metadata": {},
   "source": [
    "## major_options"
   ]
  },
  {
   "cell_type": "code",
   "execution_count": 59,
   "id": "48eaaf9f-f715-47c7-83a8-1269d928a87f",
   "metadata": {},
   "outputs": [
    {
     "data": {
      "text/plain": [
       "['Alloy Wheels', 'Bluetooth', 'Backup Camera']                                                                                                                                                                                                                         3.026465\n",
       "['Alloy Wheels']                                                                                                                                                                                                                                                       1.441386\n",
       "['Steel Wheels']                                                                                                                                                                                                                                                       1.421820\n",
       "['Steel Wheels', 'Bluetooth', 'Backup Camera']                                                                                                                                                                                                                         1.214064\n",
       "['Bluetooth', 'Backup Camera']                                                                                                                                                                                                                                         1.187240\n",
       "                                                                                                                                                                                                                                                                         ...   \n",
       "['Leather Seats', 'Courtesy Lights Illum Package', 'Sunroof/Moonroof', 'Power Package', 'Navigation System', 'Adaptive Cruise Control', 'Alloy Wheels', 'Premium Package', 'Limited Package', 'Bluetooth', 'Backup Camera', 'Cargo Package', 'Convenience Package']    0.000035\n",
       "['Navigation System', 'Alloy Wheels', 'Backup Camera', 'Off Road Package', 'Parking Sensors']                                                                                                                                                                          0.000035\n",
       "['Leather Seats', 'Sunroof/Moonroof', 'Adaptive Cruise Control', 'Navigation System', 'Alloy Wheels', 'Bluetooth', 'Backup Camera', 'Blind Spot Monitoring', 'Parking Sensors', 'Premium Package', 'Heated Seats', 'Multi Zone Climate Control']                       0.000035\n",
       "['Sunroof/Moonroof', 'Power Package', 'Navigation System', 'Alloy Wheels', 'Preferred Package', 'Bluetooth', 'Memory Package', 'Backup Camera', 'Blind Spot Monitoring', 'Remote Start', 'Premium Package', 'Heated Seats']                                            0.000035\n",
       "['Sunroof/Moonroof', 'Adaptive Cruise Control', 'Alloy Wheels', 'Bluetooth', 'Backup Camera', 'Remote Start', 'Blind Spot Monitoring', 'Premium Package', 'Multi Zone Climate Control']                                                                                0.000035\n",
       "Name: major_options, Length: 279972, dtype: float64"
      ]
     },
     "execution_count": 59,
     "metadata": {},
     "output_type": "execute_result"
    }
   ],
   "source": [
    "# checking the value counts\n",
    "df2['major_options'].value_counts()/df2.shape[0]*100"
   ]
  },
  {
   "cell_type": "markdown",
   "id": "47666ec5-813a-4731-a0fb-e34fced83d8d",
   "metadata": {},
   "source": [
    "In order to simplify the manipulation of the column, we will convert it into a new column named 'major_options_count'. This new column will represent the count of major options associated with each vehicle."
   ]
  },
  {
   "cell_type": "code",
   "execution_count": 60,
   "id": "3ebec7b3-0276-4d42-934e-346102002158",
   "metadata": {},
   "outputs": [
    {
     "data": {
      "text/plain": [
       "4.0     314470\n",
       "3.0     298137\n",
       "5.0     289207\n",
       "6.0     269046\n",
       "7.0     238003\n",
       "8.0     216869\n",
       "2.0     212030\n",
       "9.0     177657\n",
       "1.0     175252\n",
       "10.0    146120\n",
       "11.0    112283\n",
       "12.0     78903\n",
       "13.0     50739\n",
       "14.0     31869\n",
       "15.0     18702\n",
       "16.0     12520\n",
       "17.0      7918\n",
       "18.0      5131\n",
       "19.0      3510\n",
       "20.0      2475\n",
       "21.0      1639\n",
       "22.0      1272\n",
       "23.0      1063\n",
       "24.0       745\n",
       "25.0       623\n",
       "26.0       491\n",
       "27.0       310\n",
       "28.0       222\n",
       "29.0       211\n",
       "30.0       125\n",
       "31.0        93\n",
       "32.0        89\n",
       "33.0        56\n",
       "34.0        48\n",
       "35.0        41\n",
       "36.0        24\n",
       "38.0        14\n",
       "37.0        12\n",
       "39.0         7\n",
       "40.0         6\n",
       "45.0         4\n",
       "41.0         4\n",
       "44.0         3\n",
       "48.0         3\n",
       "53.0         2\n",
       "49.0         2\n",
       "52.0         2\n",
       "50.0         2\n",
       "43.0         2\n",
       "42.0         1\n",
       "59.0         1\n",
       "57.0         1\n",
       "47.0         1\n",
       "Name: major_options_count, dtype: int64"
      ]
     },
     "execution_count": 60,
     "metadata": {},
     "output_type": "execute_result"
    }
   ],
   "source": [
    "# creating a major_options_count column to count the number of major options\n",
    "df2['major_options_count'] = df2['major_options'].str.count(',') + 1\n",
    " \n",
    "# checking the result\n",
    "df2['major_options_count'].value_counts()"
   ]
  },
  {
   "cell_type": "code",
   "execution_count": 61,
   "id": "8eccb68d-76bc-4b83-b0fe-29cdc203e9bb",
   "metadata": {},
   "outputs": [
    {
     "data": {
      "image/png": "[encoded data removed]",
      "text/plain": [
       "<Figure size 1000x600 with 1 Axes>"
      ]
     },
     "metadata": {},
     "output_type": "display_data"
    }
   ],
   "source": [
    "# plotting the distribution of the major_options_count column\n",
    "plt.figure(figsize=(10,6))\n",
    "plt.hist(df2['major_options_count'], bins=20)\n",
    "plt.title('Major Options Count')\n",
    "# Add the mode\n",
    "plt.axvline(df2['major_options_count'].mode()[0], color='r', linestyle='dashed', linewidth=2, label='Mode')\n",
    "# Add the median\n",
    "plt.axvline(df2['major_options_count'].median(), color='goldenrod', label='median')\n",
    "# Add the mean\n",
    "plt.axvline(df2['major_options_count'].mean(), color='darkgreen', label='mean')\n",
    "plt.legend()\n",
    "plt.xlabel('Major Options Count')\n",
    "plt.ylabel('Frequency')\n",
    "plt.xticks(np.arange(0, 20, 2))\n",
    "plt.show()"
   ]
  },
  {
   "cell_type": "markdown",
   "id": "477aa230-84f4-4ad3-b743-72e513233348",
   "metadata": {},
   "source": [
    "Observing the data, it's evident that a significant portion of vehicles possess between 4 to 6 major options. To address the null values, we can populate them with the mean value of the column"
   ]
  },
  {
   "cell_type": "code",
   "execution_count": 62,
   "id": "3dec15c4-452f-4dfb-9076-1c1ca38cb33b",
   "metadata": {},
   "outputs": [
    {
     "name": "stdout",
     "output_type": "stream",
     "text": [
      "The amount of null values in the major_options_count column are 0.0%.\n"
     ]
    }
   ],
   "source": [
    "# filling the null values with the mean of the column\n",
    "df2['major_options_count'].fillna(df2['major_options_count'].mean(), inplace=True)\n",
    " \n",
    "# checking the result\n",
    "result = df2['major_options_count'].isna().sum()/df2.shape[0]*100\n",
    " \n",
    "print(f\"The amount of null values in the major_options_count column are {result.round(2)}%.\")"
   ]
  },
  {
   "cell_type": "markdown",
   "id": "484ba63a-4fbf-4c7e-8dd6-ec0fa76d30b6",
   "metadata": {},
   "source": [
    "Drop the major_options column from the dataset as well."
   ]
  },
  {
   "cell_type": "code",
   "execution_count": 63,
   "id": "f30e2dea-3ee2-4836-a1f7-e4441a3e66fd",
   "metadata": {},
   "outputs": [],
   "source": [
    "# dropping the major_options column\n",
    "df2.drop('major_options', axis=1, inplace=True)"
   ]
  },
  {
   "cell_type": "markdown",
   "id": "f6fc7bd3-d015-4330-9b60-119eb7146e2d",
   "metadata": {},
   "source": [
    "## maximum_seating"
   ]
  },
  {
   "cell_type": "code",
   "execution_count": 64,
   "id": "db1f1810-1ae2-4afd-96d6-91226e666f14",
   "metadata": {},
   "outputs": [
    {
     "data": {
      "text/plain": [
       "5 seats     62.016832\n",
       "7 seats     10.354401\n",
       "6 seats     10.247035\n",
       "8 seats      6.787807\n",
       "4 seats      2.810610\n",
       "2 seats      1.155893\n",
       "3 seats      0.946700\n",
       "15 seats     0.201865\n",
       "9 seats      0.126933\n",
       "12 seats     0.057716\n",
       "10 seats     0.017462\n",
       "--           0.017322\n",
       "Name: maximum_seating, dtype: float64"
      ]
     },
     "execution_count": 64,
     "metadata": {},
     "output_type": "execute_result"
    }
   ],
   "source": [
    "# checking the value_counts of the column\n",
    "df2['maximum_seating'].value_counts()/df2.shape[0]*100"
   ]
  },
  {
   "cell_type": "code",
   "execution_count": 65,
   "id": "7166077e-b544-46f7-92c9-33f88530bb3d",
   "metadata": {},
   "outputs": [
    {
     "data": {
      "text/plain": [
       "array(['5 seats', '7 seats', '2 seats', '4 seats', '8 seats', nan,\n",
       "       '6 seats', '9 seats', '3 seats', '--', '15 seats', '12 seats',\n",
       "       '10 seats'], dtype=object)"
      ]
     },
     "execution_count": 65,
     "metadata": {},
     "output_type": "execute_result"
    }
   ],
   "source": [
    "# checking the unique values of the column\n",
    "df2['maximum_seating'].unique()"
   ]
  },
  {
   "cell_type": "code",
   "execution_count": 66,
   "id": "4872b860-06a8-408e-8b86-87679095a339",
   "metadata": {},
   "outputs": [
    {
     "name": "stdout",
     "output_type": "stream",
     "text": [
      "The amount of null values in the maximum_seating column are 0.0%.\n"
     ]
    }
   ],
   "source": [
    "# replacing the \"--\" with np.nan\n",
    "df2['maximum_seating'].replace(\"--\", np.nan , inplace=True)\n",
    "\n",
    "# filling the null values with a new value called the most frequent value.\n",
    "df2['maximum_seating'].fillna(\"5 seats\", inplace=True)\n",
    "\n",
    "# checking the result\n",
    "result = df2['maximum_seating'].isna().sum()/df2.shape[0]*100\n",
    "\n",
    "print(f\"The amount of null values in the maximum_seating column are {result.round(2)}%.\")"
   ]
  },
  {
   "cell_type": "code",
   "execution_count": 67,
   "id": "0a862c69-d402-448f-803a-98bebc35fccf",
   "metadata": {},
   "outputs": [
    {
     "data": {
      "text/plain": [
       "5     1919151\n",
       "7      295298\n",
       "6      292236\n",
       "8      193582\n",
       "4       80156\n",
       "2       32965\n",
       "3       26999\n",
       "15       5757\n",
       "9        3620\n",
       "12       1646\n",
       "10        498\n",
       "Name: maximum_seating, dtype: int64"
      ]
     },
     "execution_count": 67,
     "metadata": {},
     "output_type": "execute_result"
    }
   ],
   "source": [
    "# removing the \" seats\" from the column\n",
    "df2['maximum_seating'] = df2['maximum_seating'].str.replace(\" seats\", \"\")\n",
    "\n",
    "# converting the column to a int\n",
    "df2['maximum_seating'] = pd.to_numeric(df2['maximum_seating'], downcast='integer')\n",
    "\n",
    "# checking the result\n",
    "df2['maximum_seating'].value_counts()"
   ]
  },
  {
   "cell_type": "markdown",
   "id": "aa181921-9147-4e97-9b7e-5bcd6f24d070",
   "metadata": {},
   "source": [
    "## mileage"
   ]
  },
  {
   "cell_type": "code",
   "execution_count": 68,
   "id": "ecb4014d-656d-40d3-8da0-631488ccc64b",
   "metadata": {},
   "outputs": [
    {
     "data": {
      "text/plain": [
       "0.0         7.827391\n",
       "5.0         4.630304\n",
       "10.0        4.290706\n",
       "3.0         2.440226\n",
       "2.0         2.351303\n",
       "              ...   \n",
       "137822.0    0.000035\n",
       "142416.0    0.000035\n",
       "271567.0    0.000035\n",
       "163323.0    0.000035\n",
       "121932.0    0.000035\n",
       "Name: mileage, Length: 197577, dtype: float64"
      ]
     },
     "execution_count": 68,
     "metadata": {},
     "output_type": "execute_result"
    }
   ],
   "source": [
    "# checking the value counts\n",
    "df2['mileage'].value_counts()/df2.shape[0]*100"
   ]
  },
  {
   "cell_type": "code",
   "execution_count": 69,
   "id": "26c4bde1-fe1c-4779-87b0-3caf05fe4e28",
   "metadata": {},
   "outputs": [
    {
     "data": {
      "image/png": "[encoded data removed]",
      "text/plain": [
       "<Figure size 1000x600 with 1 Axes>"
      ]
     },
     "metadata": {},
     "output_type": "display_data"
    }
   ],
   "source": [
    "# plotting the mileage column to see the distribution\n",
    "plt.figure(figsize=(10,6))\n",
    "plt.hist(df2['mileage'], bins=20)\n",
    "plt.title('Mileage')\n",
    "# Add the mode\n",
    "plt.axvline(df2['mileage'].mode()[0], color='r', linestyle='dashed', linewidth=2, label='Mode')\n",
    "# Add the median\n",
    "plt.axvline(df2['mileage'].median(), color='goldenrod', label='median')\n",
    "# Add the mean\n",
    "plt.axvline(df2['mileage'].mean(), color='darkgreen', label='mean')\n",
    "#removing scientific notation\n",
    "plt.ticklabel_format(style='plain')\n",
    "plt.legend()\n",
    "plt.xlabel('Mileage')\n",
    "plt.ylabel('Frequency')\n",
    "plt.show()"
   ]
  },
  {
   "cell_type": "markdown",
   "id": "17d84165-0943-4703-9ff4-f13643482bf7",
   "metadata": {},
   "source": [
    "The chart indicates a substantial number of outliers within the column. Therefore, it's necessary to eliminate these outliers before proceeding to fill the null values with either the mean or median. The interquartile range will be employed for outlier removal."
   ]
  },
  {
   "cell_type": "code",
   "execution_count": 70,
   "id": "9c1e68db-382f-4076-8006-a4721b1cd37c",
   "metadata": {},
   "outputs": [
    {
     "data": {
      "image/png": "[encoded data removed]",
      "text/plain": [
       "<Figure size 1000x600 with 1 Axes>"
      ]
     },
     "metadata": {},
     "output_type": "display_data"
    }
   ],
   "source": [
    "# using the interquartile range to remove outliers\n",
    "q1 = df2['mileage'].quantile(0.25)\n",
    "q3 = df2['mileage'].quantile(0.75)\n",
    "\n",
    "# calculating the interquartile range\n",
    "iqr = q3 - q1\n",
    "\n",
    "# removing outliers\n",
    "df2 = df2[(df2['mileage'] >= q1 - 1.5*iqr) & (df2['mileage'] <= q3 + 1.5*iqr)]\n",
    "\n",
    "# checking the result\n",
    "plt.figure(figsize=(10,6))\n",
    "plt.hist(df2['mileage'], bins=20)\n",
    "plt.title('Mileage')\n",
    "# Add the mode\n",
    "plt.axvline(df2['mileage'].mode()[0], color='r', linestyle='dashed', linewidth=2, label='Mode')\n",
    "# Add the median\n",
    "plt.axvline(df2['mileage'].median(), color='goldenrod', label='median')\n",
    "# Add the mean\n",
    "plt.axvline(df2['mileage'].mean(), color='darkgreen', label='mean')\n",
    "#removing scientific notation\n",
    "plt.ticklabel_format(style='plain')\n",
    "plt.legend()\n",
    "plt.xlabel('Mileage')\n",
    "plt.ylabel('Frequency')\n",
    "plt.show()"
   ]
  },
  {
   "cell_type": "markdown",
   "id": "52e0f41b-3294-496b-be54-5b631fd1277a",
   "metadata": {},
   "source": [
    "Тhe majority of vehicles have a mileage of 0 miles. This is because the vehicles are new. So in this case, we can fill in the null values with 0.1."
   ]
  },
  {
   "cell_type": "code",
   "execution_count": 72,
   "id": "7e40fbaf-241a-4be4-81c4-19e6e22361a7",
   "metadata": {},
   "outputs": [
    {
     "name": "stdout",
     "output_type": "stream",
     "text": [
      "The amount of null values in the exterior_color column are 0.0%.\n"
     ]
    }
   ],
   "source": [
    "df2 = df2.copy()\n",
    "# replacing null values with one.\n",
    "df2['mileage'].fillna(0.1, inplace=True)\n",
    "\n",
    "# checking result\n",
    "result = df2['mileage'].isna().sum()/df2.shape[0]*100\n",
    "\n",
    "print(f\"The amount of null values in the exterior_color column are {result.round(2)}%.\")"
   ]
  },
  {
   "cell_type": "markdown",
   "id": "06648eb2-2485-4588-908b-d7da58c0b293",
   "metadata": {},
   "source": [
    "## seller_rating"
   ]
  },
  {
   "cell_type": "code",
   "execution_count": 73,
   "id": "d33be745-e3af-488e-9875-0a9fb7e676f5",
   "metadata": {},
   "outputs": [
    {
     "data": {
      "text/plain": [
       "5.000000    6.168307\n",
       "4.000000    4.055687\n",
       "4.500000    3.552464\n",
       "4.666667    2.088908\n",
       "4.333333    2.028002\n",
       "              ...   \n",
       "3.859649    0.000040\n",
       "4.163636    0.000040\n",
       "3.549020    0.000040\n",
       "3.861111    0.000040\n",
       "3.971831    0.000040\n",
       "Name: seller_rating, Length: 1805, dtype: float64"
      ]
     },
     "execution_count": 73,
     "metadata": {},
     "output_type": "execute_result"
    }
   ],
   "source": [
    "# checking the value_counts of the column\n",
    "df2['seller_rating'].value_counts()/df2.shape[0]*100"
   ]
  },
  {
   "cell_type": "code",
   "execution_count": 74,
   "id": "8f5b42c3-447a-48e7-b5cc-16adcf32f22d",
   "metadata": {},
   "outputs": [
    {
     "name": "stdout",
     "output_type": "stream",
     "text": [
      "The amount of null values in the seller_rating column are 0.0%.\n"
     ]
    }
   ],
   "source": [
    "# filling the null values with the most frequent value.\n",
    "df2['seller_rating'].fillna(\"5\", inplace=True)\n",
    "\n",
    "# checking the result\n",
    "result = df2['seller_rating'].isna().sum()/df2.shape[0]*100\n",
    "\n",
    "print(f\"The amount of null values in the seller_rating column are {result.round(2)}%.\")"
   ]
  },
  {
   "cell_type": "markdown",
   "id": "e283c15c-6331-4325-982d-71248a3e8346",
   "metadata": {},
   "source": [
    "## torque"
   ]
  },
  {
   "cell_type": "code",
   "execution_count": 75,
   "id": "f274b2ed-8de1-4f47-96bd-ef4512cbb34d",
   "metadata": {},
   "outputs": [
    {
     "data": {
      "text/plain": [
       "383 lb-ft @ 4,100 RPM    3.131280\n",
       "400 lb-ft @ 4,500 RPM    2.377376\n",
       "410 lb-ft @ 3,950 RPM    2.025465\n",
       "132 lb-ft @ 4,500 RPM    1.788266\n",
       "148 lb-ft @ 200 RPM      1.760906\n",
       "                           ...   \n",
       "280 lb-ft @ 2,700 RPM    0.000040\n",
       "465 lb-ft @ 5,000 RPM    0.000040\n",
       "98 lb-ft @ 3,000 RPM     0.000040\n",
       "160 lb-ft @ 1,600 RPM    0.000040\n",
       "156 lb-ft @ 4,500 RPM    0.000040\n",
       "Name: torque, Length: 1942, dtype: float64"
      ]
     },
     "execution_count": 75,
     "metadata": {},
     "output_type": "execute_result"
    }
   ],
   "source": [
    "# checking the value_counts of the column\n",
    "df2['torque'].value_counts()/df2.shape[0]*100"
   ]
  },
  {
   "cell_type": "code",
   "execution_count": 76,
   "id": "26dc7440-7237-48ed-b9bd-83f74e17c75d",
   "metadata": {},
   "outputs": [],
   "source": [
    "# splitting the column and returning the first value\n",
    "df2['torque'] = df2['torque'].str.split(\" \").str[0]\n",
    "\n",
    "# converting the column to float.\n",
    "df2['torque'] = df2['torque'].astype(float)"
   ]
  },
  {
   "cell_type": "code",
   "execution_count": 77,
   "id": "1dc16e6c-9786-4c22-b81b-14b5ac1c020c",
   "metadata": {},
   "outputs": [
    {
     "data": {
      "image/png": "[encoded data removed]",
      "text/plain": [
       "<Figure size 1000x600 with 1 Axes>"
      ]
     },
     "metadata": {},
     "output_type": "display_data"
    }
   ],
   "source": [
    "# plotting the distribution of the column\n",
    "plt.figure(figsize=(10,6))\n",
    "plt.hist(df2['torque'], bins=20)\n",
    "plt.title('Torque')\n",
    "# Add the mode\n",
    "plt.axvline(df2['torque'].mode()[0], color='r', linestyle='dashed', linewidth=2, label='Mode')\n",
    "# Add the median\n",
    "plt.axvline(df2['torque'].median(), color='goldenrod', label='median')\n",
    "# Add the mean\n",
    "plt.axvline(df2['torque'].mean(), color='darkgreen', label='mean')\n",
    "plt.legend()\n",
    "plt.xlabel('Torque')\n",
    "plt.ylabel('Frequency')\n",
    "plt.show()"
   ]
  },
  {
   "cell_type": "code",
   "execution_count": 78,
   "id": "ba6f51ce-e439-49af-bb95-ca694c656543",
   "metadata": {},
   "outputs": [
    {
     "name": "stdout",
     "output_type": "stream",
     "text": [
      "The amount of null values in the torque column are 0.0%.\n"
     ]
    }
   ],
   "source": [
    "# filling the null values with the mean of the column.\n",
    "df2['torque'].fillna(df2['torque'].mean(), inplace=True)\n",
    "\n",
    "# checking the result\n",
    "result = df2['torque'].isna().sum()/df2.shape[0]*100\n",
    "\n",
    "print(f\"The amount of null values in the torque column are {result.round(2)}%.\")"
   ]
  },
  {
   "cell_type": "markdown",
   "id": "cfbf0126-ffad-4595-b73a-6b3155bcfc80",
   "metadata": {},
   "source": [
    "## transmission"
   ]
  },
  {
   "cell_type": "code",
   "execution_count": 79,
   "id": "0942f397-3c7c-46bc-8647-5196869a1809",
   "metadata": {},
   "outputs": [
    {
     "data": {
      "text/plain": [
       "A              80.987811\n",
       "CVT            15.049287\n",
       "M               1.557333\n",
       "Dual Clutch     0.375742\n",
       "Name: transmission, dtype: float64"
      ]
     },
     "execution_count": 79,
     "metadata": {},
     "output_type": "execute_result"
    }
   ],
   "source": [
    "# checking the value_counts of the column\n",
    "df2['transmission'].value_counts()/df2.shape[0]*100"
   ]
  },
  {
   "cell_type": "code",
   "execution_count": 80,
   "id": "3afe79f3-7b2c-4776-9aff-c32f7af7aa8e",
   "metadata": {},
   "outputs": [
    {
     "data": {
      "text/plain": [
       "array(['A', 'CVT', 'M', nan, 'Dual Clutch'], dtype=object)"
      ]
     },
     "execution_count": 80,
     "metadata": {},
     "output_type": "execute_result"
    }
   ],
   "source": [
    "# checking for unique values in the column\n",
    "df2['transmission'].unique()"
   ]
  },
  {
   "cell_type": "code",
   "execution_count": 81,
   "id": "aa1827f2-ac63-4d68-8221-32b42a2de766",
   "metadata": {},
   "outputs": [
    {
     "name": "stdout",
     "output_type": "stream",
     "text": [
      "The amount of null values in the transmission column are 0.0%.\n"
     ]
    }
   ],
   "source": [
    "# filling the null values with \"A\", for Automatic transmission.\n",
    "df2['transmission'].fillna(\"A\", inplace=True)\n",
    "\n",
    "# checking the result\n",
    "result = df2['transmission'].isna().sum()/df2.shape[0]*100\n",
    "\n",
    "print(f\"The amount of null values in the transmission column are {result.round(2)}%.\")"
   ]
  },
  {
   "cell_type": "markdown",
   "id": "fb89c412-51d7-4f76-9dfc-9b7bfed6694d",
   "metadata": {},
   "source": [
    "## wheel_system"
   ]
  },
  {
   "cell_type": "code",
   "execution_count": 82,
   "id": "9ede14c9-db6b-4b21-bfdc-24b7263123f4",
   "metadata": {},
   "outputs": [
    {
     "data": {
      "text/plain": [
       "FWD    41.643616\n",
       "AWD    23.879593\n",
       "4WD    19.448877\n",
       "RWD     6.400509\n",
       "4X2     3.958262\n",
       "Name: wheel_system, dtype: float64"
      ]
     },
     "execution_count": 82,
     "metadata": {},
     "output_type": "execute_result"
    }
   ],
   "source": [
    "# checking the value_counts of the column\n",
    "df2['wheel_system'].value_counts()/df2.shape[0]*100"
   ]
  },
  {
   "cell_type": "code",
   "execution_count": 83,
   "id": "a7dc6e44-5b09-4999-922d-209293073737",
   "metadata": {},
   "outputs": [
    {
     "data": {
      "text/plain": [
       "array(['FWD', 'AWD', 'RWD', '4WD', nan, '4X2'], dtype=object)"
      ]
     },
     "execution_count": 83,
     "metadata": {},
     "output_type": "execute_result"
    }
   ],
   "source": [
    "# checking the unique values of the column\n",
    "df2['wheel_system'].unique()"
   ]
  },
  {
   "cell_type": "code",
   "execution_count": 84,
   "id": "dbbb9454-3bf5-4047-867d-59aa02cef22e",
   "metadata": {},
   "outputs": [
    {
     "name": "stdout",
     "output_type": "stream",
     "text": [
      "The amount of null values in the wheel_system column are 0.0%.\n"
     ]
    }
   ],
   "source": [
    "# replacing the null values with \"FWD\".\n",
    "df2['wheel_system'].fillna(\"FWD\", inplace=True)\n",
    "\n",
    "# checking the result\n",
    "result = df2['wheel_system'].isna().sum()/df2.shape[0]*100\n",
    "\n",
    "print(f\"The amount of null values in the wheel_system column are {result.round(2)}%.\")"
   ]
  },
  {
   "cell_type": "code",
   "execution_count": 85,
   "id": "482470a6-4e83-4214-8378-2b3caed3d5e2",
   "metadata": {},
   "outputs": [
    {
     "data": {
      "text/plain": [
       "body_type                0\n",
       "exterior_color           0\n",
       "frame_damaged            0\n",
       "has_accidents            0\n",
       "salvage                  0\n",
       "fuel_tank_volume         0\n",
       "fuel_type                0\n",
       "engine_type              0\n",
       "horsepower               0\n",
       "isCab                    0\n",
       "make_name                0\n",
       "maximum_seating          0\n",
       "mileage                  0\n",
       "model_name               0\n",
       "seller_rating            0\n",
       "torque                   0\n",
       "price                    0\n",
       "transmission             0\n",
       "wheel_system             0\n",
       "year                     0\n",
       "combined_fuel_economy    0\n",
       "major_options_count      0\n",
       "dtype: int64"
      ]
     },
     "execution_count": 85,
     "metadata": {},
     "output_type": "execute_result"
    }
   ],
   "source": [
    "df2.isnull().sum()"
   ]
  },
  {
   "cell_type": "code",
   "execution_count": 86,
   "id": "25c96eb0-1b12-46a0-9942-f960671fdc07",
   "metadata": {},
   "outputs": [
    {
     "data": {
      "text/html": [
       "<div>\n",
       "<style scoped>\n",
       "    .dataframe tbody tr th:only-of-type {\n",
       "        vertical-align: middle;\n",
       "    }\n",
       "\n",
       "    .dataframe tbody tr th {\n",
       "        vertical-align: top;\n",
       "    }\n",
       "\n",
       "    .dataframe thead th {\n",
       "        text-align: right;\n",
       "    }\n",
       "</style>\n",
       "<table border=\"1\" class=\"dataframe\">\n",
       "  <thead>\n",
       "    <tr style=\"text-align: right;\">\n",
       "      <th></th>\n",
       "      <th>body_type</th>\n",
       "      <th>exterior_color</th>\n",
       "      <th>frame_damaged</th>\n",
       "      <th>has_accidents</th>\n",
       "      <th>salvage</th>\n",
       "      <th>fuel_tank_volume</th>\n",
       "      <th>fuel_type</th>\n",
       "      <th>engine_type</th>\n",
       "      <th>horsepower</th>\n",
       "      <th>isCab</th>\n",
       "      <th>make_name</th>\n",
       "      <th>maximum_seating</th>\n",
       "      <th>mileage</th>\n",
       "      <th>model_name</th>\n",
       "      <th>seller_rating</th>\n",
       "      <th>torque</th>\n",
       "      <th>price</th>\n",
       "      <th>transmission</th>\n",
       "      <th>wheel_system</th>\n",
       "      <th>year</th>\n",
       "      <th>combined_fuel_economy</th>\n",
       "      <th>major_options_count</th>\n",
       "    </tr>\n",
       "  </thead>\n",
       "  <tbody>\n",
       "    <tr>\n",
       "      <th>0</th>\n",
       "      <td>SUV / Crossover</td>\n",
       "      <td>Mixed Colors</td>\n",
       "      <td></td>\n",
       "      <td></td>\n",
       "      <td></td>\n",
       "      <td>12.700000</td>\n",
       "      <td>Gasoline</td>\n",
       "      <td>I4</td>\n",
       "      <td>177.0</td>\n",
       "      <td></td>\n",
       "      <td>Jeep</td>\n",
       "      <td>5</td>\n",
       "      <td>7.0</td>\n",
       "      <td>Renegade</td>\n",
       "      <td>2.8</td>\n",
       "      <td>200.000000</td>\n",
       "      <td>23141.0</td>\n",
       "      <td>A</td>\n",
       "      <td>FWD</td>\n",
       "      <td>2019</td>\n",
       "      <td>25.945626</td>\n",
       "      <td>1.000000</td>\n",
       "    </tr>\n",
       "    <tr>\n",
       "      <th>1</th>\n",
       "      <td>SUV / Crossover</td>\n",
       "      <td>Black</td>\n",
       "      <td></td>\n",
       "      <td></td>\n",
       "      <td></td>\n",
       "      <td>17.700001</td>\n",
       "      <td>Gasoline</td>\n",
       "      <td>I4</td>\n",
       "      <td>246.0</td>\n",
       "      <td></td>\n",
       "      <td>Land Rover</td>\n",
       "      <td>7</td>\n",
       "      <td>8.0</td>\n",
       "      <td>Discovery Sport</td>\n",
       "      <td>3.0</td>\n",
       "      <td>269.000000</td>\n",
       "      <td>46500.0</td>\n",
       "      <td>A</td>\n",
       "      <td>AWD</td>\n",
       "      <td>2020</td>\n",
       "      <td>25.945626</td>\n",
       "      <td>1.000000</td>\n",
       "    </tr>\n",
       "    <tr>\n",
       "      <th>3</th>\n",
       "      <td>SUV / Crossover</td>\n",
       "      <td>Gray</td>\n",
       "      <td></td>\n",
       "      <td></td>\n",
       "      <td></td>\n",
       "      <td>23.500000</td>\n",
       "      <td>Gasoline</td>\n",
       "      <td>V6</td>\n",
       "      <td>340.0</td>\n",
       "      <td></td>\n",
       "      <td>Land Rover</td>\n",
       "      <td>7</td>\n",
       "      <td>11.0</td>\n",
       "      <td>Discovery</td>\n",
       "      <td>3.0</td>\n",
       "      <td>332.000000</td>\n",
       "      <td>67430.0</td>\n",
       "      <td>A</td>\n",
       "      <td>AWD</td>\n",
       "      <td>2020</td>\n",
       "      <td>25.945626</td>\n",
       "      <td>6.205705</td>\n",
       "    </tr>\n",
       "    <tr>\n",
       "      <th>4</th>\n",
       "      <td>SUV / Crossover</td>\n",
       "      <td>Black</td>\n",
       "      <td></td>\n",
       "      <td></td>\n",
       "      <td></td>\n",
       "      <td>17.700001</td>\n",
       "      <td>Gasoline</td>\n",
       "      <td>I4</td>\n",
       "      <td>246.0</td>\n",
       "      <td></td>\n",
       "      <td>Land Rover</td>\n",
       "      <td>7</td>\n",
       "      <td>7.0</td>\n",
       "      <td>Discovery Sport</td>\n",
       "      <td>3.0</td>\n",
       "      <td>269.000000</td>\n",
       "      <td>48880.0</td>\n",
       "      <td>A</td>\n",
       "      <td>AWD</td>\n",
       "      <td>2020</td>\n",
       "      <td>25.945626</td>\n",
       "      <td>1.000000</td>\n",
       "    </tr>\n",
       "    <tr>\n",
       "      <th>5</th>\n",
       "      <td>SUV / Crossover</td>\n",
       "      <td>Other Color</td>\n",
       "      <td>False</td>\n",
       "      <td>False</td>\n",
       "      <td>False</td>\n",
       "      <td>16.600000</td>\n",
       "      <td>Gasoline</td>\n",
       "      <td>I4</td>\n",
       "      <td>247.0</td>\n",
       "      <td>False</td>\n",
       "      <td>Land Rover</td>\n",
       "      <td>5</td>\n",
       "      <td>12.0</td>\n",
       "      <td>Range Rover Velar</td>\n",
       "      <td>3.0</td>\n",
       "      <td>269.000000</td>\n",
       "      <td>66903.0</td>\n",
       "      <td>A</td>\n",
       "      <td>AWD</td>\n",
       "      <td>2020</td>\n",
       "      <td>25.945626</td>\n",
       "      <td>8.000000</td>\n",
       "    </tr>\n",
       "    <tr>\n",
       "      <th>...</th>\n",
       "      <td>...</td>\n",
       "      <td>...</td>\n",
       "      <td>...</td>\n",
       "      <td>...</td>\n",
       "      <td>...</td>\n",
       "      <td>...</td>\n",
       "      <td>...</td>\n",
       "      <td>...</td>\n",
       "      <td>...</td>\n",
       "      <td>...</td>\n",
       "      <td>...</td>\n",
       "      <td>...</td>\n",
       "      <td>...</td>\n",
       "      <td>...</td>\n",
       "      <td>...</td>\n",
       "      <td>...</td>\n",
       "      <td>...</td>\n",
       "      <td>...</td>\n",
       "      <td>...</td>\n",
       "      <td>...</td>\n",
       "      <td>...</td>\n",
       "      <td>...</td>\n",
       "    </tr>\n",
       "    <tr>\n",
       "      <th>3000035</th>\n",
       "      <td>SUV / Crossover</td>\n",
       "      <td>Silver</td>\n",
       "      <td>False</td>\n",
       "      <td>False</td>\n",
       "      <td>False</td>\n",
       "      <td>14.900000</td>\n",
       "      <td>Gasoline</td>\n",
       "      <td>I4</td>\n",
       "      <td>170.0</td>\n",
       "      <td>True</td>\n",
       "      <td>Chevrolet</td>\n",
       "      <td>5</td>\n",
       "      <td>41897.0</td>\n",
       "      <td>Equinox</td>\n",
       "      <td>4.272727</td>\n",
       "      <td>266.280818</td>\n",
       "      <td>17998.0</td>\n",
       "      <td>A</td>\n",
       "      <td>FWD</td>\n",
       "      <td>2018</td>\n",
       "      <td>29.000000</td>\n",
       "      <td>4.000000</td>\n",
       "    </tr>\n",
       "    <tr>\n",
       "      <th>3000036</th>\n",
       "      <td>SUV / Crossover</td>\n",
       "      <td>Black</td>\n",
       "      <td></td>\n",
       "      <td></td>\n",
       "      <td></td>\n",
       "      <td>19.400000</td>\n",
       "      <td>Gasoline</td>\n",
       "      <td>V6</td>\n",
       "      <td>310.0</td>\n",
       "      <td></td>\n",
       "      <td>Chevrolet</td>\n",
       "      <td>8</td>\n",
       "      <td>5.0</td>\n",
       "      <td>Traverse</td>\n",
       "      <td>4.533333</td>\n",
       "      <td>266.000000</td>\n",
       "      <td>36490.0</td>\n",
       "      <td>A</td>\n",
       "      <td>FWD</td>\n",
       "      <td>2020</td>\n",
       "      <td>22.500000</td>\n",
       "      <td>6.000000</td>\n",
       "    </tr>\n",
       "    <tr>\n",
       "      <th>3000037</th>\n",
       "      <td>Sedan</td>\n",
       "      <td>Gray</td>\n",
       "      <td>False</td>\n",
       "      <td>True</td>\n",
       "      <td>False</td>\n",
       "      <td>16.500000</td>\n",
       "      <td>Gasoline</td>\n",
       "      <td>Gasoline engine</td>\n",
       "      <td>240.0</td>\n",
       "      <td>False</td>\n",
       "      <td>Ford</td>\n",
       "      <td>5</td>\n",
       "      <td>57992.0</td>\n",
       "      <td>Fusion</td>\n",
       "      <td>4.142857</td>\n",
       "      <td>270.000000</td>\n",
       "      <td>12990.0</td>\n",
       "      <td>A</td>\n",
       "      <td>FWD</td>\n",
       "      <td>2016</td>\n",
       "      <td>25.945626</td>\n",
       "      <td>3.000000</td>\n",
       "    </tr>\n",
       "    <tr>\n",
       "      <th>3000038</th>\n",
       "      <td>Sedan</td>\n",
       "      <td>Green</td>\n",
       "      <td>False</td>\n",
       "      <td>False</td>\n",
       "      <td>False</td>\n",
       "      <td>14.800000</td>\n",
       "      <td>Diesel</td>\n",
       "      <td>I4</td>\n",
       "      <td>180.0</td>\n",
       "      <td>False</td>\n",
       "      <td>Jaguar</td>\n",
       "      <td>5</td>\n",
       "      <td>27857.0</td>\n",
       "      <td>XE</td>\n",
       "      <td>4.272727</td>\n",
       "      <td>318.000000</td>\n",
       "      <td>26998.0</td>\n",
       "      <td>A</td>\n",
       "      <td>AWD</td>\n",
       "      <td>2017</td>\n",
       "      <td>35.000000</td>\n",
       "      <td>5.000000</td>\n",
       "    </tr>\n",
       "    <tr>\n",
       "      <th>3000039</th>\n",
       "      <td>SUV / Crossover</td>\n",
       "      <td>Silver</td>\n",
       "      <td>False</td>\n",
       "      <td>False</td>\n",
       "      <td>False</td>\n",
       "      <td>14.500000</td>\n",
       "      <td>Gasoline</td>\n",
       "      <td>I4</td>\n",
       "      <td>170.0</td>\n",
       "      <td>False</td>\n",
       "      <td>Nissan</td>\n",
       "      <td>7</td>\n",
       "      <td>22600.0</td>\n",
       "      <td>Rogue</td>\n",
       "      <td>4.333333</td>\n",
       "      <td>175.000000</td>\n",
       "      <td>19900.0</td>\n",
       "      <td>A</td>\n",
       "      <td>FWD</td>\n",
       "      <td>2017</td>\n",
       "      <td>29.500000</td>\n",
       "      <td>7.000000</td>\n",
       "    </tr>\n",
       "  </tbody>\n",
       "</table>\n",
       "<p>2521940 rows × 22 columns</p>\n",
       "</div>"
      ],
      "text/plain": [
       "               body_type exterior_color frame_damaged has_accidents salvage  \\\n",
       "0        SUV / Crossover   Mixed Colors                                       \n",
       "1        SUV / Crossover          Black                                       \n",
       "3        SUV / Crossover           Gray                                       \n",
       "4        SUV / Crossover          Black                                       \n",
       "5        SUV / Crossover    Other Color         False         False   False   \n",
       "...                  ...            ...           ...           ...     ...   \n",
       "3000035  SUV / Crossover         Silver         False         False   False   \n",
       "3000036  SUV / Crossover          Black                                       \n",
       "3000037            Sedan           Gray         False          True   False   \n",
       "3000038            Sedan          Green         False         False   False   \n",
       "3000039  SUV / Crossover         Silver         False         False   False   \n",
       "\n",
       "         fuel_tank_volume fuel_type      engine_type  horsepower  isCab  \\\n",
       "0               12.700000  Gasoline               I4       177.0          \n",
       "1               17.700001  Gasoline               I4       246.0          \n",
       "3               23.500000  Gasoline               V6       340.0          \n",
       "4               17.700001  Gasoline               I4       246.0          \n",
       "5               16.600000  Gasoline               I4       247.0  False   \n",
       "...                   ...       ...              ...         ...    ...   \n",
       "3000035         14.900000  Gasoline               I4       170.0   True   \n",
       "3000036         19.400000  Gasoline               V6       310.0          \n",
       "3000037         16.500000  Gasoline  Gasoline engine       240.0  False   \n",
       "3000038         14.800000    Diesel               I4       180.0  False   \n",
       "3000039         14.500000  Gasoline               I4       170.0  False   \n",
       "\n",
       "          make_name  maximum_seating  mileage         model_name  \\\n",
       "0              Jeep                5      7.0           Renegade   \n",
       "1        Land Rover                7      8.0    Discovery Sport   \n",
       "3        Land Rover                7     11.0          Discovery   \n",
       "4        Land Rover                7      7.0    Discovery Sport   \n",
       "5        Land Rover                5     12.0  Range Rover Velar   \n",
       "...             ...              ...      ...                ...   \n",
       "3000035   Chevrolet                5  41897.0            Equinox   \n",
       "3000036   Chevrolet                8      5.0           Traverse   \n",
       "3000037        Ford                5  57992.0             Fusion   \n",
       "3000038      Jaguar                5  27857.0                 XE   \n",
       "3000039      Nissan                7  22600.0              Rogue   \n",
       "\n",
       "        seller_rating      torque    price transmission wheel_system  year  \\\n",
       "0                 2.8  200.000000  23141.0            A          FWD  2019   \n",
       "1                 3.0  269.000000  46500.0            A          AWD  2020   \n",
       "3                 3.0  332.000000  67430.0            A          AWD  2020   \n",
       "4                 3.0  269.000000  48880.0            A          AWD  2020   \n",
       "5                 3.0  269.000000  66903.0            A          AWD  2020   \n",
       "...               ...         ...      ...          ...          ...   ...   \n",
       "3000035      4.272727  266.280818  17998.0            A          FWD  2018   \n",
       "3000036      4.533333  266.000000  36490.0            A          FWD  2020   \n",
       "3000037      4.142857  270.000000  12990.0            A          FWD  2016   \n",
       "3000038      4.272727  318.000000  26998.0            A          AWD  2017   \n",
       "3000039      4.333333  175.000000  19900.0            A          FWD  2017   \n",
       "\n",
       "         combined_fuel_economy  major_options_count  \n",
       "0                    25.945626             1.000000  \n",
       "1                    25.945626             1.000000  \n",
       "3                    25.945626             6.205705  \n",
       "4                    25.945626             1.000000  \n",
       "5                    25.945626             8.000000  \n",
       "...                        ...                  ...  \n",
       "3000035              29.000000             4.000000  \n",
       "3000036              22.500000             6.000000  \n",
       "3000037              25.945626             3.000000  \n",
       "3000038              35.000000             5.000000  \n",
       "3000039              29.500000             7.000000  \n",
       "\n",
       "[2521940 rows x 22 columns]"
      ]
     },
     "execution_count": 86,
     "metadata": {},
     "output_type": "execute_result"
    }
   ],
   "source": [
    "df2"
   ]
  },
  {
   "cell_type": "markdown",
   "id": "75e9e558-efd6-4071-8b06-c797ca6121b6",
   "metadata": {},
   "source": [
    "## Saving the Cleaned Dataset"
   ]
  },
  {
   "cell_type": "code",
   "execution_count": 87,
   "id": "964f811f-9e4b-4ddb-a122-21c587b95d32",
   "metadata": {},
   "outputs": [],
   "source": [
    "# saving the dataset\n",
    "df2.to_csv('df_for_modeling.csv', index=False)"
   ]
  },
  {
   "cell_type": "code",
   "execution_count": null,
   "id": "cb90719d-09b0-4853-bbb1-33993a302dbc",
   "metadata": {},
   "outputs": [],
   "source": []
  },
  {
   "cell_type": "code",
   "execution_count": null,
   "id": "7e5c5c79-21d7-43f1-a98c-0677ad41704e",
   "metadata": {},
   "outputs": [],
   "source": []
  },
  {
   "cell_type": "code",
   "execution_count": null,
   "id": "3d21bd00-e906-4033-bd69-cbde9e97ebda",
   "metadata": {},
   "outputs": [],
   "source": []
  },
  {
   "cell_type": "code",
   "execution_count": null,
   "id": "b1f27821-8b90-4d82-bf60-6f82fccb067e",
   "metadata": {},
   "outputs": [],
   "source": []
  },
  {
   "cell_type": "code",
   "execution_count": null,
   "id": "fce3ba73-88d3-498a-ba23-68d77a9d56f4",
   "metadata": {},
   "outputs": [],
   "source": []
  }
 ],
 "metadata": {
  "kernelspec": {
   "display_name": "Python 3 (ipykernel)",
   "language": "python",
   "name": "python3"
  },
  "language_info": {
   "codemirror_mode": {
    "name": "ipython",
    "version": 3
   },
   "file_extension": ".py",
   "mimetype": "text/x-python",
   "name": "python",
   "nbconvert_exporter": "python",
   "pygments_lexer": "ipython3",
   "version": "3.9.18"
  }
 },
 "nbformat": 4,
 "nbformat_minor": 5
}
