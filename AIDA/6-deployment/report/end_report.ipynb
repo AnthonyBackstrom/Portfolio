{
 "cells": [
  {
   "cell_type": "markdown",
   "id": "d396781d-fe7d-4ed7-9d65-4d690879516a",
   "metadata": {},
   "source": [
    "# End report"
   ]
  },
  {
   "cell_type": "markdown",
   "id": "379a022b-e165-40b4-b876-c7d7f9a70238",
   "metadata": {},
   "source": [
    "## Introduction\n",
    "\n",
    "This is the final section of the steps for this project. In the final report, we present the steps taken during the project and the results of the project. This report also summarizes next steps for the application made during the project.\n",
    "\n",
    "![](./img/logo.png)"
   ]
  },
  {
   "cell_type": "markdown",
   "id": "821fd6d7-7e64-420a-8e5a-f1ece47fa392",
   "metadata": {},
   "source": [
    "## Project Steps\n",
    "\n",
    "### Business understanding and Data understanding\n",
    "\n",
    "In the first two steps, we defined the purpose of the project and the need for this project. The customer's needs were mapped in order to understand what the customer really wants so that the application can be developed in the right direction. We also looked into the material so that we could handle it correctly in the next steps.\n",
    "\n",
    "A thorough examination of the available data was conducted, resulting in the creation of a comprehensive Data Description Report. This step was essential in determining the cleanliness and adequacy of the data, ensuring its suitability for subsequent analysis.\n",
    "\n",
    "The first two phases went well and everyone on the team had a clear idea of what the purpose of this project was.\n",
    "\n",
    "### Data preparation\n",
    "\n",
    "Each team member was assigned a topic to research. The topics were \"Impact of Sales Area on Vehicle's Age, Type, and Price\", \"Cars That Sell the Worst\", \"Effect on Price for Vehicles Used as Taxis\" and \"Identifying Dominant Features for Sales\". At this stage, every member of the team gained valuable experience in processing large amounts of data and visualizing that data. At this stage, each team member also got an idea of what information the dataset contains and how we can use the data in the next steps.\n",
    "\n",
    "### Modeling\n",
    "\n",
    "In the modeling phase, we tested different models and tried to find out which machine learning model would be the best fit for this data. During this phase, we still had to go back to the preprocessing phase, because in the modeling phase our understanding of the data deepened, and we were able to find out the characteristics that had the most impact on the model. In the modeling phase, we achieved very good results. Optuna parameter optimization was employed to fine-tune the model, ensuring its optimal performance in capturing the underlying patterns in the data. The final model predicts the price of the car with more than 95% accuracy. We are currently satisfied with the accuracy of the model. However, nothing is ever really ready, the model could always be improved.\n",
    "\n",
    "![](./img/results-model.png)\n",
    "\n",
    "### Evaluation\n",
    "\n",
    "The models were rigorously evaluated to determine which one best aligned with the business objectives. The Model Evaluation process provided insights into the effectiveness of the developed models, allowing for informed decisions on model selection.\n",
    "\n",
    "### Deployment\n",
    "\n",
    "The project culminated in the deployment phase, where we got to the point where we run the application locally. The application has a front end and a small back end using the Flask framework. Flask connects the trained model to a user interface where the user enters the car's information and then gets a prediction for the car's price. The information that the user enters in the UI has been selected according to what our machine learning model considers to be the most price-influencing features.\n",
    "\n",
    "During the entire project, we were able to achieve the so-called MVP. From this, it is easy to continue in the future with a more automated process, where, for example, when new data comes in, the model would be automatically trained with the new data.\n",
    "\n",
    "![](./img/minimum-viable-product-mvp.png)"
   ]
  },
  {
   "cell_type": "markdown",
   "id": "ff8f77ec-40ac-4125-b391-f1796e99f4eb",
   "metadata": {},
   "source": [
    "## Used Technologies\n",
    "\n",
    "Here are all the technologies we have used during the project.\n",
    "\n",
    "- **Optuna**: Optuna is a hyperparameter optimization framework. It helps in automating the process of tuning hyperparameters, which were crucial in tuning out LightGBM model.\n",
    "- **LightGBM**: LightGBM is a gradient boosting framework. It is used for building gradient boosting models, which are powerful algorithms for classification and regression tasks. LightGBM is known for its efficiency and speed, making it suitable for large datasets.\n",
    "- **Scikit-learn**: Scikit-learn is a machine learning library for Python. It provides a wide range of tools for tasks such as classification, regression, clustering, and more.\n",
    "- **Python**: Python is a versatile programming language. Python is widely used in machine learning for its simplicity and a rich ecosystem of libraries. It serves as the primary programming language for developing machine learning models, data analysis, and various other tasks in our project.\n",
    "- **Flask**: Flask is a web framework for Python. Flask is used to deploy machine learning model as web services or APIs. It helps in creating a web interface to interact with the models, making them accessible to users over the internet.\n",
    "- **HTML**: HTML is a markup language for creating web pages. HTML is used to structure the content of our web pages. HTML is employed to design user interfaces for model deployment, result visualization, and interaction with users.\n",
    "- **CSS**: CSS (Cascading Style Sheets) is a stylesheet language for describing the presentation of a document written in HTML. CSS is used to style the HTML elements, enhancing the visual presentation of our web pages.\n",
    "\n",
    "![](./img/tech.png)"
   ]
  },
  {
   "cell_type": "markdown",
   "id": "77195d66-c043-4623-bd32-860634cdcf3b",
   "metadata": {},
   "source": [
    "## Deployment Process\n",
    "\n",
    "### Model Deployment\n",
    "\n",
    "The model is currently executed locally on a computer. Instructions for running the application can be found in the [Deplyment phase repository](https://gitlab.labranet.jamk.fi/AB7766/aida-team1/-/tree/main/6-deployment/flask-app).\n",
    "\n",
    "Deploying the application to a server would provide a more scalable, accessible, reliable, and collaborative environment, with improved resource utilization and enhanced security, making it a preferable choice for production-ready applications. Deploying the application to server would be the next step in this project. We would choose server like CSC, because its free to use for students and some of the team members have previously used CSC's services for hosting applications.\n",
    "\n",
    "### Model Upload to Production Server\n",
    "\n",
    "1. Selecting a Production Server\n",
    "\n",
    "2. Preparation of the Model\n",
    "\n",
    "    Model is already prepared. Model is trained and testted thoroughly in the development environment. All needed components (libraries, model, frameworks) should be containerized to ease the deployment.\n",
    "\n",
    "3. Environment Setup on Production Server\n",
    "\n",
    "    Required runtime environment should be set up to production server, including installing necessary libraries, frameworks, and dependencies. Production server should match the specifications of the development env.\n",
    "\n",
    "4. Model Upload to Server\n",
    "\n",
    "    Packaged model files should be transferred to the production server. This can be done using various methods, such as SCP (Secure Copy Protocol), FTP (File Transfer Protocol), or through version control systems.\n",
    "\n",
    "5. Model Verification\n",
    "\n",
    "    Integrity of the transferred model files on the production server should be verified to ensure that there are no data corruption issues during the upload.\n",
    "\n",
    "6. Server Configuration Updates\n",
    "\n",
    "    Server configurations should be updated to integrate the model into the production environment. This may involve modifying server settings, environment variables, or system configurations.\n",
    "\n",
    "7. Testing the Deployed Model\n",
    "\n",
    "    Initial tests should be conducted to ensure that the model runs correctly in the production environment. This may involve running sample predictions and evaluating performance metrics.\n",
    "\n",
    "8. Monitoring and Logging\n",
    "\n",
    "    Monitoring and logging mechanisms should be implemented to track the performance of the deployed model. This includes logging predictions, monitoring resource usage, and setting up alerts for potential issues.\n",
    "\n",
    "9. Documentation and Versioning\n",
    "\n",
    "    The deployed model should be documneted, including version information, dependencies, and any specific configurations. Proper version control should be maintained to facilitate future updates and rollbacks.\n",
    "\n",
    "10. Post-Deployment Testing\n",
    "\n",
    "    Thorough testing after deployment should be conducted to verify that the model performs as expected in a production setting. This includes testing with real-world data and user scenarios."
   ]
  },
  {
   "cell_type": "markdown",
   "id": "9cae6fd3-e022-42ba-b52a-09718b9b17dd",
   "metadata": {},
   "source": [
    "## Maintenance plan\n",
    "\n",
    "A maintenance plan is crucial for ensuring the continued functionality, performance, and security of your application. Here's a rough-level maintenance plan for a Car Price Predictor deployed in a production environment.\n",
    "\n",
    "1. Regular Monitoring\n",
    "\n",
    "    - Implement continuous monitoring of the application's performance, including resource usage, response times, and error rates.\n",
    "    - Set up alerts for critical issues and irregularities in model predictions or system behavior.\n",
    "\n",
    "2. Data Quality Checks:\n",
    "\n",
    "    - Regularly assess and validate the quality of incoming data to ensure that it meets the required standards for model training and inference.\n",
    "    - Implement checks for missing values, outliers, and data inconsistencies.\n",
    "\n",
    "3. Scheduled Retraining:\n",
    "\n",
    "    - Maintain a schedule for periodic model retraining to keep it up-to-date with the latest data trends and patterns.\n",
    "    - Automate the retraining process and ensure that it aligns with the data collection frequency.\n",
    "\n",
    "4. Backup and Recovery\n",
    "\n",
    "    - Implement regular backups of critical data, configurations, and model versions.\n",
    "    - Test and document the recovery process to ensure a quick and reliable restoration in case of data loss or system failures.\n",
    "\n",
    "5. Documentation Updates\n",
    "\n",
    "    - Keep all documentation, including user manuals, deployment guides, and system architecture documentation, up-to-date with the latest changes.\n",
    "    - Document any modifications to the application's configurations or dependencies.\n",
    "\n",
    "6. Dependency Management\n",
    "\n",
    "    - Regularly review and update external dependencies, libraries, and frameworks to ensure that the application benefits from the latest features, bug fixes, and security patches.\n",
    "\n",
    "7. Performance Optimization\n",
    "\n",
    "    - Periodically assess the application's performance and identify opportunities for optimization, both in terms of code efficiency and resource utilization.\n",
    "    - Implement optimizations to maintain or improve response times.\n",
    "\n",
    "8. Scalability Planning\n",
    "\n",
    "    - Continuously evaluate the application's scalability and plan for future growth.\n",
    "    - Implement scalability measures proactively to accommodate increasing user loads or data volumes.\n",
    "\n",
    "9. Feedback Loops\n",
    "\n",
    "    - Establish feedback loops with end-users and stakeholders to gather insights into their experiences with the application.\n",
    "    - Use feedback to identify areas for improvement and prioritize feature enhancements.\n",
    "\n",
    "10. Environment Testing\n",
    "\n",
    "    - Regularly test the application in a staging environment that mirrors the production setup to catch potential issues before they affect end-users.\n",
    "\n",
    "11. Continuous Improvement\n",
    "\n",
    "    - Foster a culture of continuous improvement by regularly assessing the effectiveness of maintenance processes and identifying opportunities for enhancement."
   ]
  },
  {
   "cell_type": "markdown",
   "id": "9d064b25-1ac6-4b32-85e3-9d8d581662bd",
   "metadata": {},
   "source": [
    "## User Interface\n",
    "\n",
    "### Current UI\n",
    "\n",
    "In the current version, the user enters 10 selected car features into the user interface. After this, the user clicks the \"Submit\" button, after which the predicted car price appears on the screen.\n",
    "\n",
    "![](./img/front.png)"
   ]
  },
  {
   "cell_type": "markdown",
   "id": "d6c10560-d12f-4ff8-8603-bfa03dd292cc",
   "metadata": {},
   "source": [
    "## User Base\n",
    "\n",
    "The main user of this application is car dealership employees responsible for determining prices for new cars. The car price predictor could possibly also be used by car shop customers who are interested in how much money they could get for their own car."
   ]
  },
  {
   "cell_type": "markdown",
   "id": "41e6b31d-b6c8-484a-b319-f47a76d0ff89",
   "metadata": {},
   "source": [
    "## Conclusion\n",
    "\n",
    "Throughout the AIDA project, Team 1 has diligently followed the CRISP-DM model to tackle the challenge of understanding and leveraging collected data for meaningful insights. The project's primary objective was to develop machine learning models aligned with the customer's needs, with a focus on optimizing the understanding of sales dynamics in the context of vehicle age, type, and price.\n",
    "\n",
    "In conclusion, AIDA Project Team 1 successfully navigated through the CRISP-DM model, transforming raw data into valuable insights. The implemented machine learning models are poised to contribute meaningfully to the understanding of sales dynamics, thereby empowering the customer with actionable information for informed decision-making. The comprehensive approach taken by the team in each step underscores the commitment to delivering a robust and impactful solution to the client's needs."
   ]
  },
  {
   "cell_type": "markdown",
   "id": "1b586012-52fe-4345-b78d-8cf741242a94",
   "metadata": {},
   "source": [
    "## Demo\n",
    "\n",
    "This is a demo of our application. it is ran locally, and it shows how to input data to form and get prediction of price based on user inputs. "
   ]
  },
  {
   "cell_type": "code",
   "execution_count": 4,
   "id": "9e92ec26-7f7a-428a-9b3f-bc6af8d9b56f",
   "metadata": {
    "tags": []
   },
   "outputs": [
    {
     "data": {
      "text/html": [
       "\n",
       "    <video alt=\"test\" controls>\n",
       "        <source src=\"./img/demo.mp4\" type=\"video/mp4\">\n",
       "    </video>\n"
      ],
      "text/plain": [
       "<IPython.core.display.HTML object>"
      ]
     },
     "execution_count": 4,
     "metadata": {},
     "output_type": "execute_result"
    }
   ],
   "source": [
    "from IPython.display import HTML\n",
    "\n",
    "HTML(\"\"\"\n",
    "    <video alt=\"test\" controls>\n",
    "        <source src=\"./img/demo.mp4\" type=\"video/mp4\">\n",
    "    </video>\n",
    "\"\"\")"
   ]
  },
  {
   "cell_type": "markdown",
   "id": "73c20b50-5cb1-4f8b-830e-22765c92e392",
   "metadata": {},
   "source": [
    "## Future Considerations\n",
    "\n",
    "In the future, the user could be given the option to enter more features of the car, depending on what the user wants to enter. This application could also be integrated into the pages of a car shop either for internal use only, or for the public use also."
   ]
  }
 ],
 "metadata": {
  "kernelspec": {
   "display_name": "Python 3 (ipykernel)",
   "language": "python",
   "name": "python3"
  },
  "language_info": {
   "codemirror_mode": {
    "name": "ipython",
    "version": 3
   },
   "file_extension": ".py",
   "mimetype": "text/x-python",
   "name": "python",
   "nbconvert_exporter": "python",
   "pygments_lexer": "ipython3",
   "version": "3.11.4"
  }
 },
 "nbformat": 4,
 "nbformat_minor": 5
}
